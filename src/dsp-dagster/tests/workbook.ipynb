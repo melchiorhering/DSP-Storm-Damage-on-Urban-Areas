{
 "cells": [
  {
   "cell_type": "code",
   "execution_count": null,
   "metadata": {},
   "outputs": [],
   "source": [
    "OrderedDict([(\"foo\", Int64), (\"bar\", Float64), (\"ham\", Utf8)])"
   ]
  }
 ],
 "metadata": {
  "language_info": {
   "name": "python"
  }
 },
 "nbformat": 4,
 "nbformat_minor": 2
}
