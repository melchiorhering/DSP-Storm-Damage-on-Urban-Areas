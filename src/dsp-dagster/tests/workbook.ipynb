{
 "cells": [
  {
   "cell_type": "code",
   "execution_count": 3,
   "metadata": {},
   "outputs": [],
   "source": [
    "import geopandas as gpd\n",
    "import polars as pl"
   ]
  },
  {
   "cell_type": "code",
   "execution_count": 7,
   "metadata": {},
   "outputs": [
    {
     "data": {
      "text/html": [
       "<div>\n",
       "<style scoped>\n",
       "    .dataframe tbody tr th:only-of-type {\n",
       "        vertical-align: middle;\n",
       "    }\n",
       "\n",
       "    .dataframe tbody tr th {\n",
       "        vertical-align: top;\n",
       "    }\n",
       "\n",
       "    .dataframe thead th {\n",
       "        text-align: right;\n",
       "    }\n",
       "</style>\n",
       "<table border=\"1\" class=\"dataframe\">\n",
       "  <thead>\n",
       "    <tr style=\"text-align: right;\">\n",
       "      <th></th>\n",
       "      <th>H_Verzorgingsgebied_ID</th>\n",
       "      <th>Verzorgingsgebied</th>\n",
       "      <th>geom</th>\n",
       "      <th>geomtext</th>\n",
       "      <th>LAT</th>\n",
       "      <th>LON</th>\n",
       "    </tr>\n",
       "  </thead>\n",
       "  <tbody>\n",
       "    <tr>\n",
       "      <th>0</th>\n",
       "      <td>60</td>\n",
       "      <td>Aalsmeer</td>\n",
       "      <td>0x407100000104910300009A99999959F2FA4033333333...</td>\n",
       "      <td>POLYGON ((110373.6 468913.3, 110373.9 468913.7...</td>\n",
       "      <td>52.262846</td>\n",
       "      <td>4.764090</td>\n",
       "    </tr>\n",
       "    <tr>\n",
       "      <th>1</th>\n",
       "      <td>62</td>\n",
       "      <td>Amstelveen</td>\n",
       "      <td>0x407100000104B1050000333333336B21FC40CDCCCCCC...</td>\n",
       "      <td>MULTIPOLYGON (((115222.7 482926.7, 115234.5 48...</td>\n",
       "      <td>52.306531</td>\n",
       "      <td>4.888029</td>\n",
       "    </tr>\n",
       "    <tr>\n",
       "      <th>2</th>\n",
       "      <td>64</td>\n",
       "      <td>Anton</td>\n",
       "      <td>0x407100000104B409000033333333EB7AFF4066666666...</td>\n",
       "      <td>MULTIPOLYGON (((128942.7 482813.6, 128948.2 48...</td>\n",
       "      <td>52.308747</td>\n",
       "      <td>4.980264</td>\n",
       "    </tr>\n",
       "    <tr>\n",
       "      <th>3</th>\n",
       "      <td>70</td>\n",
       "      <td>Diemen</td>\n",
       "      <td>0x40710000010410040000000000006064FE4000000000...</td>\n",
       "      <td>MULTIPOLYGON (((124486 483319.5, 124468.4 4833...</td>\n",
       "      <td>52.341314</td>\n",
       "      <td>4.964931</td>\n",
       "    </tr>\n",
       "    <tr>\n",
       "      <th>4</th>\n",
       "      <td>71</td>\n",
       "      <td>Dirk</td>\n",
       "      <td>0x4071000001044001000000000000A898FD4033333333...</td>\n",
       "      <td>MULTIPOLYGON (((121226.5 483359.8, 121236.1 48...</td>\n",
       "      <td>52.360768</td>\n",
       "      <td>4.886359</td>\n",
       "    </tr>\n",
       "  </tbody>\n",
       "</table>\n",
       "</div>"
      ],
      "text/plain": [
       "   H_Verzorgingsgebied_ID Verzorgingsgebied  \\\n",
       "0                      60          Aalsmeer   \n",
       "1                      62        Amstelveen   \n",
       "2                      64             Anton   \n",
       "3                      70            Diemen   \n",
       "4                      71              Dirk   \n",
       "\n",
       "                                                geom  \\\n",
       "0  0x407100000104910300009A99999959F2FA4033333333...   \n",
       "1  0x407100000104B1050000333333336B21FC40CDCCCCCC...   \n",
       "2  0x407100000104B409000033333333EB7AFF4066666666...   \n",
       "3  0x40710000010410040000000000006064FE4000000000...   \n",
       "4  0x4071000001044001000000000000A898FD4033333333...   \n",
       "\n",
       "                                            geomtext        LAT       LON  \n",
       "0  POLYGON ((110373.6 468913.3, 110373.9 468913.7...  52.262846  4.764090  \n",
       "1  MULTIPOLYGON (((115222.7 482926.7, 115234.5 48...  52.306531  4.888029  \n",
       "2  MULTIPOLYGON (((128942.7 482813.6, 128948.2 48...  52.308747  4.980264  \n",
       "3  MULTIPOLYGON (((124486 483319.5, 124468.4 4833...  52.341314  4.964931  \n",
       "4  MULTIPOLYGON (((121226.5 483359.8, 121236.1 48...  52.360768  4.886359  "
      ]
     },
     "metadata": {},
     "output_type": "display_data"
    }
   ],
   "source": [
    "df = pl.read_csv(\"../data/Service_Areas.csv\").to_pandas()\n",
    "display(df.head())\n",
    "\n",
    "\n",
    "df[\"geometry\"] = gpd.GeoSeries.from_wkt(df[\"geomtext\"])\n",
    "gdf = gpd.GeoDataFrame(df, geometry=\"geometry\")"
   ]
  }
 ],
 "metadata": {
  "kernelspec": {
   "display_name": "Python 3",
   "language": "python",
   "name": "python3"
  },
  "language_info": {
   "codemirror_mode": {
    "name": "ipython",
    "version": 3
   },
   "file_extension": ".py",
   "mimetype": "text/x-python",
   "name": "python",
   "nbconvert_exporter": "python",
   "pygments_lexer": "ipython3",
   "version": "3.10.13"
  }
 },
 "nbformat": 4,
 "nbformat_minor": 2
}
