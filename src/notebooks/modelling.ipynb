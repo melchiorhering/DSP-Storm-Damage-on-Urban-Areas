{
 "cells": [
  {
   "cell_type": "markdown",
   "metadata": {},
   "source": [
    "## Modelling\n",
    "\n",
    "In this Notebook we can start modelling, with some data from our DB.\n",
    "\n",
    "- To do this we can connect with our local DB using the `duckdb` library\n",
    "- When a connection has been made we can start retrieving data from our DB.\n"
   ]
  },
  {
   "cell_type": "markdown",
   "metadata": {},
   "source": [
    "### Setup\n"
   ]
  },
  {
   "cell_type": "code",
   "execution_count": 6,
   "metadata": {},
   "outputs": [],
   "source": [
    "# Import the right libraries\n",
    "import duckdb\n",
    "import polars as pl\n",
    "from IPython import display"
   ]
  },
  {
   "cell_type": "code",
   "execution_count": 2,
   "metadata": {},
   "outputs": [
    {
     "name": "stdout",
     "output_type": "stream",
     "text": [
      "\u001b[32mDeploy AI and data apps for free on Ploomber Cloud! Learn more: https://docs.cloud.ploomber.io/en/latest/quickstart/signup.html\u001b[0m\n"
     ]
    },
    {
     "data": {
      "text/html": [
       "<span style=\"None\">Tip: You may define configurations in /home/workspaces/DSP-compose/pyproject.toml or /root/.jupysql/config. </span>"
      ],
      "text/plain": [
       "Tip: You may define configurations in /home/workspaces/DSP-compose/pyproject.toml or /root/.jupysql/config. "
      ]
     },
     "metadata": {},
     "output_type": "display_data"
    },
    {
     "data": {
      "text/html": [
       "Please review our <a href='https://jupysql.ploomber.io/en/latest/api/configuration.html#loading-from-a-file'>configuration guideline</a>."
      ],
      "text/plain": [
       "<IPython.core.display.HTML object>"
      ]
     },
     "metadata": {},
     "output_type": "display_data"
    },
    {
     "data": {
      "text/html": [
       "'poetry' is an invalid configuration. Please review our <a href='https://jupysql.ploomber.io/en/latest/api/configuration.html#options'>configuration guideline</a>."
      ],
      "text/plain": [
       "<IPython.core.display.HTML object>"
      ]
     },
     "metadata": {},
     "output_type": "display_data"
    },
    {
     "data": {
      "text/html": [
       "'ruff' is an invalid configuration. Please review our <a href='https://jupysql.ploomber.io/en/latest/api/configuration.html#options'>configuration guideline</a>."
      ],
      "text/plain": [
       "<IPython.core.display.HTML object>"
      ]
     },
     "metadata": {},
     "output_type": "display_data"
    }
   ],
   "source": [
    "# Use SQL magic\n",
    "%config SqlMagic.autopandas = True\n",
    "%config SqlMagic.feedback = True\n",
    "%config SqlMagic.displaycon = False\n",
    "\n",
    "%load_ext sql\n",
    "conn = duckdb.connect(database=\"../dsp-dagster/data_systems_project.duckdb\")\n",
    "%sql conn --alias duckdb\n",
    "# %sql SHOW ALL TABLES; # shows all available tables"
   ]
  },
  {
   "cell_type": "code",
   "execution_count": 3,
   "metadata": {},
   "outputs": [],
   "source": [
    "## We can use SQL magic to retrieve data from our DB like so:\n",
    "# %sql res << SELECT * FROM joined.deployment_incident_vehicles_weather\n",
    "# res"
   ]
  },
  {
   "cell_type": "code",
   "execution_count": 3,
   "metadata": {},
   "outputs": [],
   "source": [
    "# Or the more Pythonic way:\n",
    "\n",
    "# Here we retrieve a table where KNMI weather data and Fire Department data is combined\n",
    "df = conn.execute(\n",
    "    \"\"\"\n",
    "    SELECT * FROM joined.incident_deployments_vehicles_weather \"\"\"\n",
    ").pl()\n",
    "\n",
    "# Close the database connection\n",
    "conn.close()"
   ]
  },
  {
   "cell_type": "code",
   "execution_count": 4,
   "metadata": {},
   "outputs": [
    {
     "data": {
      "text/html": [
       "<div><style>\n",
       ".dataframe > thead > tr,\n",
       ".dataframe > tbody > tr {\n",
       "  text-align: right;\n",
       "  white-space: pre-wrap;\n",
       "}\n",
       "</style>\n",
       "<small>shape: (5, 47)</small><table border=\"1\" class=\"dataframe\"><thead><tr><th>Station_code</th><th>Date</th><th>Hour</th><th>Dd</th><th>Fh</th><th>Ff</th><th>Fx</th><th>T</th><th>T10n</th><th>Td</th><th>Sq</th><th>Q</th><th>Dr</th><th>Rh</th><th>P</th><th>Vv</th><th>N</th><th>U</th><th>Ww</th><th>Ix</th><th>M</th><th>R</th><th>S</th><th>O</th><th>Y</th><th>Incident_ID</th><th>Incident_Starttime</th><th>Incident_Endtime</th><th>Incident_Duration</th><th>Incident_Priority</th><th>Service_Area</th><th>Municipality</th><th>Damage_Type</th><th>LON</th><th>LAT</th><th>Incident_Endtime_Hour</th><th>Incident_Duration_Hour</th><th>Incident_Starttime_Minute</th><th>Incident_Endtime_Minute</th><th>Incident_Duration_Minute</th><th>Deployment_ID</th><th>Vehicle_Type</th><th>Vehicle_Role</th><th>Fire_Station</th><th>Fire_Station_Service_Status</th><th>Driving_Time_To_Incident</th><th>Vehicle</th></tr><tr><td>i64</td><td>date</td><td>i8</td><td>i64</td><td>i64</td><td>i64</td><td>i64</td><td>i64</td><td>i64</td><td>i64</td><td>i64</td><td>i64</td><td>i64</td><td>i64</td><td>i64</td><td>i64</td><td>i64</td><td>i64</td><td>i64</td><td>i64</td><td>i64</td><td>i64</td><td>i64</td><td>i64</td><td>i64</td><td>i64</td><td>time</td><td>time</td><td>time</td><td>i64</td><td>str</td><td>str</td><td>str</td><td>f64</td><td>f64</td><td>i8</td><td>i8</td><td>i8</td><td>i8</td><td>i8</td><td>i64</td><td>str</td><td>str</td><td>str</td><td>str</td><td>str</td><td>str</td></tr></thead><tbody><tr><td>240</td><td>2005-01-01</td><td>1</td><td>260</td><td>40</td><td>30</td><td>60</td><td>68</td><td>null</td><td>57</td><td>0</td><td>0</td><td>0</td><td>0</td><td>10246</td><td>57</td><td>8</td><td>93</td><td>10</td><td>7</td><td>0</td><td>0</td><td>0</td><td>0</td><td>0</td><td>null</td><td>null</td><td>null</td><td>null</td><td>null</td><td>null</td><td>null</td><td>null</td><td>null</td><td>null</td><td>null</td><td>null</td><td>null</td><td>null</td><td>null</td><td>null</td><td>null</td><td>null</td><td>null</td><td>null</td><td>null</td><td>null</td></tr><tr><td>240</td><td>2005-01-01</td><td>2</td><td>230</td><td>30</td><td>30</td><td>60</td><td>65</td><td>null</td><td>52</td><td>0</td><td>0</td><td>0</td><td>0</td><td>10244</td><td>58</td><td>8</td><td>91</td><td>10</td><td>7</td><td>0</td><td>0</td><td>0</td><td>0</td><td>0</td><td>null</td><td>null</td><td>null</td><td>null</td><td>null</td><td>null</td><td>null</td><td>null</td><td>null</td><td>null</td><td>null</td><td>null</td><td>null</td><td>null</td><td>null</td><td>null</td><td>null</td><td>null</td><td>null</td><td>null</td><td>null</td><td>null</td></tr><tr><td>240</td><td>2005-01-01</td><td>3</td><td>230</td><td>40</td><td>30</td><td>50</td><td>43</td><td>null</td><td>34</td><td>0</td><td>0</td><td>0</td><td>0</td><td>10241</td><td>40</td><td>1</td><td>94</td><td>10</td><td>7</td><td>0</td><td>0</td><td>0</td><td>0</td><td>0</td><td>null</td><td>null</td><td>null</td><td>null</td><td>null</td><td>null</td><td>null</td><td>null</td><td>null</td><td>null</td><td>null</td><td>null</td><td>null</td><td>null</td><td>null</td><td>null</td><td>null</td><td>null</td><td>null</td><td>null</td><td>null</td><td>null</td></tr><tr><td>240</td><td>2005-01-01</td><td>4</td><td>220</td><td>40</td><td>40</td><td>50</td><td>38</td><td>null</td><td>32</td><td>0</td><td>0</td><td>0</td><td>0</td><td>10239</td><td>12</td><td>0</td><td>96</td><td>10</td><td>7</td><td>0</td><td>0</td><td>0</td><td>0</td><td>0</td><td>null</td><td>null</td><td>null</td><td>null</td><td>null</td><td>null</td><td>null</td><td>null</td><td>null</td><td>null</td><td>null</td><td>null</td><td>null</td><td>null</td><td>null</td><td>null</td><td>null</td><td>null</td><td>null</td><td>null</td><td>null</td><td>null</td></tr><tr><td>240</td><td>2005-01-01</td><td>5</td><td>230</td><td>40</td><td>40</td><td>50</td><td>38</td><td>null</td><td>34</td><td>0</td><td>0</td><td>0</td><td>0</td><td>10237</td><td>14</td><td>3</td><td>97</td><td>10</td><td>7</td><td>0</td><td>0</td><td>0</td><td>0</td><td>0</td><td>null</td><td>null</td><td>null</td><td>null</td><td>null</td><td>null</td><td>null</td><td>null</td><td>null</td><td>null</td><td>null</td><td>null</td><td>null</td><td>null</td><td>null</td><td>null</td><td>null</td><td>null</td><td>null</td><td>null</td><td>null</td><td>null</td></tr></tbody></table></div>"
      ],
      "text/plain": [
       "shape: (5, 47)\n",
       "┌──────────────┬────────────┬──────┬─────┬───┬──────────────┬──────────────┬─────────────┬─────────┐\n",
       "│ Station_code ┆ Date       ┆ Hour ┆ Dd  ┆ … ┆ Fire_Station ┆ Fire_Station ┆ Driving_Tim ┆ Vehicle │\n",
       "│ ---          ┆ ---        ┆ ---  ┆ --- ┆   ┆ ---          ┆ _Service_Sta ┆ e_To_Incide ┆ ---     │\n",
       "│ i64          ┆ date       ┆ i8   ┆ i64 ┆   ┆ str          ┆ tus          ┆ nt          ┆ str     │\n",
       "│              ┆            ┆      ┆     ┆   ┆              ┆ ---          ┆ ---         ┆         │\n",
       "│              ┆            ┆      ┆     ┆   ┆              ┆ str          ┆ str         ┆         │\n",
       "╞══════════════╪════════════╪══════╪═════╪═══╪══════════════╪══════════════╪═════════════╪═════════╡\n",
       "│ 240          ┆ 2005-01-01 ┆ 1    ┆ 260 ┆ … ┆ null         ┆ null         ┆ null        ┆ null    │\n",
       "│ 240          ┆ 2005-01-01 ┆ 2    ┆ 230 ┆ … ┆ null         ┆ null         ┆ null        ┆ null    │\n",
       "│ 240          ┆ 2005-01-01 ┆ 3    ┆ 230 ┆ … ┆ null         ┆ null         ┆ null        ┆ null    │\n",
       "│ 240          ┆ 2005-01-01 ┆ 4    ┆ 220 ┆ … ┆ null         ┆ null         ┆ null        ┆ null    │\n",
       "│ 240          ┆ 2005-01-01 ┆ 5    ┆ 230 ┆ … ┆ null         ┆ null         ┆ null        ┆ null    │\n",
       "└──────────────┴────────────┴──────┴─────┴───┴──────────────┴──────────────┴─────────────┴─────────┘"
      ]
     },
     "execution_count": 4,
     "metadata": {},
     "output_type": "execute_result"
    }
   ],
   "source": [
    "df.head()"
   ]
  },
  {
   "cell_type": "markdown",
   "metadata": {},
   "source": [
    "### Feature Selection\n"
   ]
  },
  {
   "cell_type": "code",
   "execution_count": 12,
   "metadata": {},
   "outputs": [
    {
     "data": {
      "text/html": [
       "<div><style>\n",
       ".dataframe > thead > tr,\n",
       ".dataframe > tbody > tr {\n",
       "  text-align: right;\n",
       "  white-space: pre-wrap;\n",
       "}\n",
       "</style>\n",
       "<small>shape: (6_111, 47)</small><table border=\"1\" class=\"dataframe\"><thead><tr><th>Station_code</th><th>Date</th><th>Hour</th><th>Dd</th><th>Fh</th><th>Ff</th><th>Fx</th><th>T</th><th>T10n</th><th>Td</th><th>Sq</th><th>Q</th><th>Dr</th><th>Rh</th><th>P</th><th>Vv</th><th>N</th><th>U</th><th>Ww</th><th>Ix</th><th>M</th><th>R</th><th>S</th><th>O</th><th>Y</th><th>Incident_ID</th><th>Incident_Starttime</th><th>Incident_Endtime</th><th>Incident_Duration</th><th>Incident_Priority</th><th>Service_Area</th><th>Municipality</th><th>Damage_Type</th><th>LON</th><th>LAT</th><th>Incident_Endtime_Hour</th><th>Incident_Duration_Hour</th><th>Incident_Starttime_Minute</th><th>Incident_Endtime_Minute</th><th>Incident_Duration_Minute</th><th>Deployment_ID</th><th>Vehicle_Type</th><th>Vehicle_Role</th><th>Fire_Station</th><th>Fire_Station_Service_Status</th><th>Driving_Time_To_Incident</th><th>Vehicle</th></tr><tr><td>i64</td><td>date</td><td>i8</td><td>i64</td><td>i64</td><td>i64</td><td>i64</td><td>i64</td><td>i64</td><td>i64</td><td>i64</td><td>i64</td><td>i64</td><td>i64</td><td>i64</td><td>i64</td><td>i64</td><td>i64</td><td>i64</td><td>i64</td><td>i64</td><td>i64</td><td>i64</td><td>i64</td><td>i64</td><td>i64</td><td>time</td><td>time</td><td>time</td><td>i64</td><td>str</td><td>str</td><td>str</td><td>f64</td><td>f64</td><td>i8</td><td>i8</td><td>i8</td><td>i8</td><td>i8</td><td>i64</td><td>str</td><td>str</td><td>str</td><td>str</td><td>str</td><td>str</td></tr></thead><tbody><tr><td>240</td><td>2005-04-07</td><td>12</td><td>240</td><td>160</td><td>160</td><td>210</td><td>99</td><td>69</td><td>13</td><td>8</td><td>195</td><td>0</td><td>0</td><td>9993</td><td>74</td><td>6</td><td>55</td><td>2</td><td>7</td><td>0</td><td>0</td><td>0</td><td>0</td><td>0</td><td>11333</td><td>12:09:51</td><td>13:38:19</td><td>01:28:28</td><td>3</td><td>&quot;IJsbrand&quot;</td><td>&quot;AMSTERDAM&quot;</td><td>&quot;Unknown&quot;</td><td>4.887098</td><td>52.418767</td><td>13</td><td>1</td><td>9</td><td>38</td><td>28</td><td>94</td><td>&quot;TS&quot;</td><td>&quot;TS&quot;</td><td>&quot;IJsbrand&quot;</td><td>&quot;Professional&quot;</td><td>&quot;NULL&quot;</td><td>&quot;Tankautospuit&quot;</td></tr><tr><td>240</td><td>2005-04-07</td><td>12</td><td>240</td><td>160</td><td>160</td><td>210</td><td>99</td><td>69</td><td>13</td><td>8</td><td>195</td><td>0</td><td>0</td><td>9993</td><td>74</td><td>6</td><td>55</td><td>2</td><td>7</td><td>0</td><td>0</td><td>0</td><td>0</td><td>0</td><td>11333</td><td>12:09:51</td><td>13:38:19</td><td>01:28:28</td><td>3</td><td>&quot;IJsbrand&quot;</td><td>&quot;AMSTERDAM&quot;</td><td>&quot;Unknown&quot;</td><td>4.887098</td><td>52.418767</td><td>13</td><td>1</td><td>9</td><td>38</td><td>28</td><td>95</td><td>&quot;TS&quot;</td><td>&quot;TS&quot;</td><td>&quot;Zebra&quot;</td><td>&quot;Professional&quot;</td><td>&quot;808&quot;</td><td>&quot;Tankautospuit&quot;</td></tr><tr><td>240</td><td>2005-04-07</td><td>12</td><td>240</td><td>160</td><td>160</td><td>210</td><td>99</td><td>69</td><td>13</td><td>8</td><td>195</td><td>0</td><td>0</td><td>9993</td><td>74</td><td>6</td><td>55</td><td>2</td><td>7</td><td>0</td><td>0</td><td>0</td><td>0</td><td>0</td><td>11337</td><td>12:53:52</td><td>13:57:46</td><td>01:03:54</td><td>2</td><td>&quot;Pieter&quot;</td><td>&quot;AMSTERDAM&quot;</td><td>&quot;Tree&quot;</td><td>4.826198</td><td>52.352551</td><td>13</td><td>1</td><td>53</td><td>57</td><td>3</td><td>97</td><td>&quot;RV&quot;</td><td>&quot;RV&quot;</td><td>&quot;Teunis&quot;</td><td>&quot;Professional&quot;</td><td>&quot;753&quot;</td><td>&quot;HV met kraan&quot;</td></tr><tr><td>240</td><td>2005-04-07</td><td>12</td><td>240</td><td>160</td><td>160</td><td>210</td><td>99</td><td>69</td><td>13</td><td>8</td><td>195</td><td>0</td><td>0</td><td>9993</td><td>74</td><td>6</td><td>55</td><td>2</td><td>7</td><td>0</td><td>0</td><td>0</td><td>0</td><td>0</td><td>11337</td><td>12:53:52</td><td>13:57:46</td><td>01:03:54</td><td>2</td><td>&quot;Pieter&quot;</td><td>&quot;AMSTERDAM&quot;</td><td>&quot;Tree&quot;</td><td>4.826198</td><td>52.352551</td><td>13</td><td>1</td><td>53</td><td>57</td><td>3</td><td>98</td><td>&quot;TS&quot;</td><td>&quot;TS&quot;</td><td>&quot;Osdorp&quot;</td><td>&quot;Professional&quot;</td><td>&quot;633&quot;</td><td>&quot;Tankautospuit&quot;</td></tr><tr><td>240</td><td>2005-04-07</td><td>12</td><td>240</td><td>160</td><td>160</td><td>210</td><td>99</td><td>69</td><td>13</td><td>8</td><td>195</td><td>0</td><td>0</td><td>9993</td><td>74</td><td>6</td><td>55</td><td>2</td><td>7</td><td>0</td><td>0</td><td>0</td><td>0</td><td>0</td><td>11337</td><td>12:53:52</td><td>13:57:46</td><td>01:03:54</td><td>2</td><td>&quot;Pieter&quot;</td><td>&quot;AMSTERDAM&quot;</td><td>&quot;Tree&quot;</td><td>4.826198</td><td>52.352551</td><td>13</td><td>1</td><td>53</td><td>57</td><td>3</td><td>98</td><td>&quot;TS&quot;</td><td>&quot;TS&quot;</td><td>&quot;Osdorp&quot;</td><td>&quot;Professional&quot;</td><td>&quot;633&quot;</td><td>&quot;Tankautospuit&quot;</td></tr><tr><td>240</td><td>2005-11-25</td><td>7</td><td>290</td><td>160</td><td>160</td><td>260</td><td>45</td><td>null</td><td>34</td><td>0</td><td>0</td><td>10</td><td>24</td><td>9784</td><td>58</td><td>8</td><td>93</td><td>62</td><td>7</td><td>0</td><td>1</td><td>0</td><td>0</td><td>0</td><td>24028</td><td>07:25:02</td><td>07:41:25</td><td>00:16:23</td><td>3</td><td>&quot;Dirk&quot;</td><td>&quot;AMSTERDAM&quot;</td><td>&quot;Unknown&quot;</td><td>4.894682</td><td>52.359381</td><td>7</td><td>0</td><td>25</td><td>41</td><td>16</td><td>99</td><td>&quot;TS&quot;</td><td>&quot;TS&quot;</td><td>&quot;Dirk&quot;</td><td>&quot;Professional&quot;</td><td>&quot;157&quot;</td><td>&quot;Tankautospuit&quot;</td></tr><tr><td>240</td><td>2006-03-26</td><td>7</td><td>240</td><td>100</td><td>100</td><td>150</td><td>109</td><td>null</td><td>98</td><td>2</td><td>22</td><td>0</td><td>0</td><td>10058</td><td>65</td><td>6</td><td>93</td><td>null</td><td>5</td><td>0</td><td>0</td><td>0</td><td>0</td><td>0</td><td>30843</td><td>07:42:58</td><td>14:32:53</td><td>06:49:55</td><td>1</td><td>&quot;Victor&quot;</td><td>&quot;AMSTERDAM&quot;</td><td>&quot;Fence, Road si…</td><td>4.93092</td><td>52.358682</td><td>14</td><td>6</td><td>42</td><td>32</td><td>49</td><td>105</td><td>&quot;TS&quot;</td><td>&quot;TS&quot;</td><td>&quot;Victor&quot;</td><td>&quot;Professional&quot;</td><td>&quot;NULL&quot;</td><td>&quot;Tankautospuit&quot;</td></tr><tr><td>240</td><td>2006-03-26</td><td>7</td><td>240</td><td>100</td><td>100</td><td>150</td><td>109</td><td>null</td><td>98</td><td>2</td><td>22</td><td>0</td><td>0</td><td>10058</td><td>65</td><td>6</td><td>93</td><td>null</td><td>5</td><td>0</td><td>0</td><td>0</td><td>0</td><td>0</td><td>30843</td><td>07:42:58</td><td>14:32:53</td><td>06:49:55</td><td>1</td><td>&quot;Victor&quot;</td><td>&quot;AMSTERDAM&quot;</td><td>&quot;Tree&quot;</td><td>4.93092</td><td>52.358682</td><td>14</td><td>6</td><td>42</td><td>32</td><td>49</td><td>105</td><td>&quot;TS&quot;</td><td>&quot;TS&quot;</td><td>&quot;Victor&quot;</td><td>&quot;Professional&quot;</td><td>&quot;NULL&quot;</td><td>&quot;Tankautospuit&quot;</td></tr><tr><td>240</td><td>2006-03-27</td><td>17</td><td>230</td><td>160</td><td>160</td><td>250</td><td>131</td><td>null</td><td>78</td><td>10</td><td>67</td><td>0</td><td>0</td><td>9989</td><td>65</td><td>2</td><td>70</td><td>null</td><td>5</td><td>0</td><td>0</td><td>0</td><td>0</td><td>0</td><td>30913</td><td>17:58:03</td><td>20:20:43</td><td>02:22:40</td><td>2</td><td>&quot;Nico&quot;</td><td>&quot;AMSTERDAM&quot;</td><td>&quot;Unknown&quot;</td><td>4.925121</td><td>52.375628</td><td>20</td><td>2</td><td>58</td><td>20</td><td>22</td><td>107</td><td>&quot;TS&quot;</td><td>&quot;TS&quot;</td><td>&quot;Nico&quot;</td><td>&quot;Professional&quot;</td><td>&quot;194&quot;</td><td>&quot;Tankautospuit&quot;</td></tr><tr><td>240</td><td>2006-03-27</td><td>18</td><td>230</td><td>150</td><td>130</td><td>230</td><td>118</td><td>110</td><td>73</td><td>5</td><td>16</td><td>0</td><td>0</td><td>9996</td><td>64</td><td>7</td><td>74</td><td>3</td><td>7</td><td>0</td><td>0</td><td>0</td><td>0</td><td>0</td><td>30914</td><td>18:03:27</td><td>20:06:44</td><td>02:03:17</td><td>2</td><td>&quot;Hendrik&quot;</td><td>&quot;AMSTERDAM&quot;</td><td>&quot;Unknown&quot;</td><td>4.857239</td><td>52.36996</td><td>20</td><td>2</td><td>3</td><td>6</td><td>3</td><td>108</td><td>&quot;TS&quot;</td><td>&quot;TS&quot;</td><td>&quot;Hendrik&quot;</td><td>&quot;Professional&quot;</td><td>&quot;295&quot;</td><td>&quot;Tankautospuit&quot;</td></tr><tr><td>240</td><td>2006-03-27</td><td>18</td><td>230</td><td>150</td><td>130</td><td>230</td><td>118</td><td>110</td><td>73</td><td>5</td><td>16</td><td>0</td><td>0</td><td>9996</td><td>64</td><td>7</td><td>74</td><td>3</td><td>7</td><td>0</td><td>0</td><td>0</td><td>0</td><td>0</td><td>30924</td><td>18:30:01</td><td>20:22:19</td><td>01:52:18</td><td>3</td><td>&quot;Nico&quot;</td><td>&quot;AMSTERDAM&quot;</td><td>&quot;Building&quot;</td><td>4.926417</td><td>52.368173</td><td>20</td><td>1</td><td>30</td><td>22</td><td>52</td><td>110</td><td>&quot;TS&quot;</td><td>&quot;TS&quot;</td><td>&quot;Willem&quot;</td><td>&quot;Professional&quot;</td><td>&quot;693&quot;</td><td>&quot;Tankautospuit&quot;</td></tr><tr><td>240</td><td>2006-04-12</td><td>20</td><td>220</td><td>50</td><td>50</td><td>70</td><td>74</td><td>null</td><td>48</td><td>0</td><td>0</td><td>0</td><td>0</td><td>10124</td><td>65</td><td>8</td><td>84</td><td>null</td><td>5</td><td>0</td><td>0</td><td>0</td><td>0</td><td>0</td><td>31785</td><td>20:18:13</td><td>20:43:21</td><td>00:25:08</td><td>1</td><td>&quot;Hendrik&quot;</td><td>&quot;AMSTERDAM&quot;</td><td>&quot;Unknown&quot;</td><td>4.877861</td><td>52.371956</td><td>20</td><td>0</td><td>18</td><td>43</td><td>25</td><td>114</td><td>&quot;TS&quot;</td><td>&quot;TS&quot;</td><td>&quot;Hendrik&quot;</td><td>&quot;Professional&quot;</td><td>&quot;128&quot;</td><td>&quot;Tankautospuit&quot;</td></tr><tr><td>&hellip;</td><td>&hellip;</td><td>&hellip;</td><td>&hellip;</td><td>&hellip;</td><td>&hellip;</td><td>&hellip;</td><td>&hellip;</td><td>&hellip;</td><td>&hellip;</td><td>&hellip;</td><td>&hellip;</td><td>&hellip;</td><td>&hellip;</td><td>&hellip;</td><td>&hellip;</td><td>&hellip;</td><td>&hellip;</td><td>&hellip;</td><td>&hellip;</td><td>&hellip;</td><td>&hellip;</td><td>&hellip;</td><td>&hellip;</td><td>&hellip;</td><td>&hellip;</td><td>&hellip;</td><td>&hellip;</td><td>&hellip;</td><td>&hellip;</td><td>&hellip;</td><td>&hellip;</td><td>&hellip;</td><td>&hellip;</td><td>&hellip;</td><td>&hellip;</td><td>&hellip;</td><td>&hellip;</td><td>&hellip;</td><td>&hellip;</td><td>&hellip;</td><td>&hellip;</td><td>&hellip;</td><td>&hellip;</td><td>&hellip;</td><td>&hellip;</td><td>&hellip;</td></tr><tr><td>240</td><td>2023-09-07</td><td>18</td><td>110</td><td>30</td><td>30</td><td>50</td><td>247</td><td>213</td><td>163</td><td>7</td><td>23</td><td>0</td><td>0</td><td>10173</td><td>83</td><td>0</td><td>59</td><td>null</td><td>5</td><td>0</td><td>0</td><td>0</td><td>0</td><td>0</td><td>439050</td><td>18:03:05</td><td>19:18:29</td><td>01:15:24</td><td>2</td><td>&quot;Nico&quot;</td><td>&quot;Amsterdam&quot;</td><td>&quot;Tree&quot;</td><td>4.896493</td><td>52.370812</td><td>19</td><td>1</td><td>3</td><td>18</td><td>15</td><td>5182</td><td>&quot;AL&quot;</td><td>&quot;RV&quot;</td><td>&quot;Nico&quot;</td><td>&quot;Professional&quot;</td><td>&quot;550&quot;</td><td>&quot;Autoladder&quot;</td></tr><tr><td>240</td><td>2023-09-12</td><td>12</td><td>290</td><td>20</td><td>30</td><td>50</td><td>223</td><td>181</td><td>186</td><td>0</td><td>86</td><td>0</td><td>0</td><td>10133</td><td>72</td><td>8</td><td>79</td><td>null</td><td>5</td><td>0</td><td>0</td><td>0</td><td>0</td><td>0</td><td>439413</td><td>12:46:27</td><td>13:26:17</td><td>00:39:50</td><td>2</td><td>&quot;Nico&quot;</td><td>&quot;Amsterdam&quot;</td><td>&quot;Building&quot;</td><td>4.895048</td><td>52.366115</td><td>13</td><td>0</td><td>46</td><td>26</td><td>39</td><td>5184</td><td>&quot;AL&quot;</td><td>&quot;AL&quot;</td><td>&quot;Nico&quot;</td><td>&quot;Professional&quot;</td><td>&quot;NULL&quot;</td><td>&quot;Autoladder&quot;</td></tr><tr><td>240</td><td>2023-09-18</td><td>18</td><td>230</td><td>100</td><td>110</td><td>140</td><td>186</td><td>173</td><td>158</td><td>0</td><td>1</td><td>6</td><td>9</td><td>10013</td><td>67</td><td>8</td><td>83</td><td>81</td><td>7</td><td>0</td><td>1</td><td>0</td><td>0</td><td>0</td><td>439919</td><td>18:44:22</td><td>19:21:28</td><td>00:37:06</td><td>2</td><td>&quot;Willem&quot;</td><td>&quot;Amsterdam&quot;</td><td>&quot;Building&quot;</td><td>4.895438</td><td>52.349453</td><td>19</td><td>0</td><td>44</td><td>21</td><td>37</td><td>5185</td><td>&quot;AL&quot;</td><td>&quot;RV&quot;</td><td>&quot;Willem&quot;</td><td>&quot;Professional&quot;</td><td>&quot;449&quot;</td><td>&quot;Autoladder&quot;</td></tr><tr><td>240</td><td>2023-09-19</td><td>13</td><td>220</td><td>120</td><td>130</td><td>180</td><td>187</td><td>null</td><td>136</td><td>1</td><td>60</td><td>0</td><td>-1</td><td>10063</td><td>75</td><td>8</td><td>72</td><td>23</td><td>7</td><td>0</td><td>1</td><td>0</td><td>0</td><td>0</td><td>439968</td><td>13:11:05</td><td>13:47:00</td><td>00:35:55</td><td>2</td><td>&quot;Dirk&quot;</td><td>&quot;Amsterdam&quot;</td><td>&quot;Unknown&quot;</td><td>4.9021</td><td>52.360284</td><td>13</td><td>0</td><td>11</td><td>47</td><td>35</td><td>5186</td><td>&quot;AL&quot;</td><td>&quot;AL&quot;</td><td>&quot;Dirk&quot;</td><td>&quot;Professional&quot;</td><td>&quot;1304&quot;</td><td>&quot;Autoladder&quot;</td></tr><tr><td>240</td><td>2023-09-19</td><td>13</td><td>220</td><td>120</td><td>130</td><td>180</td><td>187</td><td>null</td><td>136</td><td>1</td><td>60</td><td>0</td><td>-1</td><td>10063</td><td>75</td><td>8</td><td>72</td><td>23</td><td>7</td><td>0</td><td>1</td><td>0</td><td>0</td><td>0</td><td>439968</td><td>13:11:05</td><td>13:47:00</td><td>00:35:55</td><td>2</td><td>&quot;Dirk&quot;</td><td>&quot;Amsterdam&quot;</td><td>&quot;Unknown&quot;</td><td>4.9021</td><td>52.360284</td><td>13</td><td>0</td><td>11</td><td>47</td><td>35</td><td>5187</td><td>&quot;TS&quot;</td><td>&quot;TS&quot;</td><td>&quot;Dirk&quot;</td><td>&quot;Professional&quot;</td><td>&quot;420&quot;</td><td>&quot;Tankautospuit&quot;</td></tr><tr><td>240</td><td>2023-09-19</td><td>13</td><td>220</td><td>120</td><td>130</td><td>180</td><td>187</td><td>null</td><td>136</td><td>1</td><td>60</td><td>0</td><td>-1</td><td>10063</td><td>75</td><td>8</td><td>72</td><td>23</td><td>7</td><td>0</td><td>1</td><td>0</td><td>0</td><td>0</td><td>439973</td><td>13:55:16</td><td>15:16:39</td><td>01:21:23</td><td>2</td><td>&quot;Osdorp&quot;</td><td>&quot;Amsterdam&quot;</td><td>&quot;Fence, Road si…</td><td>4.802687</td><td>52.346712</td><td>15</td><td>1</td><td>55</td><td>16</td><td>21</td><td>5188</td><td>&quot;AL&quot;</td><td>&quot;AL&quot;</td><td>&quot;Pieter&quot;</td><td>&quot;Professional&quot;</td><td>&quot;644&quot;</td><td>&quot;Autoladder&quot;</td></tr><tr><td>240</td><td>2023-09-19</td><td>13</td><td>220</td><td>120</td><td>130</td><td>180</td><td>187</td><td>null</td><td>136</td><td>1</td><td>60</td><td>0</td><td>-1</td><td>10063</td><td>75</td><td>8</td><td>72</td><td>23</td><td>7</td><td>0</td><td>1</td><td>0</td><td>0</td><td>0</td><td>439973</td><td>13:55:16</td><td>15:16:39</td><td>01:21:23</td><td>2</td><td>&quot;Osdorp&quot;</td><td>&quot;Amsterdam&quot;</td><td>&quot;Fence, Road si…</td><td>4.802687</td><td>52.346712</td><td>15</td><td>1</td><td>55</td><td>16</td><td>21</td><td>5189</td><td>&quot;TS&quot;</td><td>&quot;TS&quot;</td><td>&quot;Osdorp&quot;</td><td>&quot;Professional&quot;</td><td>&quot;NULL&quot;</td><td>&quot;Tankautospuit&quot;</td></tr><tr><td>240</td><td>2023-09-19</td><td>13</td><td>220</td><td>120</td><td>130</td><td>180</td><td>187</td><td>null</td><td>136</td><td>1</td><td>60</td><td>0</td><td>-1</td><td>10063</td><td>75</td><td>8</td><td>72</td><td>23</td><td>7</td><td>0</td><td>1</td><td>0</td><td>0</td><td>0</td><td>439973</td><td>13:55:16</td><td>15:16:39</td><td>01:21:23</td><td>2</td><td>&quot;Osdorp&quot;</td><td>&quot;Amsterdam&quot;</td><td>&quot;Fence, Road si…</td><td>4.802687</td><td>52.346712</td><td>15</td><td>1</td><td>55</td><td>16</td><td>21</td><td>5189</td><td>&quot;TS&quot;</td><td>&quot;TS&quot;</td><td>&quot;Osdorp&quot;</td><td>&quot;Professional&quot;</td><td>&quot;NULL&quot;</td><td>&quot;Tankautospuit&quot;</td></tr><tr><td>240</td><td>2023-09-27</td><td>14</td><td>150</td><td>40</td><td>40</td><td>70</td><td>224</td><td>null</td><td>149</td><td>5</td><td>137</td><td>0</td><td>0</td><td>10164</td><td>81</td><td>8</td><td>62</td><td>null</td><td>5</td><td>0</td><td>0</td><td>0</td><td>0</td><td>0</td><td>440600</td><td>14:20:01</td><td>14:39:21</td><td>00:19:20</td><td>2</td><td>&quot;Hendrik&quot;</td><td>&quot;Amsterdam&quot;</td><td>&quot;Building&quot;</td><td>4.881331</td><td>52.375458</td><td>14</td><td>0</td><td>20</td><td>39</td><td>19</td><td>5190</td><td>&quot;AL&quot;</td><td>&quot;RV&quot;</td><td>&quot;Hendrik&quot;</td><td>&quot;Professional&quot;</td><td>&quot;424&quot;</td><td>&quot;Autoladder&quot;</td></tr><tr><td>240</td><td>2023-10-03</td><td>6</td><td>240</td><td>110</td><td>100</td><td>180</td><td>184</td><td>170</td><td>151</td><td>0</td><td>0</td><td>0</td><td>0</td><td>10074</td><td>70</td><td>8</td><td>81</td><td>null</td><td>5</td><td>0</td><td>0</td><td>0</td><td>0</td><td>0</td><td>441045</td><td>06:56:10</td><td>08:51:55</td><td>01:55:45</td><td>2</td><td>&quot;Pieter&quot;</td><td>&quot;Amsterdam&quot;</td><td>&quot;Building&quot;</td><td>4.827695</td><td>52.354841</td><td>8</td><td>1</td><td>56</td><td>51</td><td>55</td><td>5191</td><td>&quot;AL&quot;</td><td>&quot;RV&quot;</td><td>&quot;Pieter&quot;</td><td>&quot;Professional&quot;</td><td>&quot;435&quot;</td><td>&quot;Autoladder&quot;</td></tr><tr><td>240</td><td>2023-10-05</td><td>16</td><td>240</td><td>60</td><td>60</td><td>100</td><td>169</td><td>null</td><td>119</td><td>8</td><td>51</td><td>0</td><td>0</td><td>10240</td><td>75</td><td>8</td><td>72</td><td>null</td><td>5</td><td>0</td><td>0</td><td>0</td><td>0</td><td>0</td><td>441274</td><td>16:45:36</td><td>16:47:11</td><td>00:01:35</td><td>1</td><td>&quot;Hendrik&quot;</td><td>&quot;Amsterdam&quot;</td><td>&quot;Tree&quot;</td><td>4.870521</td><td>52.36672</td><td>16</td><td>0</td><td>45</td><td>47</td><td>1</td><td>5192</td><td>&quot;AL&quot;</td><td>&quot;RV&quot;</td><td>&quot;Hendrik&quot;</td><td>&quot;Professional&quot;</td><td>&quot;0&quot;</td><td>&quot;Autoladder&quot;</td></tr><tr><td>240</td><td>2023-10-07</td><td>15</td><td>260</td><td>80</td><td>80</td><td>130</td><td>191</td><td>null</td><td>153</td><td>2</td><td>59</td><td>0</td><td>0</td><td>10205</td><td>72</td><td>8</td><td>78</td><td>null</td><td>5</td><td>0</td><td>0</td><td>0</td><td>0</td><td>0</td><td>441393</td><td>15:57:35</td><td>16:24:44</td><td>00:27:09</td><td>2</td><td>&quot;Pieter&quot;</td><td>&quot;Amsterdam&quot;</td><td>&quot;Tree&quot;</td><td>4.861346</td><td>52.351769</td><td>16</td><td>0</td><td>57</td><td>24</td><td>27</td><td>5193</td><td>&quot;AL&quot;</td><td>&quot;RV&quot;</td><td>&quot;Pieter&quot;</td><td>&quot;Professional&quot;</td><td>&quot;395&quot;</td><td>&quot;Autoladder&quot;</td></tr></tbody></table></div>"
      ],
      "text/plain": [
       "shape: (6_111, 47)\n",
       "┌─────────────┬────────────┬──────┬─────┬───┬─────────────┬─────────────┬─────────────┬────────────┐\n",
       "│ Station_cod ┆ Date       ┆ Hour ┆ Dd  ┆ … ┆ Fire_Statio ┆ Fire_Statio ┆ Driving_Tim ┆ Vehicle    │\n",
       "│ e           ┆ ---        ┆ ---  ┆ --- ┆   ┆ n           ┆ n_Service_S ┆ e_To_Incide ┆ ---        │\n",
       "│ ---         ┆ date       ┆ i8   ┆ i64 ┆   ┆ ---         ┆ tatus       ┆ nt          ┆ str        │\n",
       "│ i64         ┆            ┆      ┆     ┆   ┆ str         ┆ ---         ┆ ---         ┆            │\n",
       "│             ┆            ┆      ┆     ┆   ┆             ┆ str         ┆ str         ┆            │\n",
       "╞═════════════╪════════════╪══════╪═════╪═══╪═════════════╪═════════════╪═════════════╪════════════╡\n",
       "│ 240         ┆ 2005-04-07 ┆ 12   ┆ 240 ┆ … ┆ IJsbrand    ┆ Professiona ┆ NULL        ┆ Tankautosp │\n",
       "│             ┆            ┆      ┆     ┆   ┆             ┆ l           ┆             ┆ uit        │\n",
       "│ 240         ┆ 2005-04-07 ┆ 12   ┆ 240 ┆ … ┆ Zebra       ┆ Professiona ┆ 808         ┆ Tankautosp │\n",
       "│             ┆            ┆      ┆     ┆   ┆             ┆ l           ┆             ┆ uit        │\n",
       "│ 240         ┆ 2005-04-07 ┆ 12   ┆ 240 ┆ … ┆ Teunis      ┆ Professiona ┆ 753         ┆ HV met     │\n",
       "│             ┆            ┆      ┆     ┆   ┆             ┆ l           ┆             ┆ kraan      │\n",
       "│ 240         ┆ 2005-04-07 ┆ 12   ┆ 240 ┆ … ┆ Osdorp      ┆ Professiona ┆ 633         ┆ Tankautosp │\n",
       "│             ┆            ┆      ┆     ┆   ┆             ┆ l           ┆             ┆ uit        │\n",
       "│ …           ┆ …          ┆ …    ┆ …   ┆ … ┆ …           ┆ …           ┆ …           ┆ …          │\n",
       "│ 240         ┆ 2023-09-27 ┆ 14   ┆ 150 ┆ … ┆ Hendrik     ┆ Professiona ┆ 424         ┆ Autoladder │\n",
       "│             ┆            ┆      ┆     ┆   ┆             ┆ l           ┆             ┆            │\n",
       "│ 240         ┆ 2023-10-03 ┆ 6    ┆ 240 ┆ … ┆ Pieter      ┆ Professiona ┆ 435         ┆ Autoladder │\n",
       "│             ┆            ┆      ┆     ┆   ┆             ┆ l           ┆             ┆            │\n",
       "│ 240         ┆ 2023-10-05 ┆ 16   ┆ 240 ┆ … ┆ Hendrik     ┆ Professiona ┆ 0           ┆ Autoladder │\n",
       "│             ┆            ┆      ┆     ┆   ┆             ┆ l           ┆             ┆            │\n",
       "│ 240         ┆ 2023-10-07 ┆ 15   ┆ 260 ┆ … ┆ Pieter      ┆ Professiona ┆ 395         ┆ Autoladder │\n",
       "│             ┆            ┆      ┆     ┆   ┆             ┆ l           ┆             ┆            │\n",
       "└─────────────┴────────────┴──────┴─────┴───┴─────────────┴─────────────┴─────────────┴────────────┘"
      ]
     },
     "execution_count": 12,
     "metadata": {},
     "output_type": "execute_result"
    }
   ],
   "source": [
    "# Select all rows where inicident happended\n",
    "selected_df = df.filter(pl.col(\"Incident_ID\").is_not_null())\n",
    "# display(selected_df.head())\n",
    "selected_df"
   ]
  },
  {
   "cell_type": "code",
   "execution_count": null,
   "metadata": {},
   "outputs": [],
   "source": []
  }
 ],
 "metadata": {
  "kernelspec": {
   "display_name": "DSP-Storm-Damage-on-Urban-Areas",
   "language": "python",
   "name": "dsp"
  },
  "language_info": {
   "codemirror_mode": {
    "name": "ipython",
    "version": 3
   },
   "file_extension": ".py",
   "mimetype": "text/x-python",
   "name": "python",
   "nbconvert_exporter": "python",
   "pygments_lexer": "ipython3",
   "version": "3.10.13"
  }
 },
 "nbformat": 4,
 "nbformat_minor": 2
}
