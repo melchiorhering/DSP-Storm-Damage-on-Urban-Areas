{
 "cells": [
  {
   "cell_type": "markdown",
   "metadata": {},
   "source": [
    "## Modelling\n",
    "\n",
    "In this Notebook we can start modelling, with some data from our DB.\n",
    "\n",
    "- To do this we can connect with our local DB using the `duckdb` library\n",
    "- When a connection has been made we can start retrieving data from our DB.\n"
   ]
  },
  {
   "cell_type": "markdown",
   "metadata": {},
   "source": [
    "### Setup\n"
   ]
  },
  {
   "cell_type": "code",
   "execution_count": 1,
   "metadata": {},
   "outputs": [],
   "source": [
    "import duckdb\n",
    "import polars as pl\n",
    "import pandas as pd\n",
    "import xgboost as xgb\n",
    "from sklearn.model_selection import train_test_split\n",
    "from sklearn.metrics import mean_squared_error, mean_absolute_error\n",
    "import numpy as np\n",
    "import matplotlib.pyplot as plt\n",
    "import seaborn as sns\n",
    "import mlflow\n",
    "import mlflow.xgboost"
   ]
  },
  {
   "cell_type": "code",
   "execution_count": 2,
   "metadata": {},
   "outputs": [
    {
     "name": "stdout",
     "output_type": "stream",
     "text": [
      "\u001b[32mDeploy AI and data apps for free on Ploomber Cloud! Learn more: https://docs.cloud.ploomber.io/en/latest/quickstart/signup.html\u001b[0m\n"
     ]
    },
    {
     "data": {
      "text/html": [
       "<span style=\"None\">Tip: You may define configurations in /home/workspaces/DSP-compose/pyproject.toml or /root/.jupysql/config. </span>"
      ],
      "text/plain": [
       "Tip: You may define configurations in /home/workspaces/DSP-compose/pyproject.toml or /root/.jupysql/config. "
      ]
     },
     "metadata": {},
     "output_type": "display_data"
    },
    {
     "data": {
      "text/html": [
       "Please review our <a href='https://jupysql.ploomber.io/en/latest/api/configuration.html#loading-from-a-file'>configuration guideline</a>."
      ],
      "text/plain": [
       "<IPython.core.display.HTML object>"
      ]
     },
     "metadata": {},
     "output_type": "display_data"
    },
    {
     "data": {
      "text/html": [
       "'poetry' is an invalid configuration. Please review our <a href='https://jupysql.ploomber.io/en/latest/api/configuration.html#options'>configuration guideline</a>."
      ],
      "text/plain": [
       "<IPython.core.display.HTML object>"
      ]
     },
     "metadata": {},
     "output_type": "display_data"
    },
    {
     "data": {
      "text/html": [
       "'ruff' is an invalid configuration. Please review our <a href='https://jupysql.ploomber.io/en/latest/api/configuration.html#options'>configuration guideline</a>."
      ],
      "text/plain": [
       "<IPython.core.display.HTML object>"
      ]
     },
     "metadata": {},
     "output_type": "display_data"
    },
    {
     "data": {
      "text/html": [
       "<div>\n",
       "<style scoped>\n",
       "    .dataframe tbody tr th:only-of-type {\n",
       "        vertical-align: middle;\n",
       "    }\n",
       "\n",
       "    .dataframe tbody tr th {\n",
       "        vertical-align: top;\n",
       "    }\n",
       "\n",
       "    .dataframe thead th {\n",
       "        text-align: right;\n",
       "    }\n",
       "</style>\n",
       "<table border=\"1\" class=\"dataframe\">\n",
       "  <thead>\n",
       "    <tr style=\"text-align: right;\">\n",
       "      <th></th>\n",
       "      <th>database</th>\n",
       "      <th>schema</th>\n",
       "      <th>name</th>\n",
       "      <th>column_names</th>\n",
       "      <th>column_types</th>\n",
       "      <th>temporary</th>\n",
       "    </tr>\n",
       "  </thead>\n",
       "  <tbody>\n",
       "    <tr>\n",
       "      <th>0</th>\n",
       "      <td>data_systems_project</td>\n",
       "      <td>joined</td>\n",
       "      <td>incident_deployments_vehicles_weather</td>\n",
       "      <td>[Station_code, Date, Hour, Dd, Fh, Ff, Fx, T, ...</td>\n",
       "      <td>[BIGINT, DATE, TINYINT, BIGINT, BIGINT, BIGINT...</td>\n",
       "      <td>False</td>\n",
       "    </tr>\n",
       "    <tr>\n",
       "      <th>1</th>\n",
       "      <td>data_systems_project</td>\n",
       "      <td>joined</td>\n",
       "      <td>incident_deployments_vehicles_wijken</td>\n",
       "      <td>[Incident_ID, Date, Incident_Starttime, Incide...</td>\n",
       "      <td>[BIGINT, TIMESTAMP_MS, TIME, TIME, TIME, BIGIN...</td>\n",
       "      <td>False</td>\n",
       "    </tr>\n",
       "    <tr>\n",
       "      <th>2</th>\n",
       "      <td>data_systems_project</td>\n",
       "      <td>public</td>\n",
       "      <td>bag_panden</td>\n",
       "      <td>[geometry, identificatie, rdf_seealso, bouwjaa...</td>\n",
       "      <td>[VARCHAR, VARCHAR, VARCHAR, BIGINT, VARCHAR, V...</td>\n",
       "      <td>False</td>\n",
       "    </tr>\n",
       "    <tr>\n",
       "      <th>3</th>\n",
       "      <td>data_systems_project</td>\n",
       "      <td>public</td>\n",
       "      <td>cbs_buurten</td>\n",
       "      <td>[geometry, buurtcode, buurtnaam, wijkcode, gem...</td>\n",
       "      <td>[VARCHAR, VARCHAR, VARCHAR, VARCHAR, VARCHAR, ...</td>\n",
       "      <td>False</td>\n",
       "    </tr>\n",
       "    <tr>\n",
       "      <th>4</th>\n",
       "      <td>data_systems_project</td>\n",
       "      <td>public</td>\n",
       "      <td>cbs_wijken</td>\n",
       "      <td>[geometry, wijkcode, wijknaam, gemeentecode, g...</td>\n",
       "      <td>[VARCHAR, VARCHAR, VARCHAR, VARCHAR, VARCHAR, ...</td>\n",
       "      <td>False</td>\n",
       "    </tr>\n",
       "    <tr>\n",
       "      <th>5</th>\n",
       "      <td>data_systems_project</td>\n",
       "      <td>public</td>\n",
       "      <td>fire_stations_and_vehicles</td>\n",
       "      <td>[Fire_Station, Vehicle, Vehicle_Type]</td>\n",
       "      <td>[VARCHAR, VARCHAR, VARCHAR]</td>\n",
       "      <td>False</td>\n",
       "    </tr>\n",
       "    <tr>\n",
       "      <th>6</th>\n",
       "      <td>data_systems_project</td>\n",
       "      <td>public</td>\n",
       "      <td>knmi_weather_data</td>\n",
       "      <td>[station_code, date, hour, DD, FH, FF, FX, T, ...</td>\n",
       "      <td>[BIGINT, VARCHAR, BIGINT, BIGINT, BIGINT, BIGI...</td>\n",
       "      <td>False</td>\n",
       "    </tr>\n",
       "    <tr>\n",
       "      <th>7</th>\n",
       "      <td>data_systems_project</td>\n",
       "      <td>public</td>\n",
       "      <td>service_areas</td>\n",
       "      <td>[H_Verzorgingsgebied_ID, Verzorgingsgebied, LA...</td>\n",
       "      <td>[BIGINT, VARCHAR, DOUBLE, DOUBLE, VARCHAR]</td>\n",
       "      <td>False</td>\n",
       "    </tr>\n",
       "    <tr>\n",
       "      <th>8</th>\n",
       "      <td>data_systems_project</td>\n",
       "      <td>public</td>\n",
       "      <td>storm_deployments</td>\n",
       "      <td>[Deployment_ID, Incident_ID, Vehicle_Type, Veh...</td>\n",
       "      <td>[BIGINT, BIGINT, VARCHAR, VARCHAR, VARCHAR, VA...</td>\n",
       "      <td>False</td>\n",
       "    </tr>\n",
       "    <tr>\n",
       "      <th>9</th>\n",
       "      <td>data_systems_project</td>\n",
       "      <td>public</td>\n",
       "      <td>storm_incidents</td>\n",
       "      <td>[Incident_ID, Date, Incident_Starttime, Incide...</td>\n",
       "      <td>[BIGINT, DATE, TIME, TIME, TIME, BIGINT, VARCH...</td>\n",
       "      <td>False</td>\n",
       "    </tr>\n",
       "    <tr>\n",
       "      <th>10</th>\n",
       "      <td>data_systems_project</td>\n",
       "      <td>public</td>\n",
       "      <td>tree_data</td>\n",
       "      <td>[_links, id, gbdBuurtId, geometrie, typeBeheer...</td>\n",
       "      <td>[STRUCT(\"schema\" VARCHAR, self STRUCT(href VAR...</td>\n",
       "      <td>False</td>\n",
       "    </tr>\n",
       "  </tbody>\n",
       "</table>\n",
       "</div>"
      ],
      "text/plain": [
       "                database  schema                                   name  \\\n",
       "0   data_systems_project  joined  incident_deployments_vehicles_weather   \n",
       "1   data_systems_project  joined   incident_deployments_vehicles_wijken   \n",
       "2   data_systems_project  public                             bag_panden   \n",
       "3   data_systems_project  public                            cbs_buurten   \n",
       "4   data_systems_project  public                             cbs_wijken   \n",
       "5   data_systems_project  public             fire_stations_and_vehicles   \n",
       "6   data_systems_project  public                      knmi_weather_data   \n",
       "7   data_systems_project  public                          service_areas   \n",
       "8   data_systems_project  public                      storm_deployments   \n",
       "9   data_systems_project  public                        storm_incidents   \n",
       "10  data_systems_project  public                              tree_data   \n",
       "\n",
       "                                         column_names  \\\n",
       "0   [Station_code, Date, Hour, Dd, Fh, Ff, Fx, T, ...   \n",
       "1   [Incident_ID, Date, Incident_Starttime, Incide...   \n",
       "2   [geometry, identificatie, rdf_seealso, bouwjaa...   \n",
       "3   [geometry, buurtcode, buurtnaam, wijkcode, gem...   \n",
       "4   [geometry, wijkcode, wijknaam, gemeentecode, g...   \n",
       "5               [Fire_Station, Vehicle, Vehicle_Type]   \n",
       "6   [station_code, date, hour, DD, FH, FF, FX, T, ...   \n",
       "7   [H_Verzorgingsgebied_ID, Verzorgingsgebied, LA...   \n",
       "8   [Deployment_ID, Incident_ID, Vehicle_Type, Veh...   \n",
       "9   [Incident_ID, Date, Incident_Starttime, Incide...   \n",
       "10  [_links, id, gbdBuurtId, geometrie, typeBeheer...   \n",
       "\n",
       "                                         column_types  temporary  \n",
       "0   [BIGINT, DATE, TINYINT, BIGINT, BIGINT, BIGINT...      False  \n",
       "1   [BIGINT, TIMESTAMP_MS, TIME, TIME, TIME, BIGIN...      False  \n",
       "2   [VARCHAR, VARCHAR, VARCHAR, BIGINT, VARCHAR, V...      False  \n",
       "3   [VARCHAR, VARCHAR, VARCHAR, VARCHAR, VARCHAR, ...      False  \n",
       "4   [VARCHAR, VARCHAR, VARCHAR, VARCHAR, VARCHAR, ...      False  \n",
       "5                         [VARCHAR, VARCHAR, VARCHAR]      False  \n",
       "6   [BIGINT, VARCHAR, BIGINT, BIGINT, BIGINT, BIGI...      False  \n",
       "7          [BIGINT, VARCHAR, DOUBLE, DOUBLE, VARCHAR]      False  \n",
       "8   [BIGINT, BIGINT, VARCHAR, VARCHAR, VARCHAR, VA...      False  \n",
       "9   [BIGINT, DATE, TIME, TIME, TIME, BIGINT, VARCH...      False  \n",
       "10  [STRUCT(\"schema\" VARCHAR, self STRUCT(href VAR...      False  "
      ]
     },
     "execution_count": 2,
     "metadata": {},
     "output_type": "execute_result"
    }
   ],
   "source": [
    "# Use SQL magic\n",
    "%config SqlMagic.autopandas = True\n",
    "%config SqlMagic.feedback = True\n",
    "%config SqlMagic.displaycon = False\n",
    "\n",
    "%load_ext sql\n",
    "conn = duckdb.connect(database=\"../dsp-dagster/data_systems_project.duckdb\")\n",
    "%sql conn --alias duckdb\n",
    "%sql SHOW ALL TABLES; # shows all available tables"
   ]
  },
  {
   "cell_type": "code",
   "execution_count": 3,
   "metadata": {},
   "outputs": [],
   "source": [
    "## We can use SQL magic to retrieve data from our DB like so:\n",
    "# %sql res << SELECT * FROM joined.deployment_incident_vehicles_weather\n",
    "# res"
   ]
  },
  {
   "cell_type": "code",
   "execution_count": 4,
   "metadata": {},
   "outputs": [],
   "source": [
    "# Or the more Pythonic way:\n",
    "\n",
    "# Here we retrieve a table where KNMI weather data and Fire Department data is combined\n",
    "df = conn.execute(\n",
    "    \"\"\"\n",
    "    SELECT * FROM joined.incident_deployments_vehicles_weather \"\"\"\n",
    ").pl()\n",
    "\n",
    "# Close the database connection\n",
    "conn.close()"
   ]
  },
  {
   "cell_type": "code",
   "execution_count": 5,
   "metadata": {},
   "outputs": [
    {
     "data": {
      "text/html": [
       "<div><style>\n",
       ".dataframe > thead > tr,\n",
       ".dataframe > tbody > tr {\n",
       "  text-align: right;\n",
       "  white-space: pre-wrap;\n",
       "}\n",
       "</style>\n",
       "<small>shape: (5, 47)</small><table border=\"1\" class=\"dataframe\"><thead><tr><th>Station_code</th><th>Date</th><th>Hour</th><th>Dd</th><th>Fh</th><th>Ff</th><th>Fx</th><th>T</th><th>T10n</th><th>Td</th><th>Sq</th><th>Q</th><th>Dr</th><th>Rh</th><th>P</th><th>Vv</th><th>N</th><th>U</th><th>Ww</th><th>Ix</th><th>M</th><th>R</th><th>S</th><th>O</th><th>Y</th><th>Incident_ID</th><th>Incident_Starttime</th><th>Incident_Endtime</th><th>Incident_Duration</th><th>Incident_Priority</th><th>Service_Area</th><th>Municipality</th><th>Damage_Type</th><th>LON</th><th>LAT</th><th>Incident_Endtime_Hour</th><th>Incident_Duration_Hour</th><th>Incident_Starttime_Minute</th><th>Incident_Endtime_Minute</th><th>Incident_Duration_Minute</th><th>Deployment_ID</th><th>Vehicle_Type</th><th>Vehicle_Role</th><th>Fire_Station</th><th>Fire_Station_Service_Status</th><th>Driving_Time_To_Incident</th><th>Vehicle</th></tr><tr><td>i64</td><td>date</td><td>i8</td><td>i64</td><td>i64</td><td>i64</td><td>i64</td><td>i64</td><td>i64</td><td>i64</td><td>i64</td><td>i64</td><td>i64</td><td>i64</td><td>i64</td><td>i64</td><td>i64</td><td>i64</td><td>i64</td><td>i64</td><td>i64</td><td>i64</td><td>i64</td><td>i64</td><td>i64</td><td>i64</td><td>time</td><td>time</td><td>time</td><td>i64</td><td>str</td><td>str</td><td>str</td><td>f64</td><td>f64</td><td>i8</td><td>i8</td><td>i8</td><td>i8</td><td>i8</td><td>i64</td><td>str</td><td>str</td><td>str</td><td>str</td><td>str</td><td>str</td></tr></thead><tbody><tr><td>240</td><td>2005-01-01</td><td>1</td><td>260</td><td>40</td><td>30</td><td>60</td><td>68</td><td>null</td><td>57</td><td>0</td><td>0</td><td>0</td><td>0</td><td>10246</td><td>57</td><td>8</td><td>93</td><td>10</td><td>7</td><td>0</td><td>0</td><td>0</td><td>0</td><td>0</td><td>null</td><td>null</td><td>null</td><td>null</td><td>null</td><td>null</td><td>null</td><td>null</td><td>null</td><td>null</td><td>null</td><td>null</td><td>null</td><td>null</td><td>null</td><td>null</td><td>null</td><td>null</td><td>null</td><td>null</td><td>null</td><td>null</td></tr><tr><td>240</td><td>2005-01-01</td><td>2</td><td>230</td><td>30</td><td>30</td><td>60</td><td>65</td><td>null</td><td>52</td><td>0</td><td>0</td><td>0</td><td>0</td><td>10244</td><td>58</td><td>8</td><td>91</td><td>10</td><td>7</td><td>0</td><td>0</td><td>0</td><td>0</td><td>0</td><td>null</td><td>null</td><td>null</td><td>null</td><td>null</td><td>null</td><td>null</td><td>null</td><td>null</td><td>null</td><td>null</td><td>null</td><td>null</td><td>null</td><td>null</td><td>null</td><td>null</td><td>null</td><td>null</td><td>null</td><td>null</td><td>null</td></tr><tr><td>240</td><td>2005-01-01</td><td>3</td><td>230</td><td>40</td><td>30</td><td>50</td><td>43</td><td>null</td><td>34</td><td>0</td><td>0</td><td>0</td><td>0</td><td>10241</td><td>40</td><td>1</td><td>94</td><td>10</td><td>7</td><td>0</td><td>0</td><td>0</td><td>0</td><td>0</td><td>null</td><td>null</td><td>null</td><td>null</td><td>null</td><td>null</td><td>null</td><td>null</td><td>null</td><td>null</td><td>null</td><td>null</td><td>null</td><td>null</td><td>null</td><td>null</td><td>null</td><td>null</td><td>null</td><td>null</td><td>null</td><td>null</td></tr><tr><td>240</td><td>2005-01-01</td><td>4</td><td>220</td><td>40</td><td>40</td><td>50</td><td>38</td><td>null</td><td>32</td><td>0</td><td>0</td><td>0</td><td>0</td><td>10239</td><td>12</td><td>0</td><td>96</td><td>10</td><td>7</td><td>0</td><td>0</td><td>0</td><td>0</td><td>0</td><td>null</td><td>null</td><td>null</td><td>null</td><td>null</td><td>null</td><td>null</td><td>null</td><td>null</td><td>null</td><td>null</td><td>null</td><td>null</td><td>null</td><td>null</td><td>null</td><td>null</td><td>null</td><td>null</td><td>null</td><td>null</td><td>null</td></tr><tr><td>240</td><td>2005-01-01</td><td>5</td><td>230</td><td>40</td><td>40</td><td>50</td><td>38</td><td>null</td><td>34</td><td>0</td><td>0</td><td>0</td><td>0</td><td>10237</td><td>14</td><td>3</td><td>97</td><td>10</td><td>7</td><td>0</td><td>0</td><td>0</td><td>0</td><td>0</td><td>null</td><td>null</td><td>null</td><td>null</td><td>null</td><td>null</td><td>null</td><td>null</td><td>null</td><td>null</td><td>null</td><td>null</td><td>null</td><td>null</td><td>null</td><td>null</td><td>null</td><td>null</td><td>null</td><td>null</td><td>null</td><td>null</td></tr></tbody></table></div>"
      ],
      "text/plain": [
       "shape: (5, 47)\n",
       "┌──────────────┬────────────┬──────┬─────┬───┬──────────────┬──────────────┬─────────────┬─────────┐\n",
       "│ Station_code ┆ Date       ┆ Hour ┆ Dd  ┆ … ┆ Fire_Station ┆ Fire_Station ┆ Driving_Tim ┆ Vehicle │\n",
       "│ ---          ┆ ---        ┆ ---  ┆ --- ┆   ┆ ---          ┆ _Service_Sta ┆ e_To_Incide ┆ ---     │\n",
       "│ i64          ┆ date       ┆ i8   ┆ i64 ┆   ┆ str          ┆ tus          ┆ nt          ┆ str     │\n",
       "│              ┆            ┆      ┆     ┆   ┆              ┆ ---          ┆ ---         ┆         │\n",
       "│              ┆            ┆      ┆     ┆   ┆              ┆ str          ┆ str         ┆         │\n",
       "╞══════════════╪════════════╪══════╪═════╪═══╪══════════════╪══════════════╪═════════════╪═════════╡\n",
       "│ 240          ┆ 2005-01-01 ┆ 1    ┆ 260 ┆ … ┆ null         ┆ null         ┆ null        ┆ null    │\n",
       "│ 240          ┆ 2005-01-01 ┆ 2    ┆ 230 ┆ … ┆ null         ┆ null         ┆ null        ┆ null    │\n",
       "│ 240          ┆ 2005-01-01 ┆ 3    ┆ 230 ┆ … ┆ null         ┆ null         ┆ null        ┆ null    │\n",
       "│ 240          ┆ 2005-01-01 ┆ 4    ┆ 220 ┆ … ┆ null         ┆ null         ┆ null        ┆ null    │\n",
       "│ 240          ┆ 2005-01-01 ┆ 5    ┆ 230 ┆ … ┆ null         ┆ null         ┆ null        ┆ null    │\n",
       "└──────────────┴────────────┴──────┴─────┴───┴──────────────┴──────────────┴─────────────┴─────────┘"
      ]
     },
     "execution_count": 5,
     "metadata": {},
     "output_type": "execute_result"
    }
   ],
   "source": [
    "df.head()"
   ]
  },
  {
   "cell_type": "code",
   "execution_count": null,
   "metadata": {},
   "outputs": [],
   "source": [
    "def plot_feature_importances(\n",
    "    model, feature_names, top_n=20, title=\"Feature Importances\"\n",
    "):\n",
    "    \"\"\"\n",
    "    Plots the top n feature importances in a horizontal bar chart.\n",
    "\n",
    "    :param model: The trained model\n",
    "    :param feature_names: List of feature names\n",
    "    :param top_n: Number of top features to display\n",
    "    :param title: Title of the plot\n",
    "    \"\"\"\n",
    "    # Extract feature importances\n",
    "    importances = model.feature_importances_\n",
    "\n",
    "    # Create a DataFrame and sort it based on importances\n",
    "    feature_importance_df = pd.DataFrame(\n",
    "        {\"Feature\": feature_names, \"Importance\": importances}\n",
    "    )\n",
    "    feature_importance_df = feature_importance_df.sort_values(\n",
    "        by=\"Importance\", ascending=False\n",
    "    ).head(top_n)\n",
    "\n",
    "    # Plotting\n",
    "    plt.figure(figsize=(10, 6))\n",
    "    sns.barplot(\n",
    "        data=feature_importance_df, y=\"Feature\", x=\"Importance\", palette=\"viridis\"\n",
    "    )\n",
    "    plt.title(title)\n",
    "    plt.xlabel(\"Relative Importance\")\n",
    "    plt.ylabel(\"Feature\")\n",
    "    plt.tight_layout()\n",
    "\n",
    "    return plt"
   ]
  },
  {
   "cell_type": "markdown",
   "metadata": {},
   "source": [
    "### XGBoost\n"
   ]
  },
  {
   "cell_type": "code",
   "execution_count": null,
   "metadata": {},
   "outputs": [],
   "source": [
    "# Select only the relevant columns\n",
    "weather_cols = [\n",
    "    \"Dd\",\n",
    "    \"Fh\",\n",
    "    \"Ff\",\n",
    "    \"Fx\",\n",
    "    \"T\",\n",
    "    \"T10n\",\n",
    "    \"Td\",\n",
    "    \"Sq\",\n",
    "    \"Q\",\n",
    "    \"Dr\",\n",
    "    \"Rh\",\n",
    "    \"P\",\n",
    "    \"Vv\",\n",
    "    \"N\",\n",
    "    \"U\",\n",
    "    \"Ww\",\n",
    "    \"Ix\",\n",
    "    \"M\",\n",
    "    \"R\",\n",
    "    \"S\",\n",
    "    \"O\",\n",
    "    \"Y\",\n",
    "]\n",
    "group_cols = [\"Date\", \"Hour\", \"Service_Area\", \"Damage_Type\"] + weather_cols\n",
    "\n",
    "# Aggregate data\n",
    "agg_df = (\n",
    "    df.groupby(group_cols)\n",
    "    .agg(Incident_Count=pl.count(\"Incident_ID\"))\n",
    "    .sort([\"Date\", \"Hour\"])\n",
    ")\n",
    "\n",
    "\n",
    "# Drop Date and Hour columns if not needed\n",
    "agg_df = agg_df.drop([\"Date\", \"Hour\"])\n",
    "\n",
    "# Encode categorical variables using one-hot encoding\n",
    "agg_df = agg_df.to_dummies(columns=[\"Service_Area\", \"Damage_Type\"])\n",
    "\n",
    "# Splitting the features and target variable\n",
    "y = agg_df[\"Incident_Count\"]\n",
    "X = agg_df.drop(\"Incident_Count\")\n",
    "\n",
    "# Convert to Pandas DataFrame for compatibility with scikit-learn\n",
    "X_pd = X.to_pandas()\n",
    "y_pd = y.to_pandas()\n",
    "\n",
    "# Split the data\n",
    "X_train, X_test, y_train, y_test = train_test_split(\n",
    "    X_pd, y_pd, test_size=0.2, random_state=42\n",
    ")\n",
    "\n",
    "# Train XGBoost model\n",
    "model = xgb.XGBRegressor(\n",
    "    objective=\"count:poisson\"\n",
    ")  # Using Poisson regression for count data\n",
    "\n",
    "model.fit(X_train, y_train)\n",
    "\n",
    "# Make predictions and calculate metrics\n",
    "y_pred = model.predict(X_test)\n",
    "mse = mean_squared_error(y_test, y_pred)\n",
    "rmse = np.sqrt(mse)\n",
    "mae = mean_absolute_error(y_test, y_pred)\n",
    "\n",
    "# Plot feature importances\n",
    "feature_importances = model.feature_importances_\n",
    "\n",
    "\n",
    "print(feature_importances)\n",
    "plot_feature_importances(model, X_train.columns, top_n=20)\n",
    "\n",
    "\n",
    "# Set the MLflow tracking URI\n",
    "mlflow.set_tracking_uri(\"http://dsp-mlflow:5001\")\n",
    "\n",
    "# Start an MLFlow run\n",
    "with mlflow.start_run(run_name=\"Incident Prediction Model\"):\n",
    "    # Log model\n",
    "    mlflow.xgboost.log_model(model, \"xgboost-model\")\n",
    "\n",
    "    # Log parameters\n",
    "    mlflow.log_params(model.get_params())\n",
    "\n",
    "    # Log metrics\n",
    "    mlflow.log_metric(\"MSE\", mse)\n",
    "    mlflow.log_metric(\"RMSE\", rmse)\n",
    "    mlflow.log_metric(\"MAE\", mae)"
   ]
  }
 ],
 "metadata": {
  "kernelspec": {
   "display_name": "DSP-Storm-Damage-on-Urban-Areas",
   "language": "python",
   "name": "dsp"
  },
  "language_info": {
   "codemirror_mode": {
    "name": "ipython",
    "version": 3
   },
   "file_extension": ".py",
   "mimetype": "text/x-python",
   "name": "python",
   "nbconvert_exporter": "python",
   "pygments_lexer": "ipython3",
   "version": "3.10.13"
  }
 },
 "nbformat": 4,
 "nbformat_minor": 2
}
