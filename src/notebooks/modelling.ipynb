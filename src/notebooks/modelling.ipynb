{
 "cells": [
  {
   "cell_type": "markdown",
   "metadata": {},
   "source": [
    "## Modelling\n",
    "\n",
    "In this Notebook we can start modelling, with some data from our DB.\n",
    "\n",
    "- To do this we can connect with our local DB using the `duckdb` library\n",
    "- When a connection has been made we can start retrieving data from our DB.\n"
   ]
  },
  {
   "cell_type": "markdown",
   "metadata": {},
   "source": [
    "### Setup\n"
   ]
  },
  {
   "cell_type": "code",
   "execution_count": 1,
   "metadata": {},
   "outputs": [],
   "source": [
    "# Import the right libraries\n",
    "import duckdb\n",
    "import polars as pl"
   ]
  },
  {
   "cell_type": "code",
   "execution_count": 2,
   "metadata": {},
   "outputs": [],
   "source": [
    "# Use SQL magic\n",
    "%config SqlMagic.autopandas = True\n",
    "%config SqlMagic.feedback = True\n",
    "%config SqlMagic.displaycon = False\n",
    "\n",
    "%load_ext sql\n",
    "conn = duckdb.connect(database=\"../dsp-dagster/storage/DSP.db\")\n",
    "%sql conn --alias duckdb\n",
    "# %sql SHOW ALL TABLES; # shows all available tables"
   ]
  },
  {
   "cell_type": "code",
   "execution_count": 3,
   "metadata": {},
   "outputs": [],
   "source": [
    "## We can use SQL magic to retrieve data from our DB like so:\n",
    "# %sql res << SELECT * FROM joined.deployment_incident_vehicles_weather\n",
    "# res"
   ]
  },
  {
   "cell_type": "code",
   "execution_count": 4,
   "metadata": {},
   "outputs": [],
   "source": [
    "# Or the more Pythonic way:\n",
    "\n",
    "# Here we retrieve a table where KNMI weather data and Fire Department data is combined\n",
    "df = conn.execute(\n",
    "    \"\"\"\n",
    "    SELECT * FROM joined.deployment_incident_vehicles_weather \"\"\"\n",
    ").pl()\n",
    "\n",
    "# Close the database connection\n",
    "conn.close()"
   ]
  },
  {
   "cell_type": "code",
   "execution_count": 5,
   "metadata": {},
   "outputs": [
    {
     "data": {
      "text/html": [
       "<div><style>\n",
       ".dataframe > thead > tr,\n",
       ".dataframe > tbody > tr {\n",
       "  text-align: right;\n",
       "  white-space: pre-wrap;\n",
       "}\n",
       "</style>\n",
       "<small>shape: (5, 48)</small><table border=\"1\" class=\"dataframe\"><thead><tr><th>Station_code</th><th>Date</th><th>Hour</th><th>Dd</th><th>Fh</th><th>Ff</th><th>Fx</th><th>T</th><th>T10n</th><th>Td</th><th>Sq</th><th>Q</th><th>Dr</th><th>Rh</th><th>P</th><th>Vv</th><th>N</th><th>U</th><th>Ww</th><th>Ix</th><th>M</th><th>R</th><th>S</th><th>O</th><th>Y</th><th>Incident_ID</th><th>Incident_Starttime</th><th>Incident_Endtime</th><th>Incident_Duration</th><th>Incident_Priority</th><th>Service_Area</th><th>Municipality</th><th>Damage_Type</th><th>LON</th><th>LAT</th><th>Incident_Starttime_Hour</th><th>Incident_Endtime_Hour</th><th>Incident_Duration_Hour</th><th>Incident_Starttime_Minute</th><th>Incident_Endtime_Minute</th><th>Incident_Duration_Minute</th><th>Deployment_ID</th><th>Vehicle_Type</th><th>Vehicle_Role</th><th>Fire_Station</th><th>Fire_Station_Service_Status</th><th>Driving_Time_To_Incident</th><th>Vehicle</th></tr><tr><td>i64</td><td>date</td><td>i64</td><td>i64</td><td>i64</td><td>i64</td><td>i64</td><td>i64</td><td>i64</td><td>i64</td><td>i64</td><td>i64</td><td>i64</td><td>i64</td><td>i64</td><td>i64</td><td>i64</td><td>i64</td><td>i64</td><td>i64</td><td>i64</td><td>i64</td><td>i64</td><td>i64</td><td>i64</td><td>i64</td><td>time</td><td>time</td><td>time</td><td>i64</td><td>str</td><td>str</td><td>str</td><td>f64</td><td>f64</td><td>i8</td><td>i8</td><td>i8</td><td>i8</td><td>i8</td><td>i8</td><td>i64</td><td>str</td><td>str</td><td>str</td><td>str</td><td>str</td><td>str</td></tr></thead><tbody><tr><td>240</td><td>2005-01-01</td><td>1</td><td>260</td><td>40</td><td>30</td><td>60</td><td>68</td><td>null</td><td>57</td><td>0</td><td>0</td><td>0</td><td>0</td><td>10246</td><td>57</td><td>8</td><td>93</td><td>10</td><td>7</td><td>0</td><td>0</td><td>0</td><td>0</td><td>0</td><td>null</td><td>null</td><td>null</td><td>null</td><td>null</td><td>null</td><td>null</td><td>null</td><td>null</td><td>null</td><td>null</td><td>null</td><td>null</td><td>null</td><td>null</td><td>null</td><td>null</td><td>null</td><td>null</td><td>null</td><td>null</td><td>null</td><td>null</td></tr><tr><td>240</td><td>2005-01-01</td><td>2</td><td>230</td><td>30</td><td>30</td><td>60</td><td>65</td><td>null</td><td>52</td><td>0</td><td>0</td><td>0</td><td>0</td><td>10244</td><td>58</td><td>8</td><td>91</td><td>10</td><td>7</td><td>0</td><td>0</td><td>0</td><td>0</td><td>0</td><td>null</td><td>null</td><td>null</td><td>null</td><td>null</td><td>null</td><td>null</td><td>null</td><td>null</td><td>null</td><td>null</td><td>null</td><td>null</td><td>null</td><td>null</td><td>null</td><td>null</td><td>null</td><td>null</td><td>null</td><td>null</td><td>null</td><td>null</td></tr><tr><td>240</td><td>2005-01-01</td><td>3</td><td>230</td><td>40</td><td>30</td><td>50</td><td>43</td><td>null</td><td>34</td><td>0</td><td>0</td><td>0</td><td>0</td><td>10241</td><td>40</td><td>1</td><td>94</td><td>10</td><td>7</td><td>0</td><td>0</td><td>0</td><td>0</td><td>0</td><td>null</td><td>null</td><td>null</td><td>null</td><td>null</td><td>null</td><td>null</td><td>null</td><td>null</td><td>null</td><td>null</td><td>null</td><td>null</td><td>null</td><td>null</td><td>null</td><td>null</td><td>null</td><td>null</td><td>null</td><td>null</td><td>null</td><td>null</td></tr><tr><td>240</td><td>2005-01-01</td><td>4</td><td>220</td><td>40</td><td>40</td><td>50</td><td>38</td><td>null</td><td>32</td><td>0</td><td>0</td><td>0</td><td>0</td><td>10239</td><td>12</td><td>0</td><td>96</td><td>10</td><td>7</td><td>0</td><td>0</td><td>0</td><td>0</td><td>0</td><td>null</td><td>null</td><td>null</td><td>null</td><td>null</td><td>null</td><td>null</td><td>null</td><td>null</td><td>null</td><td>null</td><td>null</td><td>null</td><td>null</td><td>null</td><td>null</td><td>null</td><td>null</td><td>null</td><td>null</td><td>null</td><td>null</td><td>null</td></tr><tr><td>240</td><td>2005-01-01</td><td>5</td><td>230</td><td>40</td><td>40</td><td>50</td><td>38</td><td>null</td><td>34</td><td>0</td><td>0</td><td>0</td><td>0</td><td>10237</td><td>14</td><td>3</td><td>97</td><td>10</td><td>7</td><td>0</td><td>0</td><td>0</td><td>0</td><td>0</td><td>null</td><td>null</td><td>null</td><td>null</td><td>null</td><td>null</td><td>null</td><td>null</td><td>null</td><td>null</td><td>null</td><td>null</td><td>null</td><td>null</td><td>null</td><td>null</td><td>null</td><td>null</td><td>null</td><td>null</td><td>null</td><td>null</td><td>null</td></tr></tbody></table></div>"
      ],
      "text/plain": [
       "shape: (5, 48)\n",
       "┌──────────────┬────────────┬──────┬─────┬───┬──────────────┬──────────────┬─────────────┬─────────┐\n",
       "│ Station_code ┆ Date       ┆ Hour ┆ Dd  ┆ … ┆ Fire_Station ┆ Fire_Station ┆ Driving_Tim ┆ Vehicle │\n",
       "│ ---          ┆ ---        ┆ ---  ┆ --- ┆   ┆ ---          ┆ _Service_Sta ┆ e_To_Incide ┆ ---     │\n",
       "│ i64          ┆ date       ┆ i64  ┆ i64 ┆   ┆ str          ┆ tus          ┆ nt          ┆ str     │\n",
       "│              ┆            ┆      ┆     ┆   ┆              ┆ ---          ┆ ---         ┆         │\n",
       "│              ┆            ┆      ┆     ┆   ┆              ┆ str          ┆ str         ┆         │\n",
       "╞══════════════╪════════════╪══════╪═════╪═══╪══════════════╪══════════════╪═════════════╪═════════╡\n",
       "│ 240          ┆ 2005-01-01 ┆ 1    ┆ 260 ┆ … ┆ null         ┆ null         ┆ null        ┆ null    │\n",
       "│ 240          ┆ 2005-01-01 ┆ 2    ┆ 230 ┆ … ┆ null         ┆ null         ┆ null        ┆ null    │\n",
       "│ 240          ┆ 2005-01-01 ┆ 3    ┆ 230 ┆ … ┆ null         ┆ null         ┆ null        ┆ null    │\n",
       "│ 240          ┆ 2005-01-01 ┆ 4    ┆ 220 ┆ … ┆ null         ┆ null         ┆ null        ┆ null    │\n",
       "│ 240          ┆ 2005-01-01 ┆ 5    ┆ 230 ┆ … ┆ null         ┆ null         ┆ null        ┆ null    │\n",
       "└──────────────┴────────────┴──────┴─────┴───┴──────────────┴──────────────┴─────────────┴─────────┘"
      ]
     },
     "execution_count": 5,
     "metadata": {},
     "output_type": "execute_result"
    }
   ],
   "source": [
    "df.head()"
   ]
  },
  {
   "cell_type": "markdown",
   "metadata": {},
   "source": [
    "### Feature Selection\n"
   ]
  },
  {
   "cell_type": "code",
   "execution_count": 6,
   "metadata": {},
   "outputs": [
    {
     "data": {
      "text/html": [
       "<div><style>\n",
       ".dataframe > thead > tr,\n",
       ".dataframe > tbody > tr {\n",
       "  text-align: right;\n",
       "  white-space: pre-wrap;\n",
       "}\n",
       "</style>\n",
       "<small>shape: (5, 48)</small><table border=\"1\" class=\"dataframe\"><thead><tr><th>Station_code</th><th>Date</th><th>Hour</th><th>Dd</th><th>Fh</th><th>Ff</th><th>Fx</th><th>T</th><th>T10n</th><th>Td</th><th>Sq</th><th>Q</th><th>Dr</th><th>Rh</th><th>P</th><th>Vv</th><th>N</th><th>U</th><th>Ww</th><th>Ix</th><th>M</th><th>R</th><th>S</th><th>O</th><th>Y</th><th>Incident_ID</th><th>Incident_Starttime</th><th>Incident_Endtime</th><th>Incident_Duration</th><th>Incident_Priority</th><th>Service_Area</th><th>Municipality</th><th>Damage_Type</th><th>LON</th><th>LAT</th><th>Incident_Starttime_Hour</th><th>Incident_Endtime_Hour</th><th>Incident_Duration_Hour</th><th>Incident_Starttime_Minute</th><th>Incident_Endtime_Minute</th><th>Incident_Duration_Minute</th><th>Deployment_ID</th><th>Vehicle_Type</th><th>Vehicle_Role</th><th>Fire_Station</th><th>Fire_Station_Service_Status</th><th>Driving_Time_To_Incident</th><th>Vehicle</th></tr><tr><td>i64</td><td>date</td><td>i64</td><td>i64</td><td>i64</td><td>i64</td><td>i64</td><td>i64</td><td>i64</td><td>i64</td><td>i64</td><td>i64</td><td>i64</td><td>i64</td><td>i64</td><td>i64</td><td>i64</td><td>i64</td><td>i64</td><td>i64</td><td>i64</td><td>i64</td><td>i64</td><td>i64</td><td>i64</td><td>i64</td><td>time</td><td>time</td><td>time</td><td>i64</td><td>str</td><td>str</td><td>str</td><td>f64</td><td>f64</td><td>i8</td><td>i8</td><td>i8</td><td>i8</td><td>i8</td><td>i8</td><td>i64</td><td>str</td><td>str</td><td>str</td><td>str</td><td>str</td><td>str</td></tr></thead><tbody><tr><td>240</td><td>2005-04-07</td><td>1</td><td>210</td><td>80</td><td>80</td><td>120</td><td>77</td><td>null</td><td>52</td><td>0</td><td>0</td><td>0</td><td>0</td><td>10024</td><td>70</td><td>0</td><td>84</td><td>null</td><td>5</td><td>0</td><td>0</td><td>0</td><td>0</td><td>0</td><td>11333</td><td>12:09:51</td><td>13:38:19</td><td>01:28:28</td><td>3</td><td>&quot;IJsbrand&quot;</td><td>&quot;AMSTERDAM&quot;</td><td>&quot;Unknown&quot;</td><td>4.887098</td><td>52.418767</td><td>12</td><td>13</td><td>1</td><td>9</td><td>38</td><td>28</td><td>94</td><td>&quot;TS&quot;</td><td>&quot;TS&quot;</td><td>&quot;IJsbrand&quot;</td><td>&quot;Professional&quot;</td><td>&quot;NULL&quot;</td><td>&quot;Tankautospuit&quot;</td></tr><tr><td>240</td><td>2005-04-07</td><td>1</td><td>210</td><td>80</td><td>80</td><td>120</td><td>77</td><td>null</td><td>52</td><td>0</td><td>0</td><td>0</td><td>0</td><td>10024</td><td>70</td><td>0</td><td>84</td><td>null</td><td>5</td><td>0</td><td>0</td><td>0</td><td>0</td><td>0</td><td>11333</td><td>12:09:51</td><td>13:38:19</td><td>01:28:28</td><td>3</td><td>&quot;IJsbrand&quot;</td><td>&quot;AMSTERDAM&quot;</td><td>&quot;Unknown&quot;</td><td>4.887098</td><td>52.418767</td><td>12</td><td>13</td><td>1</td><td>9</td><td>38</td><td>28</td><td>95</td><td>&quot;TS&quot;</td><td>&quot;TS&quot;</td><td>&quot;Zebra&quot;</td><td>&quot;Professional&quot;</td><td>&quot;808&quot;</td><td>&quot;Tankautospuit&quot;</td></tr><tr><td>240</td><td>2005-04-07</td><td>1</td><td>210</td><td>80</td><td>80</td><td>120</td><td>77</td><td>null</td><td>52</td><td>0</td><td>0</td><td>0</td><td>0</td><td>10024</td><td>70</td><td>0</td><td>84</td><td>null</td><td>5</td><td>0</td><td>0</td><td>0</td><td>0</td><td>0</td><td>11337</td><td>12:53:52</td><td>13:57:46</td><td>01:03:54</td><td>2</td><td>&quot;Pieter&quot;</td><td>&quot;AMSTERDAM&quot;</td><td>&quot;Tree&quot;</td><td>4.826198</td><td>52.352551</td><td>12</td><td>13</td><td>1</td><td>53</td><td>57</td><td>3</td><td>97</td><td>&quot;RV&quot;</td><td>&quot;RV&quot;</td><td>&quot;Teunis&quot;</td><td>&quot;Professional&quot;</td><td>&quot;753&quot;</td><td>&quot;HV met kraan&quot;</td></tr><tr><td>240</td><td>2005-04-07</td><td>1</td><td>210</td><td>80</td><td>80</td><td>120</td><td>77</td><td>null</td><td>52</td><td>0</td><td>0</td><td>0</td><td>0</td><td>10024</td><td>70</td><td>0</td><td>84</td><td>null</td><td>5</td><td>0</td><td>0</td><td>0</td><td>0</td><td>0</td><td>11337</td><td>12:53:52</td><td>13:57:46</td><td>01:03:54</td><td>2</td><td>&quot;Pieter&quot;</td><td>&quot;AMSTERDAM&quot;</td><td>&quot;Tree&quot;</td><td>4.826198</td><td>52.352551</td><td>12</td><td>13</td><td>1</td><td>53</td><td>57</td><td>3</td><td>98</td><td>&quot;TS&quot;</td><td>&quot;TS&quot;</td><td>&quot;Osdorp&quot;</td><td>&quot;Professional&quot;</td><td>&quot;633&quot;</td><td>&quot;Tankautospuit&quot;</td></tr><tr><td>240</td><td>2005-04-07</td><td>1</td><td>210</td><td>80</td><td>80</td><td>120</td><td>77</td><td>null</td><td>52</td><td>0</td><td>0</td><td>0</td><td>0</td><td>10024</td><td>70</td><td>0</td><td>84</td><td>null</td><td>5</td><td>0</td><td>0</td><td>0</td><td>0</td><td>0</td><td>11337</td><td>12:53:52</td><td>13:57:46</td><td>01:03:54</td><td>2</td><td>&quot;Pieter&quot;</td><td>&quot;AMSTERDAM&quot;</td><td>&quot;Tree&quot;</td><td>4.826198</td><td>52.352551</td><td>12</td><td>13</td><td>1</td><td>53</td><td>57</td><td>3</td><td>98</td><td>&quot;TS&quot;</td><td>&quot;TS&quot;</td><td>&quot;Osdorp&quot;</td><td>&quot;Professional&quot;</td><td>&quot;633&quot;</td><td>&quot;Tankautospuit&quot;</td></tr></tbody></table></div>"
      ],
      "text/plain": [
       "shape: (5, 48)\n",
       "┌─────────────┬────────────┬──────┬─────┬───┬─────────────┬─────────────┬─────────────┬────────────┐\n",
       "│ Station_cod ┆ Date       ┆ Hour ┆ Dd  ┆ … ┆ Fire_Statio ┆ Fire_Statio ┆ Driving_Tim ┆ Vehicle    │\n",
       "│ e           ┆ ---        ┆ ---  ┆ --- ┆   ┆ n           ┆ n_Service_S ┆ e_To_Incide ┆ ---        │\n",
       "│ ---         ┆ date       ┆ i64  ┆ i64 ┆   ┆ ---         ┆ tatus       ┆ nt          ┆ str        │\n",
       "│ i64         ┆            ┆      ┆     ┆   ┆ str         ┆ ---         ┆ ---         ┆            │\n",
       "│             ┆            ┆      ┆     ┆   ┆             ┆ str         ┆ str         ┆            │\n",
       "╞═════════════╪════════════╪══════╪═════╪═══╪═════════════╪═════════════╪═════════════╪════════════╡\n",
       "│ 240         ┆ 2005-04-07 ┆ 1    ┆ 210 ┆ … ┆ IJsbrand    ┆ Professiona ┆ NULL        ┆ Tankautosp │\n",
       "│             ┆            ┆      ┆     ┆   ┆             ┆ l           ┆             ┆ uit        │\n",
       "│ 240         ┆ 2005-04-07 ┆ 1    ┆ 210 ┆ … ┆ Zebra       ┆ Professiona ┆ 808         ┆ Tankautosp │\n",
       "│             ┆            ┆      ┆     ┆   ┆             ┆ l           ┆             ┆ uit        │\n",
       "│ 240         ┆ 2005-04-07 ┆ 1    ┆ 210 ┆ … ┆ Teunis      ┆ Professiona ┆ 753         ┆ HV met     │\n",
       "│             ┆            ┆      ┆     ┆   ┆             ┆ l           ┆             ┆ kraan      │\n",
       "│ 240         ┆ 2005-04-07 ┆ 1    ┆ 210 ┆ … ┆ Osdorp      ┆ Professiona ┆ 633         ┆ Tankautosp │\n",
       "│             ┆            ┆      ┆     ┆   ┆             ┆ l           ┆             ┆ uit        │\n",
       "│ 240         ┆ 2005-04-07 ┆ 1    ┆ 210 ┆ … ┆ Osdorp      ┆ Professiona ┆ 633         ┆ Tankautosp │\n",
       "│             ┆            ┆      ┆     ┆   ┆             ┆ l           ┆             ┆ uit        │\n",
       "└─────────────┴────────────┴──────┴─────┴───┴─────────────┴─────────────┴─────────────┴────────────┘"
      ]
     },
     "metadata": {},
     "output_type": "display_data"
    },
    {
     "name": "stdout",
     "output_type": "stream",
     "text": [
      "['Station_code', 'Date', 'Hour', 'Dd', 'Fh', 'Ff', 'Fx', 'T', 'T10n', 'Td', 'Sq', 'Q', 'Dr', 'Rh', 'P', 'Vv', 'N', 'U', 'Ww', 'Ix', 'M', 'R', 'S', 'O', 'Y', 'Incident_ID', 'Incident_Starttime', 'Incident_Endtime', 'Incident_Duration', 'Incident_Priority', 'Service_Area', 'Municipality', 'Damage_Type', 'LON', 'LAT', 'Incident_Starttime_Hour', 'Incident_Endtime_Hour', 'Incident_Duration_Hour', 'Incident_Starttime_Minute', 'Incident_Endtime_Minute', 'Incident_Duration_Minute', 'Deployment_ID', 'Vehicle_Type', 'Vehicle_Role', 'Fire_Station', 'Fire_Station_Service_Status', 'Driving_Time_To_Incident', 'Vehicle']\n"
     ]
    }
   ],
   "source": [
    "# Select all rows where inicident happended\n",
    "selected_df = df.filter(pl.col(\"Incident_ID\").is_not_null())\n",
    "display(selected_df.head())\n",
    "print(selected_df.columns)"
   ]
  },
  {
   "cell_type": "code",
   "execution_count": null,
   "metadata": {},
   "outputs": [],
   "source": []
  },
  {
   "cell_type": "code",
   "execution_count": null,
   "metadata": {},
   "outputs": [],
   "source": []
  }
 ],
 "metadata": {
  "kernelspec": {
   "display_name": "Python 3",
   "language": "python",
   "name": "python3"
  },
  "language_info": {
   "codemirror_mode": {
    "name": "ipython",
    "version": 3
   },
   "file_extension": ".py",
   "mimetype": "text/x-python",
   "name": "python",
   "nbconvert_exporter": "python",
   "pygments_lexer": "ipython3",
   "version": "3.10.13"
  }
 },
 "nbformat": 4,
 "nbformat_minor": 2
}
