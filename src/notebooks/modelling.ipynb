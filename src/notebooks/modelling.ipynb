{
 "cells": [
  {
   "cell_type": "markdown",
   "metadata": {},
   "source": [
    "## Modelling\n",
    "\n",
    "In this Notebook we can start modelling, with some data from our DB.\n",
    "\n",
    "- To do this we can connect with our local DB using the `duckdb` library\n",
    "- When a connection has been made we can start retrieving data from our DB.\n"
   ]
  },
  {
   "cell_type": "markdown",
   "metadata": {},
   "source": [
    "### Setup\n"
   ]
  },
  {
   "cell_type": "code",
   "execution_count": null,
   "metadata": {},
   "outputs": [],
   "source": [
    "import duckdb\n",
    "import pandas as pd\n",
    "import matplotlib.pyplot as plt\n",
    "import seaborn as sns"
   ]
  },
  {
   "cell_type": "code",
   "execution_count": null,
   "metadata": {},
   "outputs": [],
   "source": [
    "%load_ext sql\n",
    "conn = duckdb.connect(database=\"../dsp-dagster/data_systems_project.duckdb\")\n",
    "%sql conn --alias duckdb"
   ]
  },
  {
   "cell_type": "code",
   "execution_count": null,
   "metadata": {},
   "outputs": [],
   "source": [
    "%sql SHOW ALL TABLES; # shows all available tables"
   ]
  },
  {
   "cell_type": "code",
   "execution_count": null,
   "metadata": {},
   "outputs": [],
   "source": [
    "## We can use SQL magic to retrieve data from our DB like so:\n",
    "# %sql res << SELECT * FROM joined.deployment_incident_vehicles_weather\n",
    "# res"
   ]
  },
  {
   "cell_type": "code",
   "execution_count": null,
   "metadata": {},
   "outputs": [],
   "source": [
    "# Or the more Pythonic way:\n",
    "\n",
    "# Here we retrieve a table where KNMI weather data and Fire Department data is combined\n",
    "# df = conn.execute(\n",
    "#     \"\"\"\n",
    "#     SELECT * FROM joined.incidents_buurten \"\"\"\n",
    "# ).pl()\n",
    "\n",
    "# Close the database connection\n",
    "conn.close()"
   ]
  },
  {
   "cell_type": "code",
   "execution_count": null,
   "metadata": {},
   "outputs": [],
   "source": [
    "# df.head()"
   ]
  },
  {
   "cell_type": "code",
   "execution_count": null,
   "metadata": {},
   "outputs": [],
   "source": [
    "def plot_feature_importances(model, feature_names, top_n=20, title=\"Feature Importances\"):\n",
    "    \"\"\"\n",
    "    Plots the top n feature importances in a horizontal bar chart.\n",
    "\n",
    "    :param model: The trained model\n",
    "    :param feature_names: List of feature names\n",
    "    :param top_n: Number of top features to display\n",
    "    :param title: Title of the plot\n",
    "    \"\"\"\n",
    "    # Extract feature importances\n",
    "    importances = model.feature_importances_\n",
    "\n",
    "    # Create a DataFrame and sort it based on importances\n",
    "    feature_importance_df = pd.DataFrame(\n",
    "        {\"Feature\": feature_names, \"Importance\": importances}\n",
    "    )\n",
    "    feature_importance_df = feature_importance_df.sort_values(\n",
    "        by=\"Importance\", ascending=False\n",
    "    ).head(top_n)\n",
    "\n",
    "    # Plotting\n",
    "    plt.figure(figsize=(10, 6))\n",
    "    sns.barplot(\n",
    "        data=feature_importance_df, y=\"Feature\", x=\"Importance\", palette=\"viridis\"\n",
    "    )\n",
    "    plt.title(title)\n",
    "    plt.xlabel(\"Relative Importance\")\n",
    "    plt.ylabel(\"Feature\")\n",
    "    plt.tight_layout()\n",
    "\n",
    "    return plt"
   ]
  },
  {
   "cell_type": "markdown",
   "metadata": {},
   "source": [
    "### XGBoost\n"
   ]
  },
  {
   "cell_type": "code",
   "execution_count": null,
   "metadata": {},
   "outputs": [],
   "source": [
    "# Select only the relevant columns\n",
    "weather_cols = [\n",
    "    \"Dd\",\n",
    "    \"Fh\",\n",
    "    \"Ff\",\n",
    "    \"Fx\",\n",
    "    \"T\",\n",
    "    \"T10n\",\n",
    "    \"Td\",\n",
    "    \"Sq\",\n",
    "    \"Q\",\n",
    "    \"Dr\",\n",
    "    \"Rh\",\n",
    "    \"P\",\n",
    "    \"Vv\",\n",
    "    \"N\",\n",
    "    \"U\",\n",
    "    \"Ww\",\n",
    "    \"Ix\",\n",
    "    \"M\",\n",
    "    \"R\",\n",
    "    \"S\",\n",
    "    \"O\",\n",
    "    \"Y\",\n",
    "]\n",
    "group_cols = [\"Date\", \"Hour\", \"Service_Area\", \"Damage_Type\"] + weather_cols\n",
    "\n",
    "# Aggregate data\n",
    "agg_df = (\n",
    "    df.groupby(group_cols)\n",
    "    .agg(Incident_Count=pl.count(\"Incident_ID\"))\n",
    "    .sort([\"Date\", \"Hour\"])\n",
    ")\n",
    "\n",
    "\n",
    "# Drop Date and Hour columns if not needed\n",
    "agg_df = agg_df.drop([\"Date\", \"Hour\"])\n",
    "\n",
    "# Encode categorical variables using one-hot encoding\n",
    "agg_df = agg_df.to_dummies(columns=[\"Service_Area\", \"Damage_Type\"])\n",
    "\n",
    "# Splitting the features and target variable\n",
    "y = agg_df[\"Incident_Count\"]\n",
    "X = agg_df.drop(\"Incident_Count\")\n",
    "\n",
    "# Convert to Pandas DataFrame for compatibility with scikit-learn\n",
    "X_pd = X.to_pandas()\n",
    "y_pd = y.to_pandas()\n",
    "\n",
    "# Split the data\n",
    "X_train, X_test, y_train, y_test = train_test_split(\n",
    "    X_pd, y_pd, test_size=0.2, random_state=42\n",
    ")\n",
    "\n",
    "# Train XGBoost model\n",
    "model = xgb.XGBRegressor(\n",
    "    objective=\"count:poisson\"\n",
    ")  # Using Poisson regression for count data\n",
    "\n",
    "model.fit(X_train, y_train)\n",
    "\n",
    "# Make predictions and calculate metrics\n",
    "y_pred = model.predict(X_test)\n",
    "mse = mean_squared_error(y_test, y_pred)\n",
    "rmse = np.sqrt(mse)\n",
    "mae = mean_absolute_error(y_test, y_pred)\n",
    "\n",
    "# Plot feature importances\n",
    "feature_importances = model.feature_importances_\n",
    "\n",
    "print(feature_importances)\n",
    "plot_feature_importances(model, X_train.columns, top_n=20)\n",
    "\n",
    "\n",
    "# Set the MLflow tracking URI\n",
    "mlflow.set_tracking_uri(\"http://dsp-mlflow:5001\")\n",
    "\n",
    "# Start an MLFlow run\n",
    "with mlflow.start_run(run_name=\"Incident Prediction Model\"):\n",
    "    # Log model\n",
    "    mlflow.xgboost.log_model(model, \"xgboost-model\")\n",
    "\n",
    "    # Log parameters\n",
    "    mlflow.log_params(model.get_params())\n",
    "\n",
    "    # Log metrics\n",
    "    mlflow.log_metric(\"MSE\", mse)\n",
    "    mlflow.log_metric(\"RMSE\", rmse)\n",
    "    mlflow.log_metric(\"MAE\", mae)"
   ]
  }
 ],
 "metadata": {
  "kernelspec": {
   "display_name": "poetry",
   "language": "python",
   "name": "python3"
  },
  "language_info": {
   "codemirror_mode": {
    "name": "ipython",
    "version": 3
   },
   "file_extension": ".py",
   "mimetype": "text/x-python",
   "name": "python",
   "nbconvert_exporter": "python",
   "pygments_lexer": "ipython3",
   "version": "3.10.13"
  }
 },
 "nbformat": 4,
 "nbformat_minor": 2
}
