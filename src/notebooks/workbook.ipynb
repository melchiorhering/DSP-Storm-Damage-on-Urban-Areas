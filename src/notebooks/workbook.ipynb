{
 "cells": [
  {
   "cell_type": "markdown",
   "metadata": {},
   "source": [
    "# Testing\n",
    "\n",
    "In this notebook you can explore and test the resulting database tables from our Dagster ETL process.\n",
    "Here you can analyze\n"
   ]
  },
  {
   "cell_type": "code",
   "execution_count": 37,
   "metadata": {
    "tags": []
   },
   "outputs": [],
   "source": [
    "import duckdb\n",
    "import polars as pl\n",
    "\n",
    "# from IPython import display\n",
    "import geopandas as gpd\n",
    "from shapely import wkt"
   ]
  },
  {
   "cell_type": "markdown",
   "metadata": {},
   "source": [
    "### Create Database Connection\n"
   ]
  },
  {
   "cell_type": "code",
   "execution_count": 38,
   "metadata": {},
   "outputs": [
    {
     "name": "stdout",
     "output_type": "stream",
     "text": [
      "The sql extension is already loaded. To reload it, use:\n",
      "  %reload_ext sql\n"
     ]
    }
   ],
   "source": [
    "%load_ext sql\n",
    "conn = duckdb.connect(database=\"../dsp-dagster/data_systems_project.duckdb\")\n",
    "%sql conn --alias duckdb"
   ]
  },
  {
   "cell_type": "code",
   "execution_count": 39,
   "metadata": {},
   "outputs": [
    {
     "data": {
      "text/html": [
       "<div>\n",
       "<style scoped>\n",
       "    .dataframe tbody tr th:only-of-type {\n",
       "        vertical-align: middle;\n",
       "    }\n",
       "\n",
       "    .dataframe tbody tr th {\n",
       "        vertical-align: top;\n",
       "    }\n",
       "\n",
       "    .dataframe thead th {\n",
       "        text-align: right;\n",
       "    }\n",
       "</style>\n",
       "<table border=\"1\" class=\"dataframe\">\n",
       "  <thead>\n",
       "    <tr style=\"text-align: right;\">\n",
       "      <th></th>\n",
       "      <th>database</th>\n",
       "      <th>schema</th>\n",
       "      <th>name</th>\n",
       "      <th>column_names</th>\n",
       "      <th>column_types</th>\n",
       "      <th>temporary</th>\n",
       "    </tr>\n",
       "  </thead>\n",
       "  <tbody>\n",
       "    <tr>\n",
       "      <th>0</th>\n",
       "      <td>data_systems_project</td>\n",
       "      <td>public</td>\n",
       "      <td>fire_stations_and_vehicles</td>\n",
       "      <td>[Fire_Station, Vehicle, Vehicle_Type]</td>\n",
       "      <td>[VARCHAR, VARCHAR, VARCHAR]</td>\n",
       "      <td>False</td>\n",
       "    </tr>\n",
       "    <tr>\n",
       "      <th>1</th>\n",
       "      <td>data_systems_project</td>\n",
       "      <td>public</td>\n",
       "      <td>grond_data</td>\n",
       "      <td>[geometry, id, locatie, amNummer, typeOnderzoe...</td>\n",
       "      <td>[VARCHAR, BIGINT, VARCHAR, VARCHAR, VARCHAR, V...</td>\n",
       "      <td>False</td>\n",
       "    </tr>\n",
       "    <tr>\n",
       "      <th>2</th>\n",
       "      <td>data_systems_project</td>\n",
       "      <td>public</td>\n",
       "      <td>service_areas</td>\n",
       "      <td>[H_Verzorgingsgebied_ID, Verzorgingsgebied, LA...</td>\n",
       "      <td>[BIGINT, VARCHAR, DOUBLE, DOUBLE, VARCHAR]</td>\n",
       "      <td>False</td>\n",
       "    </tr>\n",
       "    <tr>\n",
       "      <th>3</th>\n",
       "      <td>data_systems_project</td>\n",
       "      <td>public</td>\n",
       "      <td>storm_deployments</td>\n",
       "      <td>[Deployment_ID, Incident_ID, Vehicle_Type, Veh...</td>\n",
       "      <td>[BIGINT, BIGINT, VARCHAR, VARCHAR, VARCHAR, VA...</td>\n",
       "      <td>False</td>\n",
       "    </tr>\n",
       "    <tr>\n",
       "      <th>4</th>\n",
       "      <td>data_systems_project</td>\n",
       "      <td>public</td>\n",
       "      <td>storm_incidents</td>\n",
       "      <td>[Incident_ID, Date, Incident_Starttime, Incide...</td>\n",
       "      <td>[BIGINT, TIMESTAMP_MS, TIME, TIME, TIME, DOUBL...</td>\n",
       "      <td>False</td>\n",
       "    </tr>\n",
       "    <tr>\n",
       "      <th>5</th>\n",
       "      <td>data_systems_project</td>\n",
       "      <td>public</td>\n",
       "      <td>tree_data</td>\n",
       "      <td>[geometry, id, gbdBuurtId, typeBeheerderPlus, ...</td>\n",
       "      <td>[VARCHAR, BIGINT, VARCHAR, VARCHAR, VARCHAR, V...</td>\n",
       "      <td>False</td>\n",
       "    </tr>\n",
       "  </tbody>\n",
       "</table>\n",
       "</div>"
      ],
      "text/plain": [
       "               database  schema                        name  \\\n",
       "0  data_systems_project  public  fire_stations_and_vehicles   \n",
       "1  data_systems_project  public                  grond_data   \n",
       "2  data_systems_project  public               service_areas   \n",
       "3  data_systems_project  public           storm_deployments   \n",
       "4  data_systems_project  public             storm_incidents   \n",
       "5  data_systems_project  public                   tree_data   \n",
       "\n",
       "                                        column_names  \\\n",
       "0              [Fire_Station, Vehicle, Vehicle_Type]   \n",
       "1  [geometry, id, locatie, amNummer, typeOnderzoe...   \n",
       "2  [H_Verzorgingsgebied_ID, Verzorgingsgebied, LA...   \n",
       "3  [Deployment_ID, Incident_ID, Vehicle_Type, Veh...   \n",
       "4  [Incident_ID, Date, Incident_Starttime, Incide...   \n",
       "5  [geometry, id, gbdBuurtId, typeBeheerderPlus, ...   \n",
       "\n",
       "                                        column_types  temporary  \n",
       "0                        [VARCHAR, VARCHAR, VARCHAR]      False  \n",
       "1  [VARCHAR, BIGINT, VARCHAR, VARCHAR, VARCHAR, V...      False  \n",
       "2         [BIGINT, VARCHAR, DOUBLE, DOUBLE, VARCHAR]      False  \n",
       "3  [BIGINT, BIGINT, VARCHAR, VARCHAR, VARCHAR, VA...      False  \n",
       "4  [BIGINT, TIMESTAMP_MS, TIME, TIME, TIME, DOUBL...      False  \n",
       "5  [VARCHAR, BIGINT, VARCHAR, VARCHAR, VARCHAR, V...      False  "
      ]
     },
     "execution_count": 39,
     "metadata": {},
     "output_type": "execute_result"
    }
   ],
   "source": [
    "%sql SHOW ALL TABLES; # shows all available tables"
   ]
  },
  {
   "cell_type": "markdown",
   "metadata": {},
   "source": [
    "##### Drop Tables\n"
   ]
  },
  {
   "cell_type": "code",
   "execution_count": 40,
   "metadata": {},
   "outputs": [
    {
     "name": "stderr",
     "output_type": "stream",
     "text": [
      "RuntimeError: If using snippets, you may pass the --with argument explicitly.\n",
      "For more details please refer: https://jupysql.ploomber.io/en/latest/compose.html#with-argument\n",
      "\n",
      "\n",
      "Original error message from DB driver:\n",
      "Catalog Error: Table with name buurten_incidents_trees does not exist!\n",
      "Did you mean \"buurten_incidents\"?\n",
      "\n",
      "If you need help solving this issue, send us a message: https://ploomber.io/community\n"
     ]
    }
   ],
   "source": [
    "# %sql DROP TABLE joined.incident_deployments_vehicles_weather;\n",
    "# %sql DROP TABLE joined.incident_deployments_vehicles_wijken;\n",
    "# %sql DROP TABLE joined.incident_deployments_vehicles;\n",
    "# %sql DROP TABLE joined.incidents_buurten;\n",
    "# %sql DROP TABLE joined.buurten_trees;\n",
    "# %sql DROP TABLE cleaned.cleaned_storm_incidents;\n",
    "# %sql DROP TABLE joined.buurten_incidents_trees;"
   ]
  },
  {
   "cell_type": "markdown",
   "metadata": {},
   "source": [
    "##### Retrieve Tables as Polars DataFrame\n"
   ]
  },
  {
   "cell_type": "code",
   "execution_count": 36,
   "metadata": {},
   "outputs": [],
   "source": [
    "buurten_trees = conn.execute(\n",
    "    \"\"\"\n",
    "    SELECT * FROM joined.buurten_trees\n",
    "    \"\"\"\n",
    ").pl()\n",
    "\n",
    "buurten_incidents = conn.execute(\n",
    "    \"\"\"\n",
    "    SELECT * FROM joined.buurten_incidents\n",
    "    \"\"\"\n",
    ").pl()\n",
    "\n",
    "# Close the database connection\n",
    "conn.close()"
   ]
  },
  {
   "cell_type": "code",
   "execution_count": 25,
   "metadata": {},
   "outputs": [],
   "source": [
    "def convert_to_geodf(polars_df: pl.DataFrame) -> gpd.GeoDataFrame:\n",
    "    \"\"\"\n",
    "    Convert a Polars DataFrame to a GeoDataFrame using WKB or WKT transformation.\n",
    "    \"\"\"\n",
    "\n",
    "    # Convert Polars DataFrame to Pandas DataFrame\n",
    "    df = polars_df.to_pandas()\n",
    "\n",
    "    # Convert geometry strings back to geometry objects\n",
    "    if \"geometry\" in df.columns:\n",
    "        df[\"geometry\"] = df[\"geometry\"].apply(wkt.loads)\n",
    "\n",
    "    else:\n",
    "        raise ValueError(\"No 'geometry' column found in the DataFrame\")\n",
    "\n",
    "    # Convert back to GeoDataFrame\n",
    "    return gpd.GeoDataFrame(df, geometry=\"geometry\", crs=\"EPSG:4326\")\n",
    "\n",
    "\n",
    "def convert_to_polars(gdf: gpd.GeoDataFrame) -> pl.DataFrame:\n",
    "    \"\"\"\n",
    "    Convert a GeoDataFrame to a Polars DataFrame, converting geometries to WKB strings.\n",
    "    \"\"\"\n",
    "    # If geometry conversion is necessary, uncomment the following line\n",
    "    # gdf[\"geometry\"] = gdf[\"geometry\"].apply(lambda geom: wkb_dumps(geom, hex=True))\n",
    "    gdf[\"geometry\"] = gdf[\"geometry\"].apply(wkt.dumps)\n",
    "\n",
    "    # Convert to Polars DataFrame\n",
    "    return pl.from_pandas(gdf)"
   ]
  },
  {
   "cell_type": "markdown",
   "metadata": {},
   "source": [
    "### Buurten Incidents\n"
   ]
  },
  {
   "cell_type": "code",
   "execution_count": 29,
   "metadata": {},
   "outputs": [
    {
     "name": "stdout",
     "output_type": "stream",
     "text": [
      "['geometry', 'buurtcode', 'buurtnaam', 'wijkcode', 'gemeentecode', 'gemeentenaam', 'indelingswijzigingWijkenEnBuurten', 'water', 'meestVoorkomendePostcode', 'dekkingspercentage', 'omgevingsadressendichtheid', 'stedelijkheidAdressenPerKm2', 'bevolkingsdichtheidInwonersPerKm2', 'aantalInwoners', 'mannen', 'vrouwen', 'percentagePersonen0Tot15Jaar', 'percentagePersonen15Tot25Jaar', 'percentagePersonen25Tot45Jaar', 'percentagePersonen45Tot65Jaar', 'percentagePersonen65JaarEnOuder', 'percentageOngehuwd', 'percentageGehuwd', 'percentageGescheid', 'percentageVerweduwd', 'aantalHuishoudens', 'percentageEenpersoonshuishoudens', 'percentageHuishoudensZonderKinderen', 'percentageHuishoudensMetKinderen', 'gemiddeldeHuishoudsgrootte', 'percentageWesterseMigratieachtergrond', 'percentageNietWesterseMigratieachtergrond', 'percentageUitMarokko', 'percentageUitNederlandseAntillenEnAruba', 'percentageUitSuriname', 'percentageUitTurkije', 'percentageOverigeNietwestersemigratieachtergrond', 'oppervlakteTotaalInHa', 'oppervlakteLandInHa', 'oppervlakteWaterInHa', 'jrstatcode', 'jaar', 'index_right', 'Incident_ID', 'Date', 'Incident_Starttime', 'Incident_Endtime', 'Incident_Duration', 'Incident_Priority', 'Service_Area', 'Municipality', 'Damage_Type', 'Incident_Starttime_Hour', 'Incident_Starttime_Minute']\n"
     ]
    },
    {
     "data": {
      "text/html": [
       "<div><style>\n",
       ".dataframe > thead > tr,\n",
       ".dataframe > tbody > tr {\n",
       "  text-align: right;\n",
       "  white-space: pre-wrap;\n",
       "}\n",
       "</style>\n",
       "<small>shape: (5, 54)</small><table border=\"1\" class=\"dataframe\"><thead><tr><th>geometry</th><th>buurtcode</th><th>buurtnaam</th><th>wijkcode</th><th>gemeentecode</th><th>gemeentenaam</th><th>indelingswijzigingWijkenEnBuurten</th><th>water</th><th>meestVoorkomendePostcode</th><th>dekkingspercentage</th><th>omgevingsadressendichtheid</th><th>stedelijkheidAdressenPerKm2</th><th>bevolkingsdichtheidInwonersPerKm2</th><th>aantalInwoners</th><th>mannen</th><th>vrouwen</th><th>percentagePersonen0Tot15Jaar</th><th>percentagePersonen15Tot25Jaar</th><th>percentagePersonen25Tot45Jaar</th><th>percentagePersonen45Tot65Jaar</th><th>percentagePersonen65JaarEnOuder</th><th>percentageOngehuwd</th><th>percentageGehuwd</th><th>percentageGescheid</th><th>percentageVerweduwd</th><th>aantalHuishoudens</th><th>percentageEenpersoonshuishoudens</th><th>percentageHuishoudensZonderKinderen</th><th>percentageHuishoudensMetKinderen</th><th>gemiddeldeHuishoudsgrootte</th><th>percentageWesterseMigratieachtergrond</th><th>percentageNietWesterseMigratieachtergrond</th><th>percentageUitMarokko</th><th>percentageUitNederlandseAntillenEnAruba</th><th>percentageUitSuriname</th><th>percentageUitTurkije</th><th>percentageOverigeNietwestersemigratieachtergrond</th><th>oppervlakteTotaalInHa</th><th>oppervlakteLandInHa</th><th>oppervlakteWaterInHa</th><th>jrstatcode</th><th>jaar</th><th>index_right</th><th>Incident_ID</th><th>Date</th><th>Incident_Starttime</th><th>Incident_Endtime</th><th>Incident_Duration</th><th>Incident_Priority</th><th>Service_Area</th><th>Municipality</th><th>Damage_Type</th><th>Incident_Starttime_Hour</th><th>Incident_Starttime_Minute</th></tr><tr><td>str</td><td>str</td><td>str</td><td>str</td><td>str</td><td>str</td><td>i64</td><td>str</td><td>str</td><td>i64</td><td>i64</td><td>i64</td><td>i64</td><td>i64</td><td>i64</td><td>i64</td><td>i64</td><td>i64</td><td>i64</td><td>i64</td><td>i64</td><td>i64</td><td>i64</td><td>i64</td><td>i64</td><td>i64</td><td>i64</td><td>i64</td><td>i64</td><td>f64</td><td>i64</td><td>i64</td><td>i64</td><td>i64</td><td>i64</td><td>i64</td><td>i64</td><td>i64</td><td>i64</td><td>i64</td><td>str</td><td>i64</td><td>i64</td><td>i64</td><td>datetime[ms]</td><td>time</td><td>time</td><td>time</td><td>f64</td><td>str</td><td>str</td><td>str</td><td>i8</td><td>i8</td></tr></thead><tbody><tr><td>&quot;MULTIPOLYGON (…</td><td>&quot;BU03620401&quot;</td><td>&quot;Stadshart&quot;</td><td>&quot;WK036204&quot;</td><td>&quot;GM0362&quot;</td><td>&quot;Amstelveen&quot;</td><td>1</td><td>&quot;NEE&quot;</td><td>&quot;1181&quot;</td><td>1</td><td>3693</td><td>1</td><td>6297</td><td>3480</td><td>1780</td><td>1700</td><td>17</td><td>7</td><td>36</td><td>23</td><td>18</td><td>47</td><td>43</td><td>6</td><td>4</td><td>1780</td><td>47</td><td>25</td><td>29</td><td>2.0</td><td>31</td><td>37</td><td>1</td><td>1</td><td>2</td><td>1</td><td>32</td><td>55</td><td>55</td><td>0</td><td>&quot;2022BU03620401…</td><td>2022</td><td>2404</td><td>326790</td><td>2019-08-10 00:00:00</td><td>06:50:21</td><td>08:55:29</td><td>02:05:08</td><td>2.0</td><td>&quot;Amstelveen&quot;</td><td>&quot;Amstelveen&quot;</td><td>&quot;Building&quot;</td><td>6</td><td>50</td></tr><tr><td>&quot;MULTIPOLYGON (…</td><td>&quot;BU03620401&quot;</td><td>&quot;Stadshart&quot;</td><td>&quot;WK036204&quot;</td><td>&quot;GM0362&quot;</td><td>&quot;Amstelveen&quot;</td><td>1</td><td>&quot;NEE&quot;</td><td>&quot;1181&quot;</td><td>1</td><td>3693</td><td>1</td><td>6297</td><td>3480</td><td>1780</td><td>1700</td><td>17</td><td>7</td><td>36</td><td>23</td><td>18</td><td>47</td><td>43</td><td>6</td><td>4</td><td>1780</td><td>47</td><td>25</td><td>29</td><td>2.0</td><td>31</td><td>37</td><td>1</td><td>1</td><td>2</td><td>1</td><td>32</td><td>55</td><td>55</td><td>0</td><td>&quot;2022BU03620401…</td><td>2022</td><td>2552</td><td>340707</td><td>2020-02-09 00:00:00</td><td>12:44:28</td><td>13:59:47</td><td>01:15:19</td><td>2.0</td><td>&quot;Amstelveen&quot;</td><td>&quot;Amstelveen&quot;</td><td>&quot;Building&quot;</td><td>12</td><td>44</td></tr><tr><td>&quot;MULTIPOLYGON (…</td><td>&quot;BU03620401&quot;</td><td>&quot;Stadshart&quot;</td><td>&quot;WK036204&quot;</td><td>&quot;GM0362&quot;</td><td>&quot;Amstelveen&quot;</td><td>1</td><td>&quot;NEE&quot;</td><td>&quot;1181&quot;</td><td>1</td><td>3693</td><td>1</td><td>6297</td><td>3480</td><td>1780</td><td>1700</td><td>17</td><td>7</td><td>36</td><td>23</td><td>18</td><td>47</td><td>43</td><td>6</td><td>4</td><td>1780</td><td>47</td><td>25</td><td>29</td><td>2.0</td><td>31</td><td>37</td><td>1</td><td>1</td><td>2</td><td>1</td><td>32</td><td>55</td><td>55</td><td>0</td><td>&quot;2022BU03620401…</td><td>2022</td><td>2530</td><td>340671</td><td>2020-02-09 00:00:00</td><td>11:22:07</td><td>12:02:51</td><td>00:40:44</td><td>5.0</td><td>&quot;Amstelveen&quot;</td><td>&quot;Amstelveen&quot;</td><td>&quot;Fence, Road si…</td><td>11</td><td>22</td></tr><tr><td>&quot;MULTIPOLYGON (…</td><td>&quot;BU03620401&quot;</td><td>&quot;Stadshart&quot;</td><td>&quot;WK036204&quot;</td><td>&quot;GM0362&quot;</td><td>&quot;Amstelveen&quot;</td><td>1</td><td>&quot;NEE&quot;</td><td>&quot;1181&quot;</td><td>1</td><td>3693</td><td>1</td><td>6297</td><td>3480</td><td>1780</td><td>1700</td><td>17</td><td>7</td><td>36</td><td>23</td><td>18</td><td>47</td><td>43</td><td>6</td><td>4</td><td>1780</td><td>47</td><td>25</td><td>29</td><td>2.0</td><td>31</td><td>37</td><td>1</td><td>1</td><td>2</td><td>1</td><td>32</td><td>55</td><td>55</td><td>0</td><td>&quot;2022BU03620401…</td><td>2022</td><td>541</td><td>87157</td><td>2009-10-04 00:00:00</td><td>00:28:01</td><td>01:27:33</td><td>00:59:32</td><td>2.0</td><td>&quot;Amstelveen&quot;</td><td>&quot;AMSTELVEEN&quot;</td><td>&quot;Unknown&quot;</td><td>0</td><td>28</td></tr><tr><td>&quot;MULTIPOLYGON (…</td><td>&quot;BU03620401&quot;</td><td>&quot;Stadshart&quot;</td><td>&quot;WK036204&quot;</td><td>&quot;GM0362&quot;</td><td>&quot;Amstelveen&quot;</td><td>1</td><td>&quot;NEE&quot;</td><td>&quot;1181&quot;</td><td>1</td><td>3693</td><td>1</td><td>6297</td><td>3480</td><td>1780</td><td>1700</td><td>17</td><td>7</td><td>36</td><td>23</td><td>18</td><td>47</td><td>43</td><td>6</td><td>4</td><td>1780</td><td>47</td><td>25</td><td>29</td><td>2.0</td><td>31</td><td>37</td><td>1</td><td>1</td><td>2</td><td>1</td><td>32</td><td>55</td><td>55</td><td>0</td><td>&quot;2022BU03620401…</td><td>2022</td><td>2581</td><td>340744</td><td>2020-02-09 00:00:00</td><td>14:15:34</td><td>14:26:53</td><td>00:11:19</td><td>5.0</td><td>&quot;Amstelveen&quot;</td><td>&quot;Amstelveen&quot;</td><td>&quot;Fence, Road si…</td><td>14</td><td>15</td></tr></tbody></table></div>"
      ],
      "text/plain": [
       "shape: (5, 54)\n",
       "┌───────────┬───────────┬───────────┬──────────┬───┬───────────┬───────────┬───────────┬───────────┐\n",
       "│ geometry  ┆ buurtcode ┆ buurtnaam ┆ wijkcode ┆ … ┆ Municipal ┆ Damage_Ty ┆ Incident_ ┆ Incident_ │\n",
       "│ ---       ┆ ---       ┆ ---       ┆ ---      ┆   ┆ ity       ┆ pe        ┆ Starttime ┆ Starttime │\n",
       "│ str       ┆ str       ┆ str       ┆ str      ┆   ┆ ---       ┆ ---       ┆ _Hour     ┆ _Minute   │\n",
       "│           ┆           ┆           ┆          ┆   ┆ str       ┆ str       ┆ ---       ┆ ---       │\n",
       "│           ┆           ┆           ┆          ┆   ┆           ┆           ┆ i8        ┆ i8        │\n",
       "╞═══════════╪═══════════╪═══════════╪══════════╪═══╪═══════════╪═══════════╪═══════════╪═══════════╡\n",
       "│ MULTIPOLY ┆ BU0362040 ┆ Stadshart ┆ WK036204 ┆ … ┆ Amstelvee ┆ Building  ┆ 6         ┆ 50        │\n",
       "│ GON (((4. ┆ 1         ┆           ┆          ┆   ┆ n         ┆           ┆           ┆           │\n",
       "│ 857296557 ┆           ┆           ┆          ┆   ┆           ┆           ┆           ┆           │\n",
       "│ 88993…    ┆           ┆           ┆          ┆   ┆           ┆           ┆           ┆           │\n",
       "│ MULTIPOLY ┆ BU0362040 ┆ Stadshart ┆ WK036204 ┆ … ┆ Amstelvee ┆ Building  ┆ 12        ┆ 44        │\n",
       "│ GON (((4. ┆ 1         ┆           ┆          ┆   ┆ n         ┆           ┆           ┆           │\n",
       "│ 857296557 ┆           ┆           ┆          ┆   ┆           ┆           ┆           ┆           │\n",
       "│ 88993…    ┆           ┆           ┆          ┆   ┆           ┆           ┆           ┆           │\n",
       "│ MULTIPOLY ┆ BU0362040 ┆ Stadshart ┆ WK036204 ┆ … ┆ Amstelvee ┆ Fence,    ┆ 11        ┆ 22        │\n",
       "│ GON (((4. ┆ 1         ┆           ┆          ┆   ┆ n         ┆ Road      ┆           ┆           │\n",
       "│ 857296557 ┆           ┆           ┆          ┆   ┆           ┆ signs,    ┆           ┆           │\n",
       "│ 88993…    ┆           ┆           ┆          ┆   ┆           ┆ Scaffoldi ┆           ┆           │\n",
       "│           ┆           ┆           ┆          ┆   ┆           ┆ ng        ┆           ┆           │\n",
       "│ MULTIPOLY ┆ BU0362040 ┆ Stadshart ┆ WK036204 ┆ … ┆ AMSTELVEE ┆ Unknown   ┆ 0         ┆ 28        │\n",
       "│ GON (((4. ┆ 1         ┆           ┆          ┆   ┆ N         ┆           ┆           ┆           │\n",
       "│ 857296557 ┆           ┆           ┆          ┆   ┆           ┆           ┆           ┆           │\n",
       "│ 88993…    ┆           ┆           ┆          ┆   ┆           ┆           ┆           ┆           │\n",
       "│ MULTIPOLY ┆ BU0362040 ┆ Stadshart ┆ WK036204 ┆ … ┆ Amstelvee ┆ Fence,    ┆ 14        ┆ 15        │\n",
       "│ GON (((4. ┆ 1         ┆           ┆          ┆   ┆ n         ┆ Road      ┆           ┆           │\n",
       "│ 857296557 ┆           ┆           ┆          ┆   ┆           ┆ signs,    ┆           ┆           │\n",
       "│ 88993…    ┆           ┆           ┆          ┆   ┆           ┆ Scaffoldi ┆           ┆           │\n",
       "│           ┆           ┆           ┆          ┆   ┆           ┆ ng        ┆           ┆           │\n",
       "└───────────┴───────────┴───────────┴──────────┴───┴───────────┴───────────┴───────────┴───────────┘"
      ]
     },
     "execution_count": 29,
     "metadata": {},
     "output_type": "execute_result"
    }
   ],
   "source": [
    "print(buurten_incidents.columns)\n",
    "buurten_incidents.head()"
   ]
  },
  {
   "cell_type": "code",
   "execution_count": 31,
   "metadata": {},
   "outputs": [
    {
     "data": {
      "text/html": [
       "<div><style>\n",
       ".dataframe > thead > tr,\n",
       ".dataframe > tbody > tr {\n",
       "  text-align: right;\n",
       "  white-space: pre-wrap;\n",
       "}\n",
       "</style>\n",
       "<small>shape: (5, 5)</small><table border=\"1\" class=\"dataframe\"><thead><tr><th>buurtcode</th><th>Date</th><th>Incident_Starttime_Hour</th><th>Damage_Type</th><th>Totaal</th></tr><tr><td>str</td><td>datetime[ms]</td><td>i8</td><td>str</td><td>u32</td></tr></thead><tbody><tr><td>&quot;BU03620401&quot;</td><td>2018-08-09 00:00:00</td><td>21</td><td>&quot;Tree&quot;</td><td>1</td></tr><tr><td>&quot;BU03631305&quot;</td><td>2009-05-17 00:00:00</td><td>8</td><td>&quot;Tree&quot;</td><td>1</td></tr><tr><td>&quot;BU03639000&quot;</td><td>2022-02-18 00:00:00</td><td>18</td><td>&quot;Building&quot;</td><td>1</td></tr><tr><td>&quot;BU03840201&quot;</td><td>2022-02-19 00:00:00</td><td>11</td><td>&quot;Building&quot;</td><td>1</td></tr><tr><td>&quot;BU03635801&quot;</td><td>2023-03-25 00:00:00</td><td>16</td><td>&quot;Building&quot;</td><td>1</td></tr></tbody></table></div>"
      ],
      "text/plain": [
       "shape: (5, 5)\n",
       "┌────────────┬─────────────────────┬─────────────────────────┬─────────────┬────────┐\n",
       "│ buurtcode  ┆ Date                ┆ Incident_Starttime_Hour ┆ Damage_Type ┆ Totaal │\n",
       "│ ---        ┆ ---                 ┆ ---                     ┆ ---         ┆ ---    │\n",
       "│ str        ┆ datetime[ms]        ┆ i8                      ┆ str         ┆ u32    │\n",
       "╞════════════╪═════════════════════╪═════════════════════════╪═════════════╪════════╡\n",
       "│ BU03620401 ┆ 2018-08-09 00:00:00 ┆ 21                      ┆ Tree        ┆ 1      │\n",
       "│ BU03631305 ┆ 2009-05-17 00:00:00 ┆ 8                       ┆ Tree        ┆ 1      │\n",
       "│ BU03639000 ┆ 2022-02-18 00:00:00 ┆ 18                      ┆ Building    ┆ 1      │\n",
       "│ BU03840201 ┆ 2022-02-19 00:00:00 ┆ 11                      ┆ Building    ┆ 1      │\n",
       "│ BU03635801 ┆ 2023-03-25 00:00:00 ┆ 16                      ┆ Building    ┆ 1      │\n",
       "└────────────┴─────────────────────┴─────────────────────────┴─────────────┴────────┘"
      ]
     },
     "execution_count": 31,
     "metadata": {},
     "output_type": "execute_result"
    }
   ],
   "source": [
    "df = buurten_incidents.group_by(\n",
    "    [\n",
    "        \"buurtcode\",\n",
    "        \"Date\",\n",
    "        \"Incident_Starttime_Hour\",\n",
    "        \"Damage_Type\",\n",
    "    ]\n",
    ").agg(pl.col(\"Incident_ID\").count().alias(\"Totaal\"))"
   ]
  },
  {
   "cell_type": "code",
   "execution_count": null,
   "metadata": {},
   "outputs": [],
   "source": []
  }
 ],
 "metadata": {
  "kernelspec": {
   "display_name": "poetry",
   "language": "python",
   "name": "python3"
  },
  "language_info": {
   "codemirror_mode": {
    "name": "ipython",
    "version": 3
   },
   "file_extension": ".py",
   "mimetype": "text/x-python",
   "name": "python",
   "nbconvert_exporter": "python",
   "pygments_lexer": "ipython3",
   "version": "3.10.13"
  }
 },
 "nbformat": 4,
 "nbformat_minor": 2
}
