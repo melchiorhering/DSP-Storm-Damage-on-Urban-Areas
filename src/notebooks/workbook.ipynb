{
 "cells": [
  {
   "cell_type": "markdown",
   "metadata": {},
   "source": [
    "# Testing\n",
    "\n",
    "In this notebook you can explore and test the resulting database tables from our Dagster ETL process.\n",
    "Here you can analyze\n"
   ]
  },
  {
   "cell_type": "code",
   "execution_count": null,
   "metadata": {
    "tags": []
   },
   "outputs": [],
   "source": [
    "import duckdb\n",
    "import polars as pl"
   ]
  },
  {
   "cell_type": "markdown",
   "metadata": {},
   "source": [
    "### Create Database Connection\n"
   ]
  },
  {
   "cell_type": "code",
   "execution_count": null,
   "metadata": {},
   "outputs": [],
   "source": [
    "%load_ext sql\n",
    "conn = duckdb.connect(database=\"../dsp-dagster/storage/DSP.db\")\n",
    "%sql conn --alias duckdb\n",
    "%sql SHOW ALL TABLES;"
   ]
  },
  {
   "cell_type": "markdown",
   "metadata": {},
   "source": [
    "##### Drop Tables\n"
   ]
  },
  {
   "cell_type": "code",
   "execution_count": null,
   "metadata": {},
   "outputs": [],
   "source": [
    "%sql DROP TABLE public.cbs_buurten;\n",
    "%sql DROP TABLE public.cbs_wijken;"
   ]
  },
  {
   "cell_type": "markdown",
   "metadata": {},
   "source": [
    "##### Retrieve Tables as Polars DataFrame\n"
   ]
  },
  {
   "cell_type": "code",
   "execution_count": null,
   "metadata": {},
   "outputs": [],
   "source": [
    "cbs_wijken = conn.execute(\n",
    "    \"\"\"\n",
    "    SELECT * FROM public.cbs_wijken \"\"\"\n",
    ").pl()\n",
    "\n",
    "service_areas = conn.execute(\n",
    "    \"\"\"\n",
    "    SELECT * FROM public.service_areas \"\"\"\n",
    ").pl()\n",
    "\n",
    "incident_deployments_vehicles = conn.execute(\n",
    "    \"\"\"\n",
    "    SELECT * FROM joined.incident_deployments_vehicles\"\"\"\n",
    ").pl()\n",
    "\n",
    "\n",
    "cleaned_knmi_weather_data = conn.execute(\n",
    "    \"\"\"\n",
    "    SELECT * FROM cleaned.cleaned_knmi_weather_data\n",
    "    \"\"\"\n",
    ").pl()\n",
    "\n",
    "\n",
    "incident_deployments_vehicles_wijken = conn.execute(\n",
    "    \"\"\"\n",
    "    SELECT * FROM joined.incident_deployments_vehicles_wijken\n",
    "    \"\"\"\n",
    ").pl()\n",
    "\n",
    "incident_deployments_vehicles_weather = conn.execute(\n",
    "    \"\"\"\n",
    "    SELECT * FROM joined.incident_deployments_vehicles_weather\n",
    "    \"\"\"\n",
    ").pl()\n",
    "\n",
    "\n",
    "# Close the database connection\n",
    "conn.close()"
   ]
  },
  {
   "cell_type": "code",
   "execution_count": null,
   "metadata": {},
   "outputs": [],
   "source": [
    "# cbs_wijken.filter(\n",
    "#     [\n",
    "#         pl.col(\"gemeentenaam\") == \"Amsterdam\",\n",
    "#     ]\n",
    "# ).head()"
   ]
  },
  {
   "cell_type": "code",
   "execution_count": null,
   "metadata": {},
   "outputs": [],
   "source": [
    "# incident_deployments_vehicles_wijken.head()"
   ]
  },
  {
   "cell_type": "code",
   "execution_count": null,
   "metadata": {},
   "outputs": [],
   "source": [
    "incident_deployments_vehicles_weather.head()"
   ]
  },
  {
   "cell_type": "code",
   "execution_count": null,
   "metadata": {},
   "outputs": [],
   "source": [
    "# Select all rows where Incidents happened (by filtering on Incident_ID != null)\n",
    "selected_df = incident_deployments_vehicles_weather.filter(\n",
    "    pl.col(\"Incident_ID\").is_not_null(), pl.col(\"Date\").dt.year() == 2005\n",
    ")\n",
    "display(selected_df.head())\n",
    "print(selected_df.columns)"
   ]
  }
 ],
 "metadata": {
  "kernelspec": {
   "display_name": "poetry",
   "language": "python",
   "name": "python3"
  },
  "language_info": {
   "codemirror_mode": {
    "name": "ipython",
    "version": 3
   },
   "file_extension": ".py",
   "mimetype": "text/x-python",
   "name": "python",
   "nbconvert_exporter": "python",
   "pygments_lexer": "ipython3",
   "version": "3.10.13"
  }
 },
 "nbformat": 4,
 "nbformat_minor": 2
}
