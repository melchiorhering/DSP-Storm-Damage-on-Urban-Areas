{
 "cells": [
  {
   "cell_type": "markdown",
   "metadata": {},
   "source": [
    "# Testing\n",
    "\n",
    "In this notebook you can explore and test the resulting database tables from our Dagster ETL process.\n",
    "Here you can analyze\n"
   ]
  },
  {
   "cell_type": "code",
   "execution_count": 4,
   "metadata": {
    "tags": []
   },
   "outputs": [],
   "source": [
    "import duckdb\n",
    "import polars as pl\n",
    "\n",
    "# from IPython import display\n",
    "import geopandas as gpd\n",
    "import plotly.express as px\n",
    "from shapely import wkt"
   ]
  },
  {
   "cell_type": "code",
   "execution_count": null,
   "metadata": {},
   "outputs": [],
   "source": [
    "def convert_to_geodf(polars_df: pl.DataFrame) -> gpd.GeoDataFrame:\n",
    "    \"\"\"\n",
    "    Convert a Polars DataFrame to a GeoDataFrame using WKB or WKT transformation.\n",
    "    \"\"\"\n",
    "\n",
    "    # Convert Polars DataFrame to Pandas DataFrame\n",
    "    df = polars_df.to_pandas()\n",
    "\n",
    "    # Convert geometry strings back to geometry objects\n",
    "    if \"geometry\" in df.columns:\n",
    "        df[\"geometry\"] = df[\"geometry\"].apply(wkt.loads)\n",
    "\n",
    "    else:\n",
    "        raise ValueError(\"No 'geometry' column found in the DataFrame\")\n",
    "\n",
    "    # Convert back to GeoDataFrame\n",
    "    return gpd.GeoDataFrame(df, geometry=\"geometry\", crs=\"EPSG:4326\")\n",
    "\n",
    "\n",
    "def convert_to_polars(gdf: gpd.GeoDataFrame) -> pl.DataFrame:\n",
    "    \"\"\"\n",
    "    Convert a GeoDataFrame to a Polars DataFrame, converting geometries to WKB strings.\n",
    "    \"\"\"\n",
    "    # If geometry conversion is necessary, uncomment the following line\n",
    "    # gdf[\"geometry\"] = gdf[\"geometry\"].apply(lambda geom: wkb_dumps(geom, hex=True))\n",
    "    gdf[\"geometry\"] = gdf[\"geometry\"].apply(wkt.dumps)\n",
    "\n",
    "    # Convert to Polars DataFrame\n",
    "    return pl.from_pandas(gdf)"
   ]
  },
  {
   "cell_type": "markdown",
   "metadata": {},
   "source": [
    "### Create Database Connection\n"
   ]
  },
  {
   "cell_type": "code",
   "execution_count": null,
   "metadata": {},
   "outputs": [],
   "source": [
    "%load_ext sql\n",
    "conn = duckdb.connect(database=\"../dsp-dagster/DSP.duckdb\")\n",
    "%sql conn --alias duckdb\n",
    "%sql SHOW ALL TABLES; # shows all available tables"
   ]
  },
  {
   "cell_type": "markdown",
   "metadata": {},
   "source": [
    "##### Drop Tables\n"
   ]
  },
  {
   "cell_type": "code",
   "execution_count": null,
   "metadata": {},
   "outputs": [],
   "source": [
    "# conn = duckdb.connect(database=\"../dsp-dagster/data_systems_project.duckdb\")\n",
    "# %sql conn --alias duckdb\n",
    "# %sql DROP TABLE joined.incident_deployments_vehicles_weather;\n",
    "# %sql DROP TABLE joined.incident_deployments_vehicles_wijken;\n",
    "# %sql DROP TABLE joined.incident_deployments_vehicles;\n",
    "# %sql DROP TABLE joined.incidents_buurten;\n",
    "# %sql DROP TABLE public.storm_incidents;\n",
    "# %sql DROP TABLE joined.buurten_trees;\n",
    "# %sql DROP TABLE joined.incident_tree;\n",
    "# %sql DROP TABLE joined.tree_service_areas;\n",
    "# conn.close()"
   ]
  },
  {
   "cell_type": "code",
   "execution_count": null,
   "metadata": {},
   "outputs": [],
   "source": [
    "# STN         LON(east)   LAT(north)  ALT(m)      NAME\n",
    "# 240         4.790       52.318      -3.30       Schiphol\n",
    "# YYYYMMDD  : datum (YYYY=jaar;MM=maand;DD=dag)\n",
    "# HH        : tijd (HH=uur; UT.12 UT=13 MET; 14 MEZT. Uurvak 05 loopt van 04.00 UT tot 5.00 UT\n",
    "# DD        : Windrichting (in graden) gemiddeld over de laatste 10 minuten van het afgelopen uur (360=noord; 90=oost; 180=zuid; 270=west; 0=windstil 990=veranderlijk. Zie http://www.knmi.nl/kennis-en-datacentrum/achtergrond/klimatologische-brochures-en-boeken / Mean wind direction (in degrees) during the 10-minute period preceding the time of observation (360=north; 90=east; 180=south; 270=west; 0=calm 990=variable)\n",
    "# FH        : Uurgemiddelde windsnelheid (in 0.1 m/s). Zie http://www.knmi.nl/kennis-en-datacentrum/achtergrond/klimatologische-brochures-en-boeken / Hourly mean wind speed (in 0.1 m/s)\n",
    "# FF        : Windsnelheid (in 0.1 m/s) gemiddeld over de laatste 10 minuten van het afgelopen uur / Mean wind speed (in 0.1 m/s) during the 10-minute period preceding the time of observation\n",
    "# FX        : Hoogste windstoot (in 0.1 m/s) over het afgelopen uurvak / Maximum wind gust (in 0.1 m/s) during the hourly division\n",
    "# T         : Temperatuur (in 0.1 graden Celsius) op 1.50 m hoogte tijdens de waarneming / Temperature (in 0.1 degrees Celsius) at 1.50 m at the time of observation\n",
    "# T10N      : Minimumtemperatuur (in 0.1 graden Celsius) op 10 cm hoogte in de afgelopen 6 uur / Minimum temperature (in 0.1 degrees Celsius) at 0.1 m in the preceding 6-hour period\n",
    "# TD        : Dauwpuntstemperatuur (in 0.1 graden Celsius) op 1.50 m hoogte tijdens de waarneming / Dew point temperature (in 0.1 degrees Celsius) at 1.50 m at the time of observation\n",
    "# SQ        : Duur van de zonneschijn (in 0.1 uren) per uurvak; berekend uit globale straling  (-1 for <0.05 uur) / Sunshine duration (in 0.1 hour) during the hourly division; calculated from global radiation (-1 for <0.05 hour)\n",
    "# Q         : Globale straling (in J/cm2) per uurvak / Global radiation (in J/cm2) during the hourly division\n",
    "# DR        : Duur van de neerslag (in 0.1 uur) per uurvak / Precipitation duration (in 0.1 hour) during the hourly division\n",
    "# RH        : Uursom van de neerslag (in 0.1 mm) (-1 voor <0.05 mm) / Hourly precipitation amount (in 0.1 mm) (-1 for <0.05 mm)\n",
    "# P         : Luchtdruk (in 0.1 hPa) herleid naar zeeniveau; tijdens de waarneming / Air pressure (in 0.1 hPa) reduced to mean sea level; at the time of observation\n",
    "# VV        : Horizontaal zicht tijdens de waarneming (0=minder dan 100m; 1=100-200m; 2=200-300m;...; 49=4900-5000m; 50=5-6km; 56=6-7km; 57=7-8km; ...; 79=29-30km; 80=30-35km; 81=35-40km;...; 89=meer dan 70km) / Horizontal visibility at the time of observation (0=less than 100m; 1=100-200m; 2=200-300m;...; 49=4900-5000m; 50=5-6km; 56=6-7km; 57=7-8km; ...; 79=29-30km; 80=30-35km; 81=35-40km;...; 89=more than 70km)\n",
    "# N         : Bewolking (bedekkingsgraad van de bovenlucht in achtsten); tijdens de waarneming (9=bovenlucht onzichtbaar) / Cloud cover (in octants); at the time of observation (9=sky invisible)\n",
    "# U         : Relatieve vochtigheid (in procenten) op 1.50 m hoogte tijdens de waarneming / Relative atmospheric humidity (in percents) at 1.50 m at the time of observation\n",
    "# WW        : Weercode (00-99); visueel(WW) of automatisch(WaWa) waargenomen; voor het actuele weer of het weer in het afgelopen uur. Zie http://bibliotheek.knmi.nl/scholierenpdf/weercodes_Nederland / Present weather code (00-99); description for the hourly division.\n",
    "# IX        : Weercode indicator voor de wijze van waarnemen op een bemand of automatisch station (1=bemand gebruikmakend van code uit visuele waarnemingen; 2;3=bemand en weggelaten (geen belangrijk weersverschijnsel; geen gegevens); 4=automatisch en opgenomen (gebruikmakend van code uit visuele waarnemingen); 5;6=automatisch en weggelaten (geen belangrijk weersverschijnsel; geen gegevens); 7=automatisch gebruikmakend van code uit automatische waarnemingen) / Indicator present weather code (1=manned and recorded (using code from visual observations); 2;3=manned and omitted (no significant weather phenomenon to report; not available); 4=automatically recorded (using code from visual observations); 5;6=automatically omitted (no significant weather phenomenon to report; not available); 7=automatically set (using code from automated observations)\n",
    "# M         : Mist 0=niet voorgekomen; 1=wel voorgekomen in het voorgaande uur en/of tijdens de waarneming / Fog 0=no occurrence; 1=occurred during the preceding hour and/or at the time of observation\n",
    "# R         : Regen 0=niet voorgekomen; 1=wel voorgekomen in het voorgaande uur en/of tijdens de waarneming / Rainfall 0=no occurrence; 1=occurred during the preceding hour and/or at the time of observation\n",
    "# S         : Sneeuw 0=niet voorgekomen; 1=wel voorgekomen in het voorgaande uur en/of tijdens de waarneming / Snow 0=no occurrence; 1=occurred during the preceding hour and/or at the time of observation\n",
    "# O         : Onweer 0=niet voorgekomen; 1=wel voorgekomen in het voorgaande uur en/of tijdens de waarneming / Thunder  0=no occurrence; 1=occurred during the preceding hour and/or at the time of observation\n",
    "# Y         : IJsvorming 0=niet voorgekomen; 1=wel voorgekomen in het voorgaande uur en/of tijdens de waarneming / Ice formation 0=no occurrence; 1=occurred during the preceding hour and/or at the time of observation"
   ]
  },
  {
   "cell_type": "code",
   "execution_count": null,
   "metadata": {},
   "outputs": [],
   "source": [
    "conn = duckdb.connect(database=\"../dsp-dagster/DSP.duckdb\")\n",
    "%sql conn --alias duckdb\n",
    "# weather_incident = conn.execute(\n",
    "#     \"\"\"\n",
    "#     SELECT * FROM joined.weather_incident\n",
    "#     \"\"\"\n",
    "# ).pl()\n",
    "# display(weather_incident.head())\n",
    "\n",
    "# tree_service_areas = conn.execute(\n",
    "#     \"\"\"\n",
    "#     SELECT * FROM joined .tree_service_areas\n",
    "#     \"\"\"\n",
    "# ).pl()\n",
    "# display(tree_service_areas.head())\n",
    "\n",
    "incident_tree = conn.execute(\n",
    "    \"\"\"\n",
    "    SELECT * FROM joined.incident_tree\n",
    "    \"\"\"\n",
    ").pl()\n",
    "display(incident_tree.head(5))\n",
    "print(incident_tree.shape)\n",
    "print(incident_tree.null_count())\n",
    "\n",
    "new_storm_incidents = conn.execute(\n",
    "    \"\"\"\n",
    "    SELECT * FROM clean.new_storm_incidents\n",
    "    \"\"\"\n",
    ").pl()\n",
    "display(new_storm_incidents.head(5))\n",
    "print(new_storm_incidents.shape)\n",
    "\n",
    "cbs_buurten = conn.execute(\n",
    "    \"\"\"\n",
    "    SELECT * FROM public.cbs_buurten\n",
    "    \"\"\"\n",
    ").pl()\n",
    "display(cbs_buurten.head(5))\n",
    "print(cbs_buurten.shape)\n",
    "\n",
    "# knmi_weather_txt = conn.execute(\n",
    "#     \"\"\"\n",
    "#     SELECT * FROM public.knmi_weather_txt\n",
    "#     \"\"\"\n",
    "# ).pl()\n",
    "# display(weather_incident.head())\n",
    "\n",
    "# Close the database connection\n",
    "conn.close()"
   ]
  },
  {
   "cell_type": "code",
   "execution_count": null,
   "metadata": {},
   "outputs": [],
   "source": [
    "cbs_buurten_selection = cbs_buurten.select(\"buurtcode\", \"buurtnaam\", \"geometry\")\n",
    "cbs_buurten_selection.head()"
   ]
  },
  {
   "cell_type": "code",
   "execution_count": null,
   "metadata": {},
   "outputs": [],
   "source": [
    "# DD        : Windrichting (in graden) gemiddeld over de laatste 10 minuten van het afgelopen uur (360=noord; 90=oost; 180=zuid; 270=west; 0=windstil 990=veranderlijk. Zie http://www.knmi.nl/kennis-en-datacentrum/achtergrond/klimatologische-brochures-en-boeken / Mean wind direction (in degrees) during the 10-minute period preceding the time of observation (360=north; 90=east; 180=south; 270=west; 0=calm 990=variable)\n",
    "# FH        : Uurgemiddelde windsnelheid (in 0.1 m/s). Zie http://www.knmi.nl/kennis-en-datacentrum/achtergrond/klimatologische-brochures-en-boeken / Hourly mean wind speed (in 0.1 m/s)\n",
    "# FF        : Windsnelheid (in 0.1 m/s) gemiddeld over de laatste 10 minuten van het afgelopen uur / Mean wind speed (in 0.1 m/s) during the 10-minute period preceding the time of observation\n",
    "# FX        : Hoogste windstoot (in 0.1 m/s) over het afgelopen uurvak / Maximum wind gust (in 0.1 m/s) during the hourly division\n",
    "# T         : Temperatuur (in 0.1 graden Celsius) op 1.50 m hoogte tijdens de waarneming / Temperature (in 0.1 degrees Celsius) at 1.50 m at the time of observation\n",
    "# WW        : Weercode (00-99); visueel(WW) of automatisch(WaWa) waargenomen; voor het actuele weer of het weer in het afgelopen uur. Zie http://bibliotheek.knmi.nl/scholierenpdf/weercodes_Nederland / Present weather code (00-99); description for the hourly division.\n",
    "# R         : Regen 0=niet voorgekomen; 1=wel voorgekomen in het voorgaande uur en/of tijdens de waarneming / Rainfall 0=no occurrence; 1=occurred during the preceding hour and/or at the time of observation\n",
    "# S         : Sneeuw 0=niet voorgekomen; 1=wel voorgekomen in het voorgaande uur en/of tijdens de waarneming / Snow 0=no occurrence; 1=occurred during the preceding hour and/or at the time of observation\n",
    "# O         : Onweer 0=niet voorgekomen; 1=wel voorgekomen in het voorgaande uur en/of tijdens de waarneming / Thunder  0=no occurrence; 1=occurred during the preceding hour and/or at the time of observation"
   ]
  },
  {
   "cell_type": "code",
   "execution_count": null,
   "metadata": {},
   "outputs": [],
   "source": [
    "incident_tree_selection = incident_tree.drop(\"Incident_Duration\", \"Incident_Endtime\", \"Incident_Priority\", \"Incident_Starttime\", \"typeSoortnaam\", \"typeEigenaarPlus\", \"jaarVanAanleg\", \"soortnaamKort\", \"soortnaamTop\", \"Municipality\")\n",
    "display(incident_tree_selection.head(5))\n",
    "incident_tree_selection.shape\n",
    "pl.Config.set_fmt_str_lengths(100)\n",
    "\n",
    "\n",
    "\n"
   ]
  },
  {
   "cell_type": "code",
   "execution_count": null,
   "metadata": {},
   "outputs": [],
   "source": [
    "gdf1 = convert_to_geodf(incident_tree_selection)\n",
    "# Convert the geometry to latitude and longitude\n",
    "gdf1['latitude'] = gdf1.geometry.y\n",
    "gdf1['longitude'] = gdf1.geometry.x\n",
    "\n",
    "# Plotting using Plotly Express\n",
    "fig = px.scatter_mapbox(gdf1,\n",
    "                        lat='latitude',\n",
    "                        lon='longitude',\n",
    "                        zoom=10)\n",
    "\n",
    "# Example GeoDataFrame for the second plot\n",
    "gdf2 = convert_to_geodf(new_storm_incidents)\n",
    "gdf2['latitude'] = gdf2.geometry.y\n",
    "gdf2['longitude'] = gdf2.geometry.x\n",
    "\n",
    "# Add the second plot over the first one\n",
    "fig.add_trace(px.scatter_mapbox(gdf2,\n",
    "                                lat='latitude',\n",
    "                                lon='longitude',  # Replace with your second column name\n",
    "                               ).data[0])\n",
    "\n",
    "\n",
    "# Update the layout\n",
    "fig.update_layout(mapbox_style=\"open-street-map\")\n",
    "fig.show()"
   ]
  },
  {
   "cell_type": "code",
   "execution_count": null,
   "metadata": {},
   "outputs": [],
   "source": [
    "gdf_buurten = convert_to_geodf(cbs_buurten_selection)\n",
    "gdf_incident_tree = convert_to_geodf(incident_tree_selection)\n",
    "\n",
    "# df.group_by([\"Incident_Date\", \"IncStrt_Hour\",\"Service_Area\", \"soortnaam\", \"boomhoogteklasseActueel\", \"leeftijdBoom\", \"typeObject\", \"Damage_Type\"])\n",
    "\n",
    "# selection = weather_incident.select([\"DD\", \"FH\", \"FF\", \"FX\", \"T\", \"WW\", \"R\", \"S\", \"O\", \"Incident_ID\", \"Damage_Type\", \"Service_Area\", \"geometry\"])\n",
    "# groupby_selection = selection.group_by(by=[\"DD\", \"FH\", \"FF\", \"FX\", \"T\", \"WW\", \"R\", \"S\", \"O\", \"Service_Area\",\"Damage_Type\"]).agg(Incident_Counts=pl.col(\"Incident_ID\").count())\n",
    "# # groupby_selection.filter(pl.col(\"Incident_Counts\") > 0)\n",
    "\n",
    "\n",
    "# df = groupby_selection.join(tree_service_areas, how=\"left\", left_on=\"Service_Area\", right_on=\"Verzorgingsgebied\")\n",
    "# df.head()"
   ]
  },
  {
   "cell_type": "code",
   "execution_count": null,
   "metadata": {},
   "outputs": [],
   "source": [
    "# df = new_storm_incidents.group_by(\"Damage_Type\").agg(pl.col(\"Incident_ID\").count().alias(\"Total\"))\n",
    "# px.histogram(df.to_pandas(), x=\"Damage_Type\", y=\"Total\")"
   ]
  },
  {
   "cell_type": "code",
   "execution_count": null,
   "metadata": {},
   "outputs": [],
   "source": [
    "for service_area in tree_service_areas[\"Verzorgingsgebied\"].unique():\n",
    "    df = tree_service_areas.filter(pl.col(\"Verzorgingsgebied\") == service_area)\n",
    "    print(f\"{service_area} df has shape: {df.shape}\")\n",
    "    df = tree_service_areas.join()\n",
    "    break"
   ]
  }
 ],
 "metadata": {
  "kernelspec": {
   "display_name": "poetry",
   "language": "python",
   "name": "python3"
  },
  "language_info": {
   "codemirror_mode": {
    "name": "ipython",
    "version": 3
   },
   "file_extension": ".py",
   "mimetype": "text/x-python",
   "name": "python",
   "nbconvert_exporter": "python",
   "pygments_lexer": "ipython3",
   "version": "3.10.13"
  }
 },
 "nbformat": 4,
 "nbformat_minor": 2
}
