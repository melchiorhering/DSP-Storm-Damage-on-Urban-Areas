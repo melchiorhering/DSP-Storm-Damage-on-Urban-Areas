{
 "cells": [
  {
   "cell_type": "markdown",
   "metadata": {},
   "source": [
    "# Testing\n",
    "\n",
    "In this notebook you can explore and test the resulting database tables from our Dagster ETL process.\n",
    "Here you can analyze\n"
   ]
  },
  {
   "cell_type": "code",
   "execution_count": 2,
   "metadata": {
    "tags": []
   },
   "outputs": [],
   "source": [
    "import duckdb\n",
    "import polars as pl\n",
    "\n",
    "# from IPython import display\n",
    "import geopandas as gpd\n",
    "from shapely import wkt"
   ]
  },
  {
   "cell_type": "markdown",
   "metadata": {},
   "source": [
    "### Create Database Connection\n"
   ]
  },
  {
   "cell_type": "code",
   "execution_count": 3,
   "metadata": {},
   "outputs": [
    {
     "data": {
      "text/html": [
       "<span style=\"None\">Loading configurations from /home/workspaces/DSP-compose/pyproject.toml.</span>"
      ],
      "text/plain": [
       "Loading configurations from /home/workspaces/DSP-compose/pyproject.toml."
      ]
     },
     "metadata": {},
     "output_type": "display_data"
    },
    {
     "data": {
      "text/html": [
       "<span style=\"None\">Settings changed:</span>"
      ],
      "text/plain": [
       "Settings changed:"
      ]
     },
     "metadata": {},
     "output_type": "display_data"
    },
    {
     "data": {
      "text/html": [
       "\n",
       "<table>\n",
       "    <thead>\n",
       "        <tr>\n",
       "            <th>Config</th>\n",
       "            <th>value</th>\n",
       "        </tr>\n",
       "    </thead>\n",
       "    <tbody>\n",
       "        <tr>\n",
       "            <td>displaycon</td>\n",
       "            <td>False</td>\n",
       "        </tr>\n",
       "        <tr>\n",
       "            <td>feedback</td>\n",
       "            <td>True</td>\n",
       "        </tr>\n",
       "        <tr>\n",
       "            <td>autopandas</td>\n",
       "            <td>True</td>\n",
       "        </tr>\n",
       "    </tbody>\n",
       "</table>"
      ],
      "text/plain": [
       "\n",
       "+------------+-------+\n",
       "|   Config   | value |\n",
       "+------------+-------+\n",
       "| displaycon | False |\n",
       "|  feedback  |  True |\n",
       "| autopandas |  True |\n",
       "+------------+-------+"
      ]
     },
     "metadata": {},
     "output_type": "display_data"
    }
   ],
   "source": [
    "%load_ext sql\n",
    "conn = duckdb.connect(database=\"../dsp-dagster/data_systems_project.duckdb\")\n",
    "%sql conn --alias duckdb"
   ]
  },
  {
   "cell_type": "code",
   "execution_count": 4,
   "metadata": {},
   "outputs": [
    {
     "data": {
      "text/html": [
       "<div>\n",
       "<style scoped>\n",
       "    .dataframe tbody tr th:only-of-type {\n",
       "        vertical-align: middle;\n",
       "    }\n",
       "\n",
       "    .dataframe tbody tr th {\n",
       "        vertical-align: top;\n",
       "    }\n",
       "\n",
       "    .dataframe thead th {\n",
       "        text-align: right;\n",
       "    }\n",
       "</style>\n",
       "<table border=\"1\" class=\"dataframe\">\n",
       "  <thead>\n",
       "    <tr style=\"text-align: right;\">\n",
       "      <th></th>\n",
       "      <th>database</th>\n",
       "      <th>schema</th>\n",
       "      <th>name</th>\n",
       "      <th>column_names</th>\n",
       "      <th>column_types</th>\n",
       "      <th>temporary</th>\n",
       "    </tr>\n",
       "  </thead>\n",
       "  <tbody>\n",
       "    <tr>\n",
       "      <th>0</th>\n",
       "      <td>data_systems_project</td>\n",
       "      <td>public</td>\n",
       "      <td>cbs_buurten</td>\n",
       "      <td>[geometry, buurtcode, buurtnaam, wijkcode, gem...</td>\n",
       "      <td>[VARCHAR, VARCHAR, VARCHAR, VARCHAR, VARCHAR, ...</td>\n",
       "      <td>False</td>\n",
       "    </tr>\n",
       "    <tr>\n",
       "      <th>1</th>\n",
       "      <td>data_systems_project</td>\n",
       "      <td>public</td>\n",
       "      <td>cbs_wijken</td>\n",
       "      <td>[geometry, wijkcode, wijknaam, gemeentecode, g...</td>\n",
       "      <td>[VARCHAR, VARCHAR, VARCHAR, VARCHAR, VARCHAR, ...</td>\n",
       "      <td>False</td>\n",
       "    </tr>\n",
       "    <tr>\n",
       "      <th>2</th>\n",
       "      <td>data_systems_project</td>\n",
       "      <td>public</td>\n",
       "      <td>fire_stations_and_vehicles</td>\n",
       "      <td>[Fire_Station, Vehicle, Vehicle_Type]</td>\n",
       "      <td>[VARCHAR, VARCHAR, VARCHAR]</td>\n",
       "      <td>False</td>\n",
       "    </tr>\n",
       "    <tr>\n",
       "      <th>3</th>\n",
       "      <td>data_systems_project</td>\n",
       "      <td>public</td>\n",
       "      <td>service_areas</td>\n",
       "      <td>[H_Verzorgingsgebied_ID, Verzorgingsgebied, LA...</td>\n",
       "      <td>[BIGINT, VARCHAR, DOUBLE, DOUBLE, VARCHAR]</td>\n",
       "      <td>False</td>\n",
       "    </tr>\n",
       "    <tr>\n",
       "      <th>4</th>\n",
       "      <td>data_systems_project</td>\n",
       "      <td>public</td>\n",
       "      <td>storm_deployments</td>\n",
       "      <td>[Deployment_ID, Incident_ID, Vehicle_Type, Veh...</td>\n",
       "      <td>[BIGINT, BIGINT, VARCHAR, VARCHAR, VARCHAR, VA...</td>\n",
       "      <td>False</td>\n",
       "    </tr>\n",
       "    <tr>\n",
       "      <th>5</th>\n",
       "      <td>data_systems_project</td>\n",
       "      <td>public</td>\n",
       "      <td>storm_incidents</td>\n",
       "      <td>[Incident_ID, Date, Incident_Starttime, Incide...</td>\n",
       "      <td>[BIGINT, TIMESTAMP_MS, TIME, TIME, TIME, DOUBL...</td>\n",
       "      <td>False</td>\n",
       "    </tr>\n",
       "  </tbody>\n",
       "</table>\n",
       "</div>"
      ],
      "text/plain": [
       "               database  schema                        name  \\\n",
       "0  data_systems_project  public                 cbs_buurten   \n",
       "1  data_systems_project  public                  cbs_wijken   \n",
       "2  data_systems_project  public  fire_stations_and_vehicles   \n",
       "3  data_systems_project  public               service_areas   \n",
       "4  data_systems_project  public           storm_deployments   \n",
       "5  data_systems_project  public             storm_incidents   \n",
       "\n",
       "                                        column_names  \\\n",
       "0  [geometry, buurtcode, buurtnaam, wijkcode, gem...   \n",
       "1  [geometry, wijkcode, wijknaam, gemeentecode, g...   \n",
       "2              [Fire_Station, Vehicle, Vehicle_Type]   \n",
       "3  [H_Verzorgingsgebied_ID, Verzorgingsgebied, LA...   \n",
       "4  [Deployment_ID, Incident_ID, Vehicle_Type, Veh...   \n",
       "5  [Incident_ID, Date, Incident_Starttime, Incide...   \n",
       "\n",
       "                                        column_types  temporary  \n",
       "0  [VARCHAR, VARCHAR, VARCHAR, VARCHAR, VARCHAR, ...      False  \n",
       "1  [VARCHAR, VARCHAR, VARCHAR, VARCHAR, VARCHAR, ...      False  \n",
       "2                        [VARCHAR, VARCHAR, VARCHAR]      False  \n",
       "3         [BIGINT, VARCHAR, DOUBLE, DOUBLE, VARCHAR]      False  \n",
       "4  [BIGINT, BIGINT, VARCHAR, VARCHAR, VARCHAR, VA...      False  \n",
       "5  [BIGINT, TIMESTAMP_MS, TIME, TIME, TIME, DOUBL...      False  "
      ]
     },
     "execution_count": 4,
     "metadata": {},
     "output_type": "execute_result"
    }
   ],
   "source": [
    "%sql SHOW ALL TABLES; # shows all available tables"
   ]
  },
  {
   "cell_type": "markdown",
   "metadata": {},
   "source": [
    "##### Drop Tables\n"
   ]
  },
  {
   "cell_type": "code",
   "execution_count": null,
   "metadata": {},
   "outputs": [],
   "source": [
    "# %sql DROP TABLE joined.incident_deployments_vehicles_weather;\n",
    "# %sql DROP TABLE joined.incident_deployments_vehicles_wijken;\n",
    "# %sql DROP TABLE joined.incident_deployments_vehicles;\n",
    "# %sql DROP TABLE joined.incidents_buurten;\n",
    "%sql DROP TABLE joined.knmi_weather_txt;\n",
    "# %sql DROP TABLE joined.buurten_trees;\n",
    "# %sql DROP TABLE cleaned.cleaned_storm_incidents;\n",
    "# %sql DROP TABLE joined.buurten_incidents_trees;"
   ]
  },
  {
   "cell_type": "code",
   "execution_count": 5,
   "metadata": {},
   "outputs": [
    {
     "ename": "CatalogException",
     "evalue": "Catalog Error: Table with name buurten_incidents_trees does not exist!\nDid you mean \"buurten_incidents\"?\nLINE 2:     SELECT * FROM joined.buurten_incidents_trees\n                          ^",
     "output_type": "error",
     "traceback": [
      "\u001b[0;31m---------------------------------------------------------------------------\u001b[0m",
      "\u001b[0;31mCatalogException\u001b[0m                          Traceback (most recent call last)",
      "Cell \u001b[0;32mIn[5], line 1\u001b[0m\n\u001b[0;32m----> 1\u001b[0m buurten_incidents_trees \u001b[38;5;241m=\u001b[39m \u001b[43mconn\u001b[49m\u001b[38;5;241;43m.\u001b[39;49m\u001b[43mexecute\u001b[49m\u001b[43m(\u001b[49m\n\u001b[1;32m      2\u001b[0m \u001b[38;5;250;43m    \u001b[39;49m\u001b[38;5;124;43;03m\"\"\"\u001b[39;49;00m\n\u001b[1;32m      3\u001b[0m \u001b[38;5;124;43;03m    SELECT * FROM joined.buurten_incidents_trees\u001b[39;49;00m\n\u001b[1;32m      4\u001b[0m \u001b[38;5;124;43;03m    \"\"\"\u001b[39;49;00m\n\u001b[1;32m      5\u001b[0m \u001b[43m)\u001b[49m\u001b[38;5;241m.\u001b[39mpl()\n\u001b[1;32m      8\u001b[0m \u001b[38;5;66;03m# Close the database connection\u001b[39;00m\n\u001b[1;32m      9\u001b[0m conn\u001b[38;5;241m.\u001b[39mclose()\n",
      "\u001b[0;31mCatalogException\u001b[0m: Catalog Error: Table with name buurten_incidents_trees does not exist!\nDid you mean \"buurten_incidents\"?\nLINE 2:     SELECT * FROM joined.buurten_incidents_trees\n                          ^"
     ]
    }
   ],
   "source": [
    "buurten_incidents_trees = conn.execute(\n",
    "    \"\"\"\n",
    "    SELECT * FROM joined.buurten_incidents_trees\n",
    "    \"\"\"\n",
    ").pl()\n",
    "\n",
    "\n",
    "# Close the database connection\n",
    "conn.close()"
   ]
  },
  {
   "cell_type": "code",
   "execution_count": 6,
   "metadata": {},
   "outputs": [],
   "source": [
    "def convert_to_geodf(polars_df: pl.DataFrame) -> gpd.GeoDataFrame:\n",
    "    \"\"\"\n",
    "    Convert a Polars DataFrame to a GeoDataFrame using WKB or WKT transformation.\n",
    "    \"\"\"\n",
    "\n",
    "    # Convert Polars DataFrame to Pandas DataFrame\n",
    "    df = polars_df.to_pandas()\n",
    "\n",
    "    # Convert geometry strings back to geometry objects\n",
    "    if \"geometry\" in df.columns:\n",
    "        df[\"geometry\"] = df[\"geometry\"].apply(wkt.loads)\n",
    "\n",
    "    else:\n",
    "        raise ValueError(\"No 'geometry' column found in the DataFrame\")\n",
    "\n",
    "    # Convert back to GeoDataFrame\n",
    "    return gpd.GeoDataFrame(df, geometry=\"geometry\", crs=\"EPSG:4326\")\n",
    "\n",
    "\n",
    "def convert_to_polars(gdf: gpd.GeoDataFrame) -> pl.DataFrame:\n",
    "    \"\"\"\n",
    "    Convert a GeoDataFrame to a Polars DataFrame, converting geometries to WKB strings.\n",
    "    \"\"\"\n",
    "    # If geometry conversion is necessary, uncomment the following line\n",
    "    # gdf[\"geometry\"] = gdf[\"geometry\"].apply(lambda geom: wkb_dumps(geom, hex=True))\n",
    "    gdf[\"geometry\"] = gdf[\"geometry\"].apply(wkt.dumps)\n",
    "\n",
    "    # Convert to Polars DataFrame\n",
    "    return pl.from_pandas(gdf)"
   ]
  },
  {
   "cell_type": "markdown",
   "metadata": {},
   "source": [
    "### Buurten Incidents\n"
   ]
  },
  {
   "cell_type": "code",
   "execution_count": 7,
   "metadata": {},
   "outputs": [
    {
     "ename": "NameError",
     "evalue": "name 'buurten_incidents' is not defined",
     "output_type": "error",
     "traceback": [
      "\u001b[0;31m---------------------------------------------------------------------------\u001b[0m",
      "\u001b[0;31mNameError\u001b[0m                                 Traceback (most recent call last)",
      "Cell \u001b[0;32mIn[7], line 1\u001b[0m\n\u001b[0;32m----> 1\u001b[0m \u001b[38;5;28mprint\u001b[39m(\u001b[43mbuurten_incidents\u001b[49m\u001b[38;5;241m.\u001b[39mcolumns)\n\u001b[1;32m      2\u001b[0m buurten_incidents\u001b[38;5;241m.\u001b[39mhead()\n",
      "\u001b[0;31mNameError\u001b[0m: name 'buurten_incidents' is not defined"
     ]
    }
   ],
   "source": [
    "print(buurten_incidents.columns)\n",
    "buurten_incidents.head()"
   ]
  },
  {
   "cell_type": "code",
   "execution_count": null,
   "metadata": {},
   "outputs": [],
   "source": [
    "df = buurten_incidents.group_by(\n",
    "    [\n",
    "        \"buurtcode\",\n",
    "        \"Date\",\n",
    "        \"Incident_Starttime_Hour\",\n",
    "        \"Damage_Type\",\n",
    "    ]\n",
    ").agg(pl.col(\"Incident_ID\").count().alias(\"Totaal\"))"
   ]
  },
  {
   "cell_type": "markdown",
   "metadata": {},
   "source": [
    "### Importing dataframes from parquet"
   ]
  },
  {
   "cell_type": "code",
   "execution_count": 8,
   "metadata": {},
   "outputs": [
    {
     "data": {
      "text/html": [
       "<div><style>\n",
       ".dataframe > thead > tr,\n",
       ".dataframe > tbody > tr {\n",
       "  text-align: right;\n",
       "  white-space: pre-wrap;\n",
       "}\n",
       "</style>\n",
       "<small>shape: (5_067, 254)</small><table border=\"1\" class=\"dataframe\"><thead><tr><th>geometry</th><th>buurtcode</th><th>buurtnaam</th><th>wijkcode</th><th>gemeentecode</th><th>gemeentenaam</th><th>indelingswijzigingWijkenEnBuurten</th><th>water</th><th>meestVoorkomendePostcode</th><th>dekkingspercentage</th><th>omgevingsadressendichtheid</th><th>stedelijkheidAdressenPerKm2</th><th>bevolkingsdichtheidInwonersPerKm2</th><th>aantalInwoners</th><th>mannen</th><th>vrouwen</th><th>percentagePersonen0Tot15Jaar</th><th>percentagePersonen15Tot25Jaar</th><th>percentagePersonen25Tot45Jaar</th><th>percentagePersonen45Tot65Jaar</th><th>percentagePersonen65JaarEnOuder</th><th>percentageOngehuwd</th><th>percentageGehuwd</th><th>percentageGescheid</th><th>percentageVerweduwd</th><th>aantalHuishoudens</th><th>percentageEenpersoonshuishoudens</th><th>percentageHuishoudensZonderKinderen</th><th>percentageHuishoudensMetKinderen</th><th>gemiddeldeHuishoudsgrootte</th><th>percentageWesterseMigratieachtergrond</th><th>percentageNietWesterseMigratieachtergrond</th><th>percentageUitMarokko</th><th>percentageUitNederlandseAntillenEnAruba</th><th>percentageUitSuriname</th><th>percentageUitTurkije</th><th>percentageOverigeNietwestersemigratieachtergrond</th><th>&hellip;</th><th>Trees_soortnaamTop_Albizia</th><th>Trees_soortnaamTop_Tetracentron</th><th>Trees_soortnaamTop_Oxydendrum</th><th>Trees_soortnaamTop_Cladrastis</th><th>Trees_standplaatsGedetailleerd_Straatbaksteen</th><th>Trees_standplaatsGedetailleerd_Lijnvormige-haag</th><th>Trees_standplaatsGedetailleerd_Gazon</th><th>Trees_standplaatsGedetailleerd_Tegels</th><th>Trees_standplaatsGedetailleerd_Bomen-en-struikvormers</th><th>Trees_standplaatsGedetailleerd_Fijne-sierheester</th><th>Trees_standplaatsGedetailleerd_Vaste-planten</th><th>Trees_standplaatsGedetailleerd_Struikvormers</th><th>Trees_standplaatsGedetailleerd_Betonstraatstenen</th><th>Trees_standplaatsGedetailleerd_Ruw-gras</th><th>Trees_standplaatsGedetailleerd_Bloemrijk-gras</th><th>Trees_standplaatsGedetailleerd_Bodembedekkende-heesters</th><th>Trees_standplaatsGedetailleerd_Cultuurrozen</th><th>Trees_standplaatsGedetailleerd_Ruigte</th><th>Trees_standplaatsGedetailleerd_Los</th><th>Trees_standplaatsGedetailleerd_Sierbestrating</th><th>Trees_standplaatsGedetailleerd_Samenhangend</th><th>Trees_standplaatsGedetailleerd_Boomvormers</th><th>Trees_standplaatsGedetailleerd_Dichte-deklagen</th><th>Trees_standplaatsGedetailleerd_Ongewapend-nietverdeuveld-beton</th><th>Trees_standplaatsGedetailleerd_Blokhaag</th><th>Trees_standplaatsGedetailleerd_Grove-sierheester</th><th>Trees_standplaatsGedetailleerd_Heesterrozen</th><th>Trees_standplaatsGedetailleerd_Botanische-rozen</th><th>Trees_stamdiameterklasse_0,1-tot-0,2-m.</th><th>Trees_stamdiameterklasse_0,5-tot-1-m.</th><th>Trees_stamdiameterklasse_0,3-tot-0,5-m.</th><th>Trees_stamdiameterklasse_0,2-tot-0,3-m.</th><th>Trees_stamdiameterklasse_1,0-tot-1,5-m.</th><th>Incidents_Date</th><th>Incidents_Incident_Starttime_Hour</th><th>Incidents_Damage_Type</th><th>Incidents_Total</th></tr><tr><td>str</td><td>str</td><td>str</td><td>str</td><td>str</td><td>str</td><td>i64</td><td>str</td><td>str</td><td>i64</td><td>i64</td><td>i64</td><td>i64</td><td>i64</td><td>i64</td><td>i64</td><td>i64</td><td>i64</td><td>i64</td><td>i64</td><td>i64</td><td>i64</td><td>i64</td><td>i64</td><td>i64</td><td>i64</td><td>i64</td><td>i64</td><td>i64</td><td>f64</td><td>i64</td><td>i64</td><td>i64</td><td>i64</td><td>i64</td><td>i64</td><td>i64</td><td>&hellip;</td><td>u32</td><td>u32</td><td>u32</td><td>u32</td><td>u32</td><td>u32</td><td>u32</td><td>u32</td><td>u32</td><td>u32</td><td>u32</td><td>u32</td><td>u32</td><td>u32</td><td>u32</td><td>u32</td><td>u32</td><td>u32</td><td>u32</td><td>u32</td><td>u32</td><td>u32</td><td>u32</td><td>u32</td><td>u32</td><td>u32</td><td>u32</td><td>u32</td><td>u32</td><td>u32</td><td>u32</td><td>u32</td><td>u32</td><td>datetime[ms]</td><td>i8</td><td>str</td><td>u32</td></tr></thead><tbody><tr><td>&quot;MULTIPOLYGON (…</td><td>&quot;BU04792130&quot;</td><td>&quot;Het Eiland&quot;</td><td>&quot;WK047921&quot;</td><td>&quot;GM0479&quot;</td><td>&quot;Zaanstad&quot;</td><td>1</td><td>&quot;NEE&quot;</td><td>&quot;1506&quot;</td><td>1</td><td>3064</td><td>1</td><td>9972</td><td>1265</td><td>630</td><td>635</td><td>13</td><td>14</td><td>13</td><td>33</td><td>27</td><td>41</td><td>46</td><td>7</td><td>7</td><td>540</td><td>27</td><td>34</td><td>39</td><td>2.3</td><td>12</td><td>13</td><td>1</td><td>1</td><td>4</td><td>3</td><td>5</td><td>&hellip;</td><td>null</td><td>null</td><td>null</td><td>null</td><td>null</td><td>null</td><td>null</td><td>null</td><td>null</td><td>null</td><td>null</td><td>null</td><td>null</td><td>null</td><td>null</td><td>null</td><td>null</td><td>null</td><td>null</td><td>null</td><td>null</td><td>null</td><td>null</td><td>null</td><td>null</td><td>null</td><td>null</td><td>null</td><td>null</td><td>null</td><td>null</td><td>null</td><td>null</td><td>null</td><td>null</td><td>null</td><td>null</td></tr><tr><td>&quot;MULTIPOLYGON (…</td><td>&quot;BU04796120&quot;</td><td>&quot;Noorderhoofdbu…</td><td>&quot;WK047961&quot;</td><td>&quot;GM0479&quot;</td><td>&quot;Zaanstad&quot;</td><td>1</td><td>&quot;NEE&quot;</td><td>&quot;1561&quot;</td><td>1</td><td>2171</td><td>2</td><td>5036</td><td>2040</td><td>1020</td><td>1020</td><td>13</td><td>8</td><td>26</td><td>28</td><td>26</td><td>48</td><td>33</td><td>12</td><td>7</td><td>1140</td><td>52</td><td>24</td><td>24</td><td>1.8</td><td>8</td><td>12</td><td>2</td><td>0</td><td>2</td><td>3</td><td>4</td><td>&hellip;</td><td>null</td><td>null</td><td>null</td><td>null</td><td>null</td><td>null</td><td>null</td><td>null</td><td>null</td><td>null</td><td>null</td><td>null</td><td>null</td><td>null</td><td>null</td><td>null</td><td>null</td><td>null</td><td>null</td><td>null</td><td>null</td><td>null</td><td>null</td><td>null</td><td>null</td><td>null</td><td>null</td><td>null</td><td>null</td><td>null</td><td>null</td><td>null</td><td>null</td><td>null</td><td>null</td><td>null</td><td>null</td></tr><tr><td>&quot;MULTIPOLYGON (…</td><td>&quot;BU03620401&quot;</td><td>&quot;Stadshart&quot;</td><td>&quot;WK036204&quot;</td><td>&quot;GM0362&quot;</td><td>&quot;Amstelveen&quot;</td><td>1</td><td>&quot;NEE&quot;</td><td>&quot;1181&quot;</td><td>1</td><td>3693</td><td>1</td><td>6297</td><td>3480</td><td>1780</td><td>1700</td><td>17</td><td>7</td><td>36</td><td>23</td><td>18</td><td>47</td><td>43</td><td>6</td><td>4</td><td>1780</td><td>47</td><td>25</td><td>29</td><td>2.0</td><td>31</td><td>37</td><td>1</td><td>1</td><td>2</td><td>1</td><td>32</td><td>&hellip;</td><td>null</td><td>null</td><td>null</td><td>null</td><td>null</td><td>null</td><td>null</td><td>null</td><td>null</td><td>null</td><td>null</td><td>null</td><td>null</td><td>null</td><td>null</td><td>null</td><td>null</td><td>null</td><td>null</td><td>null</td><td>null</td><td>null</td><td>null</td><td>null</td><td>null</td><td>null</td><td>null</td><td>null</td><td>null</td><td>null</td><td>null</td><td>null</td><td>null</td><td>2023-03-13 00:00:00</td><td>15</td><td>&quot;Building&quot;</td><td>1</td></tr><tr><td>&quot;MULTIPOLYGON (…</td><td>&quot;BU03620401&quot;</td><td>&quot;Stadshart&quot;</td><td>&quot;WK036204&quot;</td><td>&quot;GM0362&quot;</td><td>&quot;Amstelveen&quot;</td><td>1</td><td>&quot;NEE&quot;</td><td>&quot;1181&quot;</td><td>1</td><td>3693</td><td>1</td><td>6297</td><td>3480</td><td>1780</td><td>1700</td><td>17</td><td>7</td><td>36</td><td>23</td><td>18</td><td>47</td><td>43</td><td>6</td><td>4</td><td>1780</td><td>47</td><td>25</td><td>29</td><td>2.0</td><td>31</td><td>37</td><td>1</td><td>1</td><td>2</td><td>1</td><td>32</td><td>&hellip;</td><td>null</td><td>null</td><td>null</td><td>null</td><td>null</td><td>null</td><td>null</td><td>null</td><td>null</td><td>null</td><td>null</td><td>null</td><td>null</td><td>null</td><td>null</td><td>null</td><td>null</td><td>null</td><td>null</td><td>null</td><td>null</td><td>null</td><td>null</td><td>null</td><td>null</td><td>null</td><td>null</td><td>null</td><td>null</td><td>null</td><td>null</td><td>null</td><td>null</td><td>2022-02-18 00:00:00</td><td>15</td><td>&quot;Fence, Road si…</td><td>1</td></tr><tr><td>&quot;MULTIPOLYGON (…</td><td>&quot;BU03620401&quot;</td><td>&quot;Stadshart&quot;</td><td>&quot;WK036204&quot;</td><td>&quot;GM0362&quot;</td><td>&quot;Amstelveen&quot;</td><td>1</td><td>&quot;NEE&quot;</td><td>&quot;1181&quot;</td><td>1</td><td>3693</td><td>1</td><td>6297</td><td>3480</td><td>1780</td><td>1700</td><td>17</td><td>7</td><td>36</td><td>23</td><td>18</td><td>47</td><td>43</td><td>6</td><td>4</td><td>1780</td><td>47</td><td>25</td><td>29</td><td>2.0</td><td>31</td><td>37</td><td>1</td><td>1</td><td>2</td><td>1</td><td>32</td><td>&hellip;</td><td>null</td><td>null</td><td>null</td><td>null</td><td>null</td><td>null</td><td>null</td><td>null</td><td>null</td><td>null</td><td>null</td><td>null</td><td>null</td><td>null</td><td>null</td><td>null</td><td>null</td><td>null</td><td>null</td><td>null</td><td>null</td><td>null</td><td>null</td><td>null</td><td>null</td><td>null</td><td>null</td><td>null</td><td>null</td><td>null</td><td>null</td><td>null</td><td>null</td><td>2019-03-07 00:00:00</td><td>23</td><td>&quot;Unknown&quot;</td><td>1</td></tr><tr><td>&quot;MULTIPOLYGON (…</td><td>&quot;BU03620401&quot;</td><td>&quot;Stadshart&quot;</td><td>&quot;WK036204&quot;</td><td>&quot;GM0362&quot;</td><td>&quot;Amstelveen&quot;</td><td>1</td><td>&quot;NEE&quot;</td><td>&quot;1181&quot;</td><td>1</td><td>3693</td><td>1</td><td>6297</td><td>3480</td><td>1780</td><td>1700</td><td>17</td><td>7</td><td>36</td><td>23</td><td>18</td><td>47</td><td>43</td><td>6</td><td>4</td><td>1780</td><td>47</td><td>25</td><td>29</td><td>2.0</td><td>31</td><td>37</td><td>1</td><td>1</td><td>2</td><td>1</td><td>32</td><td>&hellip;</td><td>null</td><td>null</td><td>null</td><td>null</td><td>null</td><td>null</td><td>null</td><td>null</td><td>null</td><td>null</td><td>null</td><td>null</td><td>null</td><td>null</td><td>null</td><td>null</td><td>null</td><td>null</td><td>null</td><td>null</td><td>null</td><td>null</td><td>null</td><td>null</td><td>null</td><td>null</td><td>null</td><td>null</td><td>null</td><td>null</td><td>null</td><td>null</td><td>null</td><td>2019-08-10 00:00:00</td><td>6</td><td>&quot;Building&quot;</td><td>1</td></tr><tr><td>&quot;MULTIPOLYGON (…</td><td>&quot;BU03620401&quot;</td><td>&quot;Stadshart&quot;</td><td>&quot;WK036204&quot;</td><td>&quot;GM0362&quot;</td><td>&quot;Amstelveen&quot;</td><td>1</td><td>&quot;NEE&quot;</td><td>&quot;1181&quot;</td><td>1</td><td>3693</td><td>1</td><td>6297</td><td>3480</td><td>1780</td><td>1700</td><td>17</td><td>7</td><td>36</td><td>23</td><td>18</td><td>47</td><td>43</td><td>6</td><td>4</td><td>1780</td><td>47</td><td>25</td><td>29</td><td>2.0</td><td>31</td><td>37</td><td>1</td><td>1</td><td>2</td><td>1</td><td>32</td><td>&hellip;</td><td>null</td><td>null</td><td>null</td><td>null</td><td>null</td><td>null</td><td>null</td><td>null</td><td>null</td><td>null</td><td>null</td><td>null</td><td>null</td><td>null</td><td>null</td><td>null</td><td>null</td><td>null</td><td>null</td><td>null</td><td>null</td><td>null</td><td>null</td><td>null</td><td>null</td><td>null</td><td>null</td><td>null</td><td>null</td><td>null</td><td>null</td><td>null</td><td>null</td><td>2021-05-22 00:00:00</td><td>10</td><td>&quot;Tree&quot;</td><td>1</td></tr><tr><td>&quot;MULTIPOLYGON (…</td><td>&quot;BU03620401&quot;</td><td>&quot;Stadshart&quot;</td><td>&quot;WK036204&quot;</td><td>&quot;GM0362&quot;</td><td>&quot;Amstelveen&quot;</td><td>1</td><td>&quot;NEE&quot;</td><td>&quot;1181&quot;</td><td>1</td><td>3693</td><td>1</td><td>6297</td><td>3480</td><td>1780</td><td>1700</td><td>17</td><td>7</td><td>36</td><td>23</td><td>18</td><td>47</td><td>43</td><td>6</td><td>4</td><td>1780</td><td>47</td><td>25</td><td>29</td><td>2.0</td><td>31</td><td>37</td><td>1</td><td>1</td><td>2</td><td>1</td><td>32</td><td>&hellip;</td><td>null</td><td>null</td><td>null</td><td>null</td><td>null</td><td>null</td><td>null</td><td>null</td><td>null</td><td>null</td><td>null</td><td>null</td><td>null</td><td>null</td><td>null</td><td>null</td><td>null</td><td>null</td><td>null</td><td>null</td><td>null</td><td>null</td><td>null</td><td>null</td><td>null</td><td>null</td><td>null</td><td>null</td><td>null</td><td>null</td><td>null</td><td>null</td><td>null</td><td>2021-03-14 00:00:00</td><td>1</td><td>&quot;Tree&quot;</td><td>1</td></tr><tr><td>&quot;MULTIPOLYGON (…</td><td>&quot;BU03620401&quot;</td><td>&quot;Stadshart&quot;</td><td>&quot;WK036204&quot;</td><td>&quot;GM0362&quot;</td><td>&quot;Amstelveen&quot;</td><td>1</td><td>&quot;NEE&quot;</td><td>&quot;1181&quot;</td><td>1</td><td>3693</td><td>1</td><td>6297</td><td>3480</td><td>1780</td><td>1700</td><td>17</td><td>7</td><td>36</td><td>23</td><td>18</td><td>47</td><td>43</td><td>6</td><td>4</td><td>1780</td><td>47</td><td>25</td><td>29</td><td>2.0</td><td>31</td><td>37</td><td>1</td><td>1</td><td>2</td><td>1</td><td>32</td><td>&hellip;</td><td>null</td><td>null</td><td>null</td><td>null</td><td>null</td><td>null</td><td>null</td><td>null</td><td>null</td><td>null</td><td>null</td><td>null</td><td>null</td><td>null</td><td>null</td><td>null</td><td>null</td><td>null</td><td>null</td><td>null</td><td>null</td><td>null</td><td>null</td><td>null</td><td>null</td><td>null</td><td>null</td><td>null</td><td>null</td><td>null</td><td>null</td><td>null</td><td>null</td><td>2018-08-09 00:00:00</td><td>21</td><td>&quot;Tree&quot;</td><td>1</td></tr><tr><td>&quot;MULTIPOLYGON (…</td><td>&quot;BU03620401&quot;</td><td>&quot;Stadshart&quot;</td><td>&quot;WK036204&quot;</td><td>&quot;GM0362&quot;</td><td>&quot;Amstelveen&quot;</td><td>1</td><td>&quot;NEE&quot;</td><td>&quot;1181&quot;</td><td>1</td><td>3693</td><td>1</td><td>6297</td><td>3480</td><td>1780</td><td>1700</td><td>17</td><td>7</td><td>36</td><td>23</td><td>18</td><td>47</td><td>43</td><td>6</td><td>4</td><td>1780</td><td>47</td><td>25</td><td>29</td><td>2.0</td><td>31</td><td>37</td><td>1</td><td>1</td><td>2</td><td>1</td><td>32</td><td>&hellip;</td><td>null</td><td>null</td><td>null</td><td>null</td><td>null</td><td>null</td><td>null</td><td>null</td><td>null</td><td>null</td><td>null</td><td>null</td><td>null</td><td>null</td><td>null</td><td>null</td><td>null</td><td>null</td><td>null</td><td>null</td><td>null</td><td>null</td><td>null</td><td>null</td><td>null</td><td>null</td><td>null</td><td>null</td><td>null</td><td>null</td><td>null</td><td>null</td><td>null</td><td>2020-02-09 00:00:00</td><td>12</td><td>&quot;Building&quot;</td><td>1</td></tr><tr><td>&quot;MULTIPOLYGON (…</td><td>&quot;BU03620401&quot;</td><td>&quot;Stadshart&quot;</td><td>&quot;WK036204&quot;</td><td>&quot;GM0362&quot;</td><td>&quot;Amstelveen&quot;</td><td>1</td><td>&quot;NEE&quot;</td><td>&quot;1181&quot;</td><td>1</td><td>3693</td><td>1</td><td>6297</td><td>3480</td><td>1780</td><td>1700</td><td>17</td><td>7</td><td>36</td><td>23</td><td>18</td><td>47</td><td>43</td><td>6</td><td>4</td><td>1780</td><td>47</td><td>25</td><td>29</td><td>2.0</td><td>31</td><td>37</td><td>1</td><td>1</td><td>2</td><td>1</td><td>32</td><td>&hellip;</td><td>null</td><td>null</td><td>null</td><td>null</td><td>null</td><td>null</td><td>null</td><td>null</td><td>null</td><td>null</td><td>null</td><td>null</td><td>null</td><td>null</td><td>null</td><td>null</td><td>null</td><td>null</td><td>null</td><td>null</td><td>null</td><td>null</td><td>null</td><td>null</td><td>null</td><td>null</td><td>null</td><td>null</td><td>null</td><td>null</td><td>null</td><td>null</td><td>null</td><td>2009-10-04 00:00:00</td><td>0</td><td>&quot;Unknown&quot;</td><td>1</td></tr><tr><td>&quot;MULTIPOLYGON (…</td><td>&quot;BU03620401&quot;</td><td>&quot;Stadshart&quot;</td><td>&quot;WK036204&quot;</td><td>&quot;GM0362&quot;</td><td>&quot;Amstelveen&quot;</td><td>1</td><td>&quot;NEE&quot;</td><td>&quot;1181&quot;</td><td>1</td><td>3693</td><td>1</td><td>6297</td><td>3480</td><td>1780</td><td>1700</td><td>17</td><td>7</td><td>36</td><td>23</td><td>18</td><td>47</td><td>43</td><td>6</td><td>4</td><td>1780</td><td>47</td><td>25</td><td>29</td><td>2.0</td><td>31</td><td>37</td><td>1</td><td>1</td><td>2</td><td>1</td><td>32</td><td>&hellip;</td><td>null</td><td>null</td><td>null</td><td>null</td><td>null</td><td>null</td><td>null</td><td>null</td><td>null</td><td>null</td><td>null</td><td>null</td><td>null</td><td>null</td><td>null</td><td>null</td><td>null</td><td>null</td><td>null</td><td>null</td><td>null</td><td>null</td><td>null</td><td>null</td><td>null</td><td>null</td><td>null</td><td>null</td><td>null</td><td>null</td><td>null</td><td>null</td><td>null</td><td>2023-03-13 00:00:00</td><td>16</td><td>&quot;Building&quot;</td><td>1</td></tr><tr><td>&hellip;</td><td>&hellip;</td><td>&hellip;</td><td>&hellip;</td><td>&hellip;</td><td>&hellip;</td><td>&hellip;</td><td>&hellip;</td><td>&hellip;</td><td>&hellip;</td><td>&hellip;</td><td>&hellip;</td><td>&hellip;</td><td>&hellip;</td><td>&hellip;</td><td>&hellip;</td><td>&hellip;</td><td>&hellip;</td><td>&hellip;</td><td>&hellip;</td><td>&hellip;</td><td>&hellip;</td><td>&hellip;</td><td>&hellip;</td><td>&hellip;</td><td>&hellip;</td><td>&hellip;</td><td>&hellip;</td><td>&hellip;</td><td>&hellip;</td><td>&hellip;</td><td>&hellip;</td><td>&hellip;</td><td>&hellip;</td><td>&hellip;</td><td>&hellip;</td><td>&hellip;</td><td>&hellip;</td><td>&hellip;</td><td>&hellip;</td><td>&hellip;</td><td>&hellip;</td><td>&hellip;</td><td>&hellip;</td><td>&hellip;</td><td>&hellip;</td><td>&hellip;</td><td>&hellip;</td><td>&hellip;</td><td>&hellip;</td><td>&hellip;</td><td>&hellip;</td><td>&hellip;</td><td>&hellip;</td><td>&hellip;</td><td>&hellip;</td><td>&hellip;</td><td>&hellip;</td><td>&hellip;</td><td>&hellip;</td><td>&hellip;</td><td>&hellip;</td><td>&hellip;</td><td>&hellip;</td><td>&hellip;</td><td>&hellip;</td><td>&hellip;</td><td>&hellip;</td><td>&hellip;</td><td>&hellip;</td><td>&hellip;</td><td>&hellip;</td><td>&hellip;</td><td>&hellip;</td><td>&hellip;</td></tr><tr><td>&quot;MULTIPOLYGON (…</td><td>&quot;BU03639410&quot;</td><td>&quot;Kantershof&quot;</td><td>&quot;WK036394&quot;</td><td>&quot;GM0363&quot;</td><td>&quot;Amsterdam&quot;</td><td>1</td><td>&quot;NEE&quot;</td><td>&quot;1104&quot;</td><td>1</td><td>2127</td><td>2</td><td>4595</td><td>2255</td><td>1195</td><td>1060</td><td>14</td><td>11</td><td>23</td><td>28</td><td>23</td><td>56</td><td>23</td><td>17</td><td>3</td><td>1265</td><td>60</td><td>14</td><td>26</td><td>1.8</td><td>14</td><td>57</td><td>1</td><td>4</td><td>27</td><td>1</td><td>25</td><td>&hellip;</td><td>0</td><td>0</td><td>0</td><td>0</td><td>0</td><td>0</td><td>12</td><td>6</td><td>0</td><td>3</td><td>0</td><td>0</td><td>0</td><td>0</td><td>0</td><td>0</td><td>0</td><td>0</td><td>0</td><td>0</td><td>0</td><td>0</td><td>1</td><td>0</td><td>0</td><td>0</td><td>0</td><td>0</td><td>16</td><td>0</td><td>0</td><td>0</td><td>0</td><td>2023-07-06 00:00:00</td><td>11</td><td>&quot;Tree&quot;</td><td>1</td></tr><tr><td>&quot;MULTIPOLYGON (…</td><td>&quot;BU03639410&quot;</td><td>&quot;Kantershof&quot;</td><td>&quot;WK036394&quot;</td><td>&quot;GM0363&quot;</td><td>&quot;Amsterdam&quot;</td><td>1</td><td>&quot;NEE&quot;</td><td>&quot;1104&quot;</td><td>1</td><td>2127</td><td>2</td><td>4595</td><td>2255</td><td>1195</td><td>1060</td><td>14</td><td>11</td><td>23</td><td>28</td><td>23</td><td>56</td><td>23</td><td>17</td><td>3</td><td>1265</td><td>60</td><td>14</td><td>26</td><td>1.8</td><td>14</td><td>57</td><td>1</td><td>4</td><td>27</td><td>1</td><td>25</td><td>&hellip;</td><td>0</td><td>0</td><td>0</td><td>0</td><td>0</td><td>0</td><td>12</td><td>6</td><td>0</td><td>3</td><td>0</td><td>0</td><td>0</td><td>0</td><td>0</td><td>0</td><td>0</td><td>0</td><td>0</td><td>0</td><td>0</td><td>0</td><td>1</td><td>0</td><td>0</td><td>0</td><td>0</td><td>0</td><td>16</td><td>0</td><td>0</td><td>0</td><td>0</td><td>2017-08-04 00:00:00</td><td>17</td><td>&quot;Tree&quot;</td><td>1</td></tr><tr><td>&quot;MULTIPOLYGON (…</td><td>&quot;BU03639410&quot;</td><td>&quot;Kantershof&quot;</td><td>&quot;WK036394&quot;</td><td>&quot;GM0363&quot;</td><td>&quot;Amsterdam&quot;</td><td>1</td><td>&quot;NEE&quot;</td><td>&quot;1104&quot;</td><td>1</td><td>2127</td><td>2</td><td>4595</td><td>2255</td><td>1195</td><td>1060</td><td>14</td><td>11</td><td>23</td><td>28</td><td>23</td><td>56</td><td>23</td><td>17</td><td>3</td><td>1265</td><td>60</td><td>14</td><td>26</td><td>1.8</td><td>14</td><td>57</td><td>1</td><td>4</td><td>27</td><td>1</td><td>25</td><td>&hellip;</td><td>0</td><td>0</td><td>0</td><td>0</td><td>0</td><td>0</td><td>12</td><td>6</td><td>0</td><td>3</td><td>0</td><td>0</td><td>0</td><td>0</td><td>0</td><td>0</td><td>0</td><td>0</td><td>0</td><td>0</td><td>0</td><td>0</td><td>1</td><td>0</td><td>0</td><td>0</td><td>0</td><td>0</td><td>16</td><td>0</td><td>0</td><td>0</td><td>0</td><td>2023-10-22 00:00:00</td><td>2</td><td>&quot;Tree&quot;</td><td>1</td></tr><tr><td>&quot;MULTIPOLYGON (…</td><td>&quot;BU03639410&quot;</td><td>&quot;Kantershof&quot;</td><td>&quot;WK036394&quot;</td><td>&quot;GM0363&quot;</td><td>&quot;Amsterdam&quot;</td><td>1</td><td>&quot;NEE&quot;</td><td>&quot;1104&quot;</td><td>1</td><td>2127</td><td>2</td><td>4595</td><td>2255</td><td>1195</td><td>1060</td><td>14</td><td>11</td><td>23</td><td>28</td><td>23</td><td>56</td><td>23</td><td>17</td><td>3</td><td>1265</td><td>60</td><td>14</td><td>26</td><td>1.8</td><td>14</td><td>57</td><td>1</td><td>4</td><td>27</td><td>1</td><td>25</td><td>&hellip;</td><td>0</td><td>0</td><td>0</td><td>0</td><td>0</td><td>0</td><td>12</td><td>6</td><td>0</td><td>3</td><td>0</td><td>0</td><td>0</td><td>0</td><td>0</td><td>0</td><td>0</td><td>0</td><td>0</td><td>0</td><td>0</td><td>0</td><td>1</td><td>0</td><td>0</td><td>0</td><td>0</td><td>0</td><td>16</td><td>0</td><td>0</td><td>0</td><td>0</td><td>2018-01-18 00:00:00</td><td>10</td><td>&quot;Building&quot;</td><td>1</td></tr><tr><td>&quot;MULTIPOLYGON (…</td><td>&quot;BU03639410&quot;</td><td>&quot;Kantershof&quot;</td><td>&quot;WK036394&quot;</td><td>&quot;GM0363&quot;</td><td>&quot;Amsterdam&quot;</td><td>1</td><td>&quot;NEE&quot;</td><td>&quot;1104&quot;</td><td>1</td><td>2127</td><td>2</td><td>4595</td><td>2255</td><td>1195</td><td>1060</td><td>14</td><td>11</td><td>23</td><td>28</td><td>23</td><td>56</td><td>23</td><td>17</td><td>3</td><td>1265</td><td>60</td><td>14</td><td>26</td><td>1.8</td><td>14</td><td>57</td><td>1</td><td>4</td><td>27</td><td>1</td><td>25</td><td>&hellip;</td><td>0</td><td>0</td><td>0</td><td>0</td><td>0</td><td>0</td><td>12</td><td>6</td><td>0</td><td>3</td><td>0</td><td>0</td><td>0</td><td>0</td><td>0</td><td>0</td><td>0</td><td>0</td><td>0</td><td>0</td><td>0</td><td>0</td><td>1</td><td>0</td><td>0</td><td>0</td><td>0</td><td>0</td><td>16</td><td>0</td><td>0</td><td>0</td><td>0</td><td>2023-07-05 00:00:00</td><td>9</td><td>&quot;Tree&quot;</td><td>2</td></tr><tr><td>&quot;MULTIPOLYGON (…</td><td>&quot;BU03631200&quot;</td><td>&quot;Houthavens Wes…</td><td>&quot;WK036312&quot;</td><td>&quot;GM0363&quot;</td><td>&quot;Amsterdam&quot;</td><td>1</td><td>&quot;NEE&quot;</td><td>&quot;1014&quot;</td><td>3</td><td>3485</td><td>1</td><td>9848</td><td>3735</td><td>1895</td><td>1840</td><td>23</td><td>5</td><td>41</td><td>24</td><td>8</td><td>63</td><td>30</td><td>5</td><td>2</td><td>1690</td><td>37</td><td>27</td><td>35</td><td>2.2</td><td>23</td><td>16</td><td>2</td><td>1</td><td>2</td><td>2</td><td>9</td><td>&hellip;</td><td>null</td><td>null</td><td>null</td><td>null</td><td>null</td><td>null</td><td>null</td><td>null</td><td>null</td><td>null</td><td>null</td><td>null</td><td>null</td><td>null</td><td>null</td><td>null</td><td>null</td><td>null</td><td>null</td><td>null</td><td>null</td><td>null</td><td>null</td><td>null</td><td>null</td><td>null</td><td>null</td><td>null</td><td>null</td><td>null</td><td>null</td><td>null</td><td>null</td><td>2019-06-08 00:00:00</td><td>16</td><td>&quot;Tree&quot;</td><td>1</td></tr><tr><td>&quot;MULTIPOLYGON (…</td><td>&quot;BU03631200&quot;</td><td>&quot;Houthavens Wes…</td><td>&quot;WK036312&quot;</td><td>&quot;GM0363&quot;</td><td>&quot;Amsterdam&quot;</td><td>1</td><td>&quot;NEE&quot;</td><td>&quot;1014&quot;</td><td>3</td><td>3485</td><td>1</td><td>9848</td><td>3735</td><td>1895</td><td>1840</td><td>23</td><td>5</td><td>41</td><td>24</td><td>8</td><td>63</td><td>30</td><td>5</td><td>2</td><td>1690</td><td>37</td><td>27</td><td>35</td><td>2.2</td><td>23</td><td>16</td><td>2</td><td>1</td><td>2</td><td>2</td><td>9</td><td>&hellip;</td><td>null</td><td>null</td><td>null</td><td>null</td><td>null</td><td>null</td><td>null</td><td>null</td><td>null</td><td>null</td><td>null</td><td>null</td><td>null</td><td>null</td><td>null</td><td>null</td><td>null</td><td>null</td><td>null</td><td>null</td><td>null</td><td>null</td><td>null</td><td>null</td><td>null</td><td>null</td><td>null</td><td>null</td><td>null</td><td>null</td><td>null</td><td>null</td><td>null</td><td>2023-09-08 00:00:00</td><td>0</td><td>&quot;Building&quot;</td><td>1</td></tr><tr><td>&quot;MULTIPOLYGON (…</td><td>&quot;BU03631200&quot;</td><td>&quot;Houthavens Wes…</td><td>&quot;WK036312&quot;</td><td>&quot;GM0363&quot;</td><td>&quot;Amsterdam&quot;</td><td>1</td><td>&quot;NEE&quot;</td><td>&quot;1014&quot;</td><td>3</td><td>3485</td><td>1</td><td>9848</td><td>3735</td><td>1895</td><td>1840</td><td>23</td><td>5</td><td>41</td><td>24</td><td>8</td><td>63</td><td>30</td><td>5</td><td>2</td><td>1690</td><td>37</td><td>27</td><td>35</td><td>2.2</td><td>23</td><td>16</td><td>2</td><td>1</td><td>2</td><td>2</td><td>9</td><td>&hellip;</td><td>null</td><td>null</td><td>null</td><td>null</td><td>null</td><td>null</td><td>null</td><td>null</td><td>null</td><td>null</td><td>null</td><td>null</td><td>null</td><td>null</td><td>null</td><td>null</td><td>null</td><td>null</td><td>null</td><td>null</td><td>null</td><td>null</td><td>null</td><td>null</td><td>null</td><td>null</td><td>null</td><td>null</td><td>null</td><td>null</td><td>null</td><td>null</td><td>null</td><td>2022-02-19 00:00:00</td><td>16</td><td>&quot;Building&quot;</td><td>1</td></tr><tr><td>&quot;MULTIPOLYGON (…</td><td>&quot;BU03631200&quot;</td><td>&quot;Houthavens Wes…</td><td>&quot;WK036312&quot;</td><td>&quot;GM0363&quot;</td><td>&quot;Amsterdam&quot;</td><td>1</td><td>&quot;NEE&quot;</td><td>&quot;1014&quot;</td><td>3</td><td>3485</td><td>1</td><td>9848</td><td>3735</td><td>1895</td><td>1840</td><td>23</td><td>5</td><td>41</td><td>24</td><td>8</td><td>63</td><td>30</td><td>5</td><td>2</td><td>1690</td><td>37</td><td>27</td><td>35</td><td>2.2</td><td>23</td><td>16</td><td>2</td><td>1</td><td>2</td><td>2</td><td>9</td><td>&hellip;</td><td>null</td><td>null</td><td>null</td><td>null</td><td>null</td><td>null</td><td>null</td><td>null</td><td>null</td><td>null</td><td>null</td><td>null</td><td>null</td><td>null</td><td>null</td><td>null</td><td>null</td><td>null</td><td>null</td><td>null</td><td>null</td><td>null</td><td>null</td><td>null</td><td>null</td><td>null</td><td>null</td><td>null</td><td>null</td><td>null</td><td>null</td><td>null</td><td>null</td><td>2022-02-20 00:00:00</td><td>11</td><td>&quot;Fence, Road si…</td><td>1</td></tr><tr><td>&quot;MULTIPOLYGON (…</td><td>&quot;BU03631200&quot;</td><td>&quot;Houthavens Wes…</td><td>&quot;WK036312&quot;</td><td>&quot;GM0363&quot;</td><td>&quot;Amsterdam&quot;</td><td>1</td><td>&quot;NEE&quot;</td><td>&quot;1014&quot;</td><td>3</td><td>3485</td><td>1</td><td>9848</td><td>3735</td><td>1895</td><td>1840</td><td>23</td><td>5</td><td>41</td><td>24</td><td>8</td><td>63</td><td>30</td><td>5</td><td>2</td><td>1690</td><td>37</td><td>27</td><td>35</td><td>2.2</td><td>23</td><td>16</td><td>2</td><td>1</td><td>2</td><td>2</td><td>9</td><td>&hellip;</td><td>null</td><td>null</td><td>null</td><td>null</td><td>null</td><td>null</td><td>null</td><td>null</td><td>null</td><td>null</td><td>null</td><td>null</td><td>null</td><td>null</td><td>null</td><td>null</td><td>null</td><td>null</td><td>null</td><td>null</td><td>null</td><td>null</td><td>null</td><td>null</td><td>null</td><td>null</td><td>null</td><td>null</td><td>null</td><td>null</td><td>null</td><td>null</td><td>null</td><td>2020-12-27 00:00:00</td><td>12</td><td>&quot;Building&quot;</td><td>1</td></tr><tr><td>&quot;MULTIPOLYGON (…</td><td>&quot;BU03631200&quot;</td><td>&quot;Houthavens Wes…</td><td>&quot;WK036312&quot;</td><td>&quot;GM0363&quot;</td><td>&quot;Amsterdam&quot;</td><td>1</td><td>&quot;NEE&quot;</td><td>&quot;1014&quot;</td><td>3</td><td>3485</td><td>1</td><td>9848</td><td>3735</td><td>1895</td><td>1840</td><td>23</td><td>5</td><td>41</td><td>24</td><td>8</td><td>63</td><td>30</td><td>5</td><td>2</td><td>1690</td><td>37</td><td>27</td><td>35</td><td>2.2</td><td>23</td><td>16</td><td>2</td><td>1</td><td>2</td><td>2</td><td>9</td><td>&hellip;</td><td>null</td><td>null</td><td>null</td><td>null</td><td>null</td><td>null</td><td>null</td><td>null</td><td>null</td><td>null</td><td>null</td><td>null</td><td>null</td><td>null</td><td>null</td><td>null</td><td>null</td><td>null</td><td>null</td><td>null</td><td>null</td><td>null</td><td>null</td><td>null</td><td>null</td><td>null</td><td>null</td><td>null</td><td>null</td><td>null</td><td>null</td><td>null</td><td>null</td><td>2018-12-15 00:00:00</td><td>17</td><td>&quot;Building&quot;</td><td>1</td></tr><tr><td>&quot;MULTIPOLYGON (…</td><td>&quot;BU03631200&quot;</td><td>&quot;Houthavens Wes…</td><td>&quot;WK036312&quot;</td><td>&quot;GM0363&quot;</td><td>&quot;Amsterdam&quot;</td><td>1</td><td>&quot;NEE&quot;</td><td>&quot;1014&quot;</td><td>3</td><td>3485</td><td>1</td><td>9848</td><td>3735</td><td>1895</td><td>1840</td><td>23</td><td>5</td><td>41</td><td>24</td><td>8</td><td>63</td><td>30</td><td>5</td><td>2</td><td>1690</td><td>37</td><td>27</td><td>35</td><td>2.2</td><td>23</td><td>16</td><td>2</td><td>1</td><td>2</td><td>2</td><td>9</td><td>&hellip;</td><td>null</td><td>null</td><td>null</td><td>null</td><td>null</td><td>null</td><td>null</td><td>null</td><td>null</td><td>null</td><td>null</td><td>null</td><td>null</td><td>null</td><td>null</td><td>null</td><td>null</td><td>null</td><td>null</td><td>null</td><td>null</td><td>null</td><td>null</td><td>null</td><td>null</td><td>null</td><td>null</td><td>null</td><td>null</td><td>null</td><td>null</td><td>null</td><td>null</td><td>2020-02-09 00:00:00</td><td>12</td><td>&quot;Unknown&quot;</td><td>1</td></tr></tbody></table></div>"
      ],
      "text/plain": [
       "shape: (5_067, 254)\n",
       "┌───────────┬───────────┬───────────┬──────────┬───┬───────────┬───────────┬───────────┬───────────┐\n",
       "│ geometry  ┆ buurtcode ┆ buurtnaam ┆ wijkcode ┆ … ┆ Incidents ┆ Incidents ┆ Incidents ┆ Incidents │\n",
       "│ ---       ┆ ---       ┆ ---       ┆ ---      ┆   ┆ _Date     ┆ _Incident ┆ _Damage_T ┆ _Total    │\n",
       "│ str       ┆ str       ┆ str       ┆ str      ┆   ┆ ---       ┆ _Starttim ┆ ype       ┆ ---       │\n",
       "│           ┆           ┆           ┆          ┆   ┆ datetime[ ┆ e_Hou…    ┆ ---       ┆ u32       │\n",
       "│           ┆           ┆           ┆          ┆   ┆ ms]       ┆ ---       ┆ str       ┆           │\n",
       "│           ┆           ┆           ┆          ┆   ┆           ┆ i8        ┆           ┆           │\n",
       "╞═══════════╪═══════════╪═══════════╪══════════╪═══╪═══════════╪═══════════╪═══════════╪═══════════╡\n",
       "│ MULTIPOLY ┆ BU0479213 ┆ Het       ┆ WK047921 ┆ … ┆ null      ┆ null      ┆ null      ┆ null      │\n",
       "│ GON (((4. ┆ 0         ┆ Eiland    ┆          ┆   ┆           ┆           ┆           ┆           │\n",
       "│ 827521460 ┆           ┆           ┆          ┆   ┆           ┆           ┆           ┆           │\n",
       "│ 30760…    ┆           ┆           ┆          ┆   ┆           ┆           ┆           ┆           │\n",
       "│ MULTIPOLY ┆ BU0479612 ┆ Noorderho ┆ WK047961 ┆ … ┆ null      ┆ null      ┆ null      ┆ null      │\n",
       "│ GON (((4. ┆ 0         ┆ ofdbuurt  ┆          ┆   ┆           ┆           ┆           ┆           │\n",
       "│ 772289929 ┆           ┆           ┆          ┆   ┆           ┆           ┆           ┆           │\n",
       "│ 38171…    ┆           ┆           ┆          ┆   ┆           ┆           ┆           ┆           │\n",
       "│ MULTIPOLY ┆ BU0362040 ┆ Stadshart ┆ WK036204 ┆ … ┆ 2023-03-1 ┆ 15        ┆ Building  ┆ 1         │\n",
       "│ GON (((4. ┆ 1         ┆           ┆          ┆   ┆ 3         ┆           ┆           ┆           │\n",
       "│ 857296557 ┆           ┆           ┆          ┆   ┆ 00:00:00  ┆           ┆           ┆           │\n",
       "│ 88993…    ┆           ┆           ┆          ┆   ┆           ┆           ┆           ┆           │\n",
       "│ MULTIPOLY ┆ BU0362040 ┆ Stadshart ┆ WK036204 ┆ … ┆ 2022-02-1 ┆ 15        ┆ Fence,    ┆ 1         │\n",
       "│ GON (((4. ┆ 1         ┆           ┆          ┆   ┆ 8         ┆           ┆ Road      ┆           │\n",
       "│ 857296557 ┆           ┆           ┆          ┆   ┆ 00:00:00  ┆           ┆ signs,    ┆           │\n",
       "│ 88993…    ┆           ┆           ┆          ┆   ┆           ┆           ┆ Scaffoldi ┆           │\n",
       "│           ┆           ┆           ┆          ┆   ┆           ┆           ┆ ng        ┆           │\n",
       "│ MULTIPOLY ┆ BU0362040 ┆ Stadshart ┆ WK036204 ┆ … ┆ 2019-03-0 ┆ 23        ┆ Unknown   ┆ 1         │\n",
       "│ GON (((4. ┆ 1         ┆           ┆          ┆   ┆ 7         ┆           ┆           ┆           │\n",
       "│ 857296557 ┆           ┆           ┆          ┆   ┆ 00:00:00  ┆           ┆           ┆           │\n",
       "│ 88993…    ┆           ┆           ┆          ┆   ┆           ┆           ┆           ┆           │\n",
       "│ …         ┆ …         ┆ …         ┆ …        ┆ … ┆ …         ┆ …         ┆ …         ┆ …         │\n",
       "│ MULTIPOLY ┆ BU0363120 ┆ Houthaven ┆ WK036312 ┆ … ┆ 2022-02-1 ┆ 16        ┆ Building  ┆ 1         │\n",
       "│ GON (((4. ┆ 0         ┆ s West    ┆          ┆   ┆ 9         ┆           ┆           ┆           │\n",
       "│ 889769123 ┆           ┆           ┆          ┆   ┆ 00:00:00  ┆           ┆           ┆           │\n",
       "│ 64762…    ┆           ┆           ┆          ┆   ┆           ┆           ┆           ┆           │\n",
       "│ MULTIPOLY ┆ BU0363120 ┆ Houthaven ┆ WK036312 ┆ … ┆ 2022-02-2 ┆ 11        ┆ Fence,    ┆ 1         │\n",
       "│ GON (((4. ┆ 0         ┆ s West    ┆          ┆   ┆ 0         ┆           ┆ Road      ┆           │\n",
       "│ 889769123 ┆           ┆           ┆          ┆   ┆ 00:00:00  ┆           ┆ signs,    ┆           │\n",
       "│ 64762…    ┆           ┆           ┆          ┆   ┆           ┆           ┆ Scaffoldi ┆           │\n",
       "│           ┆           ┆           ┆          ┆   ┆           ┆           ┆ ng        ┆           │\n",
       "│ MULTIPOLY ┆ BU0363120 ┆ Houthaven ┆ WK036312 ┆ … ┆ 2020-12-2 ┆ 12        ┆ Building  ┆ 1         │\n",
       "│ GON (((4. ┆ 0         ┆ s West    ┆          ┆   ┆ 7         ┆           ┆           ┆           │\n",
       "│ 889769123 ┆           ┆           ┆          ┆   ┆ 00:00:00  ┆           ┆           ┆           │\n",
       "│ 64762…    ┆           ┆           ┆          ┆   ┆           ┆           ┆           ┆           │\n",
       "│ MULTIPOLY ┆ BU0363120 ┆ Houthaven ┆ WK036312 ┆ … ┆ 2018-12-1 ┆ 17        ┆ Building  ┆ 1         │\n",
       "│ GON (((4. ┆ 0         ┆ s West    ┆          ┆   ┆ 5         ┆           ┆           ┆           │\n",
       "│ 889769123 ┆           ┆           ┆          ┆   ┆ 00:00:00  ┆           ┆           ┆           │\n",
       "│ 64762…    ┆           ┆           ┆          ┆   ┆           ┆           ┆           ┆           │\n",
       "│ MULTIPOLY ┆ BU0363120 ┆ Houthaven ┆ WK036312 ┆ … ┆ 2020-02-0 ┆ 12        ┆ Unknown   ┆ 1         │\n",
       "│ GON (((4. ┆ 0         ┆ s West    ┆          ┆   ┆ 9         ┆           ┆           ┆           │\n",
       "│ 889769123 ┆           ┆           ┆          ┆   ┆ 00:00:00  ┆           ┆           ┆           │\n",
       "│ 64762…    ┆           ┆           ┆          ┆   ┆           ┆           ┆           ┆           │\n",
       "└───────────┴───────────┴───────────┴──────────┴───┴───────────┴───────────┴───────────┴───────────┘"
      ]
     },
     "execution_count": 8,
     "metadata": {},
     "output_type": "execute_result"
    }
   ],
   "source": [
    "import pandas as pd\n",
    "\n",
    "buurten_combined = pl.read_parquet(\"../dsp-dagster/data/buurten_combined.parquet\")\n",
    "buurten_combined"
   ]
  },
  {
   "cell_type": "code",
   "execution_count": 9,
   "metadata": {},
   "outputs": [
    {
     "data": {
      "text/html": [
       "<div><style>\n",
       ".dataframe > thead > tr,\n",
       ".dataframe > tbody > tr {\n",
       "  text-align: right;\n",
       "  white-space: pre-wrap;\n",
       "}\n",
       "</style>\n",
       "<small>shape: (5_067, 254)</small><table border=\"1\" class=\"dataframe\"><thead><tr><th>geometry</th><th>buurtcode</th><th>buurtnaam</th><th>wijkcode</th><th>gemeentecode</th><th>gemeentenaam</th><th>indelingswijzigingWijkenEnBuurten</th><th>water</th><th>meestVoorkomendePostcode</th><th>dekkingspercentage</th><th>omgevingsadressendichtheid</th><th>stedelijkheidAdressenPerKm2</th><th>bevolkingsdichtheidInwonersPerKm2</th><th>aantalInwoners</th><th>mannen</th><th>vrouwen</th><th>percentagePersonen0Tot15Jaar</th><th>percentagePersonen15Tot25Jaar</th><th>percentagePersonen25Tot45Jaar</th><th>percentagePersonen45Tot65Jaar</th><th>percentagePersonen65JaarEnOuder</th><th>percentageOngehuwd</th><th>percentageGehuwd</th><th>percentageGescheid</th><th>percentageVerweduwd</th><th>aantalHuishoudens</th><th>percentageEenpersoonshuishoudens</th><th>percentageHuishoudensZonderKinderen</th><th>percentageHuishoudensMetKinderen</th><th>gemiddeldeHuishoudsgrootte</th><th>percentageWesterseMigratieachtergrond</th><th>percentageNietWesterseMigratieachtergrond</th><th>percentageUitMarokko</th><th>percentageUitNederlandseAntillenEnAruba</th><th>percentageUitSuriname</th><th>percentageUitTurkije</th><th>percentageOverigeNietwestersemigratieachtergrond</th><th>&hellip;</th><th>Trees_soortnaamTop_Albizia</th><th>Trees_soortnaamTop_Tetracentron</th><th>Trees_soortnaamTop_Oxydendrum</th><th>Trees_soortnaamTop_Cladrastis</th><th>Trees_standplaatsGedetailleerd_Straatbaksteen</th><th>Trees_standplaatsGedetailleerd_Lijnvormige-haag</th><th>Trees_standplaatsGedetailleerd_Gazon</th><th>Trees_standplaatsGedetailleerd_Tegels</th><th>Trees_standplaatsGedetailleerd_Bomen-en-struikvormers</th><th>Trees_standplaatsGedetailleerd_Fijne-sierheester</th><th>Trees_standplaatsGedetailleerd_Vaste-planten</th><th>Trees_standplaatsGedetailleerd_Struikvormers</th><th>Trees_standplaatsGedetailleerd_Betonstraatstenen</th><th>Trees_standplaatsGedetailleerd_Ruw-gras</th><th>Trees_standplaatsGedetailleerd_Bloemrijk-gras</th><th>Trees_standplaatsGedetailleerd_Bodembedekkende-heesters</th><th>Trees_standplaatsGedetailleerd_Cultuurrozen</th><th>Trees_standplaatsGedetailleerd_Ruigte</th><th>Trees_standplaatsGedetailleerd_Los</th><th>Trees_standplaatsGedetailleerd_Sierbestrating</th><th>Trees_standplaatsGedetailleerd_Samenhangend</th><th>Trees_standplaatsGedetailleerd_Boomvormers</th><th>Trees_standplaatsGedetailleerd_Dichte-deklagen</th><th>Trees_standplaatsGedetailleerd_Ongewapend-nietverdeuveld-beton</th><th>Trees_standplaatsGedetailleerd_Blokhaag</th><th>Trees_standplaatsGedetailleerd_Grove-sierheester</th><th>Trees_standplaatsGedetailleerd_Heesterrozen</th><th>Trees_standplaatsGedetailleerd_Botanische-rozen</th><th>Trees_stamdiameterklasse_0,1-tot-0,2-m.</th><th>Trees_stamdiameterklasse_0,5-tot-1-m.</th><th>Trees_stamdiameterklasse_0,3-tot-0,5-m.</th><th>Trees_stamdiameterklasse_0,2-tot-0,3-m.</th><th>Trees_stamdiameterklasse_1,0-tot-1,5-m.</th><th>Incidents_Date</th><th>Incidents_Incident_Starttime_Hour</th><th>Incidents_Damage_Type</th><th>Incidents_Total</th></tr><tr><td>str</td><td>str</td><td>str</td><td>str</td><td>str</td><td>str</td><td>i64</td><td>str</td><td>str</td><td>i64</td><td>i64</td><td>i64</td><td>i64</td><td>i64</td><td>i64</td><td>i64</td><td>i64</td><td>i64</td><td>i64</td><td>i64</td><td>i64</td><td>i64</td><td>i64</td><td>i64</td><td>i64</td><td>i64</td><td>i64</td><td>i64</td><td>i64</td><td>f64</td><td>i64</td><td>i64</td><td>i64</td><td>i64</td><td>i64</td><td>i64</td><td>i64</td><td>&hellip;</td><td>u32</td><td>u32</td><td>u32</td><td>u32</td><td>u32</td><td>u32</td><td>u32</td><td>u32</td><td>u32</td><td>u32</td><td>u32</td><td>u32</td><td>u32</td><td>u32</td><td>u32</td><td>u32</td><td>u32</td><td>u32</td><td>u32</td><td>u32</td><td>u32</td><td>u32</td><td>u32</td><td>u32</td><td>u32</td><td>u32</td><td>u32</td><td>u32</td><td>u32</td><td>u32</td><td>u32</td><td>u32</td><td>u32</td><td>date</td><td>i8</td><td>str</td><td>u32</td></tr></thead><tbody><tr><td>&quot;MULTIPOLYGON (…</td><td>&quot;BU04792130&quot;</td><td>&quot;Het Eiland&quot;</td><td>&quot;WK047921&quot;</td><td>&quot;GM0479&quot;</td><td>&quot;Zaanstad&quot;</td><td>1</td><td>&quot;NEE&quot;</td><td>&quot;1506&quot;</td><td>1</td><td>3064</td><td>1</td><td>9972</td><td>1265</td><td>630</td><td>635</td><td>13</td><td>14</td><td>13</td><td>33</td><td>27</td><td>41</td><td>46</td><td>7</td><td>7</td><td>540</td><td>27</td><td>34</td><td>39</td><td>2.3</td><td>12</td><td>13</td><td>1</td><td>1</td><td>4</td><td>3</td><td>5</td><td>&hellip;</td><td>null</td><td>null</td><td>null</td><td>null</td><td>null</td><td>null</td><td>null</td><td>null</td><td>null</td><td>null</td><td>null</td><td>null</td><td>null</td><td>null</td><td>null</td><td>null</td><td>null</td><td>null</td><td>null</td><td>null</td><td>null</td><td>null</td><td>null</td><td>null</td><td>null</td><td>null</td><td>null</td><td>null</td><td>null</td><td>null</td><td>null</td><td>null</td><td>null</td><td>null</td><td>null</td><td>null</td><td>null</td></tr><tr><td>&quot;MULTIPOLYGON (…</td><td>&quot;BU04796120&quot;</td><td>&quot;Noorderhoofdbu…</td><td>&quot;WK047961&quot;</td><td>&quot;GM0479&quot;</td><td>&quot;Zaanstad&quot;</td><td>1</td><td>&quot;NEE&quot;</td><td>&quot;1561&quot;</td><td>1</td><td>2171</td><td>2</td><td>5036</td><td>2040</td><td>1020</td><td>1020</td><td>13</td><td>8</td><td>26</td><td>28</td><td>26</td><td>48</td><td>33</td><td>12</td><td>7</td><td>1140</td><td>52</td><td>24</td><td>24</td><td>1.8</td><td>8</td><td>12</td><td>2</td><td>0</td><td>2</td><td>3</td><td>4</td><td>&hellip;</td><td>null</td><td>null</td><td>null</td><td>null</td><td>null</td><td>null</td><td>null</td><td>null</td><td>null</td><td>null</td><td>null</td><td>null</td><td>null</td><td>null</td><td>null</td><td>null</td><td>null</td><td>null</td><td>null</td><td>null</td><td>null</td><td>null</td><td>null</td><td>null</td><td>null</td><td>null</td><td>null</td><td>null</td><td>null</td><td>null</td><td>null</td><td>null</td><td>null</td><td>null</td><td>null</td><td>null</td><td>null</td></tr><tr><td>&quot;MULTIPOLYGON (…</td><td>&quot;BU03620401&quot;</td><td>&quot;Stadshart&quot;</td><td>&quot;WK036204&quot;</td><td>&quot;GM0362&quot;</td><td>&quot;Amstelveen&quot;</td><td>1</td><td>&quot;NEE&quot;</td><td>&quot;1181&quot;</td><td>1</td><td>3693</td><td>1</td><td>6297</td><td>3480</td><td>1780</td><td>1700</td><td>17</td><td>7</td><td>36</td><td>23</td><td>18</td><td>47</td><td>43</td><td>6</td><td>4</td><td>1780</td><td>47</td><td>25</td><td>29</td><td>2.0</td><td>31</td><td>37</td><td>1</td><td>1</td><td>2</td><td>1</td><td>32</td><td>&hellip;</td><td>null</td><td>null</td><td>null</td><td>null</td><td>null</td><td>null</td><td>null</td><td>null</td><td>null</td><td>null</td><td>null</td><td>null</td><td>null</td><td>null</td><td>null</td><td>null</td><td>null</td><td>null</td><td>null</td><td>null</td><td>null</td><td>null</td><td>null</td><td>null</td><td>null</td><td>null</td><td>null</td><td>null</td><td>null</td><td>null</td><td>null</td><td>null</td><td>null</td><td>2023-03-13</td><td>15</td><td>&quot;Building&quot;</td><td>1</td></tr><tr><td>&quot;MULTIPOLYGON (…</td><td>&quot;BU03620401&quot;</td><td>&quot;Stadshart&quot;</td><td>&quot;WK036204&quot;</td><td>&quot;GM0362&quot;</td><td>&quot;Amstelveen&quot;</td><td>1</td><td>&quot;NEE&quot;</td><td>&quot;1181&quot;</td><td>1</td><td>3693</td><td>1</td><td>6297</td><td>3480</td><td>1780</td><td>1700</td><td>17</td><td>7</td><td>36</td><td>23</td><td>18</td><td>47</td><td>43</td><td>6</td><td>4</td><td>1780</td><td>47</td><td>25</td><td>29</td><td>2.0</td><td>31</td><td>37</td><td>1</td><td>1</td><td>2</td><td>1</td><td>32</td><td>&hellip;</td><td>null</td><td>null</td><td>null</td><td>null</td><td>null</td><td>null</td><td>null</td><td>null</td><td>null</td><td>null</td><td>null</td><td>null</td><td>null</td><td>null</td><td>null</td><td>null</td><td>null</td><td>null</td><td>null</td><td>null</td><td>null</td><td>null</td><td>null</td><td>null</td><td>null</td><td>null</td><td>null</td><td>null</td><td>null</td><td>null</td><td>null</td><td>null</td><td>null</td><td>2022-02-18</td><td>15</td><td>&quot;Fence, Road si…</td><td>1</td></tr><tr><td>&quot;MULTIPOLYGON (…</td><td>&quot;BU03620401&quot;</td><td>&quot;Stadshart&quot;</td><td>&quot;WK036204&quot;</td><td>&quot;GM0362&quot;</td><td>&quot;Amstelveen&quot;</td><td>1</td><td>&quot;NEE&quot;</td><td>&quot;1181&quot;</td><td>1</td><td>3693</td><td>1</td><td>6297</td><td>3480</td><td>1780</td><td>1700</td><td>17</td><td>7</td><td>36</td><td>23</td><td>18</td><td>47</td><td>43</td><td>6</td><td>4</td><td>1780</td><td>47</td><td>25</td><td>29</td><td>2.0</td><td>31</td><td>37</td><td>1</td><td>1</td><td>2</td><td>1</td><td>32</td><td>&hellip;</td><td>null</td><td>null</td><td>null</td><td>null</td><td>null</td><td>null</td><td>null</td><td>null</td><td>null</td><td>null</td><td>null</td><td>null</td><td>null</td><td>null</td><td>null</td><td>null</td><td>null</td><td>null</td><td>null</td><td>null</td><td>null</td><td>null</td><td>null</td><td>null</td><td>null</td><td>null</td><td>null</td><td>null</td><td>null</td><td>null</td><td>null</td><td>null</td><td>null</td><td>2019-03-07</td><td>23</td><td>&quot;Unknown&quot;</td><td>1</td></tr><tr><td>&quot;MULTIPOLYGON (…</td><td>&quot;BU03620401&quot;</td><td>&quot;Stadshart&quot;</td><td>&quot;WK036204&quot;</td><td>&quot;GM0362&quot;</td><td>&quot;Amstelveen&quot;</td><td>1</td><td>&quot;NEE&quot;</td><td>&quot;1181&quot;</td><td>1</td><td>3693</td><td>1</td><td>6297</td><td>3480</td><td>1780</td><td>1700</td><td>17</td><td>7</td><td>36</td><td>23</td><td>18</td><td>47</td><td>43</td><td>6</td><td>4</td><td>1780</td><td>47</td><td>25</td><td>29</td><td>2.0</td><td>31</td><td>37</td><td>1</td><td>1</td><td>2</td><td>1</td><td>32</td><td>&hellip;</td><td>null</td><td>null</td><td>null</td><td>null</td><td>null</td><td>null</td><td>null</td><td>null</td><td>null</td><td>null</td><td>null</td><td>null</td><td>null</td><td>null</td><td>null</td><td>null</td><td>null</td><td>null</td><td>null</td><td>null</td><td>null</td><td>null</td><td>null</td><td>null</td><td>null</td><td>null</td><td>null</td><td>null</td><td>null</td><td>null</td><td>null</td><td>null</td><td>null</td><td>2019-08-10</td><td>6</td><td>&quot;Building&quot;</td><td>1</td></tr><tr><td>&quot;MULTIPOLYGON (…</td><td>&quot;BU03620401&quot;</td><td>&quot;Stadshart&quot;</td><td>&quot;WK036204&quot;</td><td>&quot;GM0362&quot;</td><td>&quot;Amstelveen&quot;</td><td>1</td><td>&quot;NEE&quot;</td><td>&quot;1181&quot;</td><td>1</td><td>3693</td><td>1</td><td>6297</td><td>3480</td><td>1780</td><td>1700</td><td>17</td><td>7</td><td>36</td><td>23</td><td>18</td><td>47</td><td>43</td><td>6</td><td>4</td><td>1780</td><td>47</td><td>25</td><td>29</td><td>2.0</td><td>31</td><td>37</td><td>1</td><td>1</td><td>2</td><td>1</td><td>32</td><td>&hellip;</td><td>null</td><td>null</td><td>null</td><td>null</td><td>null</td><td>null</td><td>null</td><td>null</td><td>null</td><td>null</td><td>null</td><td>null</td><td>null</td><td>null</td><td>null</td><td>null</td><td>null</td><td>null</td><td>null</td><td>null</td><td>null</td><td>null</td><td>null</td><td>null</td><td>null</td><td>null</td><td>null</td><td>null</td><td>null</td><td>null</td><td>null</td><td>null</td><td>null</td><td>2021-05-22</td><td>10</td><td>&quot;Tree&quot;</td><td>1</td></tr><tr><td>&quot;MULTIPOLYGON (…</td><td>&quot;BU03620401&quot;</td><td>&quot;Stadshart&quot;</td><td>&quot;WK036204&quot;</td><td>&quot;GM0362&quot;</td><td>&quot;Amstelveen&quot;</td><td>1</td><td>&quot;NEE&quot;</td><td>&quot;1181&quot;</td><td>1</td><td>3693</td><td>1</td><td>6297</td><td>3480</td><td>1780</td><td>1700</td><td>17</td><td>7</td><td>36</td><td>23</td><td>18</td><td>47</td><td>43</td><td>6</td><td>4</td><td>1780</td><td>47</td><td>25</td><td>29</td><td>2.0</td><td>31</td><td>37</td><td>1</td><td>1</td><td>2</td><td>1</td><td>32</td><td>&hellip;</td><td>null</td><td>null</td><td>null</td><td>null</td><td>null</td><td>null</td><td>null</td><td>null</td><td>null</td><td>null</td><td>null</td><td>null</td><td>null</td><td>null</td><td>null</td><td>null</td><td>null</td><td>null</td><td>null</td><td>null</td><td>null</td><td>null</td><td>null</td><td>null</td><td>null</td><td>null</td><td>null</td><td>null</td><td>null</td><td>null</td><td>null</td><td>null</td><td>null</td><td>2021-03-14</td><td>1</td><td>&quot;Tree&quot;</td><td>1</td></tr><tr><td>&quot;MULTIPOLYGON (…</td><td>&quot;BU03620401&quot;</td><td>&quot;Stadshart&quot;</td><td>&quot;WK036204&quot;</td><td>&quot;GM0362&quot;</td><td>&quot;Amstelveen&quot;</td><td>1</td><td>&quot;NEE&quot;</td><td>&quot;1181&quot;</td><td>1</td><td>3693</td><td>1</td><td>6297</td><td>3480</td><td>1780</td><td>1700</td><td>17</td><td>7</td><td>36</td><td>23</td><td>18</td><td>47</td><td>43</td><td>6</td><td>4</td><td>1780</td><td>47</td><td>25</td><td>29</td><td>2.0</td><td>31</td><td>37</td><td>1</td><td>1</td><td>2</td><td>1</td><td>32</td><td>&hellip;</td><td>null</td><td>null</td><td>null</td><td>null</td><td>null</td><td>null</td><td>null</td><td>null</td><td>null</td><td>null</td><td>null</td><td>null</td><td>null</td><td>null</td><td>null</td><td>null</td><td>null</td><td>null</td><td>null</td><td>null</td><td>null</td><td>null</td><td>null</td><td>null</td><td>null</td><td>null</td><td>null</td><td>null</td><td>null</td><td>null</td><td>null</td><td>null</td><td>null</td><td>2018-08-09</td><td>21</td><td>&quot;Tree&quot;</td><td>1</td></tr><tr><td>&quot;MULTIPOLYGON (…</td><td>&quot;BU03620401&quot;</td><td>&quot;Stadshart&quot;</td><td>&quot;WK036204&quot;</td><td>&quot;GM0362&quot;</td><td>&quot;Amstelveen&quot;</td><td>1</td><td>&quot;NEE&quot;</td><td>&quot;1181&quot;</td><td>1</td><td>3693</td><td>1</td><td>6297</td><td>3480</td><td>1780</td><td>1700</td><td>17</td><td>7</td><td>36</td><td>23</td><td>18</td><td>47</td><td>43</td><td>6</td><td>4</td><td>1780</td><td>47</td><td>25</td><td>29</td><td>2.0</td><td>31</td><td>37</td><td>1</td><td>1</td><td>2</td><td>1</td><td>32</td><td>&hellip;</td><td>null</td><td>null</td><td>null</td><td>null</td><td>null</td><td>null</td><td>null</td><td>null</td><td>null</td><td>null</td><td>null</td><td>null</td><td>null</td><td>null</td><td>null</td><td>null</td><td>null</td><td>null</td><td>null</td><td>null</td><td>null</td><td>null</td><td>null</td><td>null</td><td>null</td><td>null</td><td>null</td><td>null</td><td>null</td><td>null</td><td>null</td><td>null</td><td>null</td><td>2020-02-09</td><td>12</td><td>&quot;Building&quot;</td><td>1</td></tr><tr><td>&quot;MULTIPOLYGON (…</td><td>&quot;BU03620401&quot;</td><td>&quot;Stadshart&quot;</td><td>&quot;WK036204&quot;</td><td>&quot;GM0362&quot;</td><td>&quot;Amstelveen&quot;</td><td>1</td><td>&quot;NEE&quot;</td><td>&quot;1181&quot;</td><td>1</td><td>3693</td><td>1</td><td>6297</td><td>3480</td><td>1780</td><td>1700</td><td>17</td><td>7</td><td>36</td><td>23</td><td>18</td><td>47</td><td>43</td><td>6</td><td>4</td><td>1780</td><td>47</td><td>25</td><td>29</td><td>2.0</td><td>31</td><td>37</td><td>1</td><td>1</td><td>2</td><td>1</td><td>32</td><td>&hellip;</td><td>null</td><td>null</td><td>null</td><td>null</td><td>null</td><td>null</td><td>null</td><td>null</td><td>null</td><td>null</td><td>null</td><td>null</td><td>null</td><td>null</td><td>null</td><td>null</td><td>null</td><td>null</td><td>null</td><td>null</td><td>null</td><td>null</td><td>null</td><td>null</td><td>null</td><td>null</td><td>null</td><td>null</td><td>null</td><td>null</td><td>null</td><td>null</td><td>null</td><td>2009-10-04</td><td>0</td><td>&quot;Unknown&quot;</td><td>1</td></tr><tr><td>&quot;MULTIPOLYGON (…</td><td>&quot;BU03620401&quot;</td><td>&quot;Stadshart&quot;</td><td>&quot;WK036204&quot;</td><td>&quot;GM0362&quot;</td><td>&quot;Amstelveen&quot;</td><td>1</td><td>&quot;NEE&quot;</td><td>&quot;1181&quot;</td><td>1</td><td>3693</td><td>1</td><td>6297</td><td>3480</td><td>1780</td><td>1700</td><td>17</td><td>7</td><td>36</td><td>23</td><td>18</td><td>47</td><td>43</td><td>6</td><td>4</td><td>1780</td><td>47</td><td>25</td><td>29</td><td>2.0</td><td>31</td><td>37</td><td>1</td><td>1</td><td>2</td><td>1</td><td>32</td><td>&hellip;</td><td>null</td><td>null</td><td>null</td><td>null</td><td>null</td><td>null</td><td>null</td><td>null</td><td>null</td><td>null</td><td>null</td><td>null</td><td>null</td><td>null</td><td>null</td><td>null</td><td>null</td><td>null</td><td>null</td><td>null</td><td>null</td><td>null</td><td>null</td><td>null</td><td>null</td><td>null</td><td>null</td><td>null</td><td>null</td><td>null</td><td>null</td><td>null</td><td>null</td><td>2023-03-13</td><td>16</td><td>&quot;Building&quot;</td><td>1</td></tr><tr><td>&hellip;</td><td>&hellip;</td><td>&hellip;</td><td>&hellip;</td><td>&hellip;</td><td>&hellip;</td><td>&hellip;</td><td>&hellip;</td><td>&hellip;</td><td>&hellip;</td><td>&hellip;</td><td>&hellip;</td><td>&hellip;</td><td>&hellip;</td><td>&hellip;</td><td>&hellip;</td><td>&hellip;</td><td>&hellip;</td><td>&hellip;</td><td>&hellip;</td><td>&hellip;</td><td>&hellip;</td><td>&hellip;</td><td>&hellip;</td><td>&hellip;</td><td>&hellip;</td><td>&hellip;</td><td>&hellip;</td><td>&hellip;</td><td>&hellip;</td><td>&hellip;</td><td>&hellip;</td><td>&hellip;</td><td>&hellip;</td><td>&hellip;</td><td>&hellip;</td><td>&hellip;</td><td>&hellip;</td><td>&hellip;</td><td>&hellip;</td><td>&hellip;</td><td>&hellip;</td><td>&hellip;</td><td>&hellip;</td><td>&hellip;</td><td>&hellip;</td><td>&hellip;</td><td>&hellip;</td><td>&hellip;</td><td>&hellip;</td><td>&hellip;</td><td>&hellip;</td><td>&hellip;</td><td>&hellip;</td><td>&hellip;</td><td>&hellip;</td><td>&hellip;</td><td>&hellip;</td><td>&hellip;</td><td>&hellip;</td><td>&hellip;</td><td>&hellip;</td><td>&hellip;</td><td>&hellip;</td><td>&hellip;</td><td>&hellip;</td><td>&hellip;</td><td>&hellip;</td><td>&hellip;</td><td>&hellip;</td><td>&hellip;</td><td>&hellip;</td><td>&hellip;</td><td>&hellip;</td><td>&hellip;</td></tr><tr><td>&quot;MULTIPOLYGON (…</td><td>&quot;BU03639410&quot;</td><td>&quot;Kantershof&quot;</td><td>&quot;WK036394&quot;</td><td>&quot;GM0363&quot;</td><td>&quot;Amsterdam&quot;</td><td>1</td><td>&quot;NEE&quot;</td><td>&quot;1104&quot;</td><td>1</td><td>2127</td><td>2</td><td>4595</td><td>2255</td><td>1195</td><td>1060</td><td>14</td><td>11</td><td>23</td><td>28</td><td>23</td><td>56</td><td>23</td><td>17</td><td>3</td><td>1265</td><td>60</td><td>14</td><td>26</td><td>1.8</td><td>14</td><td>57</td><td>1</td><td>4</td><td>27</td><td>1</td><td>25</td><td>&hellip;</td><td>0</td><td>0</td><td>0</td><td>0</td><td>0</td><td>0</td><td>12</td><td>6</td><td>0</td><td>3</td><td>0</td><td>0</td><td>0</td><td>0</td><td>0</td><td>0</td><td>0</td><td>0</td><td>0</td><td>0</td><td>0</td><td>0</td><td>1</td><td>0</td><td>0</td><td>0</td><td>0</td><td>0</td><td>16</td><td>0</td><td>0</td><td>0</td><td>0</td><td>2023-07-06</td><td>11</td><td>&quot;Tree&quot;</td><td>1</td></tr><tr><td>&quot;MULTIPOLYGON (…</td><td>&quot;BU03639410&quot;</td><td>&quot;Kantershof&quot;</td><td>&quot;WK036394&quot;</td><td>&quot;GM0363&quot;</td><td>&quot;Amsterdam&quot;</td><td>1</td><td>&quot;NEE&quot;</td><td>&quot;1104&quot;</td><td>1</td><td>2127</td><td>2</td><td>4595</td><td>2255</td><td>1195</td><td>1060</td><td>14</td><td>11</td><td>23</td><td>28</td><td>23</td><td>56</td><td>23</td><td>17</td><td>3</td><td>1265</td><td>60</td><td>14</td><td>26</td><td>1.8</td><td>14</td><td>57</td><td>1</td><td>4</td><td>27</td><td>1</td><td>25</td><td>&hellip;</td><td>0</td><td>0</td><td>0</td><td>0</td><td>0</td><td>0</td><td>12</td><td>6</td><td>0</td><td>3</td><td>0</td><td>0</td><td>0</td><td>0</td><td>0</td><td>0</td><td>0</td><td>0</td><td>0</td><td>0</td><td>0</td><td>0</td><td>1</td><td>0</td><td>0</td><td>0</td><td>0</td><td>0</td><td>16</td><td>0</td><td>0</td><td>0</td><td>0</td><td>2017-08-04</td><td>17</td><td>&quot;Tree&quot;</td><td>1</td></tr><tr><td>&quot;MULTIPOLYGON (…</td><td>&quot;BU03639410&quot;</td><td>&quot;Kantershof&quot;</td><td>&quot;WK036394&quot;</td><td>&quot;GM0363&quot;</td><td>&quot;Amsterdam&quot;</td><td>1</td><td>&quot;NEE&quot;</td><td>&quot;1104&quot;</td><td>1</td><td>2127</td><td>2</td><td>4595</td><td>2255</td><td>1195</td><td>1060</td><td>14</td><td>11</td><td>23</td><td>28</td><td>23</td><td>56</td><td>23</td><td>17</td><td>3</td><td>1265</td><td>60</td><td>14</td><td>26</td><td>1.8</td><td>14</td><td>57</td><td>1</td><td>4</td><td>27</td><td>1</td><td>25</td><td>&hellip;</td><td>0</td><td>0</td><td>0</td><td>0</td><td>0</td><td>0</td><td>12</td><td>6</td><td>0</td><td>3</td><td>0</td><td>0</td><td>0</td><td>0</td><td>0</td><td>0</td><td>0</td><td>0</td><td>0</td><td>0</td><td>0</td><td>0</td><td>1</td><td>0</td><td>0</td><td>0</td><td>0</td><td>0</td><td>16</td><td>0</td><td>0</td><td>0</td><td>0</td><td>2023-10-22</td><td>2</td><td>&quot;Tree&quot;</td><td>1</td></tr><tr><td>&quot;MULTIPOLYGON (…</td><td>&quot;BU03639410&quot;</td><td>&quot;Kantershof&quot;</td><td>&quot;WK036394&quot;</td><td>&quot;GM0363&quot;</td><td>&quot;Amsterdam&quot;</td><td>1</td><td>&quot;NEE&quot;</td><td>&quot;1104&quot;</td><td>1</td><td>2127</td><td>2</td><td>4595</td><td>2255</td><td>1195</td><td>1060</td><td>14</td><td>11</td><td>23</td><td>28</td><td>23</td><td>56</td><td>23</td><td>17</td><td>3</td><td>1265</td><td>60</td><td>14</td><td>26</td><td>1.8</td><td>14</td><td>57</td><td>1</td><td>4</td><td>27</td><td>1</td><td>25</td><td>&hellip;</td><td>0</td><td>0</td><td>0</td><td>0</td><td>0</td><td>0</td><td>12</td><td>6</td><td>0</td><td>3</td><td>0</td><td>0</td><td>0</td><td>0</td><td>0</td><td>0</td><td>0</td><td>0</td><td>0</td><td>0</td><td>0</td><td>0</td><td>1</td><td>0</td><td>0</td><td>0</td><td>0</td><td>0</td><td>16</td><td>0</td><td>0</td><td>0</td><td>0</td><td>2018-01-18</td><td>10</td><td>&quot;Building&quot;</td><td>1</td></tr><tr><td>&quot;MULTIPOLYGON (…</td><td>&quot;BU03639410&quot;</td><td>&quot;Kantershof&quot;</td><td>&quot;WK036394&quot;</td><td>&quot;GM0363&quot;</td><td>&quot;Amsterdam&quot;</td><td>1</td><td>&quot;NEE&quot;</td><td>&quot;1104&quot;</td><td>1</td><td>2127</td><td>2</td><td>4595</td><td>2255</td><td>1195</td><td>1060</td><td>14</td><td>11</td><td>23</td><td>28</td><td>23</td><td>56</td><td>23</td><td>17</td><td>3</td><td>1265</td><td>60</td><td>14</td><td>26</td><td>1.8</td><td>14</td><td>57</td><td>1</td><td>4</td><td>27</td><td>1</td><td>25</td><td>&hellip;</td><td>0</td><td>0</td><td>0</td><td>0</td><td>0</td><td>0</td><td>12</td><td>6</td><td>0</td><td>3</td><td>0</td><td>0</td><td>0</td><td>0</td><td>0</td><td>0</td><td>0</td><td>0</td><td>0</td><td>0</td><td>0</td><td>0</td><td>1</td><td>0</td><td>0</td><td>0</td><td>0</td><td>0</td><td>16</td><td>0</td><td>0</td><td>0</td><td>0</td><td>2023-07-05</td><td>9</td><td>&quot;Tree&quot;</td><td>2</td></tr><tr><td>&quot;MULTIPOLYGON (…</td><td>&quot;BU03631200&quot;</td><td>&quot;Houthavens Wes…</td><td>&quot;WK036312&quot;</td><td>&quot;GM0363&quot;</td><td>&quot;Amsterdam&quot;</td><td>1</td><td>&quot;NEE&quot;</td><td>&quot;1014&quot;</td><td>3</td><td>3485</td><td>1</td><td>9848</td><td>3735</td><td>1895</td><td>1840</td><td>23</td><td>5</td><td>41</td><td>24</td><td>8</td><td>63</td><td>30</td><td>5</td><td>2</td><td>1690</td><td>37</td><td>27</td><td>35</td><td>2.2</td><td>23</td><td>16</td><td>2</td><td>1</td><td>2</td><td>2</td><td>9</td><td>&hellip;</td><td>null</td><td>null</td><td>null</td><td>null</td><td>null</td><td>null</td><td>null</td><td>null</td><td>null</td><td>null</td><td>null</td><td>null</td><td>null</td><td>null</td><td>null</td><td>null</td><td>null</td><td>null</td><td>null</td><td>null</td><td>null</td><td>null</td><td>null</td><td>null</td><td>null</td><td>null</td><td>null</td><td>null</td><td>null</td><td>null</td><td>null</td><td>null</td><td>null</td><td>2019-06-08</td><td>16</td><td>&quot;Tree&quot;</td><td>1</td></tr><tr><td>&quot;MULTIPOLYGON (…</td><td>&quot;BU03631200&quot;</td><td>&quot;Houthavens Wes…</td><td>&quot;WK036312&quot;</td><td>&quot;GM0363&quot;</td><td>&quot;Amsterdam&quot;</td><td>1</td><td>&quot;NEE&quot;</td><td>&quot;1014&quot;</td><td>3</td><td>3485</td><td>1</td><td>9848</td><td>3735</td><td>1895</td><td>1840</td><td>23</td><td>5</td><td>41</td><td>24</td><td>8</td><td>63</td><td>30</td><td>5</td><td>2</td><td>1690</td><td>37</td><td>27</td><td>35</td><td>2.2</td><td>23</td><td>16</td><td>2</td><td>1</td><td>2</td><td>2</td><td>9</td><td>&hellip;</td><td>null</td><td>null</td><td>null</td><td>null</td><td>null</td><td>null</td><td>null</td><td>null</td><td>null</td><td>null</td><td>null</td><td>null</td><td>null</td><td>null</td><td>null</td><td>null</td><td>null</td><td>null</td><td>null</td><td>null</td><td>null</td><td>null</td><td>null</td><td>null</td><td>null</td><td>null</td><td>null</td><td>null</td><td>null</td><td>null</td><td>null</td><td>null</td><td>null</td><td>2023-09-08</td><td>0</td><td>&quot;Building&quot;</td><td>1</td></tr><tr><td>&quot;MULTIPOLYGON (…</td><td>&quot;BU03631200&quot;</td><td>&quot;Houthavens Wes…</td><td>&quot;WK036312&quot;</td><td>&quot;GM0363&quot;</td><td>&quot;Amsterdam&quot;</td><td>1</td><td>&quot;NEE&quot;</td><td>&quot;1014&quot;</td><td>3</td><td>3485</td><td>1</td><td>9848</td><td>3735</td><td>1895</td><td>1840</td><td>23</td><td>5</td><td>41</td><td>24</td><td>8</td><td>63</td><td>30</td><td>5</td><td>2</td><td>1690</td><td>37</td><td>27</td><td>35</td><td>2.2</td><td>23</td><td>16</td><td>2</td><td>1</td><td>2</td><td>2</td><td>9</td><td>&hellip;</td><td>null</td><td>null</td><td>null</td><td>null</td><td>null</td><td>null</td><td>null</td><td>null</td><td>null</td><td>null</td><td>null</td><td>null</td><td>null</td><td>null</td><td>null</td><td>null</td><td>null</td><td>null</td><td>null</td><td>null</td><td>null</td><td>null</td><td>null</td><td>null</td><td>null</td><td>null</td><td>null</td><td>null</td><td>null</td><td>null</td><td>null</td><td>null</td><td>null</td><td>2022-02-19</td><td>16</td><td>&quot;Building&quot;</td><td>1</td></tr><tr><td>&quot;MULTIPOLYGON (…</td><td>&quot;BU03631200&quot;</td><td>&quot;Houthavens Wes…</td><td>&quot;WK036312&quot;</td><td>&quot;GM0363&quot;</td><td>&quot;Amsterdam&quot;</td><td>1</td><td>&quot;NEE&quot;</td><td>&quot;1014&quot;</td><td>3</td><td>3485</td><td>1</td><td>9848</td><td>3735</td><td>1895</td><td>1840</td><td>23</td><td>5</td><td>41</td><td>24</td><td>8</td><td>63</td><td>30</td><td>5</td><td>2</td><td>1690</td><td>37</td><td>27</td><td>35</td><td>2.2</td><td>23</td><td>16</td><td>2</td><td>1</td><td>2</td><td>2</td><td>9</td><td>&hellip;</td><td>null</td><td>null</td><td>null</td><td>null</td><td>null</td><td>null</td><td>null</td><td>null</td><td>null</td><td>null</td><td>null</td><td>null</td><td>null</td><td>null</td><td>null</td><td>null</td><td>null</td><td>null</td><td>null</td><td>null</td><td>null</td><td>null</td><td>null</td><td>null</td><td>null</td><td>null</td><td>null</td><td>null</td><td>null</td><td>null</td><td>null</td><td>null</td><td>null</td><td>2022-02-20</td><td>11</td><td>&quot;Fence, Road si…</td><td>1</td></tr><tr><td>&quot;MULTIPOLYGON (…</td><td>&quot;BU03631200&quot;</td><td>&quot;Houthavens Wes…</td><td>&quot;WK036312&quot;</td><td>&quot;GM0363&quot;</td><td>&quot;Amsterdam&quot;</td><td>1</td><td>&quot;NEE&quot;</td><td>&quot;1014&quot;</td><td>3</td><td>3485</td><td>1</td><td>9848</td><td>3735</td><td>1895</td><td>1840</td><td>23</td><td>5</td><td>41</td><td>24</td><td>8</td><td>63</td><td>30</td><td>5</td><td>2</td><td>1690</td><td>37</td><td>27</td><td>35</td><td>2.2</td><td>23</td><td>16</td><td>2</td><td>1</td><td>2</td><td>2</td><td>9</td><td>&hellip;</td><td>null</td><td>null</td><td>null</td><td>null</td><td>null</td><td>null</td><td>null</td><td>null</td><td>null</td><td>null</td><td>null</td><td>null</td><td>null</td><td>null</td><td>null</td><td>null</td><td>null</td><td>null</td><td>null</td><td>null</td><td>null</td><td>null</td><td>null</td><td>null</td><td>null</td><td>null</td><td>null</td><td>null</td><td>null</td><td>null</td><td>null</td><td>null</td><td>null</td><td>2020-12-27</td><td>12</td><td>&quot;Building&quot;</td><td>1</td></tr><tr><td>&quot;MULTIPOLYGON (…</td><td>&quot;BU03631200&quot;</td><td>&quot;Houthavens Wes…</td><td>&quot;WK036312&quot;</td><td>&quot;GM0363&quot;</td><td>&quot;Amsterdam&quot;</td><td>1</td><td>&quot;NEE&quot;</td><td>&quot;1014&quot;</td><td>3</td><td>3485</td><td>1</td><td>9848</td><td>3735</td><td>1895</td><td>1840</td><td>23</td><td>5</td><td>41</td><td>24</td><td>8</td><td>63</td><td>30</td><td>5</td><td>2</td><td>1690</td><td>37</td><td>27</td><td>35</td><td>2.2</td><td>23</td><td>16</td><td>2</td><td>1</td><td>2</td><td>2</td><td>9</td><td>&hellip;</td><td>null</td><td>null</td><td>null</td><td>null</td><td>null</td><td>null</td><td>null</td><td>null</td><td>null</td><td>null</td><td>null</td><td>null</td><td>null</td><td>null</td><td>null</td><td>null</td><td>null</td><td>null</td><td>null</td><td>null</td><td>null</td><td>null</td><td>null</td><td>null</td><td>null</td><td>null</td><td>null</td><td>null</td><td>null</td><td>null</td><td>null</td><td>null</td><td>null</td><td>2018-12-15</td><td>17</td><td>&quot;Building&quot;</td><td>1</td></tr><tr><td>&quot;MULTIPOLYGON (…</td><td>&quot;BU03631200&quot;</td><td>&quot;Houthavens Wes…</td><td>&quot;WK036312&quot;</td><td>&quot;GM0363&quot;</td><td>&quot;Amsterdam&quot;</td><td>1</td><td>&quot;NEE&quot;</td><td>&quot;1014&quot;</td><td>3</td><td>3485</td><td>1</td><td>9848</td><td>3735</td><td>1895</td><td>1840</td><td>23</td><td>5</td><td>41</td><td>24</td><td>8</td><td>63</td><td>30</td><td>5</td><td>2</td><td>1690</td><td>37</td><td>27</td><td>35</td><td>2.2</td><td>23</td><td>16</td><td>2</td><td>1</td><td>2</td><td>2</td><td>9</td><td>&hellip;</td><td>null</td><td>null</td><td>null</td><td>null</td><td>null</td><td>null</td><td>null</td><td>null</td><td>null</td><td>null</td><td>null</td><td>null</td><td>null</td><td>null</td><td>null</td><td>null</td><td>null</td><td>null</td><td>null</td><td>null</td><td>null</td><td>null</td><td>null</td><td>null</td><td>null</td><td>null</td><td>null</td><td>null</td><td>null</td><td>null</td><td>null</td><td>null</td><td>null</td><td>2020-02-09</td><td>12</td><td>&quot;Unknown&quot;</td><td>1</td></tr></tbody></table></div>"
      ],
      "text/plain": [
       "shape: (5_067, 254)\n",
       "┌───────────┬───────────┬───────────┬──────────┬───┬───────────┬───────────┬───────────┬───────────┐\n",
       "│ geometry  ┆ buurtcode ┆ buurtnaam ┆ wijkcode ┆ … ┆ Incidents ┆ Incidents ┆ Incidents ┆ Incidents │\n",
       "│ ---       ┆ ---       ┆ ---       ┆ ---      ┆   ┆ _Date     ┆ _Incident ┆ _Damage_T ┆ _Total    │\n",
       "│ str       ┆ str       ┆ str       ┆ str      ┆   ┆ ---       ┆ _Starttim ┆ ype       ┆ ---       │\n",
       "│           ┆           ┆           ┆          ┆   ┆ date      ┆ e_Hou…    ┆ ---       ┆ u32       │\n",
       "│           ┆           ┆           ┆          ┆   ┆           ┆ ---       ┆ str       ┆           │\n",
       "│           ┆           ┆           ┆          ┆   ┆           ┆ i8        ┆           ┆           │\n",
       "╞═══════════╪═══════════╪═══════════╪══════════╪═══╪═══════════╪═══════════╪═══════════╪═══════════╡\n",
       "│ MULTIPOLY ┆ BU0479213 ┆ Het       ┆ WK047921 ┆ … ┆ null      ┆ null      ┆ null      ┆ null      │\n",
       "│ GON (((4. ┆ 0         ┆ Eiland    ┆          ┆   ┆           ┆           ┆           ┆           │\n",
       "│ 827521460 ┆           ┆           ┆          ┆   ┆           ┆           ┆           ┆           │\n",
       "│ 30760…    ┆           ┆           ┆          ┆   ┆           ┆           ┆           ┆           │\n",
       "│ MULTIPOLY ┆ BU0479612 ┆ Noorderho ┆ WK047961 ┆ … ┆ null      ┆ null      ┆ null      ┆ null      │\n",
       "│ GON (((4. ┆ 0         ┆ ofdbuurt  ┆          ┆   ┆           ┆           ┆           ┆           │\n",
       "│ 772289929 ┆           ┆           ┆          ┆   ┆           ┆           ┆           ┆           │\n",
       "│ 38171…    ┆           ┆           ┆          ┆   ┆           ┆           ┆           ┆           │\n",
       "│ MULTIPOLY ┆ BU0362040 ┆ Stadshart ┆ WK036204 ┆ … ┆ 2023-03-1 ┆ 15        ┆ Building  ┆ 1         │\n",
       "│ GON (((4. ┆ 1         ┆           ┆          ┆   ┆ 3         ┆           ┆           ┆           │\n",
       "│ 857296557 ┆           ┆           ┆          ┆   ┆           ┆           ┆           ┆           │\n",
       "│ 88993…    ┆           ┆           ┆          ┆   ┆           ┆           ┆           ┆           │\n",
       "│ MULTIPOLY ┆ BU0362040 ┆ Stadshart ┆ WK036204 ┆ … ┆ 2022-02-1 ┆ 15        ┆ Fence,    ┆ 1         │\n",
       "│ GON (((4. ┆ 1         ┆           ┆          ┆   ┆ 8         ┆           ┆ Road      ┆           │\n",
       "│ 857296557 ┆           ┆           ┆          ┆   ┆           ┆           ┆ signs,    ┆           │\n",
       "│ 88993…    ┆           ┆           ┆          ┆   ┆           ┆           ┆ Scaffoldi ┆           │\n",
       "│           ┆           ┆           ┆          ┆   ┆           ┆           ┆ ng        ┆           │\n",
       "│ MULTIPOLY ┆ BU0362040 ┆ Stadshart ┆ WK036204 ┆ … ┆ 2019-03-0 ┆ 23        ┆ Unknown   ┆ 1         │\n",
       "│ GON (((4. ┆ 1         ┆           ┆          ┆   ┆ 7         ┆           ┆           ┆           │\n",
       "│ 857296557 ┆           ┆           ┆          ┆   ┆           ┆           ┆           ┆           │\n",
       "│ 88993…    ┆           ┆           ┆          ┆   ┆           ┆           ┆           ┆           │\n",
       "│ …         ┆ …         ┆ …         ┆ …        ┆ … ┆ …         ┆ …         ┆ …         ┆ …         │\n",
       "│ MULTIPOLY ┆ BU0363120 ┆ Houthaven ┆ WK036312 ┆ … ┆ 2022-02-1 ┆ 16        ┆ Building  ┆ 1         │\n",
       "│ GON (((4. ┆ 0         ┆ s West    ┆          ┆   ┆ 9         ┆           ┆           ┆           │\n",
       "│ 889769123 ┆           ┆           ┆          ┆   ┆           ┆           ┆           ┆           │\n",
       "│ 64762…    ┆           ┆           ┆          ┆   ┆           ┆           ┆           ┆           │\n",
       "│ MULTIPOLY ┆ BU0363120 ┆ Houthaven ┆ WK036312 ┆ … ┆ 2022-02-2 ┆ 11        ┆ Fence,    ┆ 1         │\n",
       "│ GON (((4. ┆ 0         ┆ s West    ┆          ┆   ┆ 0         ┆           ┆ Road      ┆           │\n",
       "│ 889769123 ┆           ┆           ┆          ┆   ┆           ┆           ┆ signs,    ┆           │\n",
       "│ 64762…    ┆           ┆           ┆          ┆   ┆           ┆           ┆ Scaffoldi ┆           │\n",
       "│           ┆           ┆           ┆          ┆   ┆           ┆           ┆ ng        ┆           │\n",
       "│ MULTIPOLY ┆ BU0363120 ┆ Houthaven ┆ WK036312 ┆ … ┆ 2020-12-2 ┆ 12        ┆ Building  ┆ 1         │\n",
       "│ GON (((4. ┆ 0         ┆ s West    ┆          ┆   ┆ 7         ┆           ┆           ┆           │\n",
       "│ 889769123 ┆           ┆           ┆          ┆   ┆           ┆           ┆           ┆           │\n",
       "│ 64762…    ┆           ┆           ┆          ┆   ┆           ┆           ┆           ┆           │\n",
       "│ MULTIPOLY ┆ BU0363120 ┆ Houthaven ┆ WK036312 ┆ … ┆ 2018-12-1 ┆ 17        ┆ Building  ┆ 1         │\n",
       "│ GON (((4. ┆ 0         ┆ s West    ┆          ┆   ┆ 5         ┆           ┆           ┆           │\n",
       "│ 889769123 ┆           ┆           ┆          ┆   ┆           ┆           ┆           ┆           │\n",
       "│ 64762…    ┆           ┆           ┆          ┆   ┆           ┆           ┆           ┆           │\n",
       "│ MULTIPOLY ┆ BU0363120 ┆ Houthaven ┆ WK036312 ┆ … ┆ 2020-02-0 ┆ 12        ┆ Unknown   ┆ 1         │\n",
       "│ GON (((4. ┆ 0         ┆ s West    ┆          ┆   ┆ 9         ┆           ┆           ┆           │\n",
       "│ 889769123 ┆           ┆           ┆          ┆   ┆           ┆           ┆           ┆           │\n",
       "│ 64762…    ┆           ┆           ┆          ┆   ┆           ┆           ┆           ┆           │\n",
       "└───────────┴───────────┴───────────┴──────────┴───┴───────────┴───────────┴───────────┴───────────┘"
      ]
     },
     "execution_count": 9,
     "metadata": {},
     "output_type": "execute_result"
    }
   ],
   "source": [
    "buurten_combined = buurten_combined.with_columns(pl.col(\"Incidents_Date\").cast(pl.Date))\n",
    "buurten_combined"
   ]
  },
  {
   "cell_type": "code",
   "execution_count": 10,
   "metadata": {},
   "outputs": [
    {
     "data": {
      "text/html": [
       "<div><style>\n",
       ".dataframe > thead > tr,\n",
       ".dataframe > tbody > tr {\n",
       "  text-align: right;\n",
       "  white-space: pre-wrap;\n",
       "}\n",
       "</style>\n",
       "<small>shape: (158_172, 25)</small><table border=\"1\" class=\"dataframe\"><thead><tr><th>STN</th><th>YYYYMMDD</th><th>HH</th><th>DD</th><th>FH</th><th>FF</th><th>FX</th><th>T</th><th>T10N</th><th>TD</th><th>SQ</th><th>Q</th><th>DR</th><th>RH</th><th>P</th><th>VV</th><th>N</th><th>U</th><th>WW</th><th>IX</th><th>M</th><th>R</th><th>S</th><th>O</th><th>Y</th></tr><tr><td>i64</td><td>date</td><td>i8</td><td>i64</td><td>i64</td><td>i64</td><td>i64</td><td>i64</td><td>str</td><td>i64</td><td>i64</td><td>i64</td><td>i64</td><td>i64</td><td>i64</td><td>i64</td><td>i64</td><td>i64</td><td>str</td><td>i64</td><td>i64</td><td>i64</td><td>i64</td><td>i64</td><td>i64</td></tr></thead><tbody><tr><td>240</td><td>2024-01-22</td><td>18</td><td>240</td><td>100</td><td>100</td><td>160</td><td>85</td><td>&quot;   76&quot;</td><td>48</td><td>0</td><td>0</td><td>0</td><td>0</td><td>10099</td><td>65</td><td>0</td><td>77</td><td>&quot;     &quot;</td><td>7</td><td>0</td><td>0</td><td>0</td><td>0</td><td>0</td></tr><tr><td>240</td><td>2024-01-22</td><td>17</td><td>240</td><td>100</td><td>100</td><td>160</td><td>87</td><td>&quot;     &quot;</td><td>44</td><td>0</td><td>0</td><td>0</td><td>0</td><td>10090</td><td>66</td><td>1</td><td>74</td><td>&quot;     &quot;</td><td>5</td><td>0</td><td>0</td><td>0</td><td>0</td><td>0</td></tr><tr><td>240</td><td>2024-01-22</td><td>16</td><td>240</td><td>110</td><td>110</td><td>160</td><td>90</td><td>&quot;     &quot;</td><td>48</td><td>3</td><td>13</td><td>0</td><td>0</td><td>10085</td><td>65</td><td>6</td><td>75</td><td>&quot;     &quot;</td><td>5</td><td>0</td><td>0</td><td>0</td><td>0</td><td>0</td></tr><tr><td>240</td><td>2024-01-22</td><td>15</td><td>240</td><td>120</td><td>120</td><td>190</td><td>94</td><td>&quot;     &quot;</td><td>50</td><td>10</td><td>43</td><td>0</td><td>0</td><td>10073</td><td>64</td><td>2</td><td>74</td><td>&quot;     &quot;</td><td>5</td><td>0</td><td>0</td><td>0</td><td>0</td><td>0</td></tr><tr><td>240</td><td>2024-01-22</td><td>14</td><td>240</td><td>130</td><td>130</td><td>190</td><td>98</td><td>&quot;     &quot;</td><td>52</td><td>10</td><td>79</td><td>0</td><td>0</td><td>10069</td><td>66</td><td>5</td><td>73</td><td>&quot;     &quot;</td><td>5</td><td>0</td><td>0</td><td>0</td><td>0</td><td>0</td></tr><tr><td>240</td><td>2024-01-22</td><td>13</td><td>240</td><td>120</td><td>120</td><td>200</td><td>100</td><td>&quot;     &quot;</td><td>57</td><td>10</td><td>97</td><td>0</td><td>0</td><td>10065</td><td>64</td><td>1</td><td>74</td><td>&quot;     &quot;</td><td>5</td><td>0</td><td>0</td><td>0</td><td>0</td><td>0</td></tr><tr><td>240</td><td>2024-01-22</td><td>12</td><td>250</td><td>120</td><td>120</td><td>180</td><td>104</td><td>&quot;   89&quot;</td><td>63</td><td>10</td><td>101</td><td>0</td><td>0</td><td>10060</td><td>65</td><td>0</td><td>76</td><td>&quot;    2&quot;</td><td>7</td><td>0</td><td>0</td><td>0</td><td>0</td><td>0</td></tr><tr><td>240</td><td>2024-01-22</td><td>11</td><td>250</td><td>120</td><td>130</td><td>190</td><td>101</td><td>&quot;     &quot;</td><td>71</td><td>10</td><td>82</td><td>0</td><td>0</td><td>10050</td><td>63</td><td>1</td><td>81</td><td>&quot;     &quot;</td><td>7</td><td>0</td><td>0</td><td>0</td><td>0</td><td>0</td></tr><tr><td>240</td><td>2024-01-22</td><td>10</td><td>240</td><td>100</td><td>100</td><td>160</td><td>96</td><td>&quot;     &quot;</td><td>73</td><td>0</td><td>18</td><td>0</td><td>-1</td><td>10042</td><td>60</td><td>7</td><td>85</td><td>&quot;   23&quot;</td><td>7</td><td>0</td><td>1</td><td>0</td><td>0</td><td>0</td></tr><tr><td>240</td><td>2024-01-22</td><td>9</td><td>240</td><td>120</td><td>120</td><td>190</td><td>105</td><td>&quot;     &quot;</td><td>84</td><td>0</td><td>3</td><td>0</td><td>-1</td><td>10032</td><td>58</td><td>8</td><td>86</td><td>&quot;   22&quot;</td><td>7</td><td>0</td><td>1</td><td>0</td><td>0</td><td>0</td></tr><tr><td>240</td><td>2024-01-22</td><td>8</td><td>240</td><td>140</td><td>150</td><td>220</td><td>111</td><td>&quot;     &quot;</td><td>95</td><td>0</td><td>0</td><td>3</td><td>1</td><td>10020</td><td>56</td><td>8</td><td>90</td><td>&quot;   52&quot;</td><td>7</td><td>0</td><td>1</td><td>0</td><td>0</td><td>0</td></tr><tr><td>240</td><td>2024-01-22</td><td>7</td><td>230</td><td>160</td><td>150</td><td>240</td><td>116</td><td>&quot;     &quot;</td><td>90</td><td>0</td><td>0</td><td>0</td><td>0</td><td>10011</td><td>62</td><td>8</td><td>84</td><td>&quot;     &quot;</td><td>5</td><td>0</td><td>0</td><td>0</td><td>0</td><td>0</td></tr><tr><td>&hellip;</td><td>&hellip;</td><td>&hellip;</td><td>&hellip;</td><td>&hellip;</td><td>&hellip;</td><td>&hellip;</td><td>&hellip;</td><td>&hellip;</td><td>&hellip;</td><td>&hellip;</td><td>&hellip;</td><td>&hellip;</td><td>&hellip;</td><td>&hellip;</td><td>&hellip;</td><td>&hellip;</td><td>&hellip;</td><td>&hellip;</td><td>&hellip;</td><td>&hellip;</td><td>&hellip;</td><td>&hellip;</td><td>&hellip;</td><td>&hellip;</td></tr><tr><td>240</td><td>2005-01-01</td><td>12</td><td>200</td><td>60</td><td>60</td><td>80</td><td>71</td><td>&quot;   26&quot;</td><td>51</td><td>0</td><td>31</td><td>0</td><td>0</td><td>10204</td><td>62</td><td>8</td><td>87</td><td>&quot;    2&quot;</td><td>7</td><td>0</td><td>0</td><td>0</td><td>0</td><td>0</td></tr><tr><td>240</td><td>2005-01-01</td><td>11</td><td>210</td><td>50</td><td>50</td><td>70</td><td>68</td><td>&quot;     &quot;</td><td>47</td><td>0</td><td>18</td><td>0</td><td>0</td><td>10216</td><td>64</td><td>8</td><td>86</td><td>&quot;     &quot;</td><td>5</td><td>0</td><td>0</td><td>0</td><td>0</td><td>0</td></tr><tr><td>240</td><td>2005-01-01</td><td>10</td><td>200</td><td>50</td><td>40</td><td>60</td><td>61</td><td>&quot;     &quot;</td><td>55</td><td>0</td><td>12</td><td>0</td><td>0</td><td>10223</td><td>57</td><td>8</td><td>96</td><td>&quot;   10&quot;</td><td>7</td><td>0</td><td>0</td><td>0</td><td>0</td><td>0</td></tr><tr><td>240</td><td>2005-01-01</td><td>9</td><td>200</td><td>50</td><td>50</td><td>70</td><td>55</td><td>&quot;     &quot;</td><td>51</td><td>0</td><td>5</td><td>0</td><td>0</td><td>10229</td><td>41</td><td>8</td><td>97</td><td>&quot;   10&quot;</td><td>7</td><td>0</td><td>0</td><td>0</td><td>0</td><td>0</td></tr><tr><td>240</td><td>2005-01-01</td><td>8</td><td>200</td><td>50</td><td>50</td><td>70</td><td>49</td><td>&quot;     &quot;</td><td>46</td><td>0</td><td>0</td><td>0</td><td>0</td><td>10231</td><td>35</td><td>8</td><td>98</td><td>&quot;   10&quot;</td><td>7</td><td>0</td><td>0</td><td>0</td><td>0</td><td>0</td></tr><tr><td>240</td><td>2005-01-01</td><td>7</td><td>200</td><td>40</td><td>50</td><td>60</td><td>40</td><td>&quot;     &quot;</td><td>38</td><td>0</td><td>0</td><td>0</td><td>0</td><td>10230</td><td>14</td><td>3</td><td>99</td><td>&quot;   20&quot;</td><td>7</td><td>1</td><td>0</td><td>0</td><td>0</td><td>0</td></tr><tr><td>240</td><td>2005-01-01</td><td>6</td><td>200</td><td>40</td><td>40</td><td>50</td><td>32</td><td>&quot;   21&quot;</td><td>29</td><td>0</td><td>0</td><td>0</td><td>0</td><td>10235</td><td>25</td><td>0</td><td>98</td><td>&quot;   10&quot;</td><td>7</td><td>0</td><td>0</td><td>0</td><td>0</td><td>0</td></tr><tr><td>240</td><td>2005-01-01</td><td>5</td><td>230</td><td>40</td><td>40</td><td>50</td><td>38</td><td>&quot;     &quot;</td><td>34</td><td>0</td><td>0</td><td>0</td><td>0</td><td>10237</td><td>14</td><td>3</td><td>97</td><td>&quot;   10&quot;</td><td>7</td><td>0</td><td>0</td><td>0</td><td>0</td><td>0</td></tr><tr><td>240</td><td>2005-01-01</td><td>4</td><td>220</td><td>40</td><td>40</td><td>50</td><td>38</td><td>&quot;     &quot;</td><td>32</td><td>0</td><td>0</td><td>0</td><td>0</td><td>10239</td><td>12</td><td>0</td><td>96</td><td>&quot;   10&quot;</td><td>7</td><td>0</td><td>0</td><td>0</td><td>0</td><td>0</td></tr><tr><td>240</td><td>2005-01-01</td><td>3</td><td>230</td><td>40</td><td>30</td><td>50</td><td>43</td><td>&quot;     &quot;</td><td>34</td><td>0</td><td>0</td><td>0</td><td>0</td><td>10241</td><td>40</td><td>1</td><td>94</td><td>&quot;   10&quot;</td><td>7</td><td>0</td><td>0</td><td>0</td><td>0</td><td>0</td></tr><tr><td>240</td><td>2005-01-01</td><td>2</td><td>230</td><td>30</td><td>30</td><td>60</td><td>65</td><td>&quot;     &quot;</td><td>52</td><td>0</td><td>0</td><td>0</td><td>0</td><td>10244</td><td>58</td><td>8</td><td>91</td><td>&quot;   10&quot;</td><td>7</td><td>0</td><td>0</td><td>0</td><td>0</td><td>0</td></tr><tr><td>240</td><td>2005-01-01</td><td>1</td><td>260</td><td>40</td><td>30</td><td>60</td><td>68</td><td>&quot;     &quot;</td><td>57</td><td>0</td><td>0</td><td>0</td><td>0</td><td>10246</td><td>57</td><td>8</td><td>93</td><td>&quot;   10&quot;</td><td>7</td><td>0</td><td>0</td><td>0</td><td>0</td><td>0</td></tr></tbody></table></div>"
      ],
      "text/plain": [
       "shape: (158_172, 25)\n",
       "┌─────┬────────────┬─────┬─────┬───┬─────┬─────┬─────┬─────┐\n",
       "│ STN ┆ YYYYMMDD   ┆ HH  ┆ DD  ┆ … ┆ R   ┆ S   ┆ O   ┆ Y   │\n",
       "│ --- ┆ ---        ┆ --- ┆ --- ┆   ┆ --- ┆ --- ┆ --- ┆ --- │\n",
       "│ i64 ┆ date       ┆ i8  ┆ i64 ┆   ┆ i64 ┆ i64 ┆ i64 ┆ i64 │\n",
       "╞═════╪════════════╪═════╪═════╪═══╪═════╪═════╪═════╪═════╡\n",
       "│ 240 ┆ 2024-01-22 ┆ 18  ┆ 240 ┆ … ┆ 0   ┆ 0   ┆ 0   ┆ 0   │\n",
       "│ 240 ┆ 2024-01-22 ┆ 17  ┆ 240 ┆ … ┆ 0   ┆ 0   ┆ 0   ┆ 0   │\n",
       "│ 240 ┆ 2024-01-22 ┆ 16  ┆ 240 ┆ … ┆ 0   ┆ 0   ┆ 0   ┆ 0   │\n",
       "│ 240 ┆ 2024-01-22 ┆ 15  ┆ 240 ┆ … ┆ 0   ┆ 0   ┆ 0   ┆ 0   │\n",
       "│ 240 ┆ 2024-01-22 ┆ 14  ┆ 240 ┆ … ┆ 0   ┆ 0   ┆ 0   ┆ 0   │\n",
       "│ …   ┆ …          ┆ …   ┆ …   ┆ … ┆ …   ┆ …   ┆ …   ┆ …   │\n",
       "│ 240 ┆ 2005-01-01 ┆ 5   ┆ 230 ┆ … ┆ 0   ┆ 0   ┆ 0   ┆ 0   │\n",
       "│ 240 ┆ 2005-01-01 ┆ 4   ┆ 220 ┆ … ┆ 0   ┆ 0   ┆ 0   ┆ 0   │\n",
       "│ 240 ┆ 2005-01-01 ┆ 3   ┆ 230 ┆ … ┆ 0   ┆ 0   ┆ 0   ┆ 0   │\n",
       "│ 240 ┆ 2005-01-01 ┆ 2   ┆ 230 ┆ … ┆ 0   ┆ 0   ┆ 0   ┆ 0   │\n",
       "│ 240 ┆ 2005-01-01 ┆ 1   ┆ 260 ┆ … ┆ 0   ┆ 0   ┆ 0   ┆ 0   │\n",
       "└─────┴────────────┴─────┴─────┴───┴─────┴─────┴─────┴─────┘"
      ]
     },
     "execution_count": 10,
     "metadata": {},
     "output_type": "execute_result"
    }
   ],
   "source": [
    "knmi_weather_data = pl.read_parquet(\"../dsp-dagster/data/knmi_weather_data.parquet\")\n",
    "knmi_weather_data"
   ]
  },
  {
   "cell_type": "code",
   "execution_count": 11,
   "metadata": {},
   "outputs": [
    {
     "data": {
      "text/html": [
       "<div><style>\n",
       ".dataframe > thead > tr,\n",
       ".dataframe > tbody > tr {\n",
       "  text-align: right;\n",
       "  white-space: pre-wrap;\n",
       "}\n",
       "</style>\n",
       "<small>shape: (4_559, 277)</small><table border=\"1\" class=\"dataframe\"><thead><tr><th>geometry</th><th>buurtcode</th><th>buurtnaam</th><th>wijkcode</th><th>gemeentecode</th><th>gemeentenaam</th><th>indelingswijzigingWijkenEnBuurten</th><th>water</th><th>meestVoorkomendePostcode</th><th>dekkingspercentage</th><th>omgevingsadressendichtheid</th><th>stedelijkheidAdressenPerKm2</th><th>bevolkingsdichtheidInwonersPerKm2</th><th>aantalInwoners</th><th>mannen</th><th>vrouwen</th><th>percentagePersonen0Tot15Jaar</th><th>percentagePersonen15Tot25Jaar</th><th>percentagePersonen25Tot45Jaar</th><th>percentagePersonen45Tot65Jaar</th><th>percentagePersonen65JaarEnOuder</th><th>percentageOngehuwd</th><th>percentageGehuwd</th><th>percentageGescheid</th><th>percentageVerweduwd</th><th>aantalHuishoudens</th><th>percentageEenpersoonshuishoudens</th><th>percentageHuishoudensZonderKinderen</th><th>percentageHuishoudensMetKinderen</th><th>gemiddeldeHuishoudsgrootte</th><th>percentageWesterseMigratieachtergrond</th><th>percentageNietWesterseMigratieachtergrond</th><th>percentageUitMarokko</th><th>percentageUitNederlandseAntillenEnAruba</th><th>percentageUitSuriname</th><th>percentageUitTurkije</th><th>percentageOverigeNietwestersemigratieachtergrond</th><th>&hellip;</th><th>Trees_standplaatsGedetailleerd_Ongewapend-nietverdeuveld-beton</th><th>Trees_standplaatsGedetailleerd_Blokhaag</th><th>Trees_standplaatsGedetailleerd_Grove-sierheester</th><th>Trees_standplaatsGedetailleerd_Heesterrozen</th><th>Trees_standplaatsGedetailleerd_Botanische-rozen</th><th>Trees_stamdiameterklasse_0,1-tot-0,2-m.</th><th>Trees_stamdiameterklasse_0,5-tot-1-m.</th><th>Trees_stamdiameterklasse_0,3-tot-0,5-m.</th><th>Trees_stamdiameterklasse_0,2-tot-0,3-m.</th><th>Trees_stamdiameterklasse_1,0-tot-1,5-m.</th><th>Incidents_Date</th><th>Incidents_Incident_Starttime_Hour</th><th>Incidents_Damage_Type</th><th>Incidents_Total</th><th>STN</th><th>DD</th><th>FH</th><th>FF</th><th>FX</th><th>T</th><th>T10N</th><th>TD</th><th>SQ</th><th>Q</th><th>DR</th><th>RH</th><th>P</th><th>VV</th><th>N</th><th>U</th><th>WW</th><th>IX</th><th>M</th><th>R</th><th>S</th><th>O</th><th>Y</th></tr><tr><td>str</td><td>str</td><td>str</td><td>str</td><td>str</td><td>str</td><td>i64</td><td>str</td><td>str</td><td>i64</td><td>i64</td><td>i64</td><td>i64</td><td>i64</td><td>i64</td><td>i64</td><td>i64</td><td>i64</td><td>i64</td><td>i64</td><td>i64</td><td>i64</td><td>i64</td><td>i64</td><td>i64</td><td>i64</td><td>i64</td><td>i64</td><td>i64</td><td>f64</td><td>i64</td><td>i64</td><td>i64</td><td>i64</td><td>i64</td><td>i64</td><td>i64</td><td>&hellip;</td><td>u32</td><td>u32</td><td>u32</td><td>u32</td><td>u32</td><td>u32</td><td>u32</td><td>u32</td><td>u32</td><td>u32</td><td>date</td><td>i8</td><td>str</td><td>u32</td><td>i64</td><td>i64</td><td>i64</td><td>i64</td><td>i64</td><td>i64</td><td>str</td><td>i64</td><td>i64</td><td>i64</td><td>i64</td><td>i64</td><td>i64</td><td>i64</td><td>i64</td><td>i64</td><td>str</td><td>i64</td><td>i64</td><td>i64</td><td>i64</td><td>i64</td><td>i64</td></tr></thead><tbody><tr><td>&quot;MULTIPOLYGON (…</td><td>&quot;BU03630402&quot;</td><td>&quot;Rapenburg&quot;</td><td>&quot;WK036304&quot;</td><td>&quot;GM0363&quot;</td><td>&quot;Amsterdam&quot;</td><td>1</td><td>&quot;NEE&quot;</td><td>&quot;1011&quot;</td><td>1</td><td>6056</td><td>1</td><td>10753</td><td>990</td><td>480</td><td>505</td><td>9</td><td>22</td><td>36</td><td>22</td><td>11</td><td>72</td><td>21</td><td>6</td><td>1</td><td>630</td><td>60</td><td>25</td><td>14</td><td>1.6</td><td>34</td><td>17</td><td>1</td><td>1</td><td>3</td><td>2</td><td>11</td><td>&hellip;</td><td>null</td><td>null</td><td>null</td><td>null</td><td>null</td><td>null</td><td>null</td><td>null</td><td>null</td><td>null</td><td>2023-11-02</td><td>18</td><td>&quot;Unknown&quot;</td><td>1</td><td>240</td><td>190</td><td>150</td><td>150</td><td>230</td><td>109</td><td>&quot;   94&quot;</td><td>62</td><td>0</td><td>0</td><td>0</td><td>-1</td><td>9709</td><td>75</td><td>8</td><td>72</td><td>&quot;   23&quot;</td><td>7</td><td>0</td><td>1</td><td>0</td><td>0</td><td>0</td></tr><tr><td>&quot;MULTIPOLYGON (…</td><td>&quot;BU03638802&quot;</td><td>&quot;Nieuwe Meer&quot;</td><td>&quot;WK036388&quot;</td><td>&quot;GM0363&quot;</td><td>&quot;Amsterdam&quot;</td><td>1</td><td>&quot;NEE&quot;</td><td>&quot;1066&quot;</td><td>1</td><td>271</td><td>5</td><td>137</td><td>175</td><td>100</td><td>80</td><td>12</td><td>15</td><td>22</td><td>44</td><td>8</td><td>76</td><td>16</td><td>7</td><td>1</td><td>115</td><td>71</td><td>5</td><td>24</td><td>1.6</td><td>22</td><td>7</td><td>0</td><td>2</td><td>1</td><td>0</td><td>5</td><td>&hellip;</td><td>null</td><td>null</td><td>null</td><td>null</td><td>null</td><td>null</td><td>null</td><td>null</td><td>null</td><td>null</td><td>2023-11-02</td><td>18</td><td>&quot;Tree&quot;</td><td>1</td><td>240</td><td>190</td><td>150</td><td>150</td><td>230</td><td>109</td><td>&quot;   94&quot;</td><td>62</td><td>0</td><td>0</td><td>0</td><td>-1</td><td>9709</td><td>75</td><td>8</td><td>72</td><td>&quot;   23&quot;</td><td>7</td><td>0</td><td>1</td><td>0</td><td>0</td><td>0</td></tr><tr><td>&quot;MULTIPOLYGON (…</td><td>&quot;BU03620202&quot;</td><td>&quot;Patrimonium&quot;</td><td>&quot;WK036202&quot;</td><td>&quot;GM0362&quot;</td><td>&quot;Amstelveen&quot;</td><td>1</td><td>&quot;NEE&quot;</td><td>&quot;1182&quot;</td><td>1</td><td>1462</td><td>3</td><td>4490</td><td>2220</td><td>1070</td><td>1145</td><td>14</td><td>11</td><td>20</td><td>29</td><td>26</td><td>48</td><td>38</td><td>9</td><td>5</td><td>1080</td><td>41</td><td>25</td><td>33</td><td>2.1</td><td>19</td><td>16</td><td>2</td><td>1</td><td>2</td><td>0</td><td>11</td><td>&hellip;</td><td>null</td><td>null</td><td>null</td><td>null</td><td>null</td><td>null</td><td>null</td><td>null</td><td>null</td><td>null</td><td>2023-11-02</td><td>18</td><td>&quot;Tree&quot;</td><td>1</td><td>240</td><td>190</td><td>150</td><td>150</td><td>230</td><td>109</td><td>&quot;   94&quot;</td><td>62</td><td>0</td><td>0</td><td>0</td><td>-1</td><td>9709</td><td>75</td><td>8</td><td>72</td><td>&quot;   23&quot;</td><td>7</td><td>0</td><td>1</td><td>0</td><td>0</td><td>0</td></tr><tr><td>&quot;MULTIPOLYGON (…</td><td>&quot;BU03630907&quot;</td><td>&quot;Kazernebuurt&quot;</td><td>&quot;WK036309&quot;</td><td>&quot;GM0363&quot;</td><td>&quot;Amsterdam&quot;</td><td>1</td><td>&quot;NEE&quot;</td><td>&quot;1018&quot;</td><td>1</td><td>8035</td><td>1</td><td>16958</td><td>930</td><td>440</td><td>485</td><td>6</td><td>10</td><td>34</td><td>26</td><td>24</td><td>71</td><td>18</td><td>9</td><td>3</td><td>620</td><td>67</td><td>21</td><td>13</td><td>1.5</td><td>20</td><td>21</td><td>4</td><td>1</td><td>5</td><td>2</td><td>10</td><td>&hellip;</td><td>null</td><td>null</td><td>null</td><td>null</td><td>null</td><td>null</td><td>null</td><td>null</td><td>null</td><td>null</td><td>2023-11-02</td><td>18</td><td>&quot;Unknown&quot;</td><td>1</td><td>240</td><td>190</td><td>150</td><td>150</td><td>230</td><td>109</td><td>&quot;   94&quot;</td><td>62</td><td>0</td><td>0</td><td>0</td><td>-1</td><td>9709</td><td>75</td><td>8</td><td>72</td><td>&quot;   23&quot;</td><td>7</td><td>0</td><td>1</td><td>0</td><td>0</td><td>0</td></tr><tr><td>&quot;MULTIPOLYGON (…</td><td>&quot;BU03635202&quot;</td><td>&quot;Scheldebuurt M…</td><td>&quot;WK036352&quot;</td><td>&quot;GM0363&quot;</td><td>&quot;Amsterdam&quot;</td><td>1</td><td>&quot;NEE&quot;</td><td>&quot;1078&quot;</td><td>3</td><td>8568</td><td>1</td><td>19667</td><td>3150</td><td>1440</td><td>1710</td><td>14</td><td>10</td><td>42</td><td>19</td><td>15</td><td>67</td><td>23</td><td>7</td><td>3</td><td>1665</td><td>46</td><td>30</td><td>24</td><td>1.9</td><td>25</td><td>11</td><td>1</td><td>1</td><td>2</td><td>1</td><td>6</td><td>&hellip;</td><td>0</td><td>0</td><td>0</td><td>0</td><td>0</td><td>0</td><td>0</td><td>0</td><td>0</td><td>0</td><td>2023-11-02</td><td>18</td><td>&quot;Tree&quot;</td><td>1</td><td>240</td><td>190</td><td>150</td><td>150</td><td>230</td><td>109</td><td>&quot;   94&quot;</td><td>62</td><td>0</td><td>0</td><td>0</td><td>-1</td><td>9709</td><td>75</td><td>8</td><td>72</td><td>&quot;   23&quot;</td><td>7</td><td>0</td><td>1</td><td>0</td><td>0</td><td>0</td></tr><tr><td>&quot;MULTIPOLYGON (…</td><td>&quot;BU03638903&quot;</td><td>&quot;Medisch Centru…</td><td>&quot;WK036389&quot;</td><td>&quot;GM0363&quot;</td><td>&quot;Amsterdam&quot;</td><td>1</td><td>&quot;NEE&quot;</td><td>&quot;1066&quot;</td><td>1</td><td>2509</td><td>1</td><td>2748</td><td>795</td><td>410</td><td>385</td><td>6</td><td>46</td><td>35</td><td>6</td><td>6</td><td>86</td><td>5</td><td>7</td><td>2</td><td>650</td><td>91</td><td>3</td><td>6</td><td>1.2</td><td>27</td><td>40</td><td>11</td><td>2</td><td>5</td><td>3</td><td>19</td><td>&hellip;</td><td>null</td><td>null</td><td>null</td><td>null</td><td>null</td><td>null</td><td>null</td><td>null</td><td>null</td><td>null</td><td>2023-11-02</td><td>18</td><td>&quot;Tree&quot;</td><td>1</td><td>240</td><td>190</td><td>150</td><td>150</td><td>230</td><td>109</td><td>&quot;   94&quot;</td><td>62</td><td>0</td><td>0</td><td>0</td><td>-1</td><td>9709</td><td>75</td><td>8</td><td>72</td><td>&quot;   23&quot;</td><td>7</td><td>0</td><td>1</td><td>0</td><td>0</td><td>0</td></tr><tr><td>&quot;MULTIPOLYGON (…</td><td>&quot;BU03635602&quot;</td><td>&quot;Middenmeer Zui…</td><td>&quot;WK036356&quot;</td><td>&quot;GM0363&quot;</td><td>&quot;Amsterdam&quot;</td><td>1</td><td>&quot;NEE&quot;</td><td>&quot;1098&quot;</td><td>1</td><td>4356</td><td>1</td><td>12604</td><td>4990</td><td>2395</td><td>2595</td><td>19</td><td>12</td><td>32</td><td>25</td><td>12</td><td>65</td><td>26</td><td>6</td><td>3</td><td>2410</td><td>42</td><td>25</td><td>33</td><td>2.1</td><td>20</td><td>12</td><td>2</td><td>1</td><td>2</td><td>0</td><td>7</td><td>&hellip;</td><td>0</td><td>0</td><td>0</td><td>0</td><td>0</td><td>0</td><td>0</td><td>0</td><td>0</td><td>0</td><td>2023-11-02</td><td>17</td><td>&quot;Building&quot;</td><td>1</td><td>240</td><td>190</td><td>160</td><td>150</td><td>240</td><td>104</td><td>&quot;     &quot;</td><td>71</td><td>0</td><td>0</td><td>0</td><td>0</td><td>9701</td><td>75</td><td>8</td><td>79</td><td>&quot;     &quot;</td><td>5</td><td>0</td><td>0</td><td>0</td><td>0</td><td>0</td></tr><tr><td>&quot;MULTIPOLYGON (…</td><td>&quot;BU03632701&quot;</td><td>&quot;Weesperzijde M…</td><td>&quot;WK036327&quot;</td><td>&quot;GM0363&quot;</td><td>&quot;Amsterdam&quot;</td><td>1</td><td>&quot;NEE&quot;</td><td>&quot;1091&quot;</td><td>1</td><td>9462</td><td>1</td><td>17700</td><td>3265</td><td>1645</td><td>1625</td><td>11</td><td>9</td><td>47</td><td>21</td><td>12</td><td>71</td><td>21</td><td>6</td><td>1</td><td>1920</td><td>55</td><td>28</td><td>17</td><td>1.7</td><td>24</td><td>21</td><td>4</td><td>1</td><td>3</td><td>2</td><td>10</td><td>&hellip;</td><td>null</td><td>null</td><td>null</td><td>null</td><td>null</td><td>null</td><td>null</td><td>null</td><td>null</td><td>null</td><td>2023-11-02</td><td>17</td><td>&quot;Building&quot;</td><td>1</td><td>240</td><td>190</td><td>160</td><td>150</td><td>240</td><td>104</td><td>&quot;     &quot;</td><td>71</td><td>0</td><td>0</td><td>0</td><td>0</td><td>9701</td><td>75</td><td>8</td><td>79</td><td>&quot;     &quot;</td><td>5</td><td>0</td><td>0</td><td>0</td><td>0</td><td>0</td></tr><tr><td>&quot;MULTIPOLYGON (…</td><td>&quot;BU04370002&quot;</td><td>&quot;Industriegebie…</td><td>&quot;WK043700&quot;</td><td>&quot;GM0437&quot;</td><td>&quot;Ouder-Amstel&quot;</td><td>1</td><td>&quot;NEE&quot;</td><td>&quot;1114&quot;</td><td>1</td><td>1104</td><td>3</td><td>52</td><td>60</td><td>30</td><td>25</td><td>9</td><td>20</td><td>23</td><td>34</td><td>14</td><td>66</td><td>13</td><td>21</td><td>0</td><td>35</td><td>52</td><td>16</td><td>32</td><td>1.8</td><td>32</td><td>13</td><td>-99999999</td><td>-99999999</td><td>-99999999</td><td>-99999999</td><td>-99999999</td><td>&hellip;</td><td>null</td><td>null</td><td>null</td><td>null</td><td>null</td><td>null</td><td>null</td><td>null</td><td>null</td><td>null</td><td>2023-11-02</td><td>17</td><td>&quot;Tree&quot;</td><td>1</td><td>240</td><td>190</td><td>160</td><td>150</td><td>240</td><td>104</td><td>&quot;     &quot;</td><td>71</td><td>0</td><td>0</td><td>0</td><td>0</td><td>9701</td><td>75</td><td>8</td><td>79</td><td>&quot;     &quot;</td><td>5</td><td>0</td><td>0</td><td>0</td><td>0</td><td>0</td></tr><tr><td>&quot;MULTIPOLYGON (…</td><td>&quot;BU03633500&quot;</td><td>&quot;Steigereiland …</td><td>&quot;WK036335&quot;</td><td>&quot;GM0363&quot;</td><td>&quot;Amsterdam&quot;</td><td>1</td><td>&quot;NEE&quot;</td><td>&quot;1086&quot;</td><td>1</td><td>1148</td><td>3</td><td>10142</td><td>1640</td><td>825</td><td>810</td><td>23</td><td>12</td><td>35</td><td>26</td><td>4</td><td>66</td><td>25</td><td>8</td><td>1</td><td>700</td><td>31</td><td>26</td><td>43</td><td>2.3</td><td>21</td><td>36</td><td>12</td><td>1</td><td>9</td><td>2</td><td>12</td><td>&hellip;</td><td>null</td><td>null</td><td>null</td><td>null</td><td>null</td><td>null</td><td>null</td><td>null</td><td>null</td><td>null</td><td>2023-11-02</td><td>17</td><td>&quot;Tree&quot;</td><td>1</td><td>240</td><td>190</td><td>160</td><td>150</td><td>240</td><td>104</td><td>&quot;     &quot;</td><td>71</td><td>0</td><td>0</td><td>0</td><td>0</td><td>9701</td><td>75</td><td>8</td><td>79</td><td>&quot;     &quot;</td><td>5</td><td>0</td><td>0</td><td>0</td><td>0</td><td>0</td></tr><tr><td>&quot;MULTIPOLYGON (…</td><td>&quot;BU03630303&quot;</td><td>&quot;Amstelveldbuur…</td><td>&quot;WK036303&quot;</td><td>&quot;GM0363&quot;</td><td>&quot;Amsterdam&quot;</td><td>1</td><td>&quot;NEE&quot;</td><td>&quot;1017&quot;</td><td>1</td><td>9180</td><td>1</td><td>13758</td><td>1535</td><td>790</td><td>740</td><td>9</td><td>13</td><td>33</td><td>28</td><td>16</td><td>65</td><td>27</td><td>5</td><td>3</td><td>925</td><td>59</td><td>26</td><td>15</td><td>1.7</td><td>29</td><td>12</td><td>0</td><td>1</td><td>2</td><td>1</td><td>8</td><td>&hellip;</td><td>null</td><td>null</td><td>null</td><td>null</td><td>null</td><td>null</td><td>null</td><td>null</td><td>null</td><td>null</td><td>2023-11-02</td><td>17</td><td>&quot;Tree&quot;</td><td>2</td><td>240</td><td>190</td><td>160</td><td>150</td><td>240</td><td>104</td><td>&quot;     &quot;</td><td>71</td><td>0</td><td>0</td><td>0</td><td>0</td><td>9701</td><td>75</td><td>8</td><td>79</td><td>&quot;     &quot;</td><td>5</td><td>0</td><td>0</td><td>0</td><td>0</td><td>0</td></tr><tr><td>&quot;MULTIPOLYGON (…</td><td>&quot;BU03632900&quot;</td><td>&quot;Dapperbuurt No…</td><td>&quot;WK036329&quot;</td><td>&quot;GM0363&quot;</td><td>&quot;Amsterdam&quot;</td><td>1</td><td>&quot;NEE&quot;</td><td>&quot;1093&quot;</td><td>1</td><td>8585</td><td>1</td><td>21484</td><td>4240</td><td>2020</td><td>2215</td><td>10</td><td>11</td><td>40</td><td>22</td><td>16</td><td>68</td><td>19</td><td>9</td><td>3</td><td>2500</td><td>60</td><td>22</td><td>19</td><td>1.7</td><td>18</td><td>40</td><td>10</td><td>1</td><td>8</td><td>7</td><td>13</td><td>&hellip;</td><td>0</td><td>0</td><td>0</td><td>0</td><td>0</td><td>0</td><td>0</td><td>0</td><td>0</td><td>0</td><td>2023-11-02</td><td>17</td><td>&quot;Tree&quot;</td><td>1</td><td>240</td><td>190</td><td>160</td><td>150</td><td>240</td><td>104</td><td>&quot;     &quot;</td><td>71</td><td>0</td><td>0</td><td>0</td><td>0</td><td>9701</td><td>75</td><td>8</td><td>79</td><td>&quot;     &quot;</td><td>5</td><td>0</td><td>0</td><td>0</td><td>0</td><td>0</td></tr><tr><td>&hellip;</td><td>&hellip;</td><td>&hellip;</td><td>&hellip;</td><td>&hellip;</td><td>&hellip;</td><td>&hellip;</td><td>&hellip;</td><td>&hellip;</td><td>&hellip;</td><td>&hellip;</td><td>&hellip;</td><td>&hellip;</td><td>&hellip;</td><td>&hellip;</td><td>&hellip;</td><td>&hellip;</td><td>&hellip;</td><td>&hellip;</td><td>&hellip;</td><td>&hellip;</td><td>&hellip;</td><td>&hellip;</td><td>&hellip;</td><td>&hellip;</td><td>&hellip;</td><td>&hellip;</td><td>&hellip;</td><td>&hellip;</td><td>&hellip;</td><td>&hellip;</td><td>&hellip;</td><td>&hellip;</td><td>&hellip;</td><td>&hellip;</td><td>&hellip;</td><td>&hellip;</td><td>&hellip;</td><td>&hellip;</td><td>&hellip;</td><td>&hellip;</td><td>&hellip;</td><td>&hellip;</td><td>&hellip;</td><td>&hellip;</td><td>&hellip;</td><td>&hellip;</td><td>&hellip;</td><td>&hellip;</td><td>&hellip;</td><td>&hellip;</td><td>&hellip;</td><td>&hellip;</td><td>&hellip;</td><td>&hellip;</td><td>&hellip;</td><td>&hellip;</td><td>&hellip;</td><td>&hellip;</td><td>&hellip;</td><td>&hellip;</td><td>&hellip;</td><td>&hellip;</td><td>&hellip;</td><td>&hellip;</td><td>&hellip;</td><td>&hellip;</td><td>&hellip;</td><td>&hellip;</td><td>&hellip;</td><td>&hellip;</td><td>&hellip;</td><td>&hellip;</td><td>&hellip;</td><td>&hellip;</td></tr><tr><td>&quot;MULTIPOLYGON (…</td><td>&quot;BU03639407&quot;</td><td>&quot;K-buurt Zuidwe…</td><td>&quot;WK036394&quot;</td><td>&quot;GM0363&quot;</td><td>&quot;Amsterdam&quot;</td><td>1</td><td>&quot;NEE&quot;</td><td>&quot;1104&quot;</td><td>1</td><td>3048</td><td>1</td><td>8496</td><td>1410</td><td>690</td><td>725</td><td>17</td><td>20</td><td>26</td><td>29</td><td>8</td><td>65</td><td>24</td><td>9</td><td>2</td><td>605</td><td>41</td><td>14</td><td>45</td><td>2.3</td><td>7</td><td>78</td><td>3</td><td>5</td><td>39</td><td>3</td><td>28</td><td>&hellip;</td><td>0</td><td>0</td><td>0</td><td>0</td><td>0</td><td>0</td><td>0</td><td>0</td><td>0</td><td>0</td><td>2006-03-27</td><td>18</td><td>&quot;Fence, Road si…</td><td>1</td><td>240</td><td>230</td><td>150</td><td>130</td><td>230</td><td>118</td><td>&quot;  110&quot;</td><td>73</td><td>5</td><td>16</td><td>0</td><td>0</td><td>9996</td><td>64</td><td>7</td><td>74</td><td>&quot;    3&quot;</td><td>7</td><td>0</td><td>0</td><td>0</td><td>0</td><td>0</td></tr><tr><td>&quot;MULTIPOLYGON (…</td><td>&quot;BU03630904&quot;</td><td>&quot;Czaar Peterbuu…</td><td>&quot;WK036309&quot;</td><td>&quot;GM0363&quot;</td><td>&quot;Amsterdam&quot;</td><td>1</td><td>&quot;NEE&quot;</td><td>&quot;1018&quot;</td><td>1</td><td>6959</td><td>1</td><td>22531</td><td>2340</td><td>1175</td><td>1165</td><td>10</td><td>12</td><td>44</td><td>23</td><td>11</td><td>73</td><td>16</td><td>10</td><td>2</td><td>1480</td><td>63</td><td>20</td><td>17</td><td>1.6</td><td>23</td><td>29</td><td>6</td><td>1</td><td>7</td><td>2</td><td>13</td><td>&hellip;</td><td>null</td><td>null</td><td>null</td><td>null</td><td>null</td><td>null</td><td>null</td><td>null</td><td>null</td><td>null</td><td>2006-03-27</td><td>18</td><td>&quot;Building&quot;</td><td>1</td><td>240</td><td>230</td><td>150</td><td>130</td><td>230</td><td>118</td><td>&quot;  110&quot;</td><td>73</td><td>5</td><td>16</td><td>0</td><td>0</td><td>9996</td><td>64</td><td>7</td><td>74</td><td>&quot;    3&quot;</td><td>7</td><td>0</td><td>0</td><td>0</td><td>0</td><td>0</td></tr><tr><td>&quot;MULTIPOLYGON (…</td><td>&quot;BU03637501&quot;</td><td>&quot;Filips van Alm…</td><td>&quot;WK036375&quot;</td><td>&quot;GM0363&quot;</td><td>&quot;Amsterdam&quot;</td><td>1</td><td>&quot;NEE&quot;</td><td>&quot;1057&quot;</td><td>1</td><td>11036</td><td>1</td><td>26255</td><td>1095</td><td>570</td><td>525</td><td>12</td><td>13</td><td>47</td><td>21</td><td>7</td><td>74</td><td>18</td><td>6</td><td>1</td><td>655</td><td>60</td><td>23</td><td>17</td><td>1.7</td><td>24</td><td>26</td><td>9</td><td>1</td><td>2</td><td>3</td><td>11</td><td>&hellip;</td><td>null</td><td>null</td><td>null</td><td>null</td><td>null</td><td>null</td><td>null</td><td>null</td><td>null</td><td>null</td><td>2006-03-27</td><td>18</td><td>&quot;Unknown&quot;</td><td>1</td><td>240</td><td>230</td><td>150</td><td>130</td><td>230</td><td>118</td><td>&quot;  110&quot;</td><td>73</td><td>5</td><td>16</td><td>0</td><td>0</td><td>9996</td><td>64</td><td>7</td><td>74</td><td>&quot;    3&quot;</td><td>7</td><td>0</td><td>0</td><td>0</td><td>0</td><td>0</td></tr><tr><td>&quot;MULTIPOLYGON (…</td><td>&quot;BU03633300&quot;</td><td>&quot;Oostelijke Han…</td><td>&quot;WK036333&quot;</td><td>&quot;GM0363&quot;</td><td>&quot;Amsterdam&quot;</td><td>1</td><td>&quot;NEE&quot;</td><td>&quot;1019&quot;</td><td>1</td><td>3723</td><td>1</td><td>6359</td><td>1455</td><td>775</td><td>680</td><td>14</td><td>7</td><td>45</td><td>26</td><td>8</td><td>63</td><td>28</td><td>8</td><td>1</td><td>755</td><td>40</td><td>35</td><td>25</td><td>1.9</td><td>28</td><td>32</td><td>7</td><td>1</td><td>5</td><td>3</td><td>16</td><td>&hellip;</td><td>null</td><td>null</td><td>null</td><td>null</td><td>null</td><td>null</td><td>null</td><td>null</td><td>null</td><td>null</td><td>2006-03-27</td><td>17</td><td>&quot;Unknown&quot;</td><td>1</td><td>240</td><td>230</td><td>160</td><td>160</td><td>250</td><td>131</td><td>&quot;     &quot;</td><td>78</td><td>10</td><td>67</td><td>0</td><td>0</td><td>9989</td><td>65</td><td>2</td><td>70</td><td>&quot;     &quot;</td><td>5</td><td>0</td><td>0</td><td>0</td><td>0</td><td>0</td></tr><tr><td>&quot;MULTIPOLYGON (…</td><td>&quot;BU03632902&quot;</td><td>&quot;Oostpoort&quot;</td><td>&quot;WK036329&quot;</td><td>&quot;GM0363&quot;</td><td>&quot;Amsterdam&quot;</td><td>1</td><td>&quot;NEE&quot;</td><td>&quot;1093&quot;</td><td>1</td><td>8727</td><td>1</td><td>9084</td><td>2020</td><td>995</td><td>1020</td><td>17</td><td>9</td><td>33</td><td>25</td><td>17</td><td>61</td><td>26</td><td>9</td><td>4</td><td>950</td><td>47</td><td>24</td><td>29</td><td>1.9</td><td>17</td><td>31</td><td>6</td><td>1</td><td>8</td><td>3</td><td>12</td><td>&hellip;</td><td>0</td><td>0</td><td>0</td><td>0</td><td>0</td><td>0</td><td>0</td><td>0</td><td>0</td><td>0</td><td>2006-03-26</td><td>7</td><td>&quot;Fence, Road si…</td><td>1</td><td>240</td><td>240</td><td>100</td><td>100</td><td>150</td><td>109</td><td>&quot;     &quot;</td><td>98</td><td>2</td><td>22</td><td>0</td><td>0</td><td>10058</td><td>65</td><td>6</td><td>93</td><td>&quot;     &quot;</td><td>5</td><td>0</td><td>0</td><td>0</td><td>0</td><td>0</td></tr><tr><td>&quot;MULTIPOLYGON (…</td><td>&quot;BU03632902&quot;</td><td>&quot;Oostpoort&quot;</td><td>&quot;WK036329&quot;</td><td>&quot;GM0363&quot;</td><td>&quot;Amsterdam&quot;</td><td>1</td><td>&quot;NEE&quot;</td><td>&quot;1093&quot;</td><td>1</td><td>8727</td><td>1</td><td>9084</td><td>2020</td><td>995</td><td>1020</td><td>17</td><td>9</td><td>33</td><td>25</td><td>17</td><td>61</td><td>26</td><td>9</td><td>4</td><td>950</td><td>47</td><td>24</td><td>29</td><td>1.9</td><td>17</td><td>31</td><td>6</td><td>1</td><td>8</td><td>3</td><td>12</td><td>&hellip;</td><td>0</td><td>0</td><td>0</td><td>0</td><td>0</td><td>0</td><td>0</td><td>0</td><td>0</td><td>0</td><td>2006-03-26</td><td>7</td><td>&quot;Tree&quot;</td><td>1</td><td>240</td><td>240</td><td>100</td><td>100</td><td>150</td><td>109</td><td>&quot;     &quot;</td><td>98</td><td>2</td><td>22</td><td>0</td><td>0</td><td>10058</td><td>65</td><td>6</td><td>93</td><td>&quot;     &quot;</td><td>5</td><td>0</td><td>0</td><td>0</td><td>0</td><td>0</td></tr><tr><td>&quot;MULTIPOLYGON (…</td><td>&quot;BU03620801&quot;</td><td>&quot;Oude Dorp&quot;</td><td>&quot;WK036208&quot;</td><td>&quot;GM0362&quot;</td><td>&quot;Amstelveen&quot;</td><td>1</td><td>&quot;NEE&quot;</td><td>&quot;1182&quot;</td><td>1</td><td>2147</td><td>2</td><td>2670</td><td>610</td><td>305</td><td>305</td><td>14</td><td>12</td><td>24</td><td>34</td><td>15</td><td>53</td><td>36</td><td>9</td><td>2</td><td>300</td><td>42</td><td>26</td><td>32</td><td>2.0</td><td>21</td><td>17</td><td>2</td><td>0</td><td>2</td><td>2</td><td>11</td><td>&hellip;</td><td>null</td><td>null</td><td>null</td><td>null</td><td>null</td><td>null</td><td>null</td><td>null</td><td>null</td><td>null</td><td>2006-01-12</td><td>4</td><td>&quot;Unknown&quot;</td><td>1</td><td>240</td><td>160</td><td>10</td><td>10</td><td>10</td><td>-25</td><td>&quot;     &quot;</td><td>-28</td><td>0</td><td>0</td><td>0</td><td>0</td><td>10314</td><td>6</td><td>0</td><td>98</td><td>&quot;   35&quot;</td><td>7</td><td>1</td><td>0</td><td>0</td><td>0</td><td>1</td></tr><tr><td>&quot;MULTIPOLYGON (…</td><td>&quot;BU03620603&quot;</td><td>&quot;Boekenbuurt&quot;</td><td>&quot;WK036206&quot;</td><td>&quot;GM0362&quot;</td><td>&quot;Amstelveen&quot;</td><td>1</td><td>&quot;NEE&quot;</td><td>&quot;1183&quot;</td><td>1</td><td>2796</td><td>1</td><td>5864</td><td>2940</td><td>1375</td><td>1565</td><td>12</td><td>8</td><td>28</td><td>22</td><td>30</td><td>46</td><td>37</td><td>9</td><td>7</td><td>1560</td><td>49</td><td>28</td><td>23</td><td>1.8</td><td>20</td><td>28</td><td>1</td><td>1</td><td>3</td><td>2</td><td>20</td><td>&hellip;</td><td>null</td><td>null</td><td>null</td><td>null</td><td>null</td><td>null</td><td>null</td><td>null</td><td>null</td><td>null</td><td>2006-01-03</td><td>10</td><td>&quot;Unknown&quot;</td><td>1</td><td>240</td><td>190</td><td>30</td><td>30</td><td>50</td><td>15</td><td>&quot;     &quot;</td><td>4</td><td>8</td><td>62</td><td>0</td><td>0</td><td>10305</td><td>59</td><td>4</td><td>92</td><td>&quot;   10&quot;</td><td>7</td><td>0</td><td>0</td><td>0</td><td>0</td><td>0</td></tr><tr><td>&quot;MULTIPOLYGON (…</td><td>&quot;BU04370000&quot;</td><td>&quot;Ouderkerk aan …</td><td>&quot;WK043700&quot;</td><td>&quot;GM0437&quot;</td><td>&quot;Ouder-Amstel&quot;</td><td>1</td><td>&quot;NEE&quot;</td><td>&quot;1191&quot;</td><td>1</td><td>974</td><td>4</td><td>3983</td><td>8195</td><td>3970</td><td>4225</td><td>17</td><td>12</td><td>18</td><td>30</td><td>22</td><td>47</td><td>41</td><td>7</td><td>5</td><td>3430</td><td>29</td><td>30</td><td>41</td><td>2.4</td><td>12</td><td>11</td><td>1</td><td>1</td><td>2</td><td>1</td><td>6</td><td>&hellip;</td><td>null</td><td>null</td><td>null</td><td>null</td><td>null</td><td>null</td><td>null</td><td>null</td><td>null</td><td>null</td><td>2005-11-25</td><td>10</td><td>&quot;Tree&quot;</td><td>1</td><td>240</td><td>280</td><td>170</td><td>140</td><td>270</td><td>45</td><td>&quot;     &quot;</td><td>37</td><td>0</td><td>2</td><td>9</td><td>22</td><td>9779</td><td>49</td><td>8</td><td>95</td><td>&quot;   62&quot;</td><td>7</td><td>0</td><td>1</td><td>0</td><td>1</td><td>0</td></tr><tr><td>&quot;MULTIPOLYGON (…</td><td>&quot;BU03630705&quot;</td><td>&quot;Den Texbuurt&quot;</td><td>&quot;WK036307&quot;</td><td>&quot;GM0363&quot;</td><td>&quot;Amsterdam&quot;</td><td>1</td><td>&quot;NEE&quot;</td><td>&quot;1017&quot;</td><td>1</td><td>10125</td><td>1</td><td>11429</td><td>1085</td><td>570</td><td>515</td><td>10</td><td>12</td><td>37</td><td>23</td><td>18</td><td>62</td><td>29</td><td>6</td><td>3</td><td>625</td><td>57</td><td>23</td><td>20</td><td>1.7</td><td>30</td><td>13</td><td>1</td><td>1</td><td>1</td><td>1</td><td>9</td><td>&hellip;</td><td>null</td><td>null</td><td>null</td><td>null</td><td>null</td><td>null</td><td>null</td><td>null</td><td>null</td><td>null</td><td>2005-11-25</td><td>7</td><td>&quot;Unknown&quot;</td><td>1</td><td>240</td><td>290</td><td>160</td><td>160</td><td>260</td><td>45</td><td>&quot;     &quot;</td><td>34</td><td>0</td><td>0</td><td>10</td><td>24</td><td>9784</td><td>58</td><td>8</td><td>93</td><td>&quot;   62&quot;</td><td>7</td><td>0</td><td>1</td><td>0</td><td>0</td><td>0</td></tr><tr><td>&quot;MULTIPOLYGON (…</td><td>&quot;BU03638900&quot;</td><td>&quot;Louis Chrispij…</td><td>&quot;WK036389&quot;</td><td>&quot;GM0363&quot;</td><td>&quot;Amsterdam&quot;</td><td>1</td><td>&quot;NEE&quot;</td><td>&quot;1065&quot;</td><td>1</td><td>3935</td><td>1</td><td>8914</td><td>3195</td><td>1515</td><td>1680</td><td>16</td><td>16</td><td>27</td><td>21</td><td>19</td><td>58</td><td>27</td><td>10</td><td>4</td><td>1680</td><td>56</td><td>18</td><td>26</td><td>1.9</td><td>17</td><td>49</td><td>20</td><td>1</td><td>8</td><td>8</td><td>12</td><td>&hellip;</td><td>null</td><td>null</td><td>null</td><td>null</td><td>null</td><td>null</td><td>null</td><td>null</td><td>null</td><td>null</td><td>2005-04-07</td><td>12</td><td>&quot;Tree&quot;</td><td>1</td><td>240</td><td>240</td><td>160</td><td>160</td><td>210</td><td>99</td><td>&quot;   69&quot;</td><td>13</td><td>8</td><td>195</td><td>0</td><td>0</td><td>9993</td><td>74</td><td>6</td><td>55</td><td>&quot;    2&quot;</td><td>7</td><td>0</td><td>0</td><td>0</td><td>0</td><td>0</td></tr><tr><td>&quot;MULTIPOLYGON (…</td><td>&quot;BU03636605&quot;</td><td>&quot;Molenwijk&quot;</td><td>&quot;WK036366&quot;</td><td>&quot;GM0363&quot;</td><td>&quot;Amsterdam&quot;</td><td>1</td><td>&quot;NEE&quot;</td><td>&quot;1035&quot;</td><td>1</td><td>2345</td><td>2</td><td>10015</td><td>3035</td><td>1455</td><td>1585</td><td>20</td><td>14</td><td>26</td><td>22</td><td>18</td><td>57</td><td>25</td><td>12</td><td>6</td><td>1470</td><td>50</td><td>16</td><td>34</td><td>2.1</td><td>12</td><td>52</td><td>10</td><td>1</td><td>7</td><td>9</td><td>25</td><td>&hellip;</td><td>null</td><td>null</td><td>null</td><td>null</td><td>null</td><td>null</td><td>null</td><td>null</td><td>null</td><td>null</td><td>2005-04-07</td><td>12</td><td>&quot;Unknown&quot;</td><td>1</td><td>240</td><td>240</td><td>160</td><td>160</td><td>210</td><td>99</td><td>&quot;   69&quot;</td><td>13</td><td>8</td><td>195</td><td>0</td><td>0</td><td>9993</td><td>74</td><td>6</td><td>55</td><td>&quot;    2&quot;</td><td>7</td><td>0</td><td>0</td><td>0</td><td>0</td><td>0</td></tr></tbody></table></div>"
      ],
      "text/plain": [
       "shape: (4_559, 277)\n",
       "┌───────────────────────┬────────────┬──────────────────────┬──────────┬───┬─────┬─────┬─────┬─────┐\n",
       "│ geometry              ┆ buurtcode  ┆ buurtnaam            ┆ wijkcode ┆ … ┆ R   ┆ S   ┆ O   ┆ Y   │\n",
       "│ ---                   ┆ ---        ┆ ---                  ┆ ---      ┆   ┆ --- ┆ --- ┆ --- ┆ --- │\n",
       "│ str                   ┆ str        ┆ str                  ┆ str      ┆   ┆ i64 ┆ i64 ┆ i64 ┆ i64 │\n",
       "╞═══════════════════════╪════════════╪══════════════════════╪══════════╪═══╪═════╪═════╪═════╪═════╡\n",
       "│ MULTIPOLYGON          ┆ BU03630402 ┆ Rapenburg            ┆ WK036304 ┆ … ┆ 1   ┆ 0   ┆ 0   ┆ 0   │\n",
       "│ (((4.91295585079812…  ┆            ┆                      ┆          ┆   ┆     ┆     ┆     ┆     │\n",
       "│ MULTIPOLYGON          ┆ BU03638802 ┆ Nieuwe Meer          ┆ WK036388 ┆ … ┆ 1   ┆ 0   ┆ 0   ┆ 0   │\n",
       "│ (((4.81889616076290…  ┆            ┆                      ┆          ┆   ┆     ┆     ┆     ┆     │\n",
       "│ MULTIPOLYGON          ┆ BU03620202 ┆ Patrimonium          ┆ WK036202 ┆ … ┆ 1   ┆ 0   ┆ 0   ┆ 0   │\n",
       "│ (((4.84121743513758…  ┆            ┆                      ┆          ┆   ┆     ┆     ┆     ┆     │\n",
       "│ MULTIPOLYGON          ┆ BU03630907 ┆ Kazernebuurt         ┆ WK036309 ┆ … ┆ 1   ┆ 0   ┆ 0   ┆ 0   │\n",
       "│ (((4.92548910931018…  ┆            ┆                      ┆          ┆   ┆     ┆     ┆     ┆     │\n",
       "│ MULTIPOLYGON          ┆ BU03635202 ┆ Scheldebuurt Midden  ┆ WK036352 ┆ … ┆ 1   ┆ 0   ┆ 0   ┆ 0   │\n",
       "│ (((4.89529813858210…  ┆            ┆                      ┆          ┆   ┆     ┆     ┆     ┆     │\n",
       "│ …                     ┆ …          ┆ …                    ┆ …        ┆ … ┆ …   ┆ …   ┆ …   ┆ …   │\n",
       "│ MULTIPOLYGON          ┆ BU03620603 ┆ Boekenbuurt          ┆ WK036206 ┆ … ┆ 0   ┆ 0   ┆ 0   ┆ 0   │\n",
       "│ (((4.87443563037082…  ┆            ┆                      ┆          ┆   ┆     ┆     ┆     ┆     │\n",
       "│ MULTIPOLYGON          ┆ BU04370000 ┆ Ouderkerk aan de     ┆ WK043700 ┆ … ┆ 1   ┆ 0   ┆ 1   ┆ 0   │\n",
       "│ (((4.92129401905325…  ┆            ┆ Amstel               ┆          ┆   ┆     ┆     ┆     ┆     │\n",
       "│ MULTIPOLYGON          ┆ BU03630705 ┆ Den Texbuurt         ┆ WK036307 ┆ … ┆ 1   ┆ 0   ┆ 0   ┆ 0   │\n",
       "│ (((4.88704457008538…  ┆            ┆                      ┆          ┆   ┆     ┆     ┆     ┆     │\n",
       "│ MULTIPOLYGON          ┆ BU03638900 ┆ Louis Chrispijnbuurt ┆ WK036389 ┆ … ┆ 0   ┆ 0   ┆ 0   ┆ 0   │\n",
       "│ (((4.82581056882415…  ┆            ┆                      ┆          ┆   ┆     ┆     ┆     ┆     │\n",
       "│ MULTIPOLYGON          ┆ BU03636605 ┆ Molenwijk            ┆ WK036366 ┆ … ┆ 0   ┆ 0   ┆ 0   ┆ 0   │\n",
       "│ (((4.88876677031294…  ┆            ┆                      ┆          ┆   ┆     ┆     ┆     ┆     │\n",
       "└───────────────────────┴────────────┴──────────────────────┴──────────┴───┴─────┴─────┴─────┴─────┘"
      ]
     },
     "execution_count": 11,
     "metadata": {},
     "output_type": "execute_result"
    }
   ],
   "source": [
    "# Perform the join without equality conditions on date and hour\n",
    "model_data = buurten_combined.join(\n",
    "    knmi_weather_data,\n",
    "    left_on=(\"Incidents_Date\", \"Incidents_Incident_Starttime_Hour\"),\n",
    "    right_on=(\"YYYYMMDD\", \"HH\"),\n",
    ")\n",
    "model_data"
   ]
  },
  {
   "cell_type": "code",
   "execution_count": 12,
   "metadata": {},
   "outputs": [],
   "source": [
    "model_data.write_parquet(\"model_data.parquet\")"
   ]
  },
  {
   "cell_type": "code",
   "execution_count": 15,
   "metadata": {},
   "outputs": [
    {
     "data": {
      "text/html": [
       "<div><style>\n",
       ".dataframe > thead > tr,\n",
       ".dataframe > tbody > tr {\n",
       "  text-align: right;\n",
       "  white-space: pre-wrap;\n",
       "}\n",
       "</style>\n",
       "<small>shape: (537,)</small><table border=\"1\" class=\"dataframe\"><thead><tr><th>buurtcode</th></tr><tr><td>str</td></tr></thead><tbody><tr><td>&quot;BU03630105&quot;</td></tr><tr><td>&quot;BU03638805&quot;</td></tr><tr><td>&quot;BU03630408&quot;</td></tr><tr><td>&quot;BU03630600&quot;</td></tr><tr><td>&quot;BU03639200&quot;</td></tr><tr><td>&quot;BU03631401&quot;</td></tr><tr><td>&quot;BU03633201&quot;</td></tr><tr><td>&quot;BU03621104&quot;</td></tr><tr><td>&quot;BU03635504&quot;</td></tr><tr><td>&quot;BU03630405&quot;</td></tr><tr><td>&quot;BU03840308&quot;</td></tr><tr><td>&quot;BU03634708&quot;</td></tr><tr><td>&hellip;</td></tr><tr><td>&quot;BU03633101&quot;</td></tr><tr><td>&quot;BU03636502&quot;</td></tr><tr><td>&quot;BU03636804&quot;</td></tr><tr><td>&quot;BU03620702&quot;</td></tr><tr><td>&quot;BU03840502&quot;</td></tr><tr><td>&quot;BU03639409&quot;</td></tr><tr><td>&quot;BU03632501&quot;</td></tr><tr><td>&quot;BU03632001&quot;</td></tr><tr><td>&quot;BU03633306&quot;</td></tr><tr><td>&quot;BU03633706&quot;</td></tr><tr><td>&quot;BU03631302&quot;</td></tr><tr><td>&quot;BU03633704&quot;</td></tr></tbody></table></div>"
      ],
      "text/plain": [
       "shape: (537,)\n",
       "Series: 'buurtcode' [str]\n",
       "[\n",
       "\t\"BU03630105\"\n",
       "\t\"BU03638805\"\n",
       "\t\"BU03630408\"\n",
       "\t\"BU03630600\"\n",
       "\t\"BU03639200\"\n",
       "\t\"BU03631401\"\n",
       "\t\"BU03633201\"\n",
       "\t\"BU03621104\"\n",
       "\t\"BU03635504\"\n",
       "\t\"BU03630405\"\n",
       "\t\"BU03840308\"\n",
       "\t\"BU03634708\"\n",
       "\t…\n",
       "\t\"BU03636100\"\n",
       "\t\"BU03633101\"\n",
       "\t\"BU03636502\"\n",
       "\t\"BU03636804\"\n",
       "\t\"BU03620702\"\n",
       "\t\"BU03840502\"\n",
       "\t\"BU03639409\"\n",
       "\t\"BU03632501\"\n",
       "\t\"BU03632001\"\n",
       "\t\"BU03633306\"\n",
       "\t\"BU03633706\"\n",
       "\t\"BU03631302\"\n",
       "\t\"BU03633704\"\n",
       "]"
      ]
     },
     "execution_count": 15,
     "metadata": {},
     "output_type": "execute_result"
    }
   ],
   "source": [
    "model_data[\"buurtcode\"].unique()"
   ]
  },
  {
   "cell_type": "code",
   "execution_count": null,
   "metadata": {},
   "outputs": [],
   "source": []
  }
 ],
 "metadata": {
  "kernelspec": {
   "display_name": "poetry",
   "language": "python",
   "name": "python3"
  },
  "language_info": {
   "codemirror_mode": {
    "name": "ipython",
    "version": 3
   },
   "file_extension": ".py",
   "mimetype": "text/x-python",
   "name": "python",
   "nbconvert_exporter": "python",
   "pygments_lexer": "ipython3",
   "version": "3.10.13"
  }
 },
 "nbformat": 4,
 "nbformat_minor": 2
}
