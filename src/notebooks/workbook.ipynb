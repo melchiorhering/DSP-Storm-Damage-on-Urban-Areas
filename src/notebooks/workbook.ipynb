{
 "cells": [
  {
   "cell_type": "markdown",
   "metadata": {},
   "source": [
    "# Testing\n",
    "\n",
    "In this notebook you can explore and test the resulting database tables from our Dagster ETL process.\n",
    "Here you can analyze\n"
   ]
  },
  {
   "cell_type": "code",
   "execution_count": 9,
   "metadata": {
    "tags": []
   },
   "outputs": [],
   "source": [
    "import duckdb\n",
    "import polars as pl"
   ]
  },
  {
   "cell_type": "code",
   "execution_count": 12,
   "metadata": {},
   "outputs": [
    {
     "name": "stdout",
     "output_type": "stream",
     "text": [
      "The sql extension is already loaded. To reload it, use:\n",
      "  %reload_ext sql\n"
     ]
    },
    {
     "data": {
      "text/html": [
       "<span style=\"None\">Running query in &#x27;duckdb&#x27;</span>"
      ],
      "text/plain": [
       "Running query in 'duckdb'"
      ]
     },
     "metadata": {},
     "output_type": "display_data"
    },
    {
     "data": {
      "text/html": [
       "<table>\n",
       "    <thead>\n",
       "        <tr>\n",
       "            <th>database</th>\n",
       "            <th>schema</th>\n",
       "            <th>name</th>\n",
       "            <th>column_names</th>\n",
       "            <th>column_types</th>\n",
       "            <th>temporary</th>\n",
       "        </tr>\n",
       "    </thead>\n",
       "    <tbody>\n",
       "    </tbody>\n",
       "</table>"
      ],
      "text/plain": [
       "+----------+--------+------+--------------+--------------+-----------+\n",
       "| database | schema | name | column_names | column_types | temporary |\n",
       "+----------+--------+------+--------------+--------------+-----------+\n",
       "+----------+--------+------+--------------+--------------+-----------+"
      ]
     },
     "execution_count": 12,
     "metadata": {},
     "output_type": "execute_result"
    }
   ],
   "source": [
    "%load_ext sql\n",
    "conn = duckdb.connect(database=\"../dsp-dagster/storage/DSP.db\")\n",
    "%sql conn --alias duckdb\n",
    "%sql SHOW ALL TABLES;"
   ]
  },
  {
   "cell_type": "code",
   "execution_count": 11,
   "metadata": {},
   "outputs": [
    {
     "ename": "CatalogException",
     "evalue": "Catalog Error: Table with name cbs_wijken does not exist!\nDid you mean \"temp.pg_catalog.pg_enum\"?\nLINE 2:     SELECT * FROM public.cbs_wijken \n                          ^",
     "output_type": "error",
     "traceback": [
      "\u001b[0;31m---------------------------------------------------------------------------\u001b[0m",
      "\u001b[0;31mCatalogException\u001b[0m                          Traceback (most recent call last)",
      "Cell \u001b[0;32mIn[11], line 1\u001b[0m\n\u001b[0;32m----> 1\u001b[0m cbs_wijken \u001b[38;5;241m=\u001b[39m \u001b[43mconn\u001b[49m\u001b[38;5;241;43m.\u001b[39;49m\u001b[43mexecute\u001b[49m\u001b[43m(\u001b[49m\n\u001b[1;32m      2\u001b[0m \u001b[38;5;250;43m    \u001b[39;49m\u001b[38;5;124;43;03m\"\"\"\u001b[39;49;00m\n\u001b[1;32m      3\u001b[0m \u001b[38;5;124;43;03m    SELECT * FROM public.cbs_wijken \"\"\"\u001b[39;49;00m\n\u001b[1;32m      4\u001b[0m \u001b[43m)\u001b[49m\u001b[38;5;241m.\u001b[39mpl()\n\u001b[1;32m      6\u001b[0m service_areas \u001b[38;5;241m=\u001b[39m conn\u001b[38;5;241m.\u001b[39mexecute(\n\u001b[1;32m      7\u001b[0m \u001b[38;5;250m    \u001b[39m\u001b[38;5;124;03m\"\"\"\u001b[39;00m\n\u001b[1;32m      8\u001b[0m \u001b[38;5;124;03m    SELECT * FROM public.service_areas \"\"\"\u001b[39;00m\n\u001b[1;32m      9\u001b[0m )\u001b[38;5;241m.\u001b[39mpl()\n\u001b[1;32m     11\u001b[0m deployment_incident_vehicles_weather \u001b[38;5;241m=\u001b[39m conn\u001b[38;5;241m.\u001b[39mexecute(\n\u001b[1;32m     12\u001b[0m \u001b[38;5;250m    \u001b[39m\u001b[38;5;124;03m\"\"\"\u001b[39;00m\n\u001b[1;32m     13\u001b[0m \u001b[38;5;124;03m    SELECT * FROM joined.deployment_incident_vehicles_weather\"\"\"\u001b[39;00m\n\u001b[1;32m     14\u001b[0m )\u001b[38;5;241m.\u001b[39mpl()\n",
      "\u001b[0;31mCatalogException\u001b[0m: Catalog Error: Table with name cbs_wijken does not exist!\nDid you mean \"temp.pg_catalog.pg_enum\"?\nLINE 2:     SELECT * FROM public.cbs_wijken \n                          ^"
     ]
    }
   ],
   "source": [
    "cbs_wijken = conn.execute(\n",
    "    \"\"\"\n",
    "    SELECT * FROM public.cbs_wijken \"\"\"\n",
    ").pl()\n",
    "\n",
    "service_areas = conn.execute(\n",
    "    \"\"\"\n",
    "    SELECT * FROM public.service_areas \"\"\"\n",
    ").pl()\n",
    "\n",
    "deployment_incident_vehicles_weather = conn.execute(\n",
    "    \"\"\"\n",
    "    SELECT * FROM joined.deployment_incident_vehicles_weather\"\"\"\n",
    ").pl()\n",
    "\n",
    "deployment_incident_vehicles = conn.execute(\n",
    "    \"\"\"\n",
    "    SELECT * FROM joined.deployment_incident_vehicles\"\"\"\n",
    ").pl()\n",
    "\n",
    "\n",
    "adjust_knmi_data_types = conn.execute(\n",
    "    \"\"\"\n",
    "    SELECT * FROM cleaned.adjust_knmi_data_types\n",
    "    \"\"\"\n",
    ").pl()\n",
    "\n",
    "\n",
    "# Close the database connection\n",
    "conn.close()"
   ]
  },
  {
   "cell_type": "code",
   "execution_count": 8,
   "metadata": {},
   "outputs": [],
   "source": [
    "# cbs_wijken.head(10)"
   ]
  },
  {
   "cell_type": "code",
   "execution_count": 5,
   "metadata": {},
   "outputs": [
    {
     "data": {
      "text/html": [
       "<div><style>\n",
       ".dataframe > thead > tr,\n",
       ".dataframe > tbody > tr {\n",
       "  text-align: right;\n",
       "  white-space: pre-wrap;\n",
       "}\n",
       "</style>\n",
       "<small>shape: (5, 25)</small><table border=\"1\" class=\"dataframe\"><thead><tr><th>station_code</th><th>date</th><th>hour</th><th>DD</th><th>FH</th><th>FF</th><th>FX</th><th>T</th><th>T10N</th><th>TD</th><th>SQ</th><th>Q</th><th>DR</th><th>RH</th><th>P</th><th>VV</th><th>N</th><th>U</th><th>WW</th><th>IX</th><th>M</th><th>R</th><th>S</th><th>O</th><th>Y</th></tr><tr><td>i64</td><td>date</td><td>i64</td><td>i64</td><td>i64</td><td>i64</td><td>i64</td><td>i64</td><td>i64</td><td>i64</td><td>i64</td><td>i64</td><td>i64</td><td>i64</td><td>i64</td><td>i64</td><td>i64</td><td>i64</td><td>i64</td><td>i64</td><td>i64</td><td>i64</td><td>i64</td><td>i64</td><td>i64</td></tr></thead><tbody><tr><td>240</td><td>2005-01-01</td><td>1</td><td>260</td><td>40</td><td>30</td><td>60</td><td>68</td><td>null</td><td>57</td><td>0</td><td>0</td><td>0</td><td>0</td><td>10246</td><td>57</td><td>8</td><td>93</td><td>10</td><td>7</td><td>0</td><td>0</td><td>0</td><td>0</td><td>0</td></tr><tr><td>240</td><td>2005-01-01</td><td>2</td><td>230</td><td>30</td><td>30</td><td>60</td><td>65</td><td>null</td><td>52</td><td>0</td><td>0</td><td>0</td><td>0</td><td>10244</td><td>58</td><td>8</td><td>91</td><td>10</td><td>7</td><td>0</td><td>0</td><td>0</td><td>0</td><td>0</td></tr><tr><td>240</td><td>2005-01-01</td><td>3</td><td>230</td><td>40</td><td>30</td><td>50</td><td>43</td><td>null</td><td>34</td><td>0</td><td>0</td><td>0</td><td>0</td><td>10241</td><td>40</td><td>1</td><td>94</td><td>10</td><td>7</td><td>0</td><td>0</td><td>0</td><td>0</td><td>0</td></tr><tr><td>240</td><td>2005-01-01</td><td>4</td><td>220</td><td>40</td><td>40</td><td>50</td><td>38</td><td>null</td><td>32</td><td>0</td><td>0</td><td>0</td><td>0</td><td>10239</td><td>12</td><td>0</td><td>96</td><td>10</td><td>7</td><td>0</td><td>0</td><td>0</td><td>0</td><td>0</td></tr><tr><td>240</td><td>2005-01-01</td><td>5</td><td>230</td><td>40</td><td>40</td><td>50</td><td>38</td><td>null</td><td>34</td><td>0</td><td>0</td><td>0</td><td>0</td><td>10237</td><td>14</td><td>3</td><td>97</td><td>10</td><td>7</td><td>0</td><td>0</td><td>0</td><td>0</td><td>0</td></tr></tbody></table></div>"
      ],
      "text/plain": [
       "shape: (5, 25)\n",
       "┌──────────────┬────────────┬──────┬─────┬───┬─────┬─────┬─────┬─────┐\n",
       "│ station_code ┆ date       ┆ hour ┆ DD  ┆ … ┆ R   ┆ S   ┆ O   ┆ Y   │\n",
       "│ ---          ┆ ---        ┆ ---  ┆ --- ┆   ┆ --- ┆ --- ┆ --- ┆ --- │\n",
       "│ i64          ┆ date       ┆ i64  ┆ i64 ┆   ┆ i64 ┆ i64 ┆ i64 ┆ i64 │\n",
       "╞══════════════╪════════════╪══════╪═════╪═══╪═════╪═════╪═════╪═════╡\n",
       "│ 240          ┆ 2005-01-01 ┆ 1    ┆ 260 ┆ … ┆ 0   ┆ 0   ┆ 0   ┆ 0   │\n",
       "│ 240          ┆ 2005-01-01 ┆ 2    ┆ 230 ┆ … ┆ 0   ┆ 0   ┆ 0   ┆ 0   │\n",
       "│ 240          ┆ 2005-01-01 ┆ 3    ┆ 230 ┆ … ┆ 0   ┆ 0   ┆ 0   ┆ 0   │\n",
       "│ 240          ┆ 2005-01-01 ┆ 4    ┆ 220 ┆ … ┆ 0   ┆ 0   ┆ 0   ┆ 0   │\n",
       "│ 240          ┆ 2005-01-01 ┆ 5    ┆ 230 ┆ … ┆ 0   ┆ 0   ┆ 0   ┆ 0   │\n",
       "└──────────────┴────────────┴──────┴─────┴───┴─────┴─────┴─────┴─────┘"
      ]
     },
     "execution_count": 5,
     "metadata": {},
     "output_type": "execute_result"
    }
   ],
   "source": [
    "adjust_knmi_data_types.head()"
   ]
  },
  {
   "cell_type": "code",
   "execution_count": 6,
   "metadata": {},
   "outputs": [
    {
     "data": {
      "text/html": [
       "<div><style>\n",
       ".dataframe > thead > tr,\n",
       ".dataframe > tbody > tr {\n",
       "  text-align: right;\n",
       "  white-space: pre-wrap;\n",
       "}\n",
       "</style>\n",
       "<small>shape: (19, 5)</small><table border=\"1\" class=\"dataframe\"><thead><tr><th>H_Verzorgingsgebied_ID</th><th>Verzorgingsgebied</th><th>LAT</th><th>LON</th><th>geometry</th></tr><tr><td>i64</td><td>str</td><td>f64</td><td>f64</td><td>str</td></tr></thead><tbody><tr><td>60</td><td>&quot;Aalsmeer&quot;</td><td>52.262846</td><td>4.76409</td><td>&quot;POLYGON ((1103…</td></tr><tr><td>62</td><td>&quot;Amstelveen&quot;</td><td>52.306531</td><td>4.888029</td><td>&quot;MULTIPOLYGON (…</td></tr><tr><td>64</td><td>&quot;Anton&quot;</td><td>52.308747</td><td>4.980264</td><td>&quot;MULTIPOLYGON (…</td></tr><tr><td>70</td><td>&quot;Diemen&quot;</td><td>52.341314</td><td>4.964931</td><td>&quot;MULTIPOLYGON (…</td></tr><tr><td>71</td><td>&quot;Dirk&quot;</td><td>52.360768</td><td>4.886359</td><td>&quot;MULTIPOLYGON (…</td></tr><tr><td>72</td><td>&quot;Driemond&quot;</td><td>52.316452</td><td>5.020421</td><td>&quot;MULTIPOLYGON (…</td></tr><tr><td>73</td><td>&quot;Duivendrecht&quot;</td><td>52.333488</td><td>4.944756</td><td>&quot;MULTIPOLYGON (…</td></tr><tr><td>74</td><td>&quot;GBA&quot;</td><td>52.399355</td><td>4.798441</td><td>&quot;MULTIPOLYGON (…</td></tr><tr><td>79</td><td>&quot;Hendrik&quot;</td><td>52.375786</td><td>4.875513</td><td>&quot;POLYGON ((1192…</td></tr><tr><td>81</td><td>&quot;IJsbrand&quot;</td><td>52.406521</td><td>4.889798</td><td>&quot;MULTIPOLYGON (…</td></tr><tr><td>92</td><td>&quot;Nico&quot;</td><td>52.367585</td><td>4.911049</td><td>&quot;POLYGON ((1221…</td></tr><tr><td>97</td><td>&quot;Osdorp&quot;</td><td>52.363493</td><td>4.804109</td><td>&quot;MULTIPOLYGON (…</td></tr><tr><td>100</td><td>&quot;Pieter&quot;</td><td>52.353822</td><td>4.847481</td><td>&quot;POLYGON ((1225…</td></tr><tr><td>107</td><td>&quot;Teunis&quot;</td><td>52.392128</td><td>4.865122</td><td>&quot;MULTIPOLYGON (…</td></tr><tr><td>108</td><td>&quot;Uithoorn&quot;</td><td>52.246243</td><td>4.817305</td><td>&quot;MULTIPOLYGON (…</td></tr><tr><td>110</td><td>&quot;Victor&quot;</td><td>52.358539</td><td>4.928869</td><td>&quot;MULTIPOLYGON (…</td></tr><tr><td>112</td><td>&quot;Weesp&quot;</td><td>52.303235</td><td>5.046891</td><td>&quot;POLYGON ((1359…</td></tr><tr><td>113</td><td>&quot;Willem&quot;</td><td>52.351096</td><td>4.917176</td><td>&quot;MULTIPOLYGON (…</td></tr><tr><td>119</td><td>&quot;Zebra&quot;</td><td>52.399046</td><td>4.952706</td><td>&quot;MULTIPOLYGON (…</td></tr></tbody></table></div>"
      ],
      "text/plain": [
       "shape: (19, 5)\n",
       "┌────────────────────────┬───────────────────┬───────────┬──────────┬───────────────────────────┐\n",
       "│ H_Verzorgingsgebied_ID ┆ Verzorgingsgebied ┆ LAT       ┆ LON      ┆ geometry                  │\n",
       "│ ---                    ┆ ---               ┆ ---       ┆ ---      ┆ ---                       │\n",
       "│ i64                    ┆ str               ┆ f64       ┆ f64      ┆ str                       │\n",
       "╞════════════════════════╪═══════════════════╪═══════════╪══════════╪═══════════════════════════╡\n",
       "│ 60                     ┆ Aalsmeer          ┆ 52.262846 ┆ 4.76409  ┆ POLYGON                   │\n",
       "│                        ┆                   ┆           ┆          ┆ ((110373.600000000005820… │\n",
       "│ 62                     ┆ Amstelveen        ┆ 52.306531 ┆ 4.888029 ┆ MULTIPOLYGON              │\n",
       "│                        ┆                   ┆           ┆          ┆ (((115222.699999999…      │\n",
       "│ 64                     ┆ Anton             ┆ 52.308747 ┆ 4.980264 ┆ MULTIPOLYGON              │\n",
       "│                        ┆                   ┆           ┆          ┆ (((128942.699999999…      │\n",
       "│ 70                     ┆ Diemen            ┆ 52.341314 ┆ 4.964931 ┆ MULTIPOLYGON              │\n",
       "│                        ┆                   ┆           ┆          ┆ (((124486.000000000…      │\n",
       "│ …                      ┆ …                 ┆ …         ┆ …        ┆ …                         │\n",
       "│ 110                    ┆ Victor            ┆ 52.358539 ┆ 4.928869 ┆ MULTIPOLYGON              │\n",
       "│                        ┆                   ┆           ┆          ┆ (((126848.300000000…      │\n",
       "│ 112                    ┆ Weesp             ┆ 52.303235 ┆ 5.046891 ┆ POLYGON                   │\n",
       "│                        ┆                   ┆           ┆          ┆ ((135925.500000000000000… │\n",
       "│ 113                    ┆ Willem            ┆ 52.351096 ┆ 4.917176 ┆ MULTIPOLYGON              │\n",
       "│                        ┆                   ┆           ┆          ┆ (((122750.600000000…      │\n",
       "│ 119                    ┆ Zebra             ┆ 52.399046 ┆ 4.952706 ┆ MULTIPOLYGON              │\n",
       "│                        ┆                   ┆           ┆          ┆ (((125673.500000000…      │\n",
       "└────────────────────────┴───────────────────┴───────────┴──────────┴───────────────────────────┘"
      ]
     },
     "metadata": {},
     "output_type": "display_data"
    }
   ],
   "source": [
    "# display(service_areas)"
   ]
  },
  {
   "cell_type": "code",
   "execution_count": 14,
   "metadata": {},
   "outputs": [
    {
     "data": {
      "text/html": [
       "<div><style>\n",
       ".dataframe > thead > tr,\n",
       ".dataframe > tbody > tr {\n",
       "  text-align: right;\n",
       "  white-space: pre-wrap;\n",
       "}\n",
       "</style>\n",
       "<small>shape: (5, 24)</small><table border=\"1\" class=\"dataframe\"><thead><tr><th>Incident_ID</th><th>Date</th><th>Incident_Starttime</th><th>Incident_Endtime</th><th>Incident_Duration</th><th>Incident_Priority</th><th>Service_Area</th><th>Municipality</th><th>Damage_Type</th><th>LON</th><th>LAT</th><th>Incident_Starttime_Hour</th><th>Incident_Endtime_Hour</th><th>Incident_Duration_Hour</th><th>Incident_Starttime_Minute</th><th>Incident_Endtime_Minute</th><th>Incident_Duration_Minute</th><th>Deployment_ID</th><th>Vehicle_Type</th><th>Vehicle_Role</th><th>Fire_Station</th><th>Fire_Station_Service_Status</th><th>Driving_Time_To_Incident</th><th>Vehicle</th></tr><tr><td>i64</td><td>date</td><td>time</td><td>time</td><td>time</td><td>i64</td><td>str</td><td>str</td><td>str</td><td>f64</td><td>f64</td><td>i8</td><td>i8</td><td>i8</td><td>i8</td><td>i8</td><td>i8</td><td>i64</td><td>str</td><td>str</td><td>str</td><td>str</td><td>str</td><td>str</td></tr></thead><tbody><tr><td>511</td><td>2018-09-07</td><td>08:25:18</td><td>10:00:56</td><td>01:35:38</td><td>2</td><td>&quot;Amstelveen&quot;</td><td>&quot;Amstelveen&quot;</td><td>&quot;Tree&quot;</td><td>4.838685</td><td>52.281552</td><td>8</td><td>10</td><td>1</td><td>25</td><td>0</td><td>35</td><td>1</td><td>&quot;TS&quot;</td><td>&quot;TS&quot;</td><td>&quot;Amstelveen&quot;</td><td>&quot;Professional&quot;</td><td>&quot;708&quot;</td><td>&quot;Tankautospuit&quot;</td></tr><tr><td>511</td><td>2018-09-07</td><td>08:25:18</td><td>10:00:56</td><td>01:35:38</td><td>2</td><td>&quot;Amstelveen&quot;</td><td>&quot;Amstelveen&quot;</td><td>&quot;Tree&quot;</td><td>4.838685</td><td>52.281552</td><td>8</td><td>10</td><td>1</td><td>25</td><td>0</td><td>35</td><td>2</td><td>&quot;AL&quot;</td><td>&quot;RV&quot;</td><td>&quot;Amstelveen&quot;</td><td>&quot;Professional&quot;</td><td>&quot;786&quot;</td><td>&quot;Autoladder&quot;</td></tr><tr><td>738</td><td>2018-09-10</td><td>16:46:38</td><td>18:00:55</td><td>01:14:17</td><td>2</td><td>&quot;Victor&quot;</td><td>&quot;Amsterdam&quot;</td><td>&quot;Tree&quot;</td><td>4.930968</td><td>52.359724</td><td>16</td><td>18</td><td>1</td><td>46</td><td>0</td><td>14</td><td>3</td><td>&quot;TS&quot;</td><td>&quot;TS&quot;</td><td>&quot;Victor&quot;</td><td>&quot;Professional&quot;</td><td>&quot;116&quot;</td><td>&quot;Tankautospuit&quot;</td></tr><tr><td>738</td><td>2018-09-10</td><td>16:46:38</td><td>18:00:55</td><td>01:14:17</td><td>2</td><td>&quot;Victor&quot;</td><td>&quot;Amsterdam&quot;</td><td>&quot;Tree&quot;</td><td>4.930968</td><td>52.359724</td><td>16</td><td>18</td><td>1</td><td>46</td><td>0</td><td>14</td><td>4</td><td>&quot;AL&quot;</td><td>&quot;RV&quot;</td><td>&quot;Victor&quot;</td><td>&quot;Professional&quot;</td><td>&quot;114&quot;</td><td>&quot;Autoladder&quot;</td></tr><tr><td>739</td><td>2018-09-10</td><td>17:11:20</td><td>18:01:00</td><td>00:49:40</td><td>2</td><td>&quot;Dirk&quot;</td><td>&quot;Amsterdam&quot;</td><td>&quot;Building&quot;</td><td>4.898818</td><td>52.357071</td><td>17</td><td>18</td><td>0</td><td>11</td><td>1</td><td>49</td><td>5</td><td>&quot;AL&quot;</td><td>&quot;RV&quot;</td><td>&quot;Dirk&quot;</td><td>&quot;Professional&quot;</td><td>&quot;438&quot;</td><td>&quot;Autoladder&quot;</td></tr></tbody></table></div>"
      ],
      "text/plain": [
       "shape: (5, 24)\n",
       "┌───────────┬───────────┬───────────┬───────────┬───┬───────────┬───────────┬───────────┬──────────┐\n",
       "│ Incident_ ┆ Date      ┆ Incident_ ┆ Incident_ ┆ … ┆ Fire_Stat ┆ Fire_Stat ┆ Driving_T ┆ Vehicle  │\n",
       "│ ID        ┆ ---       ┆ Starttime ┆ Endtime   ┆   ┆ ion       ┆ ion_Servi ┆ ime_To_In ┆ ---      │\n",
       "│ ---       ┆ date      ┆ ---       ┆ ---       ┆   ┆ ---       ┆ ce_Status ┆ cident    ┆ str      │\n",
       "│ i64       ┆           ┆ time      ┆ time      ┆   ┆ str       ┆ ---       ┆ ---       ┆          │\n",
       "│           ┆           ┆           ┆           ┆   ┆           ┆ str       ┆ str       ┆          │\n",
       "╞═══════════╪═══════════╪═══════════╪═══════════╪═══╪═══════════╪═══════════╪═══════════╪══════════╡\n",
       "│ 511       ┆ 2018-09-0 ┆ 08:25:18  ┆ 10:00:56  ┆ … ┆ Amstelvee ┆ Professio ┆ 708       ┆ Tankauto │\n",
       "│           ┆ 7         ┆           ┆           ┆   ┆ n         ┆ nal       ┆           ┆ spuit    │\n",
       "│ 511       ┆ 2018-09-0 ┆ 08:25:18  ┆ 10:00:56  ┆ … ┆ Amstelvee ┆ Professio ┆ 786       ┆ Autoladd │\n",
       "│           ┆ 7         ┆           ┆           ┆   ┆ n         ┆ nal       ┆           ┆ er       │\n",
       "│ 738       ┆ 2018-09-1 ┆ 16:46:38  ┆ 18:00:55  ┆ … ┆ Victor    ┆ Professio ┆ 116       ┆ Tankauto │\n",
       "│           ┆ 0         ┆           ┆           ┆   ┆           ┆ nal       ┆           ┆ spuit    │\n",
       "│ 738       ┆ 2018-09-1 ┆ 16:46:38  ┆ 18:00:55  ┆ … ┆ Victor    ┆ Professio ┆ 114       ┆ Autoladd │\n",
       "│           ┆ 0         ┆           ┆           ┆   ┆           ┆ nal       ┆           ┆ er       │\n",
       "│ 739       ┆ 2018-09-1 ┆ 17:11:20  ┆ 18:01:00  ┆ … ┆ Dirk      ┆ Professio ┆ 438       ┆ Autoladd │\n",
       "│           ┆ 0         ┆           ┆           ┆   ┆           ┆ nal       ┆           ┆ er       │\n",
       "└───────────┴───────────┴───────────┴───────────┴───┴───────────┴───────────┴───────────┴──────────┘"
      ]
     },
     "execution_count": 14,
     "metadata": {},
     "output_type": "execute_result"
    }
   ],
   "source": [
    "deployment_incident_vehicles.head()"
   ]
  },
  {
   "cell_type": "code",
   "execution_count": 7,
   "metadata": {},
   "outputs": [
    {
     "data": {
      "text/html": [
       "<div><style>\n",
       ".dataframe > thead > tr,\n",
       ".dataframe > tbody > tr {\n",
       "  text-align: right;\n",
       "  white-space: pre-wrap;\n",
       "}\n",
       "</style>\n",
       "<small>shape: (10, 48)</small><table border=\"1\" class=\"dataframe\"><thead><tr><th>Station_code</th><th>Date</th><th>Hour</th><th>Dd</th><th>Fh</th><th>Ff</th><th>Fx</th><th>T</th><th>T10n</th><th>Td</th><th>Sq</th><th>Q</th><th>Dr</th><th>Rh</th><th>P</th><th>Vv</th><th>N</th><th>U</th><th>Ww</th><th>Ix</th><th>M</th><th>R</th><th>S</th><th>O</th><th>Y</th><th>Incident_ID</th><th>Incident_Starttime</th><th>Incident_Endtime</th><th>Incident_Duration</th><th>Incident_Priority</th><th>Service_Area</th><th>Municipality</th><th>Damage_Type</th><th>LON</th><th>LAT</th><th>Incident_Starttime_Hour</th><th>Incident_Endtime_Hour</th><th>Incident_Duration_Hour</th><th>Incident_Starttime_Minute</th><th>Incident_Endtime_Minute</th><th>Incident_Duration_Minute</th><th>Deployment_ID</th><th>Vehicle_Type</th><th>Vehicle_Role</th><th>Fire_Station</th><th>Fire_Station_Service_Status</th><th>Driving_Time_To_Incident</th><th>Vehicle</th></tr><tr><td>i64</td><td>date</td><td>i64</td><td>i64</td><td>i64</td><td>i64</td><td>i64</td><td>i64</td><td>i64</td><td>i64</td><td>i64</td><td>i64</td><td>i64</td><td>i64</td><td>i64</td><td>i64</td><td>i64</td><td>i64</td><td>i64</td><td>i64</td><td>i64</td><td>i64</td><td>i64</td><td>i64</td><td>i64</td><td>i64</td><td>time</td><td>time</td><td>time</td><td>i64</td><td>str</td><td>str</td><td>str</td><td>f64</td><td>f64</td><td>i8</td><td>i8</td><td>i8</td><td>i8</td><td>i8</td><td>i8</td><td>i64</td><td>str</td><td>str</td><td>str</td><td>str</td><td>str</td><td>str</td></tr></thead><tbody><tr><td>240</td><td>2005-01-01</td><td>1</td><td>260</td><td>40</td><td>30</td><td>60</td><td>68</td><td>null</td><td>57</td><td>0</td><td>0</td><td>0</td><td>0</td><td>10246</td><td>57</td><td>8</td><td>93</td><td>10</td><td>7</td><td>0</td><td>0</td><td>0</td><td>0</td><td>0</td><td>null</td><td>null</td><td>null</td><td>null</td><td>null</td><td>null</td><td>null</td><td>null</td><td>null</td><td>null</td><td>null</td><td>null</td><td>null</td><td>null</td><td>null</td><td>null</td><td>null</td><td>null</td><td>null</td><td>null</td><td>null</td><td>null</td><td>null</td></tr><tr><td>240</td><td>2005-01-01</td><td>2</td><td>230</td><td>30</td><td>30</td><td>60</td><td>65</td><td>null</td><td>52</td><td>0</td><td>0</td><td>0</td><td>0</td><td>10244</td><td>58</td><td>8</td><td>91</td><td>10</td><td>7</td><td>0</td><td>0</td><td>0</td><td>0</td><td>0</td><td>null</td><td>null</td><td>null</td><td>null</td><td>null</td><td>null</td><td>null</td><td>null</td><td>null</td><td>null</td><td>null</td><td>null</td><td>null</td><td>null</td><td>null</td><td>null</td><td>null</td><td>null</td><td>null</td><td>null</td><td>null</td><td>null</td><td>null</td></tr><tr><td>240</td><td>2005-01-01</td><td>3</td><td>230</td><td>40</td><td>30</td><td>50</td><td>43</td><td>null</td><td>34</td><td>0</td><td>0</td><td>0</td><td>0</td><td>10241</td><td>40</td><td>1</td><td>94</td><td>10</td><td>7</td><td>0</td><td>0</td><td>0</td><td>0</td><td>0</td><td>null</td><td>null</td><td>null</td><td>null</td><td>null</td><td>null</td><td>null</td><td>null</td><td>null</td><td>null</td><td>null</td><td>null</td><td>null</td><td>null</td><td>null</td><td>null</td><td>null</td><td>null</td><td>null</td><td>null</td><td>null</td><td>null</td><td>null</td></tr><tr><td>240</td><td>2005-01-01</td><td>4</td><td>220</td><td>40</td><td>40</td><td>50</td><td>38</td><td>null</td><td>32</td><td>0</td><td>0</td><td>0</td><td>0</td><td>10239</td><td>12</td><td>0</td><td>96</td><td>10</td><td>7</td><td>0</td><td>0</td><td>0</td><td>0</td><td>0</td><td>null</td><td>null</td><td>null</td><td>null</td><td>null</td><td>null</td><td>null</td><td>null</td><td>null</td><td>null</td><td>null</td><td>null</td><td>null</td><td>null</td><td>null</td><td>null</td><td>null</td><td>null</td><td>null</td><td>null</td><td>null</td><td>null</td><td>null</td></tr><tr><td>240</td><td>2005-01-01</td><td>5</td><td>230</td><td>40</td><td>40</td><td>50</td><td>38</td><td>null</td><td>34</td><td>0</td><td>0</td><td>0</td><td>0</td><td>10237</td><td>14</td><td>3</td><td>97</td><td>10</td><td>7</td><td>0</td><td>0</td><td>0</td><td>0</td><td>0</td><td>null</td><td>null</td><td>null</td><td>null</td><td>null</td><td>null</td><td>null</td><td>null</td><td>null</td><td>null</td><td>null</td><td>null</td><td>null</td><td>null</td><td>null</td><td>null</td><td>null</td><td>null</td><td>null</td><td>null</td><td>null</td><td>null</td><td>null</td></tr><tr><td>240</td><td>2005-01-01</td><td>6</td><td>200</td><td>40</td><td>40</td><td>50</td><td>32</td><td>21</td><td>29</td><td>0</td><td>0</td><td>0</td><td>0</td><td>10235</td><td>25</td><td>0</td><td>98</td><td>10</td><td>7</td><td>0</td><td>0</td><td>0</td><td>0</td><td>0</td><td>null</td><td>null</td><td>null</td><td>null</td><td>null</td><td>null</td><td>null</td><td>null</td><td>null</td><td>null</td><td>null</td><td>null</td><td>null</td><td>null</td><td>null</td><td>null</td><td>null</td><td>null</td><td>null</td><td>null</td><td>null</td><td>null</td><td>null</td></tr><tr><td>240</td><td>2005-01-01</td><td>7</td><td>200</td><td>40</td><td>50</td><td>60</td><td>40</td><td>null</td><td>38</td><td>0</td><td>0</td><td>0</td><td>0</td><td>10230</td><td>14</td><td>3</td><td>99</td><td>20</td><td>7</td><td>1</td><td>0</td><td>0</td><td>0</td><td>0</td><td>null</td><td>null</td><td>null</td><td>null</td><td>null</td><td>null</td><td>null</td><td>null</td><td>null</td><td>null</td><td>null</td><td>null</td><td>null</td><td>null</td><td>null</td><td>null</td><td>null</td><td>null</td><td>null</td><td>null</td><td>null</td><td>null</td><td>null</td></tr><tr><td>240</td><td>2005-01-01</td><td>8</td><td>200</td><td>50</td><td>50</td><td>70</td><td>49</td><td>null</td><td>46</td><td>0</td><td>0</td><td>0</td><td>0</td><td>10231</td><td>35</td><td>8</td><td>98</td><td>10</td><td>7</td><td>0</td><td>0</td><td>0</td><td>0</td><td>0</td><td>null</td><td>null</td><td>null</td><td>null</td><td>null</td><td>null</td><td>null</td><td>null</td><td>null</td><td>null</td><td>null</td><td>null</td><td>null</td><td>null</td><td>null</td><td>null</td><td>null</td><td>null</td><td>null</td><td>null</td><td>null</td><td>null</td><td>null</td></tr><tr><td>240</td><td>2005-01-01</td><td>9</td><td>200</td><td>50</td><td>50</td><td>70</td><td>55</td><td>null</td><td>51</td><td>0</td><td>5</td><td>0</td><td>0</td><td>10229</td><td>41</td><td>8</td><td>97</td><td>10</td><td>7</td><td>0</td><td>0</td><td>0</td><td>0</td><td>0</td><td>null</td><td>null</td><td>null</td><td>null</td><td>null</td><td>null</td><td>null</td><td>null</td><td>null</td><td>null</td><td>null</td><td>null</td><td>null</td><td>null</td><td>null</td><td>null</td><td>null</td><td>null</td><td>null</td><td>null</td><td>null</td><td>null</td><td>null</td></tr><tr><td>240</td><td>2005-01-01</td><td>10</td><td>200</td><td>50</td><td>40</td><td>60</td><td>61</td><td>null</td><td>55</td><td>0</td><td>12</td><td>0</td><td>0</td><td>10223</td><td>57</td><td>8</td><td>96</td><td>10</td><td>7</td><td>0</td><td>0</td><td>0</td><td>0</td><td>0</td><td>null</td><td>null</td><td>null</td><td>null</td><td>null</td><td>null</td><td>null</td><td>null</td><td>null</td><td>null</td><td>null</td><td>null</td><td>null</td><td>null</td><td>null</td><td>null</td><td>null</td><td>null</td><td>null</td><td>null</td><td>null</td><td>null</td><td>null</td></tr></tbody></table></div>"
      ],
      "text/plain": [
       "shape: (10, 48)\n",
       "┌──────────────┬────────────┬──────┬─────┬───┬──────────────┬──────────────┬─────────────┬─────────┐\n",
       "│ Station_code ┆ Date       ┆ Hour ┆ Dd  ┆ … ┆ Fire_Station ┆ Fire_Station ┆ Driving_Tim ┆ Vehicle │\n",
       "│ ---          ┆ ---        ┆ ---  ┆ --- ┆   ┆ ---          ┆ _Service_Sta ┆ e_To_Incide ┆ ---     │\n",
       "│ i64          ┆ date       ┆ i64  ┆ i64 ┆   ┆ str          ┆ tus          ┆ nt          ┆ str     │\n",
       "│              ┆            ┆      ┆     ┆   ┆              ┆ ---          ┆ ---         ┆         │\n",
       "│              ┆            ┆      ┆     ┆   ┆              ┆ str          ┆ str         ┆         │\n",
       "╞══════════════╪════════════╪══════╪═════╪═══╪══════════════╪══════════════╪═════════════╪═════════╡\n",
       "│ 240          ┆ 2005-01-01 ┆ 1    ┆ 260 ┆ … ┆ null         ┆ null         ┆ null        ┆ null    │\n",
       "│ 240          ┆ 2005-01-01 ┆ 2    ┆ 230 ┆ … ┆ null         ┆ null         ┆ null        ┆ null    │\n",
       "│ 240          ┆ 2005-01-01 ┆ 3    ┆ 230 ┆ … ┆ null         ┆ null         ┆ null        ┆ null    │\n",
       "│ 240          ┆ 2005-01-01 ┆ 4    ┆ 220 ┆ … ┆ null         ┆ null         ┆ null        ┆ null    │\n",
       "│ …            ┆ …          ┆ …    ┆ …   ┆ … ┆ …            ┆ …            ┆ …           ┆ …       │\n",
       "│ 240          ┆ 2005-01-01 ┆ 7    ┆ 200 ┆ … ┆ null         ┆ null         ┆ null        ┆ null    │\n",
       "│ 240          ┆ 2005-01-01 ┆ 8    ┆ 200 ┆ … ┆ null         ┆ null         ┆ null        ┆ null    │\n",
       "│ 240          ┆ 2005-01-01 ┆ 9    ┆ 200 ┆ … ┆ null         ┆ null         ┆ null        ┆ null    │\n",
       "│ 240          ┆ 2005-01-01 ┆ 10   ┆ 200 ┆ … ┆ null         ┆ null         ┆ null        ┆ null    │\n",
       "└──────────────┴────────────┴──────┴─────┴───┴──────────────┴──────────────┴─────────────┴─────────┘"
      ]
     },
     "metadata": {},
     "output_type": "display_data"
    }
   ],
   "source": [
    "display(deployment_incident_vehicles_weather.head(10))"
   ]
  }
 ],
 "metadata": {
  "kernelspec": {
   "display_name": "Python 3",
   "language": "python",
   "name": "python3"
  },
  "language_info": {
   "codemirror_mode": {
    "name": "ipython",
    "version": 3
   },
   "file_extension": ".py",
   "mimetype": "text/x-python",
   "name": "python",
   "nbconvert_exporter": "python",
   "pygments_lexer": "ipython3",
   "version": "3.10.13"
  }
 },
 "nbformat": 4,
 "nbformat_minor": 2
}
