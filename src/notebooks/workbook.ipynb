{
 "cells": [
  {
   "cell_type": "markdown",
   "metadata": {},
   "source": [
    "# Testing\n",
    "\n",
    "In this notebook you can explore and test the resulting database tables from our Dagster ETL process.\n",
    "Here you can analyze\n"
   ]
  },
  {
   "cell_type": "code",
   "execution_count": 51,
   "metadata": {
    "tags": []
   },
   "outputs": [],
   "source": [
    "import duckdb\n",
    "import polars as pl\n",
    "from IPython import display\n",
    "from sklearn.model_selection import train_test_split\n",
    "from sklearn.metrics import accuracy_score\n",
    "import xgboost as xgb\n",
    "import numpy as np\n",
    "import pandas as pd"
   ]
  },
  {
   "cell_type": "markdown",
   "metadata": {},
   "source": [
    "### Create Database Connection\n"
   ]
  },
  {
   "cell_type": "code",
   "execution_count": 52,
   "metadata": {},
   "outputs": [
    {
     "name": "stdout",
     "output_type": "stream",
     "text": [
      "The sql extension is already loaded. To reload it, use:\n",
      "  %reload_ext sql\n"
     ]
    },
    {
     "data": {
      "text/html": [
       "<span style=\"None\">Running query in &#x27;duckdb&#x27;</span>"
      ],
      "text/plain": [
       "Running query in 'duckdb'"
      ]
     },
     "metadata": {},
     "output_type": "display_data"
    },
    {
     "data": {
      "text/html": [
       "<table>\n",
       "    <thead>\n",
       "        <tr>\n",
       "            <th>database</th>\n",
       "            <th>schema</th>\n",
       "            <th>name</th>\n",
       "            <th>column_names</th>\n",
       "            <th>column_types</th>\n",
       "            <th>temporary</th>\n",
       "        </tr>\n",
       "    </thead>\n",
       "    <tbody>\n",
       "        <tr>\n",
       "            <td>data_systems_project</td>\n",
       "            <td>cleaned</td>\n",
       "            <td>cleaned_knmi_weather_data</td>\n",
       "            <td>['Station_code', 'Date', 'Hour', 'Dd', 'Fh', 'Ff', 'Fx', 'T', 'T10n', 'Td', 'Sq', 'Q', 'Dr', 'Rh', 'P', 'Vv', 'N', 'U', 'Ww', 'Ix', 'M', 'R', 'S', 'O', 'Y']</td>\n",
       "            <td>['BIGINT', 'DATE', 'TINYINT', 'BIGINT', 'BIGINT', 'BIGINT', 'BIGINT', 'BIGINT', 'BIGINT', 'BIGINT', 'BIGINT', 'BIGINT', 'BIGINT', 'BIGINT', 'BIGINT', 'BIGINT', 'BIGINT', 'BIGINT', 'BIGINT', 'BIGINT', 'BIGINT', 'BIGINT', 'BIGINT', 'BIGINT', 'BIGINT']</td>\n",
       "            <td>False</td>\n",
       "        </tr>\n",
       "        <tr>\n",
       "            <td>data_systems_project</td>\n",
       "            <td>cleaned</td>\n",
       "            <td>cleaned_storm_incidents</td>\n",
       "            <td>['Incident_ID', 'Date', 'Incident_Starttime', 'Incident_Endtime', 'Incident_Duration', 'Incident_Priority', 'Service_Area', 'Municipality', 'Damage_Type', 'LON', 'LAT', 'Incident_Starttime_Hour', 'Incident_Endtime_Hour', 'Incident_Duration_Hour', 'Incident_Starttime_Minute', 'Incident_Endtime_Minute', 'Incident_Duration_Minute']</td>\n",
       "            <td>['BIGINT', 'DATE', 'TIME', 'TIME', 'TIME', 'BIGINT', 'VARCHAR', 'VARCHAR', 'VARCHAR', 'DOUBLE', 'DOUBLE', 'TINYINT', 'TINYINT', 'TINYINT', 'TINYINT', 'TINYINT', 'TINYINT']</td>\n",
       "            <td>False</td>\n",
       "        </tr>\n",
       "        <tr>\n",
       "            <td>data_systems_project</td>\n",
       "            <td>joined</td>\n",
       "            <td>incident_deployments</td>\n",
       "            <td>['Incident_ID', 'Date', 'Incident_Starttime', 'Incident_Endtime', 'Incident_Duration', 'Incident_Priority', 'Service_Area', 'Municipality', 'Damage_Type', 'LON', 'LAT', 'Incident_Starttime_Hour', 'Incident_Endtime_Hour', 'Incident_Duration_Hour', 'Incident_Starttime_Minute', 'Incident_Endtime_Minute', 'Incident_Duration_Minute', 'Deployment_ID', 'Vehicle_Type', 'Vehicle_Role', 'Fire_Station', 'Fire_Station_Service_Status', 'Driving_Time_To_Incident']</td>\n",
       "            <td>['BIGINT', 'DATE', 'TIME', 'TIME', 'TIME', 'BIGINT', 'VARCHAR', 'VARCHAR', 'VARCHAR', 'DOUBLE', 'DOUBLE', 'TINYINT', 'TINYINT', 'TINYINT', 'TINYINT', 'TINYINT', 'TINYINT', 'BIGINT', 'VARCHAR', 'VARCHAR', 'VARCHAR', 'VARCHAR', 'VARCHAR']</td>\n",
       "            <td>False</td>\n",
       "        </tr>\n",
       "        <tr>\n",
       "            <td>data_systems_project</td>\n",
       "            <td>joined</td>\n",
       "            <td>incident_deployments_vehicles</td>\n",
       "            <td>['Incident_ID', 'Date', 'Incident_Starttime', 'Incident_Endtime', 'Incident_Duration', 'Incident_Priority', 'Service_Area', 'Municipality', 'Damage_Type', 'LON', 'LAT', 'Incident_Starttime_Hour', 'Incident_Endtime_Hour', 'Incident_Duration_Hour', 'Incident_Starttime_Minute', 'Incident_Endtime_Minute', 'Incident_Duration_Minute', 'Deployment_ID', 'Vehicle_Type', 'Vehicle_Role', 'Fire_Station', 'Fire_Station_Service_Status', 'Driving_Time_To_Incident', 'Vehicle']</td>\n",
       "            <td>['BIGINT', 'DATE', 'TIME', 'TIME', 'TIME', 'BIGINT', 'VARCHAR', 'VARCHAR', 'VARCHAR', 'DOUBLE', 'DOUBLE', 'TINYINT', 'TINYINT', 'TINYINT', 'TINYINT', 'TINYINT', 'TINYINT', 'BIGINT', 'VARCHAR', 'VARCHAR', 'VARCHAR', 'VARCHAR', 'VARCHAR', 'VARCHAR']</td>\n",
       "            <td>False</td>\n",
       "        </tr>\n",
       "        <tr>\n",
       "            <td>data_systems_project</td>\n",
       "            <td>joined</td>\n",
       "            <td>incident_deployments_vehicles_weather</td>\n",
       "            <td>['Station_code', 'Date', 'Hour', 'Dd', 'Fh', 'Ff', 'Fx', 'T', 'T10n', 'Td', 'Sq', 'Q', 'Dr', 'Rh', 'P', 'Vv', 'N', 'U', 'Ww', 'Ix', 'M', 'R', 'S', 'O', 'Y', 'Incident_ID', 'Incident_Starttime', 'Incident_Endtime', 'Incident_Duration', 'Incident_Priority', 'Service_Area', 'Municipality', 'Damage_Type', 'LON', 'LAT', 'Incident_Endtime_Hour', 'Incident_Duration_Hour', 'Incident_Starttime_Minute', 'Incident_Endtime_Minute', 'Incident_Duration_Minute', 'Deployment_ID', 'Vehicle_Type', 'Vehicle_Role', 'Fire_Station', 'Fire_Station_Service_Status', 'Driving_Time_To_Incident', 'Vehicle']</td>\n",
       "            <td>['BIGINT', 'DATE', 'TINYINT', 'BIGINT', 'BIGINT', 'BIGINT', 'BIGINT', 'BIGINT', 'BIGINT', 'BIGINT', 'BIGINT', 'BIGINT', 'BIGINT', 'BIGINT', 'BIGINT', 'BIGINT', 'BIGINT', 'BIGINT', 'BIGINT', 'BIGINT', 'BIGINT', 'BIGINT', 'BIGINT', 'BIGINT', 'BIGINT', 'BIGINT', 'TIME', 'TIME', 'TIME', 'BIGINT', 'VARCHAR', 'VARCHAR', 'VARCHAR', 'DOUBLE', 'DOUBLE', 'TINYINT', 'TINYINT', 'TINYINT', 'TINYINT', 'TINYINT', 'BIGINT', 'VARCHAR', 'VARCHAR', 'VARCHAR', 'VARCHAR', 'VARCHAR', 'VARCHAR']</td>\n",
       "            <td>False</td>\n",
       "        </tr>\n",
       "        <tr>\n",
       "            <td>data_systems_project</td>\n",
       "            <td>joined</td>\n",
       "            <td>incident_deployments_vehicles_wijken</td>\n",
       "            <td>['Incident_ID', 'Date', 'Incident_Starttime', 'Incident_Endtime', 'Incident_Duration', 'Incident_Priority', 'Service_Area', 'Municipality', 'Damage_Type', 'LON', 'LAT', 'Incident_Starttime_Hour', 'Incident_Endtime_Hour', 'Incident_Duration_Hour', 'Incident_Starttime_Minute', 'Incident_Endtime_Minute', 'Incident_Duration_Minute', 'Deployment_ID', 'Vehicle_Type', 'Vehicle_Role', 'Fire_Station', 'Fire_Station_Service_Status', 'Driving_Time_To_Incident', 'Vehicle', 'geometry', 'index_right', 'wijkcode', 'wijknaam', 'gemeentecode', 'gemeentenaam', 'indelingswijzigingWijkenEnBuurten', 'water', 'omgevingsadressendichtheid', 'stedelijkheidAdressenPerKm2', 'bevolkingsdichtheidInwonersPerKm2', 'aantalInwoners', 'mannen', 'vrouwen', 'percentagePersonen0Tot15Jaar', 'percentagePersonen15Tot25Jaar', 'percentagePersonen25Tot45Jaar', 'percentagePersonen45Tot65Jaar', 'percentagePersonen65JaarEnOuder', 'percentageOngehuwd', 'percentageGehuwd', 'percentageGescheid', 'percentageVerweduwd', 'aantalHuishoudens', 'percentageEenpersoonshuishoudens', 'percentageHuishoudensZonderKinderen', 'percentageHuishoudensMetKinderen', 'gemiddeldeHuishoudsgrootte', 'percentageWesterseMigratieachtergrond', 'percentageNietWesterseMigratieachtergrond', 'percentageUitMarokko', 'percentageUitNederlandseAntillenEnAruba', 'percentageUitSuriname', 'percentageUitTurkije', 'percentageOverigeNietwestersemigratieachtergrond', 'oppervlakteTotaalInHa', 'oppervlakteLandInHa', 'oppervlakteWaterInHa', 'jrstatcode', 'jaar']</td>\n",
       "            <td>['BIGINT', 'TIMESTAMP_MS', 'TIME', 'TIME', 'TIME', 'BIGINT', 'VARCHAR', 'VARCHAR', 'VARCHAR', 'DOUBLE', 'DOUBLE', 'TINYINT', 'TINYINT', 'TINYINT', 'TINYINT', 'TINYINT', 'TINYINT', 'BIGINT', 'VARCHAR', 'VARCHAR', 'VARCHAR', 'VARCHAR', 'VARCHAR', 'VARCHAR', 'VARCHAR', 'DOUBLE', 'VARCHAR', 'VARCHAR', 'VARCHAR', 'VARCHAR', 'DOUBLE', 'VARCHAR', 'DOUBLE', 'DOUBLE', 'DOUBLE', 'DOUBLE', 'DOUBLE', 'DOUBLE', 'DOUBLE', 'DOUBLE', 'DOUBLE', 'DOUBLE', 'DOUBLE', 'DOUBLE', 'DOUBLE', 'DOUBLE', 'DOUBLE', 'DOUBLE', 'DOUBLE', 'DOUBLE', 'DOUBLE', 'DOUBLE', 'DOUBLE', 'DOUBLE', 'DOUBLE', 'DOUBLE', 'DOUBLE', 'DOUBLE', 'DOUBLE', 'DOUBLE', 'DOUBLE', 'DOUBLE', 'VARCHAR', 'DOUBLE']</td>\n",
       "            <td>False</td>\n",
       "        </tr>\n",
       "        <tr>\n",
       "            <td>data_systems_project</td>\n",
       "            <td>public</td>\n",
       "            <td>bag_panden</td>\n",
       "            <td>['geometry', 'identificatie', 'rdf_seealso', 'bouwjaar', 'status', 'gebruiksdoel', 'oppervlakte_min', 'oppervlakte_max', 'aantal_verblijfsobjecten']</td>\n",
       "            <td>['VARCHAR', 'VARCHAR', 'VARCHAR', 'BIGINT', 'VARCHAR', 'VARCHAR', 'DOUBLE', 'DOUBLE', 'BIGINT']</td>\n",
       "            <td>False</td>\n",
       "        </tr>\n",
       "        <tr>\n",
       "            <td>data_systems_project</td>\n",
       "            <td>public</td>\n",
       "            <td>cbs_buurten</td>\n",
       "            <td>['geometry', 'buurtcode', 'buurtnaam', 'wijkcode', 'gemeentecode', 'gemeentenaam', 'indelingswijzigingWijkenEnBuurten', 'water', 'meestVoorkomendePostcode', 'dekkingspercentage', 'omgevingsadressendichtheid', 'stedelijkheidAdressenPerKm2', 'bevolkingsdichtheidInwonersPerKm2', 'aantalInwoners', 'mannen', 'vrouwen', 'percentagePersonen0Tot15Jaar', 'percentagePersonen15Tot25Jaar', 'percentagePersonen25Tot45Jaar', 'percentagePersonen45Tot65Jaar', 'percentagePersonen65JaarEnOuder', 'percentageOngehuwd', 'percentageGehuwd', 'percentageGescheid', 'percentageVerweduwd', 'aantalHuishoudens', 'percentageEenpersoonshuishoudens', 'percentageHuishoudensZonderKinderen', 'percentageHuishoudensMetKinderen', 'gemiddeldeHuishoudsgrootte', 'percentageWesterseMigratieachtergrond', 'percentageNietWesterseMigratieachtergrond', 'percentageUitMarokko', 'percentageUitNederlandseAntillenEnAruba', 'percentageUitSuriname', 'percentageUitTurkije', 'percentageOverigeNietwestersemigratieachtergrond', 'oppervlakteTotaalInHa', 'oppervlakteLandInHa', 'oppervlakteWaterInHa', 'jrstatcode', 'jaar']</td>\n",
       "            <td>['VARCHAR', 'VARCHAR', 'VARCHAR', 'VARCHAR', 'VARCHAR', 'VARCHAR', 'BIGINT', 'VARCHAR', 'VARCHAR', 'BIGINT', 'BIGINT', 'BIGINT', 'BIGINT', 'BIGINT', 'BIGINT', 'BIGINT', 'BIGINT', 'BIGINT', 'BIGINT', 'BIGINT', 'BIGINT', 'BIGINT', 'BIGINT', 'BIGINT', 'BIGINT', 'BIGINT', 'BIGINT', 'BIGINT', 'BIGINT', 'DOUBLE', 'BIGINT', 'BIGINT', 'BIGINT', 'BIGINT', 'BIGINT', 'BIGINT', 'BIGINT', 'BIGINT', 'BIGINT', 'BIGINT', 'VARCHAR', 'BIGINT']</td>\n",
       "            <td>False</td>\n",
       "        </tr>\n",
       "        <tr>\n",
       "            <td>data_systems_project</td>\n",
       "            <td>public</td>\n",
       "            <td>cbs_wijken</td>\n",
       "            <td>['geometry', 'wijkcode', 'wijknaam', 'gemeentecode', 'gemeentenaam', 'indelingswijzigingWijkenEnBuurten', 'water', 'omgevingsadressendichtheid', 'stedelijkheidAdressenPerKm2', 'bevolkingsdichtheidInwonersPerKm2', 'aantalInwoners', 'mannen', 'vrouwen', 'percentagePersonen0Tot15Jaar', 'percentagePersonen15Tot25Jaar', 'percentagePersonen25Tot45Jaar', 'percentagePersonen45Tot65Jaar', 'percentagePersonen65JaarEnOuder', 'percentageOngehuwd', 'percentageGehuwd', 'percentageGescheid', 'percentageVerweduwd', 'aantalHuishoudens', 'percentageEenpersoonshuishoudens', 'percentageHuishoudensZonderKinderen', 'percentageHuishoudensMetKinderen', 'gemiddeldeHuishoudsgrootte', 'percentageWesterseMigratieachtergrond', 'percentageNietWesterseMigratieachtergrond', 'percentageUitMarokko', 'percentageUitNederlandseAntillenEnAruba', 'percentageUitSuriname', 'percentageUitTurkije', 'percentageOverigeNietwestersemigratieachtergrond', 'oppervlakteTotaalInHa', 'oppervlakteLandInHa', 'oppervlakteWaterInHa', 'jrstatcode', 'jaar']</td>\n",
       "            <td>['VARCHAR', 'VARCHAR', 'VARCHAR', 'VARCHAR', 'VARCHAR', 'BIGINT', 'VARCHAR', 'BIGINT', 'BIGINT', 'BIGINT', 'BIGINT', 'BIGINT', 'BIGINT', 'BIGINT', 'BIGINT', 'BIGINT', 'BIGINT', 'BIGINT', 'BIGINT', 'BIGINT', 'BIGINT', 'BIGINT', 'BIGINT', 'BIGINT', 'BIGINT', 'BIGINT', 'DOUBLE', 'BIGINT', 'BIGINT', 'BIGINT', 'BIGINT', 'BIGINT', 'BIGINT', 'BIGINT', 'BIGINT', 'BIGINT', 'BIGINT', 'VARCHAR', 'BIGINT']</td>\n",
       "            <td>False</td>\n",
       "        </tr>\n",
       "        <tr>\n",
       "            <td>data_systems_project</td>\n",
       "            <td>public</td>\n",
       "            <td>fire_stations_and_vehicles</td>\n",
       "            <td>['Fire_Station', 'Vehicle', 'Vehicle_Type']</td>\n",
       "            <td>['VARCHAR', 'VARCHAR', 'VARCHAR']</td>\n",
       "            <td>False</td>\n",
       "        </tr>\n",
       "    </tbody>\n",
       "</table>\n",
       "<span style=\"font-style:italic;text-align:center;\">Truncated to <a href=\"https://jupysql.ploomber.io/en/latest/api/configuration.html#displaylimit\">displaylimit</a> of 10.</span>"
      ],
      "text/plain": [
       "+----------------------+---------+---------------------------------------+--------------------------------------------------------------------------------------------------------------------------------------------------------------------------------------------------------------------------------------------------------------------------------------------------------------------------------------------------------------------------------------------------------------------------------------------------------------------------------------------------------------------------------------------------------------------------------------------------------------------------------------------------------------------------------------------------------------------------------------------------------------------------------------------------------------------------------------------------------------------------------------------------------------------------------------------------------------------------------------------------------------------------------------------------------------------------------------------------------------------------------------------------------------------------------------------------------------------------------------------------------------------------------------------------------------------------------------------------------------------------------------------------------------------------------------------------------------------------------------------------------------------------------------------------------+----------------------------------------------------------------------------------------------------------------------------------------------------------------------------------------------------------------------------------------------------------------------------------------------------------------------------------------------------------------------------------------------------------------------------------------------------------------------------------------------------------------------------------------------------------------------------------------------------------------------------------------------------------------------------------------+-----------+\n",
       "|       database       |  schema |                  name                 |                                                                                                                                                                                                                                                                                                                                                                                                                                                                                                                                                                                                                                                                                                                                                                      column_names                                                                                                                                                                                                                                                                                                                                                                                                                                                                                                                                                                                                                                                                                                                                                                      |                                                                                                                                                                                                                                                                                                                                      column_types                                                                                                                                                                                                                                                                                                                                      | temporary |\n",
       "+----------------------+---------+---------------------------------------+--------------------------------------------------------------------------------------------------------------------------------------------------------------------------------------------------------------------------------------------------------------------------------------------------------------------------------------------------------------------------------------------------------------------------------------------------------------------------------------------------------------------------------------------------------------------------------------------------------------------------------------------------------------------------------------------------------------------------------------------------------------------------------------------------------------------------------------------------------------------------------------------------------------------------------------------------------------------------------------------------------------------------------------------------------------------------------------------------------------------------------------------------------------------------------------------------------------------------------------------------------------------------------------------------------------------------------------------------------------------------------------------------------------------------------------------------------------------------------------------------------------------------------------------------------+----------------------------------------------------------------------------------------------------------------------------------------------------------------------------------------------------------------------------------------------------------------------------------------------------------------------------------------------------------------------------------------------------------------------------------------------------------------------------------------------------------------------------------------------------------------------------------------------------------------------------------------------------------------------------------------+-----------+\n",
       "| data_systems_project | cleaned |       cleaned_knmi_weather_data       |                                                                                                                                                                                                                                                                                                                                                                                                                                                                                                                                                                                                                                                                                              ['Station_code', 'Date', 'Hour', 'Dd', 'Fh', 'Ff', 'Fx', 'T', 'T10n', 'Td', 'Sq', 'Q', 'Dr', 'Rh', 'P', 'Vv', 'N', 'U', 'Ww', 'Ix', 'M', 'R', 'S', 'O', 'Y']                                                                                                                                                                                                                                                                                                                                                                                                                                                                                                                                                                                                                                                                                              |                                                                                                                                                                                                               ['BIGINT', 'DATE', 'TINYINT', 'BIGINT', 'BIGINT', 'BIGINT', 'BIGINT', 'BIGINT', 'BIGINT', 'BIGINT', 'BIGINT', 'BIGINT', 'BIGINT', 'BIGINT', 'BIGINT', 'BIGINT', 'BIGINT', 'BIGINT', 'BIGINT', 'BIGINT', 'BIGINT', 'BIGINT', 'BIGINT', 'BIGINT', 'BIGINT']                                                                                                                                                                                                                |   False   |\n",
       "| data_systems_project | cleaned |        cleaned_storm_incidents        |                                                                                                                                                                                                                                                                                                                                                                                                                                                                                                                                                                                                       ['Incident_ID', 'Date', 'Incident_Starttime', 'Incident_Endtime', 'Incident_Duration', 'Incident_Priority', 'Service_Area', 'Municipality', 'Damage_Type', 'LON', 'LAT', 'Incident_Starttime_Hour', 'Incident_Endtime_Hour', 'Incident_Duration_Hour', 'Incident_Starttime_Minute', 'Incident_Endtime_Minute', 'Incident_Duration_Minute']                                                                                                                                                                                                                                                                                                                                                                                                                                                                                                                                                                                                       |                                                                                                                                                                                                                                                      ['BIGINT', 'DATE', 'TIME', 'TIME', 'TIME', 'BIGINT', 'VARCHAR', 'VARCHAR', 'VARCHAR', 'DOUBLE', 'DOUBLE', 'TINYINT', 'TINYINT', 'TINYINT', 'TINYINT', 'TINYINT', 'TINYINT']                                                                                                                                                                                                                                                       |   False   |\n",
       "| data_systems_project |  joined |          incident_deployments         |                                                                                                                                                                                                                                                                                                                                                                                                                                                                                                                                         ['Incident_ID', 'Date', 'Incident_Starttime', 'Incident_Endtime', 'Incident_Duration', 'Incident_Priority', 'Service_Area', 'Municipality', 'Damage_Type', 'LON', 'LAT', 'Incident_Starttime_Hour', 'Incident_Endtime_Hour', 'Incident_Duration_Hour', 'Incident_Starttime_Minute', 'Incident_Endtime_Minute', 'Incident_Duration_Minute', 'Deployment_ID', 'Vehicle_Type', 'Vehicle_Role', 'Fire_Station', 'Fire_Station_Service_Status', 'Driving_Time_To_Incident']                                                                                                                                                                                                                                                                                                                                                                                                                                                                                                                                         |                                                                                                                                                                                                                      ['BIGINT', 'DATE', 'TIME', 'TIME', 'TIME', 'BIGINT', 'VARCHAR', 'VARCHAR', 'VARCHAR', 'DOUBLE', 'DOUBLE', 'TINYINT', 'TINYINT', 'TINYINT', 'TINYINT', 'TINYINT', 'TINYINT', 'BIGINT', 'VARCHAR', 'VARCHAR', 'VARCHAR', 'VARCHAR', 'VARCHAR']                                                                                                                                                                                                                      |   False   |\n",
       "| data_systems_project |  joined |     incident_deployments_vehicles     |                                                                                                                                                                                                                                                                                                                                                                                                                                                                                                                                   ['Incident_ID', 'Date', 'Incident_Starttime', 'Incident_Endtime', 'Incident_Duration', 'Incident_Priority', 'Service_Area', 'Municipality', 'Damage_Type', 'LON', 'LAT', 'Incident_Starttime_Hour', 'Incident_Endtime_Hour', 'Incident_Duration_Hour', 'Incident_Starttime_Minute', 'Incident_Endtime_Minute', 'Incident_Duration_Minute', 'Deployment_ID', 'Vehicle_Type', 'Vehicle_Role', 'Fire_Station', 'Fire_Station_Service_Status', 'Driving_Time_To_Incident', 'Vehicle']                                                                                                                                                                                                                                                                                                                                                                                                                                                                                                                                    |                                                                                                                                                                                                                ['BIGINT', 'DATE', 'TIME', 'TIME', 'TIME', 'BIGINT', 'VARCHAR', 'VARCHAR', 'VARCHAR', 'DOUBLE', 'DOUBLE', 'TINYINT', 'TINYINT', 'TINYINT', 'TINYINT', 'TINYINT', 'TINYINT', 'BIGINT', 'VARCHAR', 'VARCHAR', 'VARCHAR', 'VARCHAR', 'VARCHAR', 'VARCHAR']                                                                                                                                                                                                                 |   False   |\n",
       "| data_systems_project |  joined | incident_deployments_vehicles_weather |                                                                                                                                                                                                                                                                                                                                                                                                                                                                       ['Station_code', 'Date', 'Hour', 'Dd', 'Fh', 'Ff', 'Fx', 'T', 'T10n', 'Td', 'Sq', 'Q', 'Dr', 'Rh', 'P', 'Vv', 'N', 'U', 'Ww', 'Ix', 'M', 'R', 'S', 'O', 'Y', 'Incident_ID', 'Incident_Starttime', 'Incident_Endtime', 'Incident_Duration', 'Incident_Priority', 'Service_Area', 'Municipality', 'Damage_Type', 'LON', 'LAT', 'Incident_Endtime_Hour', 'Incident_Duration_Hour', 'Incident_Starttime_Minute', 'Incident_Endtime_Minute', 'Incident_Duration_Minute', 'Deployment_ID', 'Vehicle_Type', 'Vehicle_Role', 'Fire_Station', 'Fire_Station_Service_Status', 'Driving_Time_To_Incident', 'Vehicle']                                                                                                                                                                                                                                                                                                                                                                                                                                                                       |                                                                                             ['BIGINT', 'DATE', 'TINYINT', 'BIGINT', 'BIGINT', 'BIGINT', 'BIGINT', 'BIGINT', 'BIGINT', 'BIGINT', 'BIGINT', 'BIGINT', 'BIGINT', 'BIGINT', 'BIGINT', 'BIGINT', 'BIGINT', 'BIGINT', 'BIGINT', 'BIGINT', 'BIGINT', 'BIGINT', 'BIGINT', 'BIGINT', 'BIGINT', 'BIGINT', 'TIME', 'TIME', 'TIME', 'BIGINT', 'VARCHAR', 'VARCHAR', 'VARCHAR', 'DOUBLE', 'DOUBLE', 'TINYINT', 'TINYINT', 'TINYINT', 'TINYINT', 'TINYINT', 'BIGINT', 'VARCHAR', 'VARCHAR', 'VARCHAR', 'VARCHAR', 'VARCHAR', 'VARCHAR']                                                                                              |   False   |\n",
       "| data_systems_project |  joined |  incident_deployments_vehicles_wijken | ['Incident_ID', 'Date', 'Incident_Starttime', 'Incident_Endtime', 'Incident_Duration', 'Incident_Priority', 'Service_Area', 'Municipality', 'Damage_Type', 'LON', 'LAT', 'Incident_Starttime_Hour', 'Incident_Endtime_Hour', 'Incident_Duration_Hour', 'Incident_Starttime_Minute', 'Incident_Endtime_Minute', 'Incident_Duration_Minute', 'Deployment_ID', 'Vehicle_Type', 'Vehicle_Role', 'Fire_Station', 'Fire_Station_Service_Status', 'Driving_Time_To_Incident', 'Vehicle', 'geometry', 'index_right', 'wijkcode', 'wijknaam', 'gemeentecode', 'gemeentenaam', 'indelingswijzigingWijkenEnBuurten', 'water', 'omgevingsadressendichtheid', 'stedelijkheidAdressenPerKm2', 'bevolkingsdichtheidInwonersPerKm2', 'aantalInwoners', 'mannen', 'vrouwen', 'percentagePersonen0Tot15Jaar', 'percentagePersonen15Tot25Jaar', 'percentagePersonen25Tot45Jaar', 'percentagePersonen45Tot65Jaar', 'percentagePersonen65JaarEnOuder', 'percentageOngehuwd', 'percentageGehuwd', 'percentageGescheid', 'percentageVerweduwd', 'aantalHuishoudens', 'percentageEenpersoonshuishoudens', 'percentageHuishoudensZonderKinderen', 'percentageHuishoudensMetKinderen', 'gemiddeldeHuishoudsgrootte', 'percentageWesterseMigratieachtergrond', 'percentageNietWesterseMigratieachtergrond', 'percentageUitMarokko', 'percentageUitNederlandseAntillenEnAruba', 'percentageUitSuriname', 'percentageUitTurkije', 'percentageOverigeNietwestersemigratieachtergrond', 'oppervlakteTotaalInHa', 'oppervlakteLandInHa', 'oppervlakteWaterInHa', 'jrstatcode', 'jaar'] | ['BIGINT', 'TIMESTAMP_MS', 'TIME', 'TIME', 'TIME', 'BIGINT', 'VARCHAR', 'VARCHAR', 'VARCHAR', 'DOUBLE', 'DOUBLE', 'TINYINT', 'TINYINT', 'TINYINT', 'TINYINT', 'TINYINT', 'TINYINT', 'BIGINT', 'VARCHAR', 'VARCHAR', 'VARCHAR', 'VARCHAR', 'VARCHAR', 'VARCHAR', 'VARCHAR', 'DOUBLE', 'VARCHAR', 'VARCHAR', 'VARCHAR', 'VARCHAR', 'DOUBLE', 'VARCHAR', 'DOUBLE', 'DOUBLE', 'DOUBLE', 'DOUBLE', 'DOUBLE', 'DOUBLE', 'DOUBLE', 'DOUBLE', 'DOUBLE', 'DOUBLE', 'DOUBLE', 'DOUBLE', 'DOUBLE', 'DOUBLE', 'DOUBLE', 'DOUBLE', 'DOUBLE', 'DOUBLE', 'DOUBLE', 'DOUBLE', 'DOUBLE', 'DOUBLE', 'DOUBLE', 'DOUBLE', 'DOUBLE', 'DOUBLE', 'DOUBLE', 'DOUBLE', 'DOUBLE', 'DOUBLE', 'VARCHAR', 'DOUBLE'] |   False   |\n",
       "| data_systems_project |  public |               bag_panden              |                                                                                                                                                                                                                                                                                                                                                                                                                                                                                                                                                                                                                                                                                                  ['geometry', 'identificatie', 'rdf_seealso', 'bouwjaar', 'status', 'gebruiksdoel', 'oppervlakte_min', 'oppervlakte_max', 'aantal_verblijfsobjecten']                                                                                                                                                                                                                                                                                                                                                                                                                                                                                                                                                                                                                                                                                                  |                                                                                                                                                                                                                                                                                            ['VARCHAR', 'VARCHAR', 'VARCHAR', 'BIGINT', 'VARCHAR', 'VARCHAR', 'DOUBLE', 'DOUBLE', 'BIGINT']                                                                                                                                                                                                                                                                                             |   False   |\n",
       "| data_systems_project |  public |              cbs_buurten              |                                                                                                                                                                                                                 ['geometry', 'buurtcode', 'buurtnaam', 'wijkcode', 'gemeentecode', 'gemeentenaam', 'indelingswijzigingWijkenEnBuurten', 'water', 'meestVoorkomendePostcode', 'dekkingspercentage', 'omgevingsadressendichtheid', 'stedelijkheidAdressenPerKm2', 'bevolkingsdichtheidInwonersPerKm2', 'aantalInwoners', 'mannen', 'vrouwen', 'percentagePersonen0Tot15Jaar', 'percentagePersonen15Tot25Jaar', 'percentagePersonen25Tot45Jaar', 'percentagePersonen45Tot65Jaar', 'percentagePersonen65JaarEnOuder', 'percentageOngehuwd', 'percentageGehuwd', 'percentageGescheid', 'percentageVerweduwd', 'aantalHuishoudens', 'percentageEenpersoonshuishoudens', 'percentageHuishoudensZonderKinderen', 'percentageHuishoudensMetKinderen', 'gemiddeldeHuishoudsgrootte', 'percentageWesterseMigratieachtergrond', 'percentageNietWesterseMigratieachtergrond', 'percentageUitMarokko', 'percentageUitNederlandseAntillenEnAruba', 'percentageUitSuriname', 'percentageUitTurkije', 'percentageOverigeNietwestersemigratieachtergrond', 'oppervlakteTotaalInHa', 'oppervlakteLandInHa', 'oppervlakteWaterInHa', 'jrstatcode', 'jaar']                                                                                                                                                                                                                 |                                                                                                                     ['VARCHAR', 'VARCHAR', 'VARCHAR', 'VARCHAR', 'VARCHAR', 'VARCHAR', 'BIGINT', 'VARCHAR', 'VARCHAR', 'BIGINT', 'BIGINT', 'BIGINT', 'BIGINT', 'BIGINT', 'BIGINT', 'BIGINT', 'BIGINT', 'BIGINT', 'BIGINT', 'BIGINT', 'BIGINT', 'BIGINT', 'BIGINT', 'BIGINT', 'BIGINT', 'BIGINT', 'BIGINT', 'BIGINT', 'BIGINT', 'DOUBLE', 'BIGINT', 'BIGINT', 'BIGINT', 'BIGINT', 'BIGINT', 'BIGINT', 'BIGINT', 'BIGINT', 'BIGINT', 'BIGINT', 'VARCHAR', 'BIGINT']                                                                                                                      |   False   |\n",
       "| data_systems_project |  public |               cbs_wijken              |                                                                                                                                                                                                                                                 ['geometry', 'wijkcode', 'wijknaam', 'gemeentecode', 'gemeentenaam', 'indelingswijzigingWijkenEnBuurten', 'water', 'omgevingsadressendichtheid', 'stedelijkheidAdressenPerKm2', 'bevolkingsdichtheidInwonersPerKm2', 'aantalInwoners', 'mannen', 'vrouwen', 'percentagePersonen0Tot15Jaar', 'percentagePersonen15Tot25Jaar', 'percentagePersonen25Tot45Jaar', 'percentagePersonen45Tot65Jaar', 'percentagePersonen65JaarEnOuder', 'percentageOngehuwd', 'percentageGehuwd', 'percentageGescheid', 'percentageVerweduwd', 'aantalHuishoudens', 'percentageEenpersoonshuishoudens', 'percentageHuishoudensZonderKinderen', 'percentageHuishoudensMetKinderen', 'gemiddeldeHuishoudsgrootte', 'percentageWesterseMigratieachtergrond', 'percentageNietWesterseMigratieachtergrond', 'percentageUitMarokko', 'percentageUitNederlandseAntillenEnAruba', 'percentageUitSuriname', 'percentageUitTurkije', 'percentageOverigeNietwestersemigratieachtergrond', 'oppervlakteTotaalInHa', 'oppervlakteLandInHa', 'oppervlakteWaterInHa', 'jrstatcode', 'jaar']                                                                                                                                                                                                                                                 |                                                                                                                                     ['VARCHAR', 'VARCHAR', 'VARCHAR', 'VARCHAR', 'VARCHAR', 'BIGINT', 'VARCHAR', 'BIGINT', 'BIGINT', 'BIGINT', 'BIGINT', 'BIGINT', 'BIGINT', 'BIGINT', 'BIGINT', 'BIGINT', 'BIGINT', 'BIGINT', 'BIGINT', 'BIGINT', 'BIGINT', 'BIGINT', 'BIGINT', 'BIGINT', 'BIGINT', 'BIGINT', 'DOUBLE', 'BIGINT', 'BIGINT', 'BIGINT', 'BIGINT', 'BIGINT', 'BIGINT', 'BIGINT', 'BIGINT', 'BIGINT', 'BIGINT', 'VARCHAR', 'BIGINT']                                                                                                                                      |   False   |\n",
       "| data_systems_project |  public |       fire_stations_and_vehicles      |                                                                                                                                                                                                                                                                                                                                                                                                                                                                                                                                                                                                                                                                                                                                                      ['Fire_Station', 'Vehicle', 'Vehicle_Type']                                                                                                                                                                                                                                                                                                                                                                                                                                                                                                                                                                                                                                                                                                                                                       |                                                                                                                                                                                                                                                                                                                           ['VARCHAR', 'VARCHAR', 'VARCHAR']                                                                                                                                                                                                                                                                                                                            |   False   |\n",
       "+----------------------+---------+---------------------------------------+--------------------------------------------------------------------------------------------------------------------------------------------------------------------------------------------------------------------------------------------------------------------------------------------------------------------------------------------------------------------------------------------------------------------------------------------------------------------------------------------------------------------------------------------------------------------------------------------------------------------------------------------------------------------------------------------------------------------------------------------------------------------------------------------------------------------------------------------------------------------------------------------------------------------------------------------------------------------------------------------------------------------------------------------------------------------------------------------------------------------------------------------------------------------------------------------------------------------------------------------------------------------------------------------------------------------------------------------------------------------------------------------------------------------------------------------------------------------------------------------------------------------------------------------------------+----------------------------------------------------------------------------------------------------------------------------------------------------------------------------------------------------------------------------------------------------------------------------------------------------------------------------------------------------------------------------------------------------------------------------------------------------------------------------------------------------------------------------------------------------------------------------------------------------------------------------------------------------------------------------------------+-----------+\n",
       "Truncated to displaylimit of 10."
      ]
     },
     "execution_count": 52,
     "metadata": {},
     "output_type": "execute_result"
    }
   ],
   "source": [
    "%load_ext sql\n",
    "conn = duckdb.connect(database=\"../dsp-dagster/data_systems_project.duckdb\")\n",
    "%sql conn --alias duckdb\n",
    "%sql SHOW ALL TABLES;"
   ]
  },
  {
   "cell_type": "markdown",
   "metadata": {},
   "source": [
    "##### Drop Tables\n"
   ]
  },
  {
   "cell_type": "code",
   "execution_count": 53,
   "metadata": {},
   "outputs": [],
   "source": [
    "# %sql DROP TABLE public.cbs_buurten;\n",
    "# %sql DROP TABLE public.cbs_wijken;"
   ]
  },
  {
   "cell_type": "markdown",
   "metadata": {},
   "source": [
    "##### Retrieve Tables as Polars DataFrame\n"
   ]
  },
  {
   "cell_type": "code",
   "execution_count": 54,
   "metadata": {},
   "outputs": [],
   "source": [
    "cbs_wijken = conn.execute(\n",
    "    \"\"\"\n",
    "    SELECT * FROM public.cbs_wijken \"\"\"\n",
    ").df()\n",
    "\n",
    "service_areas = conn.execute(\n",
    "    \"\"\"\n",
    "    SELECT * FROM public.service_areas \"\"\"\n",
    ").df()\n",
    "\n",
    "incident_deployments_vehicles = conn.execute(\n",
    "    \"\"\"\n",
    "    SELECT * FROM joined.incident_deployments_vehicles\"\"\"\n",
    ").df()\n",
    "\n",
    "\n",
    "cleaned_knmi_weather_data = conn.execute(\n",
    "    \"\"\"\n",
    "    SELECT * FROM cleaned.cleaned_knmi_weather_data\n",
    "    \"\"\"\n",
    ").df()\n",
    "\n",
    "\n",
    "incident_deployments_vehicles_wijken = conn.execute(\n",
    "    \"\"\"\n",
    "    SELECT * FROM joined.incident_deployments_vehicles_wijken\n",
    "    \"\"\"\n",
    ").df()\n",
    "\n",
    "incident_deployments_vehicles_weather = conn.execute(\n",
    "    \"\"\"\n",
    "    SELECT * FROM joined.incident_deployments_vehicles_weather\n",
    "    \"\"\"\n",
    ").df()\n",
    "\n",
    "\n",
    "# Close the database connection\n",
    "conn.close()"
   ]
  },
  {
   "cell_type": "code",
   "execution_count": 55,
   "metadata": {},
   "outputs": [],
   "source": [
    "# cbs_wijken.filter(\n",
    "#     [\n",
    "#         pl.col(\"gemeentenaam\") == \"Amsterdam\",\n",
    "#     ]\n",
    "# ).head()"
   ]
  },
  {
   "cell_type": "code",
   "execution_count": 56,
   "metadata": {},
   "outputs": [],
   "source": [
    "# incident_deployments_vehicles_wijken.head()"
   ]
  },
  {
   "cell_type": "code",
   "execution_count": 57,
   "metadata": {},
   "outputs": [
    {
     "data": {
      "text/html": [
       "<div>\n",
       "<style scoped>\n",
       "    .dataframe tbody tr th:only-of-type {\n",
       "        vertical-align: middle;\n",
       "    }\n",
       "\n",
       "    .dataframe tbody tr th {\n",
       "        vertical-align: top;\n",
       "    }\n",
       "\n",
       "    .dataframe thead th {\n",
       "        text-align: right;\n",
       "    }\n",
       "</style>\n",
       "<table border=\"1\" class=\"dataframe\">\n",
       "  <thead>\n",
       "    <tr style=\"text-align: right;\">\n",
       "      <th></th>\n",
       "      <th>Station_code</th>\n",
       "      <th>Date</th>\n",
       "      <th>Hour</th>\n",
       "      <th>Dd</th>\n",
       "      <th>Fh</th>\n",
       "      <th>Ff</th>\n",
       "      <th>Fx</th>\n",
       "      <th>T</th>\n",
       "      <th>T10n</th>\n",
       "      <th>Td</th>\n",
       "      <th>...</th>\n",
       "      <th>Incident_Starttime_Minute</th>\n",
       "      <th>Incident_Endtime_Minute</th>\n",
       "      <th>Incident_Duration_Minute</th>\n",
       "      <th>Deployment_ID</th>\n",
       "      <th>Vehicle_Type</th>\n",
       "      <th>Vehicle_Role</th>\n",
       "      <th>Fire_Station</th>\n",
       "      <th>Fire_Station_Service_Status</th>\n",
       "      <th>Driving_Time_To_Incident</th>\n",
       "      <th>Vehicle</th>\n",
       "    </tr>\n",
       "  </thead>\n",
       "  <tbody>\n",
       "    <tr>\n",
       "      <th>0</th>\n",
       "      <td>240</td>\n",
       "      <td>2005-01-01</td>\n",
       "      <td>1</td>\n",
       "      <td>260</td>\n",
       "      <td>40</td>\n",
       "      <td>30</td>\n",
       "      <td>60</td>\n",
       "      <td>68</td>\n",
       "      <td>NaN</td>\n",
       "      <td>57</td>\n",
       "      <td>...</td>\n",
       "      <td>NaN</td>\n",
       "      <td>NaN</td>\n",
       "      <td>NaN</td>\n",
       "      <td>NaN</td>\n",
       "      <td>None</td>\n",
       "      <td>None</td>\n",
       "      <td>None</td>\n",
       "      <td>None</td>\n",
       "      <td>None</td>\n",
       "      <td>None</td>\n",
       "    </tr>\n",
       "    <tr>\n",
       "      <th>1</th>\n",
       "      <td>240</td>\n",
       "      <td>2005-01-01</td>\n",
       "      <td>2</td>\n",
       "      <td>230</td>\n",
       "      <td>30</td>\n",
       "      <td>30</td>\n",
       "      <td>60</td>\n",
       "      <td>65</td>\n",
       "      <td>NaN</td>\n",
       "      <td>52</td>\n",
       "      <td>...</td>\n",
       "      <td>NaN</td>\n",
       "      <td>NaN</td>\n",
       "      <td>NaN</td>\n",
       "      <td>NaN</td>\n",
       "      <td>None</td>\n",
       "      <td>None</td>\n",
       "      <td>None</td>\n",
       "      <td>None</td>\n",
       "      <td>None</td>\n",
       "      <td>None</td>\n",
       "    </tr>\n",
       "    <tr>\n",
       "      <th>2</th>\n",
       "      <td>240</td>\n",
       "      <td>2005-01-01</td>\n",
       "      <td>3</td>\n",
       "      <td>230</td>\n",
       "      <td>40</td>\n",
       "      <td>30</td>\n",
       "      <td>50</td>\n",
       "      <td>43</td>\n",
       "      <td>NaN</td>\n",
       "      <td>34</td>\n",
       "      <td>...</td>\n",
       "      <td>NaN</td>\n",
       "      <td>NaN</td>\n",
       "      <td>NaN</td>\n",
       "      <td>NaN</td>\n",
       "      <td>None</td>\n",
       "      <td>None</td>\n",
       "      <td>None</td>\n",
       "      <td>None</td>\n",
       "      <td>None</td>\n",
       "      <td>None</td>\n",
       "    </tr>\n",
       "    <tr>\n",
       "      <th>3</th>\n",
       "      <td>240</td>\n",
       "      <td>2005-01-01</td>\n",
       "      <td>4</td>\n",
       "      <td>220</td>\n",
       "      <td>40</td>\n",
       "      <td>40</td>\n",
       "      <td>50</td>\n",
       "      <td>38</td>\n",
       "      <td>NaN</td>\n",
       "      <td>32</td>\n",
       "      <td>...</td>\n",
       "      <td>NaN</td>\n",
       "      <td>NaN</td>\n",
       "      <td>NaN</td>\n",
       "      <td>NaN</td>\n",
       "      <td>None</td>\n",
       "      <td>None</td>\n",
       "      <td>None</td>\n",
       "      <td>None</td>\n",
       "      <td>None</td>\n",
       "      <td>None</td>\n",
       "    </tr>\n",
       "    <tr>\n",
       "      <th>4</th>\n",
       "      <td>240</td>\n",
       "      <td>2005-01-01</td>\n",
       "      <td>5</td>\n",
       "      <td>230</td>\n",
       "      <td>40</td>\n",
       "      <td>40</td>\n",
       "      <td>50</td>\n",
       "      <td>38</td>\n",
       "      <td>NaN</td>\n",
       "      <td>34</td>\n",
       "      <td>...</td>\n",
       "      <td>NaN</td>\n",
       "      <td>NaN</td>\n",
       "      <td>NaN</td>\n",
       "      <td>NaN</td>\n",
       "      <td>None</td>\n",
       "      <td>None</td>\n",
       "      <td>None</td>\n",
       "      <td>None</td>\n",
       "      <td>None</td>\n",
       "      <td>None</td>\n",
       "    </tr>\n",
       "  </tbody>\n",
       "</table>\n",
       "<p>5 rows × 47 columns</p>\n",
       "</div>"
      ],
      "text/plain": [
       "   Station_code       Date  Hour   Dd  Fh  Ff  Fx   T  T10n  Td  ...  \\\n",
       "0           240 2005-01-01     1  260  40  30  60  68   NaN  57  ...   \n",
       "1           240 2005-01-01     2  230  30  30  60  65   NaN  52  ...   \n",
       "2           240 2005-01-01     3  230  40  30  50  43   NaN  34  ...   \n",
       "3           240 2005-01-01     4  220  40  40  50  38   NaN  32  ...   \n",
       "4           240 2005-01-01     5  230  40  40  50  38   NaN  34  ...   \n",
       "\n",
       "   Incident_Starttime_Minute  Incident_Endtime_Minute  \\\n",
       "0                        NaN                      NaN   \n",
       "1                        NaN                      NaN   \n",
       "2                        NaN                      NaN   \n",
       "3                        NaN                      NaN   \n",
       "4                        NaN                      NaN   \n",
       "\n",
       "   Incident_Duration_Minute  Deployment_ID  Vehicle_Type  Vehicle_Role  \\\n",
       "0                       NaN            NaN          None          None   \n",
       "1                       NaN            NaN          None          None   \n",
       "2                       NaN            NaN          None          None   \n",
       "3                       NaN            NaN          None          None   \n",
       "4                       NaN            NaN          None          None   \n",
       "\n",
       "   Fire_Station  Fire_Station_Service_Status  Driving_Time_To_Incident  \\\n",
       "0          None                         None                      None   \n",
       "1          None                         None                      None   \n",
       "2          None                         None                      None   \n",
       "3          None                         None                      None   \n",
       "4          None                         None                      None   \n",
       "\n",
       "   Vehicle  \n",
       "0     None  \n",
       "1     None  \n",
       "2     None  \n",
       "3     None  \n",
       "4     None  \n",
       "\n",
       "[5 rows x 47 columns]"
      ]
     },
     "execution_count": 57,
     "metadata": {},
     "output_type": "execute_result"
    }
   ],
   "source": [
    "incident_deployments_vehicles_weather.head()"
   ]
  },
  {
   "cell_type": "code",
   "execution_count": 58,
   "metadata": {},
   "outputs": [],
   "source": [
    "incident_deployments_vehicles_weather.head()\n",
    "combined_df = incident_deployments_vehicles_weather"
   ]
  },
  {
   "cell_type": "code",
   "execution_count": 59,
   "metadata": {},
   "outputs": [
    {
     "data": {
      "text/plain": [
       "array([0, 1])"
      ]
     },
     "execution_count": 59,
     "metadata": {},
     "output_type": "execute_result"
    }
   ],
   "source": [
    "combined_df[\"Incident\"] = np.where(combined_df[\"Incident_ID\"].notna(), 1, 0)\n",
    "combined_df[\"Incident\"].unique()"
   ]
  },
  {
   "cell_type": "code",
   "execution_count": 60,
   "metadata": {},
   "outputs": [],
   "source": [
    "combined_df.fillna(0, inplace=True)\n",
    "# print(combined_df.dtypes)\n",
    "# print(combined_df.dtypes.iloc[25:47])"
   ]
  },
  {
   "cell_type": "code",
   "execution_count": 61,
   "metadata": {},
   "outputs": [],
   "source": [
    "categorical_columns = [\n",
    "    \"Incident_Starttime\",\n",
    "    \"Incident_Endtime\",\n",
    "    \"Incident_Duration\",\n",
    "    \"Service_Area\",\n",
    "    \"Municipality\",\n",
    "    \"Damage_Type\",\n",
    "    \"Vehicle_Type\",\n",
    "    \"Vehicle_Role\",\n",
    "    \"Fire_Station\",\n",
    "    \"Fire_Station_Service_Status\",\n",
    "    \"Driving_Time_To_Incident\",\n",
    "    \"Vehicle\",\n",
    "]\n",
    "combined_df[categorical_columns] = combined_df[categorical_columns].astype(\"category\")"
   ]
  },
  {
   "cell_type": "code",
   "execution_count": 62,
   "metadata": {},
   "outputs": [
    {
     "data": {
      "text/plain": [
       "[0, 'Tankautospuit', 'HV met kraan', 'Autoladder', 'ON Blusrobot', ..., 'Bijzondere Blusmiddelen HAB', 'Haakarmvoertuig met kraan', 'Haakarmvoertuig', 'Waterongevallenvoertuig', 'Waterongevallen Vaartuig']\n",
       "Length: 12\n",
       "Categories (12, object): [0, 'Autoladder', 'BU Blusrobot elke capaciteit', 'Bijzondere Blusmiddelen HAB', ..., 'Schuimblusvoertuig', 'Tankautospuit', 'Waterongevallen Vaartuig', 'Waterongevallenvoertuig']"
      ]
     },
     "execution_count": 62,
     "metadata": {},
     "output_type": "execute_result"
    }
   ],
   "source": [
    "combined_df[\"Vehicle\"].unique()"
   ]
  },
  {
   "cell_type": "code",
   "execution_count": 65,
   "metadata": {},
   "outputs": [
    {
     "name": "stdout",
     "output_type": "stream",
     "text": [
      "Model Accuracy: 1.0\n",
      "                        Feature  Importance\n",
      "25           Incident_Starttime    0.999630\n",
      "5                            Fx    0.000175\n",
      "3                            Fh    0.000126\n",
      "4                            Ff    0.000053\n",
      "13                            P    0.000016\n",
      "0                  Station_code    0.000000\n",
      "35       Incident_Duration_Hour    0.000000\n",
      "27            Incident_Duration    0.000000\n",
      "28            Incident_Priority    0.000000\n",
      "29                 Service_Area    0.000000\n",
      "30                 Municipality    0.000000\n",
      "31                  Damage_Type    0.000000\n",
      "32                          LON    0.000000\n",
      "33                          LAT    0.000000\n",
      "34        Incident_Endtime_Hour    0.000000\n",
      "37      Incident_Endtime_Minute    0.000000\n",
      "36    Incident_Starttime_Minute    0.000000\n",
      "38     Incident_Duration_Minute    0.000000\n",
      "39                Deployment_ID    0.000000\n",
      "40                 Vehicle_Type    0.000000\n",
      "41                 Vehicle_Role    0.000000\n",
      "42                 Fire_Station    0.000000\n",
      "43  Fire_Station_Service_Status    0.000000\n",
      "44     Driving_Time_To_Incident    0.000000\n",
      "26             Incident_Endtime    0.000000\n",
      "23                            Y    0.000000\n",
      "24                  Incident_ID    0.000000\n",
      "1                          Hour    0.000000\n",
      "2                            Dd    0.000000\n",
      "6                             T    0.000000\n",
      "7                          T10n    0.000000\n",
      "8                            Td    0.000000\n",
      "9                            Sq    0.000000\n",
      "10                            Q    0.000000\n",
      "11                           Dr    0.000000\n",
      "12                           Rh    0.000000\n",
      "14                           Vv    0.000000\n",
      "15                            N    0.000000\n",
      "16                            U    0.000000\n",
      "17                           Ww    0.000000\n",
      "18                           Ix    0.000000\n",
      "19                            M    0.000000\n",
      "20                            R    0.000000\n",
      "21                            S    0.000000\n",
      "22                            O    0.000000\n",
      "45                      Vehicle    0.000000\n"
     ]
    }
   ],
   "source": [
    "# Prepare your data\n",
    "X = combined_df.drop(columns=[\"Incident\", \"Date\"])\n",
    "y = combined_df[\"Incident\"]\n",
    "\n",
    "# Split data into training and testing sets\n",
    "X_train, X_test, y_train, y_test = train_test_split(\n",
    "    X, y, test_size=0.2, random_state=42\n",
    ")\n",
    "\n",
    "# Convert target variables to integers\n",
    "y_train = y_train.astype(int)\n",
    "y_test = y_test.astype(int)\n",
    "\n",
    "# Train XGBoost model\n",
    "model = xgb.XGBClassifier(\n",
    "    use_label_encoder=False, enable_categorical=True, eval_metric=\"logloss\"\n",
    ")\n",
    "model.fit(X_train, y_train)\n",
    "\n",
    "# Evaluate the model\n",
    "predictions = model.predict(X_test)\n",
    "accuracy = accuracy_score(y_test, predictions)\n",
    "print(f\"Model Accuracy: {accuracy}\")\n",
    "\n",
    "# Feature Importance\n",
    "feature_importances = model.feature_importances_\n",
    "features = X.columns\n",
    "importance_df = pd.DataFrame({\"Feature\": features, \"Importance\": feature_importances})\n",
    "importance_df = importance_df.sort_values(by=\"Importance\", ascending=False)\n",
    "print(importance_df)"
   ]
  },
  {
   "cell_type": "markdown",
   "metadata": {},
   "source": []
  },
  {
   "cell_type": "code",
   "execution_count": 69,
   "metadata": {},
   "outputs": [
    {
     "data": {
      "text/plain": [
       "array([0, 0, 0, ..., 0, 0, 0])"
      ]
     },
     "execution_count": 69,
     "metadata": {},
     "output_type": "execute_result"
    }
   ],
   "source": [
    "predictions"
   ]
  }
 ],
 "metadata": {
  "kernelspec": {
   "display_name": "DSP-Storm-Damage-on-Urban-Areas",
   "language": "python",
   "name": "dsp"
  },
  "language_info": {
   "codemirror_mode": {
    "name": "ipython",
    "version": 3
   },
   "file_extension": ".py",
   "mimetype": "text/x-python",
   "name": "python",
   "nbconvert_exporter": "python",
   "pygments_lexer": "ipython3",
   "version": "3.10.13"
  }
 },
 "nbformat": 4,
 "nbformat_minor": 2
}
