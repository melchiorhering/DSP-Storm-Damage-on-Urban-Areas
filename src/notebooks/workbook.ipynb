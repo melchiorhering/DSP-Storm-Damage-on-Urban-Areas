{
 "cells": [
  {
   "cell_type": "markdown",
   "metadata": {},
   "source": [
    "# Testing\n",
    "\n",
    "In this notebook you can explore and test the resulting database tables from our Dagster ETL process.\n",
    "Here you can analyze\n"
   ]
  },
  {
   "cell_type": "code",
   "execution_count": null,
   "metadata": {
    "tags": []
   },
   "outputs": [],
   "source": [
    "import duckdb\n",
    "import polars as pl\n",
    "\n",
    "# from IPython import display\n",
    "import geopandas as gpd\n",
    "from shapely import wkt"
   ]
  },
  {
   "cell_type": "markdown",
   "metadata": {},
   "source": [
    "### Create Database Connection\n"
   ]
  },
  {
   "cell_type": "code",
   "execution_count": null,
   "metadata": {},
   "outputs": [],
   "source": [
    "%load_ext sql\n",
    "conn = duckdb.connect(database=\"../dsp-dagster/data_systems_project.duckdb\")\n",
    "%sql conn --alias duckdb"
   ]
  },
  {
   "cell_type": "code",
   "execution_count": null,
   "metadata": {},
   "outputs": [],
   "source": [
    "%sql SHOW ALL TABLES; # shows all available tables"
   ]
  },
  {
   "cell_type": "markdown",
   "metadata": {},
   "source": [
    "##### Drop Tables\n"
   ]
  },
  {
   "cell_type": "code",
   "execution_count": null,
   "metadata": {},
   "outputs": [],
   "source": [
    "# %sql DROP TABLE joined.incident_deployments_vehicles_weather;\n",
    "# %sql DROP TABLE joined.incident_deployments_vehicles_wijken;\n",
    "# %sql DROP TABLE joined.incident_deployments_vehicles;\n",
    "# %sql DROP TABLE joined.incidents_buurten;\n",
    "%sql DROP TABLE joined.knmi_weather_txt;\n",
    "# %sql DROP TABLE joined.buurten_trees;\n",
    "# %sql DROP TABLE cleaned.cleaned_storm_incidents;\n",
    "# %sql DROP TABLE joined.buurten_incidents_trees;"
   ]
  },
  {
   "cell_type": "markdown",
   "metadata": {},
   "source": [
    "##### Retrieve Tables as Polars DataFrame\n"
   ]
  },
  {
   "cell_type": "code",
   "execution_count": null,
   "metadata": {},
   "outputs": [],
   "source": [
    "buurten_trees = conn.execute(\n",
    "    \"\"\"\n",
    "    SELECT * FROM joined.buurten_trees\n",
    "    \"\"\"\n",
    ").pl()\n",
    "\n",
    "buurten_incidents = conn.execute(\n",
    "    \"\"\"\n",
    "    SELECT * FROM joined.buurten_incidents\n",
    "    \"\"\"\n",
    ").pl()\n",
    "\n",
    "# Close the database connection\n",
    "conn.close()"
   ]
  },
  {
   "cell_type": "code",
   "execution_count": null,
   "metadata": {},
   "outputs": [],
   "source": [
    "def convert_to_geodf(polars_df: pl.DataFrame) -> gpd.GeoDataFrame:\n",
    "    \"\"\"\n",
    "    Convert a Polars DataFrame to a GeoDataFrame using WKB or WKT transformation.\n",
    "    \"\"\"\n",
    "\n",
    "    # Convert Polars DataFrame to Pandas DataFrame\n",
    "    df = polars_df.to_pandas()\n",
    "\n",
    "    # Convert geometry strings back to geometry objects\n",
    "    if \"geometry\" in df.columns:\n",
    "        df[\"geometry\"] = df[\"geometry\"].apply(wkt.loads)\n",
    "\n",
    "    else:\n",
    "        raise ValueError(\"No 'geometry' column found in the DataFrame\")\n",
    "\n",
    "    # Convert back to GeoDataFrame\n",
    "    return gpd.GeoDataFrame(df, geometry=\"geometry\", crs=\"EPSG:4326\")\n",
    "\n",
    "\n",
    "def convert_to_polars(gdf: gpd.GeoDataFrame) -> pl.DataFrame:\n",
    "    \"\"\"\n",
    "    Convert a GeoDataFrame to a Polars DataFrame, converting geometries to WKB strings.\n",
    "    \"\"\"\n",
    "    # If geometry conversion is necessary, uncomment the following line\n",
    "    # gdf[\"geometry\"] = gdf[\"geometry\"].apply(lambda geom: wkb_dumps(geom, hex=True))\n",
    "    gdf[\"geometry\"] = gdf[\"geometry\"].apply(wkt.dumps)\n",
    "\n",
    "    # Convert to Polars DataFrame\n",
    "    return pl.from_pandas(gdf)"
   ]
  },
  {
   "cell_type": "markdown",
   "metadata": {},
   "source": [
    "### Buurten Incidents\n"
   ]
  },
  {
   "cell_type": "code",
   "execution_count": null,
   "metadata": {},
   "outputs": [],
   "source": [
    "print(buurten_incidents.columns)\n",
    "buurten_incidents.head()"
   ]
  },
  {
   "cell_type": "code",
   "execution_count": null,
   "metadata": {},
   "outputs": [],
   "source": [
    "df = buurten_incidents.group_by(\n",
    "    [\n",
    "        \"buurtcode\",\n",
    "        \"Date\",\n",
    "        \"Incident_Starttime_Hour\",\n",
    "        \"Damage_Type\",\n",
    "    ]\n",
    ").agg(pl.col(\"Incident_ID\").count().alias(\"Totaal\"))"
   ]
  },
  {
   "cell_type": "code",
   "execution_count": null,
   "metadata": {},
   "outputs": [],
   "source": []
  }
 ],
 "metadata": {
  "kernelspec": {
   "display_name": "poetry",
   "language": "python",
   "name": "python3"
  },
  "language_info": {
   "codemirror_mode": {
    "name": "ipython",
    "version": 3
   },
   "file_extension": ".py",
   "mimetype": "text/x-python",
   "name": "python",
   "nbconvert_exporter": "python",
   "pygments_lexer": "ipython3",
   "version": "3.10.13"
  }
 },
 "nbformat": 4,
 "nbformat_minor": 2
}
