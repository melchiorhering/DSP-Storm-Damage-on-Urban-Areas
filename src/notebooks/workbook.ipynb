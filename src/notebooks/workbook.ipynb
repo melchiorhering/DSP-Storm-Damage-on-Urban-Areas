{
 "cells": [
  {
   "cell_type": "markdown",
   "metadata": {},
   "source": [
    "# Testing\n",
    "\n",
    "In this notebook you can explore and test the resulting database tables from our Dagster ETL process.\n",
    "Here you can analyze\n"
   ]
  },
  {
   "cell_type": "code",
   "execution_count": 1,
   "metadata": {
    "tags": []
   },
   "outputs": [],
   "source": [
    "import duckdb\n",
    "import polars as pl"
   ]
  },
  {
   "cell_type": "markdown",
   "metadata": {},
   "source": [
    "### Create Database Connection\n"
   ]
  },
  {
   "cell_type": "code",
   "execution_count": 2,
   "metadata": {},
   "outputs": [
    {
     "name": "stdout",
     "output_type": "stream",
     "text": [
      "\u001b[33mThere's a new jupysql version available (0.10.7), you're running 0.10.5. To upgrade: pip install jupysql --upgrade\u001b[0m\n",
      "\u001b[32mDeploy AI and data apps for free on Ploomber Cloud! Learn more: https://docs.cloud.ploomber.io/en/latest/quickstart/signup.html\u001b[0m\n"
     ]
    },
    {
     "data": {
      "text/html": [
       "<span style=\"None\">Running query in &#x27;duckdb&#x27;</span>"
      ],
      "text/plain": [
       "Running query in 'duckdb'"
      ]
     },
     "metadata": {},
     "output_type": "display_data"
    },
    {
     "data": {
      "text/html": [
       "<table>\n",
       "    <thead>\n",
       "        <tr>\n",
       "            <th>database</th>\n",
       "            <th>schema</th>\n",
       "            <th>name</th>\n",
       "            <th>column_names</th>\n",
       "            <th>column_types</th>\n",
       "            <th>temporary</th>\n",
       "        </tr>\n",
       "    </thead>\n",
       "    <tbody>\n",
       "        <tr>\n",
       "            <td>DSP</td>\n",
       "            <td>cleaned</td>\n",
       "            <td>cleaned_knmi_weather_data</td>\n",
       "            <td>['Station_code', 'Date', 'Hour', 'Dd', 'Fh', 'Ff', 'Fx', 'T', 'T10n', 'Td', 'Sq', 'Q', 'Dr', 'Rh', 'P', 'Vv', 'N', 'U', 'Ww', 'Ix', 'M', 'R', 'S', 'O', 'Y']</td>\n",
       "            <td>['BIGINT', 'DATE', 'TINYINT', 'BIGINT', 'BIGINT', 'BIGINT', 'BIGINT', 'BIGINT', 'BIGINT', 'BIGINT', 'BIGINT', 'BIGINT', 'BIGINT', 'BIGINT', 'BIGINT', 'BIGINT', 'BIGINT', 'BIGINT', 'BIGINT', 'BIGINT', 'BIGINT', 'BIGINT', 'BIGINT', 'BIGINT', 'BIGINT']</td>\n",
       "            <td>False</td>\n",
       "        </tr>\n",
       "        <tr>\n",
       "            <td>DSP</td>\n",
       "            <td>cleaned</td>\n",
       "            <td>cleaned_storm_incidents</td>\n",
       "            <td>['Incident_ID', 'Date', 'Incident_Starttime', 'Incident_Endtime', 'Incident_Duration', 'Incident_Priority', 'Service_Area', 'Municipality', 'Damage_Type', 'LON', 'LAT', 'Incident_Starttime_Hour', 'Incident_Endtime_Hour', 'Incident_Duration_Hour', 'Incident_Starttime_Minute', 'Incident_Endtime_Minute', 'Incident_Duration_Minute']</td>\n",
       "            <td>['BIGINT', 'DATE', 'TIME', 'TIME', 'TIME', 'BIGINT', 'VARCHAR', 'VARCHAR', 'VARCHAR', 'DOUBLE', 'DOUBLE', 'TINYINT', 'TINYINT', 'TINYINT', 'TINYINT', 'TINYINT', 'TINYINT']</td>\n",
       "            <td>False</td>\n",
       "        </tr>\n",
       "        <tr>\n",
       "            <td>DSP</td>\n",
       "            <td>joined</td>\n",
       "            <td>incident_deployments</td>\n",
       "            <td>['Incident_ID', 'Date', 'Incident_Starttime', 'Incident_Endtime', 'Incident_Duration', 'Incident_Priority', 'Service_Area', 'Municipality', 'Damage_Type', 'LON', 'LAT', 'Incident_Starttime_Hour', 'Incident_Endtime_Hour', 'Incident_Duration_Hour', 'Incident_Starttime_Minute', 'Incident_Endtime_Minute', 'Incident_Duration_Minute', 'Deployment_ID', 'Vehicle_Type', 'Vehicle_Role', 'Fire_Station', 'Fire_Station_Service_Status', 'Driving_Time_To_Incident']</td>\n",
       "            <td>['BIGINT', 'DATE', 'TIME', 'TIME', 'TIME', 'BIGINT', 'VARCHAR', 'VARCHAR', 'VARCHAR', 'DOUBLE', 'DOUBLE', 'TINYINT', 'TINYINT', 'TINYINT', 'TINYINT', 'TINYINT', 'TINYINT', 'BIGINT', 'VARCHAR', 'VARCHAR', 'VARCHAR', 'VARCHAR', 'VARCHAR']</td>\n",
       "            <td>False</td>\n",
       "        </tr>\n",
       "        <tr>\n",
       "            <td>DSP</td>\n",
       "            <td>joined</td>\n",
       "            <td>incident_deployments_vehicles</td>\n",
       "            <td>['Incident_ID', 'Date', 'Incident_Starttime', 'Incident_Endtime', 'Incident_Duration', 'Incident_Priority', 'Service_Area', 'Municipality', 'Damage_Type', 'LON', 'LAT', 'Incident_Starttime_Hour', 'Incident_Endtime_Hour', 'Incident_Duration_Hour', 'Incident_Starttime_Minute', 'Incident_Endtime_Minute', 'Incident_Duration_Minute', 'Deployment_ID', 'Vehicle_Type', 'Vehicle_Role', 'Fire_Station', 'Fire_Station_Service_Status', 'Driving_Time_To_Incident', 'Vehicle']</td>\n",
       "            <td>['BIGINT', 'DATE', 'TIME', 'TIME', 'TIME', 'BIGINT', 'VARCHAR', 'VARCHAR', 'VARCHAR', 'DOUBLE', 'DOUBLE', 'TINYINT', 'TINYINT', 'TINYINT', 'TINYINT', 'TINYINT', 'TINYINT', 'BIGINT', 'VARCHAR', 'VARCHAR', 'VARCHAR', 'VARCHAR', 'VARCHAR', 'VARCHAR']</td>\n",
       "            <td>False</td>\n",
       "        </tr>\n",
       "        <tr>\n",
       "            <td>DSP</td>\n",
       "            <td>joined</td>\n",
       "            <td>incident_deployments_vehicles_weather</td>\n",
       "            <td>['Station_code', 'Date', 'Hour', 'Dd', 'Fh', 'Ff', 'Fx', 'T', 'T10n', 'Td', 'Sq', 'Q', 'Dr', 'Rh', 'P', 'Vv', 'N', 'U', 'Ww', 'Ix', 'M', 'R', 'S', 'O', 'Y', 'Incident_ID', 'Incident_Starttime', 'Incident_Endtime', 'Incident_Duration', 'Incident_Priority', 'Service_Area', 'Municipality', 'Damage_Type', 'LON', 'LAT', 'Incident_Endtime_Hour', 'Incident_Duration_Hour', 'Incident_Starttime_Minute', 'Incident_Endtime_Minute', 'Incident_Duration_Minute', 'Deployment_ID', 'Vehicle_Type', 'Vehicle_Role', 'Fire_Station', 'Fire_Station_Service_Status', 'Driving_Time_To_Incident', 'Vehicle']</td>\n",
       "            <td>['BIGINT', 'DATE', 'TINYINT', 'BIGINT', 'BIGINT', 'BIGINT', 'BIGINT', 'BIGINT', 'BIGINT', 'BIGINT', 'BIGINT', 'BIGINT', 'BIGINT', 'BIGINT', 'BIGINT', 'BIGINT', 'BIGINT', 'BIGINT', 'BIGINT', 'BIGINT', 'BIGINT', 'BIGINT', 'BIGINT', 'BIGINT', 'BIGINT', 'BIGINT', 'TIME', 'TIME', 'TIME', 'BIGINT', 'VARCHAR', 'VARCHAR', 'VARCHAR', 'DOUBLE', 'DOUBLE', 'TINYINT', 'TINYINT', 'TINYINT', 'TINYINT', 'TINYINT', 'BIGINT', 'VARCHAR', 'VARCHAR', 'VARCHAR', 'VARCHAR', 'VARCHAR', 'VARCHAR']</td>\n",
       "            <td>False</td>\n",
       "        </tr>\n",
       "        <tr>\n",
       "            <td>DSP</td>\n",
       "            <td>joined</td>\n",
       "            <td>incident_deployments_vehicles_wijken</td>\n",
       "            <td>['Incident_ID', 'Date', 'Incident_Starttime', 'Incident_Endtime', 'Incident_Duration', 'Incident_Priority', 'Service_Area', 'Municipality', 'Damage_Type', 'LON', 'LAT', 'Incident_Starttime_Hour', 'Incident_Endtime_Hour', 'Incident_Duration_Hour', 'Incident_Starttime_Minute', 'Incident_Endtime_Minute', 'Incident_Duration_Minute', 'Deployment_ID', 'Vehicle_Type', 'Vehicle_Role', 'Fire_Station', 'Fire_Station_Service_Status', 'Driving_Time_To_Incident', 'Vehicle', 'geometry', 'index_right', 'buurtcode', 'buurtnaam', 'wijkcode', 'gemeentecode', 'gemeentenaam', 'indelingswijzigingWijkenEnBuurten', 'water', 'meestVoorkomendePostcode', 'dekkingspercentage', 'omgevingsadressendichtheid', 'stedelijkheidAdressenPerKm2', 'bevolkingsdichtheidInwonersPerKm2', 'aantalInwoners', 'mannen', 'vrouwen', 'percentagePersonen0Tot15Jaar', 'percentagePersonen15Tot25Jaar', 'percentagePersonen25Tot45Jaar', 'percentagePersonen45Tot65Jaar', 'percentagePersonen65JaarEnOuder', 'percentageOngehuwd', 'percentageGehuwd', 'percentageGescheid', 'percentageVerweduwd', 'aantalHuishoudens', 'percentageEenpersoonshuishoudens', 'percentageHuishoudensZonderKinderen', 'percentageHuishoudensMetKinderen', 'gemiddeldeHuishoudsgrootte', 'percentageWesterseMigratieachtergrond', 'percentageNietWesterseMigratieachtergrond', 'percentageUitMarokko', 'percentageUitNederlandseAntillenEnAruba', 'percentageUitSuriname', 'percentageUitTurkije', 'percentageOverigeNietwestersemigratieachtergrond', 'oppervlakteTotaalInHa', 'oppervlakteLandInHa', 'oppervlakteWaterInHa', 'jrstatcode', 'jaar']</td>\n",
       "            <td>['BIGINT', 'TIMESTAMP_MS', 'TIME', 'TIME', 'TIME', 'BIGINT', 'VARCHAR', 'VARCHAR', 'VARCHAR', 'DOUBLE', 'DOUBLE', 'TINYINT', 'TINYINT', 'TINYINT', 'TINYINT', 'TINYINT', 'TINYINT', 'BIGINT', 'VARCHAR', 'VARCHAR', 'VARCHAR', 'VARCHAR', 'VARCHAR', 'VARCHAR', 'VARCHAR', 'DOUBLE', 'VARCHAR', 'VARCHAR', 'VARCHAR', 'VARCHAR', 'VARCHAR', 'DOUBLE', 'VARCHAR', 'VARCHAR', 'DOUBLE', 'DOUBLE', 'DOUBLE', 'DOUBLE', 'DOUBLE', 'DOUBLE', 'DOUBLE', 'DOUBLE', 'DOUBLE', 'DOUBLE', 'DOUBLE', 'DOUBLE', 'DOUBLE', 'DOUBLE', 'DOUBLE', 'DOUBLE', 'DOUBLE', 'DOUBLE', 'DOUBLE', 'DOUBLE', 'DOUBLE', 'DOUBLE', 'DOUBLE', 'DOUBLE', 'DOUBLE', 'DOUBLE', 'DOUBLE', 'DOUBLE', 'DOUBLE', 'DOUBLE', 'DOUBLE', 'VARCHAR', 'DOUBLE']</td>\n",
       "            <td>False</td>\n",
       "        </tr>\n",
       "        <tr>\n",
       "            <td>DSP</td>\n",
       "            <td>public</td>\n",
       "            <td>bag_panden</td>\n",
       "            <td>['geometry', 'identificatie', 'rdf_seealso', 'bouwjaar', 'status', 'gebruiksdoel', 'oppervlakte_min', 'oppervlakte_max', 'aantal_verblijfsobjecten']</td>\n",
       "            <td>['VARCHAR', 'VARCHAR', 'VARCHAR', 'BIGINT', 'VARCHAR', 'VARCHAR', 'DOUBLE', 'DOUBLE', 'BIGINT']</td>\n",
       "            <td>False</td>\n",
       "        </tr>\n",
       "        <tr>\n",
       "            <td>DSP</td>\n",
       "            <td>public</td>\n",
       "            <td>cbs_buurten</td>\n",
       "            <td>['geometry', 'buurtcode', 'buurtnaam', 'wijkcode', 'gemeentecode', 'gemeentenaam', 'indelingswijzigingWijkenEnBuurten', 'water', 'meestVoorkomendePostcode', 'dekkingspercentage', 'omgevingsadressendichtheid', 'stedelijkheidAdressenPerKm2', 'bevolkingsdichtheidInwonersPerKm2', 'aantalInwoners', 'mannen', 'vrouwen', 'percentagePersonen0Tot15Jaar', 'percentagePersonen15Tot25Jaar', 'percentagePersonen25Tot45Jaar', 'percentagePersonen45Tot65Jaar', 'percentagePersonen65JaarEnOuder', 'percentageOngehuwd', 'percentageGehuwd', 'percentageGescheid', 'percentageVerweduwd', 'aantalHuishoudens', 'percentageEenpersoonshuishoudens', 'percentageHuishoudensZonderKinderen', 'percentageHuishoudensMetKinderen', 'gemiddeldeHuishoudsgrootte', 'percentageWesterseMigratieachtergrond', 'percentageNietWesterseMigratieachtergrond', 'percentageUitMarokko', 'percentageUitNederlandseAntillenEnAruba', 'percentageUitSuriname', 'percentageUitTurkije', 'percentageOverigeNietwestersemigratieachtergrond', 'oppervlakteTotaalInHa', 'oppervlakteLandInHa', 'oppervlakteWaterInHa', 'jrstatcode', 'jaar']</td>\n",
       "            <td>['VARCHAR', 'VARCHAR', 'VARCHAR', 'VARCHAR', 'VARCHAR', 'VARCHAR', 'BIGINT', 'VARCHAR', 'VARCHAR', 'BIGINT', 'BIGINT', 'BIGINT', 'BIGINT', 'BIGINT', 'BIGINT', 'BIGINT', 'BIGINT', 'BIGINT', 'BIGINT', 'BIGINT', 'BIGINT', 'BIGINT', 'BIGINT', 'BIGINT', 'BIGINT', 'BIGINT', 'BIGINT', 'BIGINT', 'BIGINT', 'DOUBLE', 'BIGINT', 'BIGINT', 'BIGINT', 'BIGINT', 'BIGINT', 'BIGINT', 'BIGINT', 'BIGINT', 'BIGINT', 'BIGINT', 'VARCHAR', 'BIGINT']</td>\n",
       "            <td>False</td>\n",
       "        </tr>\n",
       "        <tr>\n",
       "            <td>DSP</td>\n",
       "            <td>public</td>\n",
       "            <td>cbs_wijken</td>\n",
       "            <td>['geometry', 'wijkcode', 'wijknaam', 'gemeentecode', 'gemeentenaam', 'indelingswijzigingWijkenEnBuurten', 'water', 'omgevingsadressendichtheid', 'stedelijkheidAdressenPerKm2', 'bevolkingsdichtheidInwonersPerKm2', 'aantalInwoners', 'mannen', 'vrouwen', 'percentagePersonen0Tot15Jaar', 'percentagePersonen15Tot25Jaar', 'percentagePersonen25Tot45Jaar', 'percentagePersonen45Tot65Jaar', 'percentagePersonen65JaarEnOuder', 'percentageOngehuwd', 'percentageGehuwd', 'percentageGescheid', 'percentageVerweduwd', 'aantalHuishoudens', 'percentageEenpersoonshuishoudens', 'percentageHuishoudensZonderKinderen', 'percentageHuishoudensMetKinderen', 'gemiddeldeHuishoudsgrootte', 'percentageWesterseMigratieachtergrond', 'percentageNietWesterseMigratieachtergrond', 'percentageUitMarokko', 'percentageUitNederlandseAntillenEnAruba', 'percentageUitSuriname', 'percentageUitTurkije', 'percentageOverigeNietwestersemigratieachtergrond', 'oppervlakteTotaalInHa', 'oppervlakteLandInHa', 'oppervlakteWaterInHa', 'jrstatcode', 'jaar']</td>\n",
       "            <td>['VARCHAR', 'VARCHAR', 'VARCHAR', 'VARCHAR', 'VARCHAR', 'BIGINT', 'VARCHAR', 'BIGINT', 'BIGINT', 'BIGINT', 'BIGINT', 'BIGINT', 'BIGINT', 'BIGINT', 'BIGINT', 'BIGINT', 'BIGINT', 'BIGINT', 'BIGINT', 'BIGINT', 'BIGINT', 'BIGINT', 'BIGINT', 'BIGINT', 'BIGINT', 'BIGINT', 'DOUBLE', 'BIGINT', 'BIGINT', 'BIGINT', 'BIGINT', 'BIGINT', 'BIGINT', 'BIGINT', 'BIGINT', 'BIGINT', 'BIGINT', 'VARCHAR', 'BIGINT']</td>\n",
       "            <td>False</td>\n",
       "        </tr>\n",
       "        <tr>\n",
       "            <td>DSP</td>\n",
       "            <td>public</td>\n",
       "            <td>fire_stations_and_vehicles</td>\n",
       "            <td>['Fire_Station', 'Vehicle', 'Vehicle_Type']</td>\n",
       "            <td>['VARCHAR', 'VARCHAR', 'VARCHAR']</td>\n",
       "            <td>False</td>\n",
       "        </tr>\n",
       "    </tbody>\n",
       "</table>\n",
       "<span style=\"font-style:italic;text-align:center;\">Truncated to <a href=\"https://jupysql.ploomber.io/en/latest/api/configuration.html#displaylimit\">displaylimit</a> of 10.</span>"
      ],
      "text/plain": [
       "+----------+---------+---------------------------------------+------------------------------------------------------------------------------------------------------------------------------------------------------------------------------------------------------------------------------------------------------------------------------------------------------------------------------------------------------------------------------------------------------------------------------------------------------------------------------------------------------------------------------------------------------------------------------------------------------------------------------------------------------------------------------------------------------------------------------------------------------------------------------------------------------------------------------------------------------------------------------------------------------------------------------------------------------------------------------------------------------------------------------------------------------------------------------------------------------------------------------------------------------------------------------------------------------------------------------------------------------------------------------------------------------------------------------------------------------------------------------------------------------------------------------------------------------------------------------------------------------------------------------------------------------------------------------------------------------------------------+------------------------------------------------------------------------------------------------------------------------------------------------------------------------------------------------------------------------------------------------------------------------------------------------------------------------------------------------------------------------------------------------------------------------------------------------------------------------------------------------------------------------------------------------------------------------------------------------------------------------------------------------------------------------------------------------------------------------+-----------+\n",
       "| database |  schema |                  name                 |                                                                                                                                                                                                                                                                                                                                                                                                                                                                                                                                                                                                                                                                                                                                                                                                      column_names                                                                                                                                                                                                                                                                                                                                                                                                                                                                                                                                                                                                                                                                                                                                                                                                      |                                                                                                                                                                                                                                                                                                                                                      column_types                                                                                                                                                                                                                                                                                                                                                      | temporary |\n",
       "+----------+---------+---------------------------------------+------------------------------------------------------------------------------------------------------------------------------------------------------------------------------------------------------------------------------------------------------------------------------------------------------------------------------------------------------------------------------------------------------------------------------------------------------------------------------------------------------------------------------------------------------------------------------------------------------------------------------------------------------------------------------------------------------------------------------------------------------------------------------------------------------------------------------------------------------------------------------------------------------------------------------------------------------------------------------------------------------------------------------------------------------------------------------------------------------------------------------------------------------------------------------------------------------------------------------------------------------------------------------------------------------------------------------------------------------------------------------------------------------------------------------------------------------------------------------------------------------------------------------------------------------------------------------------------------------------------------+------------------------------------------------------------------------------------------------------------------------------------------------------------------------------------------------------------------------------------------------------------------------------------------------------------------------------------------------------------------------------------------------------------------------------------------------------------------------------------------------------------------------------------------------------------------------------------------------------------------------------------------------------------------------------------------------------------------------+-----------+\n",
       "|   DSP    | cleaned |       cleaned_knmi_weather_data       |                                                                                                                                                                                                                                                                                                                                                                                                                                                                                                                                                                                                                                                                                                                              ['Station_code', 'Date', 'Hour', 'Dd', 'Fh', 'Ff', 'Fx', 'T', 'T10n', 'Td', 'Sq', 'Q', 'Dr', 'Rh', 'P', 'Vv', 'N', 'U', 'Ww', 'Ix', 'M', 'R', 'S', 'O', 'Y']                                                                                                                                                                                                                                                                                                                                                                                                                                                                                                                                                                                                                                                                                                                              |                                                                                                                                                                                                                               ['BIGINT', 'DATE', 'TINYINT', 'BIGINT', 'BIGINT', 'BIGINT', 'BIGINT', 'BIGINT', 'BIGINT', 'BIGINT', 'BIGINT', 'BIGINT', 'BIGINT', 'BIGINT', 'BIGINT', 'BIGINT', 'BIGINT', 'BIGINT', 'BIGINT', 'BIGINT', 'BIGINT', 'BIGINT', 'BIGINT', 'BIGINT', 'BIGINT']                                                                                                                                                                                                                                |   False   |\n",
       "|   DSP    | cleaned |        cleaned_storm_incidents        |                                                                                                                                                                                                                                                                                                                                                                                                                                                                                                                                                                                                                                       ['Incident_ID', 'Date', 'Incident_Starttime', 'Incident_Endtime', 'Incident_Duration', 'Incident_Priority', 'Service_Area', 'Municipality', 'Damage_Type', 'LON', 'LAT', 'Incident_Starttime_Hour', 'Incident_Endtime_Hour', 'Incident_Duration_Hour', 'Incident_Starttime_Minute', 'Incident_Endtime_Minute', 'Incident_Duration_Minute']                                                                                                                                                                                                                                                                                                                                                                                                                                                                                                                                                                                                                                       |                                                                                                                                                                                                                                                                      ['BIGINT', 'DATE', 'TIME', 'TIME', 'TIME', 'BIGINT', 'VARCHAR', 'VARCHAR', 'VARCHAR', 'DOUBLE', 'DOUBLE', 'TINYINT', 'TINYINT', 'TINYINT', 'TINYINT', 'TINYINT', 'TINYINT']                                                                                                                                                                                                                                                                       |   False   |\n",
       "|   DSP    |  joined |          incident_deployments         |                                                                                                                                                                                                                                                                                                                                                                                                                                                                                                                                                                         ['Incident_ID', 'Date', 'Incident_Starttime', 'Incident_Endtime', 'Incident_Duration', 'Incident_Priority', 'Service_Area', 'Municipality', 'Damage_Type', 'LON', 'LAT', 'Incident_Starttime_Hour', 'Incident_Endtime_Hour', 'Incident_Duration_Hour', 'Incident_Starttime_Minute', 'Incident_Endtime_Minute', 'Incident_Duration_Minute', 'Deployment_ID', 'Vehicle_Type', 'Vehicle_Role', 'Fire_Station', 'Fire_Station_Service_Status', 'Driving_Time_To_Incident']                                                                                                                                                                                                                                                                                                                                                                                                                                                                                                                                                                         |                                                                                                                                                                                                                                      ['BIGINT', 'DATE', 'TIME', 'TIME', 'TIME', 'BIGINT', 'VARCHAR', 'VARCHAR', 'VARCHAR', 'DOUBLE', 'DOUBLE', 'TINYINT', 'TINYINT', 'TINYINT', 'TINYINT', 'TINYINT', 'TINYINT', 'BIGINT', 'VARCHAR', 'VARCHAR', 'VARCHAR', 'VARCHAR', 'VARCHAR']                                                                                                                                                                                                                                      |   False   |\n",
       "|   DSP    |  joined |     incident_deployments_vehicles     |                                                                                                                                                                                                                                                                                                                                                                                                                                                                                                                                                                   ['Incident_ID', 'Date', 'Incident_Starttime', 'Incident_Endtime', 'Incident_Duration', 'Incident_Priority', 'Service_Area', 'Municipality', 'Damage_Type', 'LON', 'LAT', 'Incident_Starttime_Hour', 'Incident_Endtime_Hour', 'Incident_Duration_Hour', 'Incident_Starttime_Minute', 'Incident_Endtime_Minute', 'Incident_Duration_Minute', 'Deployment_ID', 'Vehicle_Type', 'Vehicle_Role', 'Fire_Station', 'Fire_Station_Service_Status', 'Driving_Time_To_Incident', 'Vehicle']                                                                                                                                                                                                                                                                                                                                                                                                                                                                                                                                                                    |                                                                                                                                                                                                                                ['BIGINT', 'DATE', 'TIME', 'TIME', 'TIME', 'BIGINT', 'VARCHAR', 'VARCHAR', 'VARCHAR', 'DOUBLE', 'DOUBLE', 'TINYINT', 'TINYINT', 'TINYINT', 'TINYINT', 'TINYINT', 'TINYINT', 'BIGINT', 'VARCHAR', 'VARCHAR', 'VARCHAR', 'VARCHAR', 'VARCHAR', 'VARCHAR']                                                                                                                                                                                                                                 |   False   |\n",
       "|   DSP    |  joined | incident_deployments_vehicles_weather |                                                                                                                                                                                                                                                                                                                                                                                                                                                                                                       ['Station_code', 'Date', 'Hour', 'Dd', 'Fh', 'Ff', 'Fx', 'T', 'T10n', 'Td', 'Sq', 'Q', 'Dr', 'Rh', 'P', 'Vv', 'N', 'U', 'Ww', 'Ix', 'M', 'R', 'S', 'O', 'Y', 'Incident_ID', 'Incident_Starttime', 'Incident_Endtime', 'Incident_Duration', 'Incident_Priority', 'Service_Area', 'Municipality', 'Damage_Type', 'LON', 'LAT', 'Incident_Endtime_Hour', 'Incident_Duration_Hour', 'Incident_Starttime_Minute', 'Incident_Endtime_Minute', 'Incident_Duration_Minute', 'Deployment_ID', 'Vehicle_Type', 'Vehicle_Role', 'Fire_Station', 'Fire_Station_Service_Status', 'Driving_Time_To_Incident', 'Vehicle']                                                                                                                                                                                                                                                                                                                                                                                                                                                                                                       |                                                                                                             ['BIGINT', 'DATE', 'TINYINT', 'BIGINT', 'BIGINT', 'BIGINT', 'BIGINT', 'BIGINT', 'BIGINT', 'BIGINT', 'BIGINT', 'BIGINT', 'BIGINT', 'BIGINT', 'BIGINT', 'BIGINT', 'BIGINT', 'BIGINT', 'BIGINT', 'BIGINT', 'BIGINT', 'BIGINT', 'BIGINT', 'BIGINT', 'BIGINT', 'BIGINT', 'TIME', 'TIME', 'TIME', 'BIGINT', 'VARCHAR', 'VARCHAR', 'VARCHAR', 'DOUBLE', 'DOUBLE', 'TINYINT', 'TINYINT', 'TINYINT', 'TINYINT', 'TINYINT', 'BIGINT', 'VARCHAR', 'VARCHAR', 'VARCHAR', 'VARCHAR', 'VARCHAR', 'VARCHAR']                                                                                                              |   False   |\n",
       "|   DSP    |  joined |  incident_deployments_vehicles_wijken | ['Incident_ID', 'Date', 'Incident_Starttime', 'Incident_Endtime', 'Incident_Duration', 'Incident_Priority', 'Service_Area', 'Municipality', 'Damage_Type', 'LON', 'LAT', 'Incident_Starttime_Hour', 'Incident_Endtime_Hour', 'Incident_Duration_Hour', 'Incident_Starttime_Minute', 'Incident_Endtime_Minute', 'Incident_Duration_Minute', 'Deployment_ID', 'Vehicle_Type', 'Vehicle_Role', 'Fire_Station', 'Fire_Station_Service_Status', 'Driving_Time_To_Incident', 'Vehicle', 'geometry', 'index_right', 'buurtcode', 'buurtnaam', 'wijkcode', 'gemeentecode', 'gemeentenaam', 'indelingswijzigingWijkenEnBuurten', 'water', 'meestVoorkomendePostcode', 'dekkingspercentage', 'omgevingsadressendichtheid', 'stedelijkheidAdressenPerKm2', 'bevolkingsdichtheidInwonersPerKm2', 'aantalInwoners', 'mannen', 'vrouwen', 'percentagePersonen0Tot15Jaar', 'percentagePersonen15Tot25Jaar', 'percentagePersonen25Tot45Jaar', 'percentagePersonen45Tot65Jaar', 'percentagePersonen65JaarEnOuder', 'percentageOngehuwd', 'percentageGehuwd', 'percentageGescheid', 'percentageVerweduwd', 'aantalHuishoudens', 'percentageEenpersoonshuishoudens', 'percentageHuishoudensZonderKinderen', 'percentageHuishoudensMetKinderen', 'gemiddeldeHuishoudsgrootte', 'percentageWesterseMigratieachtergrond', 'percentageNietWesterseMigratieachtergrond', 'percentageUitMarokko', 'percentageUitNederlandseAntillenEnAruba', 'percentageUitSuriname', 'percentageUitTurkije', 'percentageOverigeNietwestersemigratieachtergrond', 'oppervlakteTotaalInHa', 'oppervlakteLandInHa', 'oppervlakteWaterInHa', 'jrstatcode', 'jaar'] | ['BIGINT', 'TIMESTAMP_MS', 'TIME', 'TIME', 'TIME', 'BIGINT', 'VARCHAR', 'VARCHAR', 'VARCHAR', 'DOUBLE', 'DOUBLE', 'TINYINT', 'TINYINT', 'TINYINT', 'TINYINT', 'TINYINT', 'TINYINT', 'BIGINT', 'VARCHAR', 'VARCHAR', 'VARCHAR', 'VARCHAR', 'VARCHAR', 'VARCHAR', 'VARCHAR', 'DOUBLE', 'VARCHAR', 'VARCHAR', 'VARCHAR', 'VARCHAR', 'VARCHAR', 'DOUBLE', 'VARCHAR', 'VARCHAR', 'DOUBLE', 'DOUBLE', 'DOUBLE', 'DOUBLE', 'DOUBLE', 'DOUBLE', 'DOUBLE', 'DOUBLE', 'DOUBLE', 'DOUBLE', 'DOUBLE', 'DOUBLE', 'DOUBLE', 'DOUBLE', 'DOUBLE', 'DOUBLE', 'DOUBLE', 'DOUBLE', 'DOUBLE', 'DOUBLE', 'DOUBLE', 'DOUBLE', 'DOUBLE', 'DOUBLE', 'DOUBLE', 'DOUBLE', 'DOUBLE', 'DOUBLE', 'DOUBLE', 'DOUBLE', 'DOUBLE', 'VARCHAR', 'DOUBLE'] |   False   |\n",
       "|   DSP    |  public |               bag_panden              |                                                                                                                                                                                                                                                                                                                                                                                                                                                                                                                                                                                                                                                                                                                                  ['geometry', 'identificatie', 'rdf_seealso', 'bouwjaar', 'status', 'gebruiksdoel', 'oppervlakte_min', 'oppervlakte_max', 'aantal_verblijfsobjecten']                                                                                                                                                                                                                                                                                                                                                                                                                                                                                                                                                                                                                                                                                                                                  |                                                                                                                                                                                                                                                                                                            ['VARCHAR', 'VARCHAR', 'VARCHAR', 'BIGINT', 'VARCHAR', 'VARCHAR', 'DOUBLE', 'DOUBLE', 'BIGINT']                                                                                                                                                                                                                                                                                                             |   False   |\n",
       "|   DSP    |  public |              cbs_buurten              |                                                                                                                                                                                                                                                 ['geometry', 'buurtcode', 'buurtnaam', 'wijkcode', 'gemeentecode', 'gemeentenaam', 'indelingswijzigingWijkenEnBuurten', 'water', 'meestVoorkomendePostcode', 'dekkingspercentage', 'omgevingsadressendichtheid', 'stedelijkheidAdressenPerKm2', 'bevolkingsdichtheidInwonersPerKm2', 'aantalInwoners', 'mannen', 'vrouwen', 'percentagePersonen0Tot15Jaar', 'percentagePersonen15Tot25Jaar', 'percentagePersonen25Tot45Jaar', 'percentagePersonen45Tot65Jaar', 'percentagePersonen65JaarEnOuder', 'percentageOngehuwd', 'percentageGehuwd', 'percentageGescheid', 'percentageVerweduwd', 'aantalHuishoudens', 'percentageEenpersoonshuishoudens', 'percentageHuishoudensZonderKinderen', 'percentageHuishoudensMetKinderen', 'gemiddeldeHuishoudsgrootte', 'percentageWesterseMigratieachtergrond', 'percentageNietWesterseMigratieachtergrond', 'percentageUitMarokko', 'percentageUitNederlandseAntillenEnAruba', 'percentageUitSuriname', 'percentageUitTurkije', 'percentageOverigeNietwestersemigratieachtergrond', 'oppervlakteTotaalInHa', 'oppervlakteLandInHa', 'oppervlakteWaterInHa', 'jrstatcode', 'jaar']                                                                                                                                                                                                                                                 |                                                                                                                                     ['VARCHAR', 'VARCHAR', 'VARCHAR', 'VARCHAR', 'VARCHAR', 'VARCHAR', 'BIGINT', 'VARCHAR', 'VARCHAR', 'BIGINT', 'BIGINT', 'BIGINT', 'BIGINT', 'BIGINT', 'BIGINT', 'BIGINT', 'BIGINT', 'BIGINT', 'BIGINT', 'BIGINT', 'BIGINT', 'BIGINT', 'BIGINT', 'BIGINT', 'BIGINT', 'BIGINT', 'BIGINT', 'BIGINT', 'BIGINT', 'DOUBLE', 'BIGINT', 'BIGINT', 'BIGINT', 'BIGINT', 'BIGINT', 'BIGINT', 'BIGINT', 'BIGINT', 'BIGINT', 'BIGINT', 'VARCHAR', 'BIGINT']                                                                                                                                      |   False   |\n",
       "|   DSP    |  public |               cbs_wijken              |                                                                                                                                                                                                                                                                                 ['geometry', 'wijkcode', 'wijknaam', 'gemeentecode', 'gemeentenaam', 'indelingswijzigingWijkenEnBuurten', 'water', 'omgevingsadressendichtheid', 'stedelijkheidAdressenPerKm2', 'bevolkingsdichtheidInwonersPerKm2', 'aantalInwoners', 'mannen', 'vrouwen', 'percentagePersonen0Tot15Jaar', 'percentagePersonen15Tot25Jaar', 'percentagePersonen25Tot45Jaar', 'percentagePersonen45Tot65Jaar', 'percentagePersonen65JaarEnOuder', 'percentageOngehuwd', 'percentageGehuwd', 'percentageGescheid', 'percentageVerweduwd', 'aantalHuishoudens', 'percentageEenpersoonshuishoudens', 'percentageHuishoudensZonderKinderen', 'percentageHuishoudensMetKinderen', 'gemiddeldeHuishoudsgrootte', 'percentageWesterseMigratieachtergrond', 'percentageNietWesterseMigratieachtergrond', 'percentageUitMarokko', 'percentageUitNederlandseAntillenEnAruba', 'percentageUitSuriname', 'percentageUitTurkije', 'percentageOverigeNietwestersemigratieachtergrond', 'oppervlakteTotaalInHa', 'oppervlakteLandInHa', 'oppervlakteWaterInHa', 'jrstatcode', 'jaar']                                                                                                                                                                                                                                                                                 |                                                                                                                                                     ['VARCHAR', 'VARCHAR', 'VARCHAR', 'VARCHAR', 'VARCHAR', 'BIGINT', 'VARCHAR', 'BIGINT', 'BIGINT', 'BIGINT', 'BIGINT', 'BIGINT', 'BIGINT', 'BIGINT', 'BIGINT', 'BIGINT', 'BIGINT', 'BIGINT', 'BIGINT', 'BIGINT', 'BIGINT', 'BIGINT', 'BIGINT', 'BIGINT', 'BIGINT', 'BIGINT', 'DOUBLE', 'BIGINT', 'BIGINT', 'BIGINT', 'BIGINT', 'BIGINT', 'BIGINT', 'BIGINT', 'BIGINT', 'BIGINT', 'BIGINT', 'VARCHAR', 'BIGINT']                                                                                                                                                      |   False   |\n",
       "|   DSP    |  public |       fire_stations_and_vehicles      |                                                                                                                                                                                                                                                                                                                                                                                                                                                                                                                                                                                                                                                                                                                                                                                      ['Fire_Station', 'Vehicle', 'Vehicle_Type']                                                                                                                                                                                                                                                                                                                                                                                                                                                                                                                                                                                                                                                                                                                                                                                       |                                                                                                                                                                                                                                                                                                                                           ['VARCHAR', 'VARCHAR', 'VARCHAR']                                                                                                                                                                                                                                                                                                                                            |   False   |\n",
       "+----------+---------+---------------------------------------+------------------------------------------------------------------------------------------------------------------------------------------------------------------------------------------------------------------------------------------------------------------------------------------------------------------------------------------------------------------------------------------------------------------------------------------------------------------------------------------------------------------------------------------------------------------------------------------------------------------------------------------------------------------------------------------------------------------------------------------------------------------------------------------------------------------------------------------------------------------------------------------------------------------------------------------------------------------------------------------------------------------------------------------------------------------------------------------------------------------------------------------------------------------------------------------------------------------------------------------------------------------------------------------------------------------------------------------------------------------------------------------------------------------------------------------------------------------------------------------------------------------------------------------------------------------------------------------------------------------------+------------------------------------------------------------------------------------------------------------------------------------------------------------------------------------------------------------------------------------------------------------------------------------------------------------------------------------------------------------------------------------------------------------------------------------------------------------------------------------------------------------------------------------------------------------------------------------------------------------------------------------------------------------------------------------------------------------------------+-----------+\n",
       "Truncated to displaylimit of 10."
      ]
     },
     "execution_count": 2,
     "metadata": {},
     "output_type": "execute_result"
    }
   ],
   "source": [
    "%load_ext sql\n",
    "conn = duckdb.connect(database=\"../dsp-dagster/storage/DSP.db\")\n",
    "%sql conn --alias duckdb\n",
    "%sql SHOW ALL TABLES;"
   ]
  },
  {
   "cell_type": "markdown",
   "metadata": {},
   "source": [
    "##### Drop Tables\n"
   ]
  },
  {
   "cell_type": "code",
   "execution_count": null,
   "metadata": {},
   "outputs": [],
   "source": [
    "%sql DROP TABLE public.cbs_buurten;\n",
    "%sql DROP TABLE public.cbs_wijken;"
   ]
  },
  {
   "cell_type": "markdown",
   "metadata": {},
   "source": [
    "##### Retrieve Tables as Polars DataFrame\n"
   ]
  },
  {
   "cell_type": "code",
   "execution_count": 3,
   "metadata": {},
   "outputs": [],
   "source": [
    "cbs_wijken = conn.execute(\n",
    "    \"\"\"\n",
    "    SELECT * FROM public.cbs_wijken \"\"\"\n",
    ").pl()\n",
    "\n",
    "service_areas = conn.execute(\n",
    "    \"\"\"\n",
    "    SELECT * FROM public.service_areas \"\"\"\n",
    ").pl()\n",
    "\n",
    "incident_deployments_vehicles = conn.execute(\n",
    "    \"\"\"\n",
    "    SELECT * FROM joined.incident_deployments_vehicles\"\"\"\n",
    ").pl()\n",
    "\n",
    "\n",
    "cleaned_knmi_weather_data = conn.execute(\n",
    "    \"\"\"\n",
    "    SELECT * FROM cleaned.cleaned_knmi_weather_data\n",
    "    \"\"\"\n",
    ").pl()\n",
    "\n",
    "\n",
    "incident_deployments_vehicles_wijken = conn.execute(\n",
    "    \"\"\"\n",
    "    SELECT * FROM joined.incident_deployments_vehicles_wijken\n",
    "    \"\"\"\n",
    ").pl()\n",
    "\n",
    "incident_deployments_vehicles_weather = conn.execute(\n",
    "    \"\"\"\n",
    "    SELECT * FROM joined.incident_deployments_vehicles_weather\n",
    "    \"\"\"\n",
    ").pl()\n",
    "\n",
    "\n",
    "# Close the database connection\n",
    "conn.close()"
   ]
  },
  {
   "cell_type": "code",
   "execution_count": 4,
   "metadata": {},
   "outputs": [
    {
     "data": {
      "text/html": [
       "<div><style>\n",
       ".dataframe > thead > tr,\n",
       ".dataframe > tbody > tr {\n",
       "  text-align: right;\n",
       "  white-space: pre-wrap;\n",
       "}\n",
       "</style>\n",
       "<small>shape: (5, 39)</small><table border=\"1\" class=\"dataframe\"><thead><tr><th>geometry</th><th>wijkcode</th><th>wijknaam</th><th>gemeentecode</th><th>gemeentenaam</th><th>indelingswijzigingWijkenEnBuurten</th><th>water</th><th>omgevingsadressendichtheid</th><th>stedelijkheidAdressenPerKm2</th><th>bevolkingsdichtheidInwonersPerKm2</th><th>aantalInwoners</th><th>mannen</th><th>vrouwen</th><th>percentagePersonen0Tot15Jaar</th><th>percentagePersonen15Tot25Jaar</th><th>percentagePersonen25Tot45Jaar</th><th>percentagePersonen45Tot65Jaar</th><th>percentagePersonen65JaarEnOuder</th><th>percentageOngehuwd</th><th>percentageGehuwd</th><th>percentageGescheid</th><th>percentageVerweduwd</th><th>aantalHuishoudens</th><th>percentageEenpersoonshuishoudens</th><th>percentageHuishoudensZonderKinderen</th><th>percentageHuishoudensMetKinderen</th><th>gemiddeldeHuishoudsgrootte</th><th>percentageWesterseMigratieachtergrond</th><th>percentageNietWesterseMigratieachtergrond</th><th>percentageUitMarokko</th><th>percentageUitNederlandseAntillenEnAruba</th><th>percentageUitSuriname</th><th>percentageUitTurkije</th><th>percentageOverigeNietwestersemigratieachtergrond</th><th>oppervlakteTotaalInHa</th><th>oppervlakteLandInHa</th><th>oppervlakteWaterInHa</th><th>jrstatcode</th><th>jaar</th></tr><tr><td>str</td><td>str</td><td>str</td><td>str</td><td>str</td><td>i64</td><td>str</td><td>i64</td><td>i64</td><td>i64</td><td>i64</td><td>i64</td><td>i64</td><td>i64</td><td>i64</td><td>i64</td><td>i64</td><td>i64</td><td>i64</td><td>i64</td><td>i64</td><td>i64</td><td>i64</td><td>i64</td><td>i64</td><td>i64</td><td>f64</td><td>i64</td><td>i64</td><td>i64</td><td>i64</td><td>i64</td><td>i64</td><td>i64</td><td>i64</td><td>i64</td><td>i64</td><td>str</td><td>i64</td></tr></thead><tbody><tr><td>&quot;MULTIPOLYGON (…</td><td>&quot;WK036399&quot;</td><td>&quot; &quot;</td><td>&quot;GM0363&quot;</td><td>&quot;Amsterdam&quot;</td><td>-99999999</td><td>&quot;JA&quot;</td><td>-99999999</td><td>-99999999</td><td>-99999999</td><td>-99999999</td><td>-99999999</td><td>-99999999</td><td>-99999999</td><td>-99999999</td><td>-99999999</td><td>-99999999</td><td>-99999999</td><td>-99999999</td><td>-99999999</td><td>-99999999</td><td>-99999999</td><td>-99999999</td><td>-99999999</td><td>-99999999</td><td>-99999999</td><td>-9.9999999e7</td><td>-99999999</td><td>-99999999</td><td>-99999999</td><td>-99999999</td><td>-99999999</td><td>-99999999</td><td>-99999999</td><td>-99999999</td><td>-99999999</td><td>-99999999</td><td>&quot;2022WK036399&quot;</td><td>2022</td></tr><tr><td>&quot;MULTIPOLYGON (…</td><td>&quot;WK036300&quot;</td><td>&quot;Burgwallen-Oud…</td><td>&quot;GM0363&quot;</td><td>&quot;Amsterdam&quot;</td><td>1</td><td>&quot;NEE&quot;</td><td>7736</td><td>1</td><td>13030</td><td>4550</td><td>2515</td><td>2030</td><td>5</td><td>19</td><td>46</td><td>20</td><td>10</td><td>78</td><td>14</td><td>7</td><td>1</td><td>3245</td><td>69</td><td>24</td><td>8</td><td>1.4</td><td>34</td><td>19</td><td>1</td><td>1</td><td>2</td><td>1</td><td>14</td><td>40</td><td>35</td><td>6</td><td>&quot;2022WK036300&quot;</td><td>2022</td></tr><tr><td>&quot;MULTIPOLYGON (…</td><td>&quot;WK036375&quot;</td><td>&quot;Chassébuurt&quot;</td><td>&quot;GM0363&quot;</td><td>&quot;Amsterdam&quot;</td><td>1</td><td>&quot;NEE&quot;</td><td>11930</td><td>1</td><td>24008</td><td>6085</td><td>2980</td><td>3105</td><td>14</td><td>13</td><td>40</td><td>24</td><td>10</td><td>69</td><td>22</td><td>7</td><td>2</td><td>3260</td><td>51</td><td>23</td><td>26</td><td>1.9</td><td>20</td><td>35</td><td>12</td><td>1</td><td>4</td><td>7</td><td>11</td><td>28</td><td>25</td><td>2</td><td>&quot;2022WK036375&quot;</td><td>2022</td></tr><tr><td>&quot;MULTIPOLYGON (…</td><td>&quot;WK036347&quot;</td><td>&quot;Museumkwartier…</td><td>&quot;GM0363&quot;</td><td>&quot;Amsterdam&quot;</td><td>1</td><td>&quot;NEE&quot;</td><td>7923</td><td>1</td><td>9607</td><td>12625</td><td>6160</td><td>6465</td><td>13</td><td>11</td><td>30</td><td>26</td><td>20</td><td>58</td><td>33</td><td>6</td><td>3</td><td>6860</td><td>52</td><td>26</td><td>22</td><td>1.8</td><td>32</td><td>11</td><td>0</td><td>1</td><td>1</td><td>1</td><td>8</td><td>139</td><td>131</td><td>7</td><td>&quot;2022WK036347&quot;</td><td>2022</td></tr><tr><td>&quot;MULTIPOLYGON (…</td><td>&quot;WK036363&quot;</td><td>&quot;Tuindorp Buiks…</td><td>&quot;GM0363&quot;</td><td>&quot;Amsterdam&quot;</td><td>1</td><td>&quot;NEE&quot;</td><td>2791</td><td>1</td><td>11265</td><td>1900</td><td>910</td><td>990</td><td>16</td><td>9</td><td>28</td><td>28</td><td>19</td><td>56</td><td>28</td><td>10</td><td>6</td><td>940</td><td>44</td><td>20</td><td>36</td><td>2.0</td><td>12</td><td>24</td><td>5</td><td>1</td><td>5</td><td>2</td><td>11</td><td>17</td><td>17</td><td>0</td><td>&quot;2022WK036363&quot;</td><td>2022</td></tr></tbody></table></div>"
      ],
      "text/plain": [
       "shape: (5, 39)\n",
       "┌────────────┬──────────┬────────────┬────────────┬───┬────────────┬────────────┬───────────┬──────┐\n",
       "│ geometry   ┆ wijkcode ┆ wijknaam   ┆ gemeenteco ┆ … ┆ oppervlakt ┆ oppervlakt ┆ jrstatcod ┆ jaar │\n",
       "│ ---        ┆ ---      ┆ ---        ┆ de         ┆   ┆ eLandInHa  ┆ eWaterInHa ┆ e         ┆ ---  │\n",
       "│ str        ┆ str      ┆ str        ┆ ---        ┆   ┆ ---        ┆ ---        ┆ ---       ┆ i64  │\n",
       "│            ┆          ┆            ┆ str        ┆   ┆ i64        ┆ i64        ┆ str       ┆      │\n",
       "╞════════════╪══════════╪════════════╪════════════╪═══╪════════════╪════════════╪═══════════╪══════╡\n",
       "│ MULTIPOLYG ┆ WK036399 ┆            ┆ GM0363     ┆ … ┆ -99999999  ┆ -99999999  ┆ 2022WK036 ┆ 2022 │\n",
       "│ ON (((4.96 ┆          ┆            ┆            ┆   ┆            ┆            ┆ 399       ┆      │\n",
       "│ 8908844170 ┆          ┆            ┆            ┆   ┆            ┆            ┆           ┆      │\n",
       "│ 56…        ┆          ┆            ┆            ┆   ┆            ┆            ┆           ┆      │\n",
       "│ MULTIPOLYG ┆ WK036300 ┆ Burgwallen ┆ GM0363     ┆ … ┆ 35         ┆ 6          ┆ 2022WK036 ┆ 2022 │\n",
       "│ ON (((4.90 ┆          ┆ -Oude      ┆            ┆   ┆            ┆            ┆ 300       ┆      │\n",
       "│ 1260303805 ┆          ┆ Zijde      ┆            ┆   ┆            ┆            ┆           ┆      │\n",
       "│ 70…        ┆          ┆            ┆            ┆   ┆            ┆            ┆           ┆      │\n",
       "│ MULTIPOLYG ┆ WK036375 ┆ Chassébuur ┆ GM0363     ┆ … ┆ 25         ┆ 2          ┆ 2022WK036 ┆ 2022 │\n",
       "│ ON (((4.85 ┆          ┆ t          ┆            ┆   ┆            ┆            ┆ 375       ┆      │\n",
       "│ 8886298882 ┆          ┆            ┆            ┆   ┆            ┆            ┆           ┆      │\n",
       "│ 44…        ┆          ┆            ┆            ┆   ┆            ┆            ┆           ┆      │\n",
       "│ MULTIPOLYG ┆ WK036347 ┆ Museumkwar ┆ GM0363     ┆ … ┆ 131        ┆ 7          ┆ 2022WK036 ┆ 2022 │\n",
       "│ ON (((4.87 ┆          ┆ tier       ┆            ┆   ┆            ┆            ┆ 347       ┆      │\n",
       "│ 9046808269 ┆          ┆            ┆            ┆   ┆            ┆            ┆           ┆      │\n",
       "│ 25…        ┆          ┆            ┆            ┆   ┆            ┆            ┆           ┆      │\n",
       "│ MULTIPOLYG ┆ WK036363 ┆ Tuindorp   ┆ GM0363     ┆ … ┆ 17         ┆ 0          ┆ 2022WK036 ┆ 2022 │\n",
       "│ ON (((4.92 ┆          ┆ Buiksloot  ┆            ┆   ┆            ┆            ┆ 363       ┆      │\n",
       "│ 4539521865 ┆          ┆            ┆            ┆   ┆            ┆            ┆           ┆      │\n",
       "│ 90…        ┆          ┆            ┆            ┆   ┆            ┆            ┆           ┆      │\n",
       "└────────────┴──────────┴────────────┴────────────┴───┴────────────┴────────────┴───────────┴──────┘"
      ]
     },
     "execution_count": 4,
     "metadata": {},
     "output_type": "execute_result"
    }
   ],
   "source": [
    "# cbs_wijken.filter(\n",
    "#     [\n",
    "#         pl.col(\"gemeentenaam\") == \"Amsterdam\",\n",
    "#     ]\n",
    "# ).head()"
   ]
  },
  {
   "cell_type": "code",
   "execution_count": 6,
   "metadata": {},
   "outputs": [],
   "source": [
    "# incident_deployments_vehicles_wijken.head()"
   ]
  },
  {
   "cell_type": "code",
   "execution_count": 7,
   "metadata": {},
   "outputs": [
    {
     "data": {
      "text/html": [
       "<div><style>\n",
       ".dataframe > thead > tr,\n",
       ".dataframe > tbody > tr {\n",
       "  text-align: right;\n",
       "  white-space: pre-wrap;\n",
       "}\n",
       "</style>\n",
       "<small>shape: (5, 47)</small><table border=\"1\" class=\"dataframe\"><thead><tr><th>Station_code</th><th>Date</th><th>Hour</th><th>Dd</th><th>Fh</th><th>Ff</th><th>Fx</th><th>T</th><th>T10n</th><th>Td</th><th>Sq</th><th>Q</th><th>Dr</th><th>Rh</th><th>P</th><th>Vv</th><th>N</th><th>U</th><th>Ww</th><th>Ix</th><th>M</th><th>R</th><th>S</th><th>O</th><th>Y</th><th>Incident_ID</th><th>Incident_Starttime</th><th>Incident_Endtime</th><th>Incident_Duration</th><th>Incident_Priority</th><th>Service_Area</th><th>Municipality</th><th>Damage_Type</th><th>LON</th><th>LAT</th><th>Incident_Endtime_Hour</th><th>Incident_Duration_Hour</th><th>Incident_Starttime_Minute</th><th>Incident_Endtime_Minute</th><th>Incident_Duration_Minute</th><th>Deployment_ID</th><th>Vehicle_Type</th><th>Vehicle_Role</th><th>Fire_Station</th><th>Fire_Station_Service_Status</th><th>Driving_Time_To_Incident</th><th>Vehicle</th></tr><tr><td>i64</td><td>date</td><td>i8</td><td>i64</td><td>i64</td><td>i64</td><td>i64</td><td>i64</td><td>i64</td><td>i64</td><td>i64</td><td>i64</td><td>i64</td><td>i64</td><td>i64</td><td>i64</td><td>i64</td><td>i64</td><td>i64</td><td>i64</td><td>i64</td><td>i64</td><td>i64</td><td>i64</td><td>i64</td><td>i64</td><td>time</td><td>time</td><td>time</td><td>i64</td><td>str</td><td>str</td><td>str</td><td>f64</td><td>f64</td><td>i8</td><td>i8</td><td>i8</td><td>i8</td><td>i8</td><td>i64</td><td>str</td><td>str</td><td>str</td><td>str</td><td>str</td><td>str</td></tr></thead><tbody><tr><td>240</td><td>2005-01-01</td><td>1</td><td>260</td><td>40</td><td>30</td><td>60</td><td>68</td><td>null</td><td>57</td><td>0</td><td>0</td><td>0</td><td>0</td><td>10246</td><td>57</td><td>8</td><td>93</td><td>10</td><td>7</td><td>0</td><td>0</td><td>0</td><td>0</td><td>0</td><td>null</td><td>null</td><td>null</td><td>null</td><td>null</td><td>null</td><td>null</td><td>null</td><td>null</td><td>null</td><td>null</td><td>null</td><td>null</td><td>null</td><td>null</td><td>null</td><td>null</td><td>null</td><td>null</td><td>null</td><td>null</td><td>null</td></tr><tr><td>240</td><td>2005-01-01</td><td>2</td><td>230</td><td>30</td><td>30</td><td>60</td><td>65</td><td>null</td><td>52</td><td>0</td><td>0</td><td>0</td><td>0</td><td>10244</td><td>58</td><td>8</td><td>91</td><td>10</td><td>7</td><td>0</td><td>0</td><td>0</td><td>0</td><td>0</td><td>null</td><td>null</td><td>null</td><td>null</td><td>null</td><td>null</td><td>null</td><td>null</td><td>null</td><td>null</td><td>null</td><td>null</td><td>null</td><td>null</td><td>null</td><td>null</td><td>null</td><td>null</td><td>null</td><td>null</td><td>null</td><td>null</td></tr><tr><td>240</td><td>2005-01-01</td><td>3</td><td>230</td><td>40</td><td>30</td><td>50</td><td>43</td><td>null</td><td>34</td><td>0</td><td>0</td><td>0</td><td>0</td><td>10241</td><td>40</td><td>1</td><td>94</td><td>10</td><td>7</td><td>0</td><td>0</td><td>0</td><td>0</td><td>0</td><td>null</td><td>null</td><td>null</td><td>null</td><td>null</td><td>null</td><td>null</td><td>null</td><td>null</td><td>null</td><td>null</td><td>null</td><td>null</td><td>null</td><td>null</td><td>null</td><td>null</td><td>null</td><td>null</td><td>null</td><td>null</td><td>null</td></tr><tr><td>240</td><td>2005-01-01</td><td>4</td><td>220</td><td>40</td><td>40</td><td>50</td><td>38</td><td>null</td><td>32</td><td>0</td><td>0</td><td>0</td><td>0</td><td>10239</td><td>12</td><td>0</td><td>96</td><td>10</td><td>7</td><td>0</td><td>0</td><td>0</td><td>0</td><td>0</td><td>null</td><td>null</td><td>null</td><td>null</td><td>null</td><td>null</td><td>null</td><td>null</td><td>null</td><td>null</td><td>null</td><td>null</td><td>null</td><td>null</td><td>null</td><td>null</td><td>null</td><td>null</td><td>null</td><td>null</td><td>null</td><td>null</td></tr><tr><td>240</td><td>2005-01-01</td><td>5</td><td>230</td><td>40</td><td>40</td><td>50</td><td>38</td><td>null</td><td>34</td><td>0</td><td>0</td><td>0</td><td>0</td><td>10237</td><td>14</td><td>3</td><td>97</td><td>10</td><td>7</td><td>0</td><td>0</td><td>0</td><td>0</td><td>0</td><td>null</td><td>null</td><td>null</td><td>null</td><td>null</td><td>null</td><td>null</td><td>null</td><td>null</td><td>null</td><td>null</td><td>null</td><td>null</td><td>null</td><td>null</td><td>null</td><td>null</td><td>null</td><td>null</td><td>null</td><td>null</td><td>null</td></tr></tbody></table></div>"
      ],
      "text/plain": [
       "shape: (5, 47)\n",
       "┌──────────────┬────────────┬──────┬─────┬───┬──────────────┬──────────────┬─────────────┬─────────┐\n",
       "│ Station_code ┆ Date       ┆ Hour ┆ Dd  ┆ … ┆ Fire_Station ┆ Fire_Station ┆ Driving_Tim ┆ Vehicle │\n",
       "│ ---          ┆ ---        ┆ ---  ┆ --- ┆   ┆ ---          ┆ _Service_Sta ┆ e_To_Incide ┆ ---     │\n",
       "│ i64          ┆ date       ┆ i8   ┆ i64 ┆   ┆ str          ┆ tus          ┆ nt          ┆ str     │\n",
       "│              ┆            ┆      ┆     ┆   ┆              ┆ ---          ┆ ---         ┆         │\n",
       "│              ┆            ┆      ┆     ┆   ┆              ┆ str          ┆ str         ┆         │\n",
       "╞══════════════╪════════════╪══════╪═════╪═══╪══════════════╪══════════════╪═════════════╪═════════╡\n",
       "│ 240          ┆ 2005-01-01 ┆ 1    ┆ 260 ┆ … ┆ null         ┆ null         ┆ null        ┆ null    │\n",
       "│ 240          ┆ 2005-01-01 ┆ 2    ┆ 230 ┆ … ┆ null         ┆ null         ┆ null        ┆ null    │\n",
       "│ 240          ┆ 2005-01-01 ┆ 3    ┆ 230 ┆ … ┆ null         ┆ null         ┆ null        ┆ null    │\n",
       "│ 240          ┆ 2005-01-01 ┆ 4    ┆ 220 ┆ … ┆ null         ┆ null         ┆ null        ┆ null    │\n",
       "│ 240          ┆ 2005-01-01 ┆ 5    ┆ 230 ┆ … ┆ null         ┆ null         ┆ null        ┆ null    │\n",
       "└──────────────┴────────────┴──────┴─────┴───┴──────────────┴──────────────┴─────────────┴─────────┘"
      ]
     },
     "execution_count": 7,
     "metadata": {},
     "output_type": "execute_result"
    }
   ],
   "source": [
    "incident_deployments_vehicles_weather.head()"
   ]
  },
  {
   "cell_type": "code",
   "execution_count": 18,
   "metadata": {},
   "outputs": [
    {
     "data": {
      "text/html": [
       "<div><style>\n",
       ".dataframe > thead > tr,\n",
       ".dataframe > tbody > tr {\n",
       "  text-align: right;\n",
       "  white-space: pre-wrap;\n",
       "}\n",
       "</style>\n",
       "<small>shape: (5, 47)</small><table border=\"1\" class=\"dataframe\"><thead><tr><th>Station_code</th><th>Date</th><th>Hour</th><th>Dd</th><th>Fh</th><th>Ff</th><th>Fx</th><th>T</th><th>T10n</th><th>Td</th><th>Sq</th><th>Q</th><th>Dr</th><th>Rh</th><th>P</th><th>Vv</th><th>N</th><th>U</th><th>Ww</th><th>Ix</th><th>M</th><th>R</th><th>S</th><th>O</th><th>Y</th><th>Incident_ID</th><th>Incident_Starttime</th><th>Incident_Endtime</th><th>Incident_Duration</th><th>Incident_Priority</th><th>Service_Area</th><th>Municipality</th><th>Damage_Type</th><th>LON</th><th>LAT</th><th>Incident_Endtime_Hour</th><th>Incident_Duration_Hour</th><th>Incident_Starttime_Minute</th><th>Incident_Endtime_Minute</th><th>Incident_Duration_Minute</th><th>Deployment_ID</th><th>Vehicle_Type</th><th>Vehicle_Role</th><th>Fire_Station</th><th>Fire_Station_Service_Status</th><th>Driving_Time_To_Incident</th><th>Vehicle</th></tr><tr><td>i64</td><td>date</td><td>i8</td><td>i64</td><td>i64</td><td>i64</td><td>i64</td><td>i64</td><td>i64</td><td>i64</td><td>i64</td><td>i64</td><td>i64</td><td>i64</td><td>i64</td><td>i64</td><td>i64</td><td>i64</td><td>i64</td><td>i64</td><td>i64</td><td>i64</td><td>i64</td><td>i64</td><td>i64</td><td>i64</td><td>time</td><td>time</td><td>time</td><td>i64</td><td>str</td><td>str</td><td>str</td><td>f64</td><td>f64</td><td>i8</td><td>i8</td><td>i8</td><td>i8</td><td>i8</td><td>i64</td><td>str</td><td>str</td><td>str</td><td>str</td><td>str</td><td>str</td></tr></thead><tbody><tr><td>240</td><td>2005-04-07</td><td>12</td><td>240</td><td>160</td><td>160</td><td>210</td><td>99</td><td>69</td><td>13</td><td>8</td><td>195</td><td>0</td><td>0</td><td>9993</td><td>74</td><td>6</td><td>55</td><td>2</td><td>7</td><td>0</td><td>0</td><td>0</td><td>0</td><td>0</td><td>11333</td><td>12:09:51</td><td>13:38:19</td><td>01:28:28</td><td>3</td><td>&quot;IJsbrand&quot;</td><td>&quot;AMSTERDAM&quot;</td><td>&quot;Unknown&quot;</td><td>4.887098</td><td>52.418767</td><td>13</td><td>1</td><td>9</td><td>38</td><td>28</td><td>94</td><td>&quot;TS&quot;</td><td>&quot;TS&quot;</td><td>&quot;IJsbrand&quot;</td><td>&quot;Professional&quot;</td><td>&quot;NULL&quot;</td><td>&quot;Tankautospuit&quot;</td></tr><tr><td>240</td><td>2005-04-07</td><td>12</td><td>240</td><td>160</td><td>160</td><td>210</td><td>99</td><td>69</td><td>13</td><td>8</td><td>195</td><td>0</td><td>0</td><td>9993</td><td>74</td><td>6</td><td>55</td><td>2</td><td>7</td><td>0</td><td>0</td><td>0</td><td>0</td><td>0</td><td>11333</td><td>12:09:51</td><td>13:38:19</td><td>01:28:28</td><td>3</td><td>&quot;IJsbrand&quot;</td><td>&quot;AMSTERDAM&quot;</td><td>&quot;Unknown&quot;</td><td>4.887098</td><td>52.418767</td><td>13</td><td>1</td><td>9</td><td>38</td><td>28</td><td>95</td><td>&quot;TS&quot;</td><td>&quot;TS&quot;</td><td>&quot;Zebra&quot;</td><td>&quot;Professional&quot;</td><td>&quot;808&quot;</td><td>&quot;Tankautospuit&quot;</td></tr><tr><td>240</td><td>2005-04-07</td><td>12</td><td>240</td><td>160</td><td>160</td><td>210</td><td>99</td><td>69</td><td>13</td><td>8</td><td>195</td><td>0</td><td>0</td><td>9993</td><td>74</td><td>6</td><td>55</td><td>2</td><td>7</td><td>0</td><td>0</td><td>0</td><td>0</td><td>0</td><td>11337</td><td>12:53:52</td><td>13:57:46</td><td>01:03:54</td><td>2</td><td>&quot;Pieter&quot;</td><td>&quot;AMSTERDAM&quot;</td><td>&quot;Tree&quot;</td><td>4.826198</td><td>52.352551</td><td>13</td><td>1</td><td>53</td><td>57</td><td>3</td><td>97</td><td>&quot;RV&quot;</td><td>&quot;RV&quot;</td><td>&quot;Teunis&quot;</td><td>&quot;Professional&quot;</td><td>&quot;753&quot;</td><td>&quot;HV met kraan&quot;</td></tr><tr><td>240</td><td>2005-04-07</td><td>12</td><td>240</td><td>160</td><td>160</td><td>210</td><td>99</td><td>69</td><td>13</td><td>8</td><td>195</td><td>0</td><td>0</td><td>9993</td><td>74</td><td>6</td><td>55</td><td>2</td><td>7</td><td>0</td><td>0</td><td>0</td><td>0</td><td>0</td><td>11337</td><td>12:53:52</td><td>13:57:46</td><td>01:03:54</td><td>2</td><td>&quot;Pieter&quot;</td><td>&quot;AMSTERDAM&quot;</td><td>&quot;Tree&quot;</td><td>4.826198</td><td>52.352551</td><td>13</td><td>1</td><td>53</td><td>57</td><td>3</td><td>98</td><td>&quot;TS&quot;</td><td>&quot;TS&quot;</td><td>&quot;Osdorp&quot;</td><td>&quot;Professional&quot;</td><td>&quot;633&quot;</td><td>&quot;Tankautospuit&quot;</td></tr><tr><td>240</td><td>2005-04-07</td><td>12</td><td>240</td><td>160</td><td>160</td><td>210</td><td>99</td><td>69</td><td>13</td><td>8</td><td>195</td><td>0</td><td>0</td><td>9993</td><td>74</td><td>6</td><td>55</td><td>2</td><td>7</td><td>0</td><td>0</td><td>0</td><td>0</td><td>0</td><td>11337</td><td>12:53:52</td><td>13:57:46</td><td>01:03:54</td><td>2</td><td>&quot;Pieter&quot;</td><td>&quot;AMSTERDAM&quot;</td><td>&quot;Tree&quot;</td><td>4.826198</td><td>52.352551</td><td>13</td><td>1</td><td>53</td><td>57</td><td>3</td><td>98</td><td>&quot;TS&quot;</td><td>&quot;TS&quot;</td><td>&quot;Osdorp&quot;</td><td>&quot;Professional&quot;</td><td>&quot;633&quot;</td><td>&quot;Tankautospuit&quot;</td></tr></tbody></table></div>"
      ],
      "text/plain": [
       "shape: (5, 47)\n",
       "┌─────────────┬────────────┬──────┬─────┬───┬─────────────┬─────────────┬─────────────┬────────────┐\n",
       "│ Station_cod ┆ Date       ┆ Hour ┆ Dd  ┆ … ┆ Fire_Statio ┆ Fire_Statio ┆ Driving_Tim ┆ Vehicle    │\n",
       "│ e           ┆ ---        ┆ ---  ┆ --- ┆   ┆ n           ┆ n_Service_S ┆ e_To_Incide ┆ ---        │\n",
       "│ ---         ┆ date       ┆ i8   ┆ i64 ┆   ┆ ---         ┆ tatus       ┆ nt          ┆ str        │\n",
       "│ i64         ┆            ┆      ┆     ┆   ┆ str         ┆ ---         ┆ ---         ┆            │\n",
       "│             ┆            ┆      ┆     ┆   ┆             ┆ str         ┆ str         ┆            │\n",
       "╞═════════════╪════════════╪══════╪═════╪═══╪═════════════╪═════════════╪═════════════╪════════════╡\n",
       "│ 240         ┆ 2005-04-07 ┆ 12   ┆ 240 ┆ … ┆ IJsbrand    ┆ Professiona ┆ NULL        ┆ Tankautosp │\n",
       "│             ┆            ┆      ┆     ┆   ┆             ┆ l           ┆             ┆ uit        │\n",
       "│ 240         ┆ 2005-04-07 ┆ 12   ┆ 240 ┆ … ┆ Zebra       ┆ Professiona ┆ 808         ┆ Tankautosp │\n",
       "│             ┆            ┆      ┆     ┆   ┆             ┆ l           ┆             ┆ uit        │\n",
       "│ 240         ┆ 2005-04-07 ┆ 12   ┆ 240 ┆ … ┆ Teunis      ┆ Professiona ┆ 753         ┆ HV met     │\n",
       "│             ┆            ┆      ┆     ┆   ┆             ┆ l           ┆             ┆ kraan      │\n",
       "│ 240         ┆ 2005-04-07 ┆ 12   ┆ 240 ┆ … ┆ Osdorp      ┆ Professiona ┆ 633         ┆ Tankautosp │\n",
       "│             ┆            ┆      ┆     ┆   ┆             ┆ l           ┆             ┆ uit        │\n",
       "│ 240         ┆ 2005-04-07 ┆ 12   ┆ 240 ┆ … ┆ Osdorp      ┆ Professiona ┆ 633         ┆ Tankautosp │\n",
       "│             ┆            ┆      ┆     ┆   ┆             ┆ l           ┆             ┆ uit        │\n",
       "└─────────────┴────────────┴──────┴─────┴───┴─────────────┴─────────────┴─────────────┴────────────┘"
      ]
     },
     "metadata": {},
     "output_type": "display_data"
    },
    {
     "name": "stdout",
     "output_type": "stream",
     "text": [
      "['Station_code', 'Date', 'Hour', 'Dd', 'Fh', 'Ff', 'Fx', 'T', 'T10n', 'Td', 'Sq', 'Q', 'Dr', 'Rh', 'P', 'Vv', 'N', 'U', 'Ww', 'Ix', 'M', 'R', 'S', 'O', 'Y', 'Incident_ID', 'Incident_Starttime', 'Incident_Endtime', 'Incident_Duration', 'Incident_Priority', 'Service_Area', 'Municipality', 'Damage_Type', 'LON', 'LAT', 'Incident_Endtime_Hour', 'Incident_Duration_Hour', 'Incident_Starttime_Minute', 'Incident_Endtime_Minute', 'Incident_Duration_Minute', 'Deployment_ID', 'Vehicle_Type', 'Vehicle_Role', 'Fire_Station', 'Fire_Station_Service_Status', 'Driving_Time_To_Incident', 'Vehicle']\n"
     ]
    }
   ],
   "source": [
    "# Select all rows where Incidents happened (by filtering on Incident_ID != null)\n",
    "selected_df = incident_deployments_vehicles_weather.filter(\n",
    "    pl.col(\"Incident_ID\").is_not_null(), pl.col(\"Date\").dt.year() == 2005\n",
    ")\n",
    "display(selected_df.head())\n",
    "print(selected_df.columns)"
   ]
  }
 ],
 "metadata": {
  "kernelspec": {
   "display_name": "Python 3",
   "language": "python",
   "name": "python3"
  },
  "language_info": {
   "codemirror_mode": {
    "name": "ipython",
    "version": 3
   },
   "file_extension": ".py",
   "mimetype": "text/x-python",
   "name": "python",
   "nbconvert_exporter": "python",
   "pygments_lexer": "ipython3",
   "version": "3.10.13"
  }
 },
 "nbformat": 4,
 "nbformat_minor": 2
}
