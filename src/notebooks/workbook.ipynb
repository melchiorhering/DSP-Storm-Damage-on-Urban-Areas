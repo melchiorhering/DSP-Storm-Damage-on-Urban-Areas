{
 "cells": [
  {
   "cell_type": "markdown",
   "metadata": {},
   "source": [
    "# Testing\n",
    "\n",
    "In this notebook you can explore and test the resulting database tables from our Dagster ETL process.\n",
    "Here you can analyze\n"
   ]
  },
  {
   "cell_type": "code",
   "execution_count": 1,
   "metadata": {
    "tags": []
   },
   "outputs": [],
   "source": [
    "import duckdb\n",
    "import polars as pl\n",
    "\n",
    "# from IPython import display\n",
    "import geopandas as gpd\n",
    "from shapely import wkt"
   ]
  },
  {
   "cell_type": "markdown",
   "metadata": {},
   "source": [
    "### Create Database Connection\n"
   ]
  },
  {
   "cell_type": "code",
   "execution_count": null,
   "metadata": {},
   "outputs": [],
   "source": [
    "%load_ext sql\n",
    "conn = duckdb.connect(database=\"../dsp-dagster/data_systems_project.duckdb\")\n",
    "%sql conn --alias duckdb"
   ]
  },
  {
   "cell_type": "code",
   "execution_count": null,
   "metadata": {},
   "outputs": [],
   "source": [
    "%sql SHOW ALL TABLES; # shows all available tables"
   ]
  },
  {
   "cell_type": "markdown",
   "metadata": {},
   "source": [
    "##### Drop Tables\n"
   ]
  },
  {
   "cell_type": "code",
   "execution_count": null,
   "metadata": {},
   "outputs": [],
   "source": [
    "# %sql DROP TABLE joined.incident_deployments_vehicles_weather;\n",
    "# %sql DROP TABLE joined.incident_deployments_vehicles_wijken;\n",
    "# %sql DROP TABLE joined.incident_deployments_vehicles;\n",
    "# %sql DROP TABLE joined.incidents_buurten;\n",
    "%sql DROP TABLE joined.knmi_weather_txt;\n",
    "# %sql DROP TABLE joined.buurten_trees;\n",
    "# %sql DROP TABLE cleaned.cleaned_storm_incidents;\n",
    "# %sql DROP TABLE joined.buurten_incidents_trees;"
   ]
  },
  {
   "cell_type": "code",
   "execution_count": null,
   "metadata": {},
   "outputs": [],
   "source": [
    "buurten_incidents_trees = conn.execute(\n",
    "    \"\"\"\n",
    "    SELECT * FROM joined.buurten_incidents_trees\n",
    "    \"\"\"\n",
    ").pl()\n",
    "\n",
    "\n",
    "# Close the database connection\n",
    "conn.close()"
   ]
  },
  {
   "cell_type": "code",
   "execution_count": null,
   "metadata": {},
   "outputs": [],
   "source": [
    "def convert_to_geodf(polars_df: pl.DataFrame) -> gpd.GeoDataFrame:\n",
    "    \"\"\"\n",
    "    Convert a Polars DataFrame to a GeoDataFrame using WKB or WKT transformation.\n",
    "    \"\"\"\n",
    "\n",
    "    # Convert Polars DataFrame to Pandas DataFrame\n",
    "    df = polars_df.to_pandas()\n",
    "\n",
    "    # Convert geometry strings back to geometry objects\n",
    "    if \"geometry\" in df.columns:\n",
    "        df[\"geometry\"] = df[\"geometry\"].apply(wkt.loads)\n",
    "\n",
    "    else:\n",
    "        raise ValueError(\"No 'geometry' column found in the DataFrame\")\n",
    "\n",
    "    # Convert back to GeoDataFrame\n",
    "    return gpd.GeoDataFrame(df, geometry=\"geometry\", crs=\"EPSG:4326\")\n",
    "\n",
    "\n",
    "def convert_to_polars(gdf: gpd.GeoDataFrame) -> pl.DataFrame:\n",
    "    \"\"\"\n",
    "    Convert a GeoDataFrame to a Polars DataFrame, converting geometries to WKB strings.\n",
    "    \"\"\"\n",
    "    # If geometry conversion is necessary, uncomment the following line\n",
    "    # gdf[\"geometry\"] = gdf[\"geometry\"].apply(lambda geom: wkb_dumps(geom, hex=True))\n",
    "    gdf[\"geometry\"] = gdf[\"geometry\"].apply(wkt.dumps)\n",
    "\n",
    "    # Convert to Polars DataFrame\n",
    "    return pl.from_pandas(gdf)"
   ]
  },
  {
   "cell_type": "markdown",
   "metadata": {},
   "source": [
    "### Buurten Incidents\n"
   ]
  },
  {
   "cell_type": "code",
   "execution_count": null,
   "metadata": {},
   "outputs": [],
   "source": [
    "print(buurten_incidents.columns)\n",
    "buurten_incidents.head()"
   ]
  },
  {
   "cell_type": "code",
   "execution_count": null,
   "metadata": {},
   "outputs": [],
   "source": [
    "df = buurten_incidents.group_by(\n",
    "    [\n",
    "        \"buurtcode\",\n",
    "        \"Date\",\n",
    "        \"Incident_Starttime_Hour\",\n",
    "        \"Damage_Type\",\n",
    "    ]\n",
    ").agg(pl.col(\"Incident_ID\").count().alias(\"Totaal\"))"
   ]
  },
  {
   "cell_type": "markdown",
   "metadata": {},
   "source": [
    "### Importing dataframes from parquet"
   ]
  },
  {
   "cell_type": "code",
   "execution_count": 3,
   "metadata": {},
   "outputs": [
    {
     "data": {
      "text/html": [
       "<div><style>\n",
       ".dataframe > thead > tr,\n",
       ".dataframe > tbody > tr {\n",
       "  text-align: right;\n",
       "  white-space: pre-wrap;\n",
       "}\n",
       "</style>\n",
       "<small>shape: (5_067, 254)</small><table border=\"1\" class=\"dataframe\"><thead><tr><th>geometry</th><th>buurtcode</th><th>buurtnaam</th><th>wijkcode</th><th>gemeentecode</th><th>gemeentenaam</th><th>indelingswijzigingWijkenEnBuurten</th><th>water</th><th>meestVoorkomendePostcode</th><th>dekkingspercentage</th><th>omgevingsadressendichtheid</th><th>stedelijkheidAdressenPerKm2</th><th>bevolkingsdichtheidInwonersPerKm2</th><th>aantalInwoners</th><th>mannen</th><th>vrouwen</th><th>percentagePersonen0Tot15Jaar</th><th>percentagePersonen15Tot25Jaar</th><th>percentagePersonen25Tot45Jaar</th><th>percentagePersonen45Tot65Jaar</th><th>percentagePersonen65JaarEnOuder</th><th>percentageOngehuwd</th><th>percentageGehuwd</th><th>percentageGescheid</th><th>percentageVerweduwd</th><th>aantalHuishoudens</th><th>percentageEenpersoonshuishoudens</th><th>percentageHuishoudensZonderKinderen</th><th>percentageHuishoudensMetKinderen</th><th>gemiddeldeHuishoudsgrootte</th><th>percentageWesterseMigratieachtergrond</th><th>percentageNietWesterseMigratieachtergrond</th><th>percentageUitMarokko</th><th>percentageUitNederlandseAntillenEnAruba</th><th>percentageUitSuriname</th><th>percentageUitTurkije</th><th>percentageOverigeNietwestersemigratieachtergrond</th><th>&hellip;</th><th>Trees_soortnaamTop_Albizia</th><th>Trees_soortnaamTop_Tetracentron</th><th>Trees_soortnaamTop_Oxydendrum</th><th>Trees_soortnaamTop_Cladrastis</th><th>Trees_standplaatsGedetailleerd_Straatbaksteen</th><th>Trees_standplaatsGedetailleerd_Lijnvormige-haag</th><th>Trees_standplaatsGedetailleerd_Gazon</th><th>Trees_standplaatsGedetailleerd_Tegels</th><th>Trees_standplaatsGedetailleerd_Bomen-en-struikvormers</th><th>Trees_standplaatsGedetailleerd_Fijne-sierheester</th><th>Trees_standplaatsGedetailleerd_Vaste-planten</th><th>Trees_standplaatsGedetailleerd_Struikvormers</th><th>Trees_standplaatsGedetailleerd_Betonstraatstenen</th><th>Trees_standplaatsGedetailleerd_Ruw-gras</th><th>Trees_standplaatsGedetailleerd_Bloemrijk-gras</th><th>Trees_standplaatsGedetailleerd_Bodembedekkende-heesters</th><th>Trees_standplaatsGedetailleerd_Cultuurrozen</th><th>Trees_standplaatsGedetailleerd_Ruigte</th><th>Trees_standplaatsGedetailleerd_Los</th><th>Trees_standplaatsGedetailleerd_Sierbestrating</th><th>Trees_standplaatsGedetailleerd_Samenhangend</th><th>Trees_standplaatsGedetailleerd_Boomvormers</th><th>Trees_standplaatsGedetailleerd_Dichte-deklagen</th><th>Trees_standplaatsGedetailleerd_Ongewapend-nietverdeuveld-beton</th><th>Trees_standplaatsGedetailleerd_Blokhaag</th><th>Trees_standplaatsGedetailleerd_Grove-sierheester</th><th>Trees_standplaatsGedetailleerd_Heesterrozen</th><th>Trees_standplaatsGedetailleerd_Botanische-rozen</th><th>Trees_stamdiameterklasse_0,1-tot-0,2-m.</th><th>Trees_stamdiameterklasse_0,5-tot-1-m.</th><th>Trees_stamdiameterklasse_0,3-tot-0,5-m.</th><th>Trees_stamdiameterklasse_0,2-tot-0,3-m.</th><th>Trees_stamdiameterklasse_1,0-tot-1,5-m.</th><th>Incidents_Date</th><th>Incidents_Incident_Starttime_Hour</th><th>Incidents_Damage_Type</th><th>Incidents_Total</th></tr><tr><td>str</td><td>str</td><td>str</td><td>str</td><td>str</td><td>str</td><td>i64</td><td>str</td><td>str</td><td>i64</td><td>i64</td><td>i64</td><td>i64</td><td>i64</td><td>i64</td><td>i64</td><td>i64</td><td>i64</td><td>i64</td><td>i64</td><td>i64</td><td>i64</td><td>i64</td><td>i64</td><td>i64</td><td>i64</td><td>i64</td><td>i64</td><td>i64</td><td>f64</td><td>i64</td><td>i64</td><td>i64</td><td>i64</td><td>i64</td><td>i64</td><td>i64</td><td>&hellip;</td><td>u32</td><td>u32</td><td>u32</td><td>u32</td><td>u32</td><td>u32</td><td>u32</td><td>u32</td><td>u32</td><td>u32</td><td>u32</td><td>u32</td><td>u32</td><td>u32</td><td>u32</td><td>u32</td><td>u32</td><td>u32</td><td>u32</td><td>u32</td><td>u32</td><td>u32</td><td>u32</td><td>u32</td><td>u32</td><td>u32</td><td>u32</td><td>u32</td><td>u32</td><td>u32</td><td>u32</td><td>u32</td><td>u32</td><td>date</td><td>i8</td><td>str</td><td>u32</td></tr></thead><tbody><tr><td>&quot;MULTIPOLYGON (…</td><td>&quot;BU04792130&quot;</td><td>&quot;Het Eiland&quot;</td><td>&quot;WK047921&quot;</td><td>&quot;GM0479&quot;</td><td>&quot;Zaanstad&quot;</td><td>1</td><td>&quot;NEE&quot;</td><td>&quot;1506&quot;</td><td>1</td><td>3064</td><td>1</td><td>9972</td><td>1265</td><td>630</td><td>635</td><td>13</td><td>14</td><td>13</td><td>33</td><td>27</td><td>41</td><td>46</td><td>7</td><td>7</td><td>540</td><td>27</td><td>34</td><td>39</td><td>2.3</td><td>12</td><td>13</td><td>1</td><td>1</td><td>4</td><td>3</td><td>5</td><td>&hellip;</td><td>null</td><td>null</td><td>null</td><td>null</td><td>null</td><td>null</td><td>null</td><td>null</td><td>null</td><td>null</td><td>null</td><td>null</td><td>null</td><td>null</td><td>null</td><td>null</td><td>null</td><td>null</td><td>null</td><td>null</td><td>null</td><td>null</td><td>null</td><td>null</td><td>null</td><td>null</td><td>null</td><td>null</td><td>null</td><td>null</td><td>null</td><td>null</td><td>null</td><td>null</td><td>null</td><td>null</td><td>null</td></tr><tr><td>&quot;MULTIPOLYGON (…</td><td>&quot;BU04796120&quot;</td><td>&quot;Noorderhoofdbu…</td><td>&quot;WK047961&quot;</td><td>&quot;GM0479&quot;</td><td>&quot;Zaanstad&quot;</td><td>1</td><td>&quot;NEE&quot;</td><td>&quot;1561&quot;</td><td>1</td><td>2171</td><td>2</td><td>5036</td><td>2040</td><td>1020</td><td>1020</td><td>13</td><td>8</td><td>26</td><td>28</td><td>26</td><td>48</td><td>33</td><td>12</td><td>7</td><td>1140</td><td>52</td><td>24</td><td>24</td><td>1.8</td><td>8</td><td>12</td><td>2</td><td>0</td><td>2</td><td>3</td><td>4</td><td>&hellip;</td><td>null</td><td>null</td><td>null</td><td>null</td><td>null</td><td>null</td><td>null</td><td>null</td><td>null</td><td>null</td><td>null</td><td>null</td><td>null</td><td>null</td><td>null</td><td>null</td><td>null</td><td>null</td><td>null</td><td>null</td><td>null</td><td>null</td><td>null</td><td>null</td><td>null</td><td>null</td><td>null</td><td>null</td><td>null</td><td>null</td><td>null</td><td>null</td><td>null</td><td>null</td><td>null</td><td>null</td><td>null</td></tr><tr><td>&quot;MULTIPOLYGON (…</td><td>&quot;BU03620401&quot;</td><td>&quot;Stadshart&quot;</td><td>&quot;WK036204&quot;</td><td>&quot;GM0362&quot;</td><td>&quot;Amstelveen&quot;</td><td>1</td><td>&quot;NEE&quot;</td><td>&quot;1181&quot;</td><td>1</td><td>3693</td><td>1</td><td>6297</td><td>3480</td><td>1780</td><td>1700</td><td>17</td><td>7</td><td>36</td><td>23</td><td>18</td><td>47</td><td>43</td><td>6</td><td>4</td><td>1780</td><td>47</td><td>25</td><td>29</td><td>2.0</td><td>31</td><td>37</td><td>1</td><td>1</td><td>2</td><td>1</td><td>32</td><td>&hellip;</td><td>null</td><td>null</td><td>null</td><td>null</td><td>null</td><td>null</td><td>null</td><td>null</td><td>null</td><td>null</td><td>null</td><td>null</td><td>null</td><td>null</td><td>null</td><td>null</td><td>null</td><td>null</td><td>null</td><td>null</td><td>null</td><td>null</td><td>null</td><td>null</td><td>null</td><td>null</td><td>null</td><td>null</td><td>null</td><td>null</td><td>null</td><td>null</td><td>null</td><td>2023-03-13</td><td>15</td><td>&quot;Building&quot;</td><td>1</td></tr><tr><td>&quot;MULTIPOLYGON (…</td><td>&quot;BU03620401&quot;</td><td>&quot;Stadshart&quot;</td><td>&quot;WK036204&quot;</td><td>&quot;GM0362&quot;</td><td>&quot;Amstelveen&quot;</td><td>1</td><td>&quot;NEE&quot;</td><td>&quot;1181&quot;</td><td>1</td><td>3693</td><td>1</td><td>6297</td><td>3480</td><td>1780</td><td>1700</td><td>17</td><td>7</td><td>36</td><td>23</td><td>18</td><td>47</td><td>43</td><td>6</td><td>4</td><td>1780</td><td>47</td><td>25</td><td>29</td><td>2.0</td><td>31</td><td>37</td><td>1</td><td>1</td><td>2</td><td>1</td><td>32</td><td>&hellip;</td><td>null</td><td>null</td><td>null</td><td>null</td><td>null</td><td>null</td><td>null</td><td>null</td><td>null</td><td>null</td><td>null</td><td>null</td><td>null</td><td>null</td><td>null</td><td>null</td><td>null</td><td>null</td><td>null</td><td>null</td><td>null</td><td>null</td><td>null</td><td>null</td><td>null</td><td>null</td><td>null</td><td>null</td><td>null</td><td>null</td><td>null</td><td>null</td><td>null</td><td>2022-02-18</td><td>15</td><td>&quot;Fence, Road si…</td><td>1</td></tr><tr><td>&quot;MULTIPOLYGON (…</td><td>&quot;BU03620401&quot;</td><td>&quot;Stadshart&quot;</td><td>&quot;WK036204&quot;</td><td>&quot;GM0362&quot;</td><td>&quot;Amstelveen&quot;</td><td>1</td><td>&quot;NEE&quot;</td><td>&quot;1181&quot;</td><td>1</td><td>3693</td><td>1</td><td>6297</td><td>3480</td><td>1780</td><td>1700</td><td>17</td><td>7</td><td>36</td><td>23</td><td>18</td><td>47</td><td>43</td><td>6</td><td>4</td><td>1780</td><td>47</td><td>25</td><td>29</td><td>2.0</td><td>31</td><td>37</td><td>1</td><td>1</td><td>2</td><td>1</td><td>32</td><td>&hellip;</td><td>null</td><td>null</td><td>null</td><td>null</td><td>null</td><td>null</td><td>null</td><td>null</td><td>null</td><td>null</td><td>null</td><td>null</td><td>null</td><td>null</td><td>null</td><td>null</td><td>null</td><td>null</td><td>null</td><td>null</td><td>null</td><td>null</td><td>null</td><td>null</td><td>null</td><td>null</td><td>null</td><td>null</td><td>null</td><td>null</td><td>null</td><td>null</td><td>null</td><td>2019-03-07</td><td>23</td><td>&quot;Unknown&quot;</td><td>1</td></tr><tr><td>&quot;MULTIPOLYGON (…</td><td>&quot;BU03620401&quot;</td><td>&quot;Stadshart&quot;</td><td>&quot;WK036204&quot;</td><td>&quot;GM0362&quot;</td><td>&quot;Amstelveen&quot;</td><td>1</td><td>&quot;NEE&quot;</td><td>&quot;1181&quot;</td><td>1</td><td>3693</td><td>1</td><td>6297</td><td>3480</td><td>1780</td><td>1700</td><td>17</td><td>7</td><td>36</td><td>23</td><td>18</td><td>47</td><td>43</td><td>6</td><td>4</td><td>1780</td><td>47</td><td>25</td><td>29</td><td>2.0</td><td>31</td><td>37</td><td>1</td><td>1</td><td>2</td><td>1</td><td>32</td><td>&hellip;</td><td>null</td><td>null</td><td>null</td><td>null</td><td>null</td><td>null</td><td>null</td><td>null</td><td>null</td><td>null</td><td>null</td><td>null</td><td>null</td><td>null</td><td>null</td><td>null</td><td>null</td><td>null</td><td>null</td><td>null</td><td>null</td><td>null</td><td>null</td><td>null</td><td>null</td><td>null</td><td>null</td><td>null</td><td>null</td><td>null</td><td>null</td><td>null</td><td>null</td><td>2019-08-10</td><td>6</td><td>&quot;Building&quot;</td><td>1</td></tr><tr><td>&quot;MULTIPOLYGON (…</td><td>&quot;BU03620401&quot;</td><td>&quot;Stadshart&quot;</td><td>&quot;WK036204&quot;</td><td>&quot;GM0362&quot;</td><td>&quot;Amstelveen&quot;</td><td>1</td><td>&quot;NEE&quot;</td><td>&quot;1181&quot;</td><td>1</td><td>3693</td><td>1</td><td>6297</td><td>3480</td><td>1780</td><td>1700</td><td>17</td><td>7</td><td>36</td><td>23</td><td>18</td><td>47</td><td>43</td><td>6</td><td>4</td><td>1780</td><td>47</td><td>25</td><td>29</td><td>2.0</td><td>31</td><td>37</td><td>1</td><td>1</td><td>2</td><td>1</td><td>32</td><td>&hellip;</td><td>null</td><td>null</td><td>null</td><td>null</td><td>null</td><td>null</td><td>null</td><td>null</td><td>null</td><td>null</td><td>null</td><td>null</td><td>null</td><td>null</td><td>null</td><td>null</td><td>null</td><td>null</td><td>null</td><td>null</td><td>null</td><td>null</td><td>null</td><td>null</td><td>null</td><td>null</td><td>null</td><td>null</td><td>null</td><td>null</td><td>null</td><td>null</td><td>null</td><td>2021-05-22</td><td>10</td><td>&quot;Tree&quot;</td><td>1</td></tr><tr><td>&quot;MULTIPOLYGON (…</td><td>&quot;BU03620401&quot;</td><td>&quot;Stadshart&quot;</td><td>&quot;WK036204&quot;</td><td>&quot;GM0362&quot;</td><td>&quot;Amstelveen&quot;</td><td>1</td><td>&quot;NEE&quot;</td><td>&quot;1181&quot;</td><td>1</td><td>3693</td><td>1</td><td>6297</td><td>3480</td><td>1780</td><td>1700</td><td>17</td><td>7</td><td>36</td><td>23</td><td>18</td><td>47</td><td>43</td><td>6</td><td>4</td><td>1780</td><td>47</td><td>25</td><td>29</td><td>2.0</td><td>31</td><td>37</td><td>1</td><td>1</td><td>2</td><td>1</td><td>32</td><td>&hellip;</td><td>null</td><td>null</td><td>null</td><td>null</td><td>null</td><td>null</td><td>null</td><td>null</td><td>null</td><td>null</td><td>null</td><td>null</td><td>null</td><td>null</td><td>null</td><td>null</td><td>null</td><td>null</td><td>null</td><td>null</td><td>null</td><td>null</td><td>null</td><td>null</td><td>null</td><td>null</td><td>null</td><td>null</td><td>null</td><td>null</td><td>null</td><td>null</td><td>null</td><td>2021-03-14</td><td>1</td><td>&quot;Tree&quot;</td><td>1</td></tr><tr><td>&quot;MULTIPOLYGON (…</td><td>&quot;BU03620401&quot;</td><td>&quot;Stadshart&quot;</td><td>&quot;WK036204&quot;</td><td>&quot;GM0362&quot;</td><td>&quot;Amstelveen&quot;</td><td>1</td><td>&quot;NEE&quot;</td><td>&quot;1181&quot;</td><td>1</td><td>3693</td><td>1</td><td>6297</td><td>3480</td><td>1780</td><td>1700</td><td>17</td><td>7</td><td>36</td><td>23</td><td>18</td><td>47</td><td>43</td><td>6</td><td>4</td><td>1780</td><td>47</td><td>25</td><td>29</td><td>2.0</td><td>31</td><td>37</td><td>1</td><td>1</td><td>2</td><td>1</td><td>32</td><td>&hellip;</td><td>null</td><td>null</td><td>null</td><td>null</td><td>null</td><td>null</td><td>null</td><td>null</td><td>null</td><td>null</td><td>null</td><td>null</td><td>null</td><td>null</td><td>null</td><td>null</td><td>null</td><td>null</td><td>null</td><td>null</td><td>null</td><td>null</td><td>null</td><td>null</td><td>null</td><td>null</td><td>null</td><td>null</td><td>null</td><td>null</td><td>null</td><td>null</td><td>null</td><td>2018-08-09</td><td>21</td><td>&quot;Tree&quot;</td><td>1</td></tr><tr><td>&quot;MULTIPOLYGON (…</td><td>&quot;BU03620401&quot;</td><td>&quot;Stadshart&quot;</td><td>&quot;WK036204&quot;</td><td>&quot;GM0362&quot;</td><td>&quot;Amstelveen&quot;</td><td>1</td><td>&quot;NEE&quot;</td><td>&quot;1181&quot;</td><td>1</td><td>3693</td><td>1</td><td>6297</td><td>3480</td><td>1780</td><td>1700</td><td>17</td><td>7</td><td>36</td><td>23</td><td>18</td><td>47</td><td>43</td><td>6</td><td>4</td><td>1780</td><td>47</td><td>25</td><td>29</td><td>2.0</td><td>31</td><td>37</td><td>1</td><td>1</td><td>2</td><td>1</td><td>32</td><td>&hellip;</td><td>null</td><td>null</td><td>null</td><td>null</td><td>null</td><td>null</td><td>null</td><td>null</td><td>null</td><td>null</td><td>null</td><td>null</td><td>null</td><td>null</td><td>null</td><td>null</td><td>null</td><td>null</td><td>null</td><td>null</td><td>null</td><td>null</td><td>null</td><td>null</td><td>null</td><td>null</td><td>null</td><td>null</td><td>null</td><td>null</td><td>null</td><td>null</td><td>null</td><td>2020-02-09</td><td>12</td><td>&quot;Building&quot;</td><td>1</td></tr><tr><td>&quot;MULTIPOLYGON (…</td><td>&quot;BU03620401&quot;</td><td>&quot;Stadshart&quot;</td><td>&quot;WK036204&quot;</td><td>&quot;GM0362&quot;</td><td>&quot;Amstelveen&quot;</td><td>1</td><td>&quot;NEE&quot;</td><td>&quot;1181&quot;</td><td>1</td><td>3693</td><td>1</td><td>6297</td><td>3480</td><td>1780</td><td>1700</td><td>17</td><td>7</td><td>36</td><td>23</td><td>18</td><td>47</td><td>43</td><td>6</td><td>4</td><td>1780</td><td>47</td><td>25</td><td>29</td><td>2.0</td><td>31</td><td>37</td><td>1</td><td>1</td><td>2</td><td>1</td><td>32</td><td>&hellip;</td><td>null</td><td>null</td><td>null</td><td>null</td><td>null</td><td>null</td><td>null</td><td>null</td><td>null</td><td>null</td><td>null</td><td>null</td><td>null</td><td>null</td><td>null</td><td>null</td><td>null</td><td>null</td><td>null</td><td>null</td><td>null</td><td>null</td><td>null</td><td>null</td><td>null</td><td>null</td><td>null</td><td>null</td><td>null</td><td>null</td><td>null</td><td>null</td><td>null</td><td>2009-10-04</td><td>0</td><td>&quot;Unknown&quot;</td><td>1</td></tr><tr><td>&quot;MULTIPOLYGON (…</td><td>&quot;BU03620401&quot;</td><td>&quot;Stadshart&quot;</td><td>&quot;WK036204&quot;</td><td>&quot;GM0362&quot;</td><td>&quot;Amstelveen&quot;</td><td>1</td><td>&quot;NEE&quot;</td><td>&quot;1181&quot;</td><td>1</td><td>3693</td><td>1</td><td>6297</td><td>3480</td><td>1780</td><td>1700</td><td>17</td><td>7</td><td>36</td><td>23</td><td>18</td><td>47</td><td>43</td><td>6</td><td>4</td><td>1780</td><td>47</td><td>25</td><td>29</td><td>2.0</td><td>31</td><td>37</td><td>1</td><td>1</td><td>2</td><td>1</td><td>32</td><td>&hellip;</td><td>null</td><td>null</td><td>null</td><td>null</td><td>null</td><td>null</td><td>null</td><td>null</td><td>null</td><td>null</td><td>null</td><td>null</td><td>null</td><td>null</td><td>null</td><td>null</td><td>null</td><td>null</td><td>null</td><td>null</td><td>null</td><td>null</td><td>null</td><td>null</td><td>null</td><td>null</td><td>null</td><td>null</td><td>null</td><td>null</td><td>null</td><td>null</td><td>null</td><td>2023-03-13</td><td>16</td><td>&quot;Building&quot;</td><td>1</td></tr><tr><td>&hellip;</td><td>&hellip;</td><td>&hellip;</td><td>&hellip;</td><td>&hellip;</td><td>&hellip;</td><td>&hellip;</td><td>&hellip;</td><td>&hellip;</td><td>&hellip;</td><td>&hellip;</td><td>&hellip;</td><td>&hellip;</td><td>&hellip;</td><td>&hellip;</td><td>&hellip;</td><td>&hellip;</td><td>&hellip;</td><td>&hellip;</td><td>&hellip;</td><td>&hellip;</td><td>&hellip;</td><td>&hellip;</td><td>&hellip;</td><td>&hellip;</td><td>&hellip;</td><td>&hellip;</td><td>&hellip;</td><td>&hellip;</td><td>&hellip;</td><td>&hellip;</td><td>&hellip;</td><td>&hellip;</td><td>&hellip;</td><td>&hellip;</td><td>&hellip;</td><td>&hellip;</td><td>&hellip;</td><td>&hellip;</td><td>&hellip;</td><td>&hellip;</td><td>&hellip;</td><td>&hellip;</td><td>&hellip;</td><td>&hellip;</td><td>&hellip;</td><td>&hellip;</td><td>&hellip;</td><td>&hellip;</td><td>&hellip;</td><td>&hellip;</td><td>&hellip;</td><td>&hellip;</td><td>&hellip;</td><td>&hellip;</td><td>&hellip;</td><td>&hellip;</td><td>&hellip;</td><td>&hellip;</td><td>&hellip;</td><td>&hellip;</td><td>&hellip;</td><td>&hellip;</td><td>&hellip;</td><td>&hellip;</td><td>&hellip;</td><td>&hellip;</td><td>&hellip;</td><td>&hellip;</td><td>&hellip;</td><td>&hellip;</td><td>&hellip;</td><td>&hellip;</td><td>&hellip;</td><td>&hellip;</td></tr><tr><td>&quot;MULTIPOLYGON (…</td><td>&quot;BU03639410&quot;</td><td>&quot;Kantershof&quot;</td><td>&quot;WK036394&quot;</td><td>&quot;GM0363&quot;</td><td>&quot;Amsterdam&quot;</td><td>1</td><td>&quot;NEE&quot;</td><td>&quot;1104&quot;</td><td>1</td><td>2127</td><td>2</td><td>4595</td><td>2255</td><td>1195</td><td>1060</td><td>14</td><td>11</td><td>23</td><td>28</td><td>23</td><td>56</td><td>23</td><td>17</td><td>3</td><td>1265</td><td>60</td><td>14</td><td>26</td><td>1.8</td><td>14</td><td>57</td><td>1</td><td>4</td><td>27</td><td>1</td><td>25</td><td>&hellip;</td><td>0</td><td>0</td><td>0</td><td>0</td><td>0</td><td>0</td><td>12</td><td>6</td><td>0</td><td>3</td><td>0</td><td>0</td><td>0</td><td>0</td><td>0</td><td>0</td><td>0</td><td>0</td><td>0</td><td>0</td><td>0</td><td>0</td><td>1</td><td>0</td><td>0</td><td>0</td><td>0</td><td>0</td><td>16</td><td>0</td><td>0</td><td>0</td><td>0</td><td>2023-07-06</td><td>11</td><td>&quot;Tree&quot;</td><td>1</td></tr><tr><td>&quot;MULTIPOLYGON (…</td><td>&quot;BU03639410&quot;</td><td>&quot;Kantershof&quot;</td><td>&quot;WK036394&quot;</td><td>&quot;GM0363&quot;</td><td>&quot;Amsterdam&quot;</td><td>1</td><td>&quot;NEE&quot;</td><td>&quot;1104&quot;</td><td>1</td><td>2127</td><td>2</td><td>4595</td><td>2255</td><td>1195</td><td>1060</td><td>14</td><td>11</td><td>23</td><td>28</td><td>23</td><td>56</td><td>23</td><td>17</td><td>3</td><td>1265</td><td>60</td><td>14</td><td>26</td><td>1.8</td><td>14</td><td>57</td><td>1</td><td>4</td><td>27</td><td>1</td><td>25</td><td>&hellip;</td><td>0</td><td>0</td><td>0</td><td>0</td><td>0</td><td>0</td><td>12</td><td>6</td><td>0</td><td>3</td><td>0</td><td>0</td><td>0</td><td>0</td><td>0</td><td>0</td><td>0</td><td>0</td><td>0</td><td>0</td><td>0</td><td>0</td><td>1</td><td>0</td><td>0</td><td>0</td><td>0</td><td>0</td><td>16</td><td>0</td><td>0</td><td>0</td><td>0</td><td>2017-08-04</td><td>17</td><td>&quot;Tree&quot;</td><td>1</td></tr><tr><td>&quot;MULTIPOLYGON (…</td><td>&quot;BU03639410&quot;</td><td>&quot;Kantershof&quot;</td><td>&quot;WK036394&quot;</td><td>&quot;GM0363&quot;</td><td>&quot;Amsterdam&quot;</td><td>1</td><td>&quot;NEE&quot;</td><td>&quot;1104&quot;</td><td>1</td><td>2127</td><td>2</td><td>4595</td><td>2255</td><td>1195</td><td>1060</td><td>14</td><td>11</td><td>23</td><td>28</td><td>23</td><td>56</td><td>23</td><td>17</td><td>3</td><td>1265</td><td>60</td><td>14</td><td>26</td><td>1.8</td><td>14</td><td>57</td><td>1</td><td>4</td><td>27</td><td>1</td><td>25</td><td>&hellip;</td><td>0</td><td>0</td><td>0</td><td>0</td><td>0</td><td>0</td><td>12</td><td>6</td><td>0</td><td>3</td><td>0</td><td>0</td><td>0</td><td>0</td><td>0</td><td>0</td><td>0</td><td>0</td><td>0</td><td>0</td><td>0</td><td>0</td><td>1</td><td>0</td><td>0</td><td>0</td><td>0</td><td>0</td><td>16</td><td>0</td><td>0</td><td>0</td><td>0</td><td>2023-10-22</td><td>2</td><td>&quot;Tree&quot;</td><td>1</td></tr><tr><td>&quot;MULTIPOLYGON (…</td><td>&quot;BU03639410&quot;</td><td>&quot;Kantershof&quot;</td><td>&quot;WK036394&quot;</td><td>&quot;GM0363&quot;</td><td>&quot;Amsterdam&quot;</td><td>1</td><td>&quot;NEE&quot;</td><td>&quot;1104&quot;</td><td>1</td><td>2127</td><td>2</td><td>4595</td><td>2255</td><td>1195</td><td>1060</td><td>14</td><td>11</td><td>23</td><td>28</td><td>23</td><td>56</td><td>23</td><td>17</td><td>3</td><td>1265</td><td>60</td><td>14</td><td>26</td><td>1.8</td><td>14</td><td>57</td><td>1</td><td>4</td><td>27</td><td>1</td><td>25</td><td>&hellip;</td><td>0</td><td>0</td><td>0</td><td>0</td><td>0</td><td>0</td><td>12</td><td>6</td><td>0</td><td>3</td><td>0</td><td>0</td><td>0</td><td>0</td><td>0</td><td>0</td><td>0</td><td>0</td><td>0</td><td>0</td><td>0</td><td>0</td><td>1</td><td>0</td><td>0</td><td>0</td><td>0</td><td>0</td><td>16</td><td>0</td><td>0</td><td>0</td><td>0</td><td>2018-01-18</td><td>10</td><td>&quot;Building&quot;</td><td>1</td></tr><tr><td>&quot;MULTIPOLYGON (…</td><td>&quot;BU03639410&quot;</td><td>&quot;Kantershof&quot;</td><td>&quot;WK036394&quot;</td><td>&quot;GM0363&quot;</td><td>&quot;Amsterdam&quot;</td><td>1</td><td>&quot;NEE&quot;</td><td>&quot;1104&quot;</td><td>1</td><td>2127</td><td>2</td><td>4595</td><td>2255</td><td>1195</td><td>1060</td><td>14</td><td>11</td><td>23</td><td>28</td><td>23</td><td>56</td><td>23</td><td>17</td><td>3</td><td>1265</td><td>60</td><td>14</td><td>26</td><td>1.8</td><td>14</td><td>57</td><td>1</td><td>4</td><td>27</td><td>1</td><td>25</td><td>&hellip;</td><td>0</td><td>0</td><td>0</td><td>0</td><td>0</td><td>0</td><td>12</td><td>6</td><td>0</td><td>3</td><td>0</td><td>0</td><td>0</td><td>0</td><td>0</td><td>0</td><td>0</td><td>0</td><td>0</td><td>0</td><td>0</td><td>0</td><td>1</td><td>0</td><td>0</td><td>0</td><td>0</td><td>0</td><td>16</td><td>0</td><td>0</td><td>0</td><td>0</td><td>2023-07-05</td><td>9</td><td>&quot;Tree&quot;</td><td>2</td></tr><tr><td>&quot;MULTIPOLYGON (…</td><td>&quot;BU03631200&quot;</td><td>&quot;Houthavens Wes…</td><td>&quot;WK036312&quot;</td><td>&quot;GM0363&quot;</td><td>&quot;Amsterdam&quot;</td><td>1</td><td>&quot;NEE&quot;</td><td>&quot;1014&quot;</td><td>3</td><td>3485</td><td>1</td><td>9848</td><td>3735</td><td>1895</td><td>1840</td><td>23</td><td>5</td><td>41</td><td>24</td><td>8</td><td>63</td><td>30</td><td>5</td><td>2</td><td>1690</td><td>37</td><td>27</td><td>35</td><td>2.2</td><td>23</td><td>16</td><td>2</td><td>1</td><td>2</td><td>2</td><td>9</td><td>&hellip;</td><td>null</td><td>null</td><td>null</td><td>null</td><td>null</td><td>null</td><td>null</td><td>null</td><td>null</td><td>null</td><td>null</td><td>null</td><td>null</td><td>null</td><td>null</td><td>null</td><td>null</td><td>null</td><td>null</td><td>null</td><td>null</td><td>null</td><td>null</td><td>null</td><td>null</td><td>null</td><td>null</td><td>null</td><td>null</td><td>null</td><td>null</td><td>null</td><td>null</td><td>2019-06-08</td><td>16</td><td>&quot;Tree&quot;</td><td>1</td></tr><tr><td>&quot;MULTIPOLYGON (…</td><td>&quot;BU03631200&quot;</td><td>&quot;Houthavens Wes…</td><td>&quot;WK036312&quot;</td><td>&quot;GM0363&quot;</td><td>&quot;Amsterdam&quot;</td><td>1</td><td>&quot;NEE&quot;</td><td>&quot;1014&quot;</td><td>3</td><td>3485</td><td>1</td><td>9848</td><td>3735</td><td>1895</td><td>1840</td><td>23</td><td>5</td><td>41</td><td>24</td><td>8</td><td>63</td><td>30</td><td>5</td><td>2</td><td>1690</td><td>37</td><td>27</td><td>35</td><td>2.2</td><td>23</td><td>16</td><td>2</td><td>1</td><td>2</td><td>2</td><td>9</td><td>&hellip;</td><td>null</td><td>null</td><td>null</td><td>null</td><td>null</td><td>null</td><td>null</td><td>null</td><td>null</td><td>null</td><td>null</td><td>null</td><td>null</td><td>null</td><td>null</td><td>null</td><td>null</td><td>null</td><td>null</td><td>null</td><td>null</td><td>null</td><td>null</td><td>null</td><td>null</td><td>null</td><td>null</td><td>null</td><td>null</td><td>null</td><td>null</td><td>null</td><td>null</td><td>2023-09-08</td><td>0</td><td>&quot;Building&quot;</td><td>1</td></tr><tr><td>&quot;MULTIPOLYGON (…</td><td>&quot;BU03631200&quot;</td><td>&quot;Houthavens Wes…</td><td>&quot;WK036312&quot;</td><td>&quot;GM0363&quot;</td><td>&quot;Amsterdam&quot;</td><td>1</td><td>&quot;NEE&quot;</td><td>&quot;1014&quot;</td><td>3</td><td>3485</td><td>1</td><td>9848</td><td>3735</td><td>1895</td><td>1840</td><td>23</td><td>5</td><td>41</td><td>24</td><td>8</td><td>63</td><td>30</td><td>5</td><td>2</td><td>1690</td><td>37</td><td>27</td><td>35</td><td>2.2</td><td>23</td><td>16</td><td>2</td><td>1</td><td>2</td><td>2</td><td>9</td><td>&hellip;</td><td>null</td><td>null</td><td>null</td><td>null</td><td>null</td><td>null</td><td>null</td><td>null</td><td>null</td><td>null</td><td>null</td><td>null</td><td>null</td><td>null</td><td>null</td><td>null</td><td>null</td><td>null</td><td>null</td><td>null</td><td>null</td><td>null</td><td>null</td><td>null</td><td>null</td><td>null</td><td>null</td><td>null</td><td>null</td><td>null</td><td>null</td><td>null</td><td>null</td><td>2022-02-19</td><td>16</td><td>&quot;Building&quot;</td><td>1</td></tr><tr><td>&quot;MULTIPOLYGON (…</td><td>&quot;BU03631200&quot;</td><td>&quot;Houthavens Wes…</td><td>&quot;WK036312&quot;</td><td>&quot;GM0363&quot;</td><td>&quot;Amsterdam&quot;</td><td>1</td><td>&quot;NEE&quot;</td><td>&quot;1014&quot;</td><td>3</td><td>3485</td><td>1</td><td>9848</td><td>3735</td><td>1895</td><td>1840</td><td>23</td><td>5</td><td>41</td><td>24</td><td>8</td><td>63</td><td>30</td><td>5</td><td>2</td><td>1690</td><td>37</td><td>27</td><td>35</td><td>2.2</td><td>23</td><td>16</td><td>2</td><td>1</td><td>2</td><td>2</td><td>9</td><td>&hellip;</td><td>null</td><td>null</td><td>null</td><td>null</td><td>null</td><td>null</td><td>null</td><td>null</td><td>null</td><td>null</td><td>null</td><td>null</td><td>null</td><td>null</td><td>null</td><td>null</td><td>null</td><td>null</td><td>null</td><td>null</td><td>null</td><td>null</td><td>null</td><td>null</td><td>null</td><td>null</td><td>null</td><td>null</td><td>null</td><td>null</td><td>null</td><td>null</td><td>null</td><td>2022-02-20</td><td>11</td><td>&quot;Fence, Road si…</td><td>1</td></tr><tr><td>&quot;MULTIPOLYGON (…</td><td>&quot;BU03631200&quot;</td><td>&quot;Houthavens Wes…</td><td>&quot;WK036312&quot;</td><td>&quot;GM0363&quot;</td><td>&quot;Amsterdam&quot;</td><td>1</td><td>&quot;NEE&quot;</td><td>&quot;1014&quot;</td><td>3</td><td>3485</td><td>1</td><td>9848</td><td>3735</td><td>1895</td><td>1840</td><td>23</td><td>5</td><td>41</td><td>24</td><td>8</td><td>63</td><td>30</td><td>5</td><td>2</td><td>1690</td><td>37</td><td>27</td><td>35</td><td>2.2</td><td>23</td><td>16</td><td>2</td><td>1</td><td>2</td><td>2</td><td>9</td><td>&hellip;</td><td>null</td><td>null</td><td>null</td><td>null</td><td>null</td><td>null</td><td>null</td><td>null</td><td>null</td><td>null</td><td>null</td><td>null</td><td>null</td><td>null</td><td>null</td><td>null</td><td>null</td><td>null</td><td>null</td><td>null</td><td>null</td><td>null</td><td>null</td><td>null</td><td>null</td><td>null</td><td>null</td><td>null</td><td>null</td><td>null</td><td>null</td><td>null</td><td>null</td><td>2020-12-27</td><td>12</td><td>&quot;Building&quot;</td><td>1</td></tr><tr><td>&quot;MULTIPOLYGON (…</td><td>&quot;BU03631200&quot;</td><td>&quot;Houthavens Wes…</td><td>&quot;WK036312&quot;</td><td>&quot;GM0363&quot;</td><td>&quot;Amsterdam&quot;</td><td>1</td><td>&quot;NEE&quot;</td><td>&quot;1014&quot;</td><td>3</td><td>3485</td><td>1</td><td>9848</td><td>3735</td><td>1895</td><td>1840</td><td>23</td><td>5</td><td>41</td><td>24</td><td>8</td><td>63</td><td>30</td><td>5</td><td>2</td><td>1690</td><td>37</td><td>27</td><td>35</td><td>2.2</td><td>23</td><td>16</td><td>2</td><td>1</td><td>2</td><td>2</td><td>9</td><td>&hellip;</td><td>null</td><td>null</td><td>null</td><td>null</td><td>null</td><td>null</td><td>null</td><td>null</td><td>null</td><td>null</td><td>null</td><td>null</td><td>null</td><td>null</td><td>null</td><td>null</td><td>null</td><td>null</td><td>null</td><td>null</td><td>null</td><td>null</td><td>null</td><td>null</td><td>null</td><td>null</td><td>null</td><td>null</td><td>null</td><td>null</td><td>null</td><td>null</td><td>null</td><td>2018-12-15</td><td>17</td><td>&quot;Building&quot;</td><td>1</td></tr><tr><td>&quot;MULTIPOLYGON (…</td><td>&quot;BU03631200&quot;</td><td>&quot;Houthavens Wes…</td><td>&quot;WK036312&quot;</td><td>&quot;GM0363&quot;</td><td>&quot;Amsterdam&quot;</td><td>1</td><td>&quot;NEE&quot;</td><td>&quot;1014&quot;</td><td>3</td><td>3485</td><td>1</td><td>9848</td><td>3735</td><td>1895</td><td>1840</td><td>23</td><td>5</td><td>41</td><td>24</td><td>8</td><td>63</td><td>30</td><td>5</td><td>2</td><td>1690</td><td>37</td><td>27</td><td>35</td><td>2.2</td><td>23</td><td>16</td><td>2</td><td>1</td><td>2</td><td>2</td><td>9</td><td>&hellip;</td><td>null</td><td>null</td><td>null</td><td>null</td><td>null</td><td>null</td><td>null</td><td>null</td><td>null</td><td>null</td><td>null</td><td>null</td><td>null</td><td>null</td><td>null</td><td>null</td><td>null</td><td>null</td><td>null</td><td>null</td><td>null</td><td>null</td><td>null</td><td>null</td><td>null</td><td>null</td><td>null</td><td>null</td><td>null</td><td>null</td><td>null</td><td>null</td><td>null</td><td>2020-02-09</td><td>12</td><td>&quot;Unknown&quot;</td><td>1</td></tr></tbody></table></div>"
      ],
      "text/plain": [
       "shape: (5_067, 254)\n",
       "┌───────────┬───────────┬───────────┬──────────┬───┬───────────┬───────────┬───────────┬───────────┐\n",
       "│ geometry  ┆ buurtcode ┆ buurtnaam ┆ wijkcode ┆ … ┆ Incidents ┆ Incidents ┆ Incidents ┆ Incidents │\n",
       "│ ---       ┆ ---       ┆ ---       ┆ ---      ┆   ┆ _Date     ┆ _Incident ┆ _Damage_T ┆ _Total    │\n",
       "│ str       ┆ str       ┆ str       ┆ str      ┆   ┆ ---       ┆ _Starttim ┆ ype       ┆ ---       │\n",
       "│           ┆           ┆           ┆          ┆   ┆ date      ┆ e_Hou…    ┆ ---       ┆ u32       │\n",
       "│           ┆           ┆           ┆          ┆   ┆           ┆ ---       ┆ str       ┆           │\n",
       "│           ┆           ┆           ┆          ┆   ┆           ┆ i8        ┆           ┆           │\n",
       "╞═══════════╪═══════════╪═══════════╪══════════╪═══╪═══════════╪═══════════╪═══════════╪═══════════╡\n",
       "│ MULTIPOLY ┆ BU0479213 ┆ Het       ┆ WK047921 ┆ … ┆ null      ┆ null      ┆ null      ┆ null      │\n",
       "│ GON (((4. ┆ 0         ┆ Eiland    ┆          ┆   ┆           ┆           ┆           ┆           │\n",
       "│ 827521460 ┆           ┆           ┆          ┆   ┆           ┆           ┆           ┆           │\n",
       "│ 30760…    ┆           ┆           ┆          ┆   ┆           ┆           ┆           ┆           │\n",
       "│ MULTIPOLY ┆ BU0479612 ┆ Noorderho ┆ WK047961 ┆ … ┆ null      ┆ null      ┆ null      ┆ null      │\n",
       "│ GON (((4. ┆ 0         ┆ ofdbuurt  ┆          ┆   ┆           ┆           ┆           ┆           │\n",
       "│ 772289929 ┆           ┆           ┆          ┆   ┆           ┆           ┆           ┆           │\n",
       "│ 38171…    ┆           ┆           ┆          ┆   ┆           ┆           ┆           ┆           │\n",
       "│ MULTIPOLY ┆ BU0362040 ┆ Stadshart ┆ WK036204 ┆ … ┆ 2023-03-1 ┆ 15        ┆ Building  ┆ 1         │\n",
       "│ GON (((4. ┆ 1         ┆           ┆          ┆   ┆ 3         ┆           ┆           ┆           │\n",
       "│ 857296557 ┆           ┆           ┆          ┆   ┆           ┆           ┆           ┆           │\n",
       "│ 88993…    ┆           ┆           ┆          ┆   ┆           ┆           ┆           ┆           │\n",
       "│ MULTIPOLY ┆ BU0362040 ┆ Stadshart ┆ WK036204 ┆ … ┆ 2022-02-1 ┆ 15        ┆ Fence,    ┆ 1         │\n",
       "│ GON (((4. ┆ 1         ┆           ┆          ┆   ┆ 8         ┆           ┆ Road      ┆           │\n",
       "│ 857296557 ┆           ┆           ┆          ┆   ┆           ┆           ┆ signs,    ┆           │\n",
       "│ 88993…    ┆           ┆           ┆          ┆   ┆           ┆           ┆ Scaffoldi ┆           │\n",
       "│           ┆           ┆           ┆          ┆   ┆           ┆           ┆ ng        ┆           │\n",
       "│ MULTIPOLY ┆ BU0362040 ┆ Stadshart ┆ WK036204 ┆ … ┆ 2019-03-0 ┆ 23        ┆ Unknown   ┆ 1         │\n",
       "│ GON (((4. ┆ 1         ┆           ┆          ┆   ┆ 7         ┆           ┆           ┆           │\n",
       "│ 857296557 ┆           ┆           ┆          ┆   ┆           ┆           ┆           ┆           │\n",
       "│ 88993…    ┆           ┆           ┆          ┆   ┆           ┆           ┆           ┆           │\n",
       "│ …         ┆ …         ┆ …         ┆ …        ┆ … ┆ …         ┆ …         ┆ …         ┆ …         │\n",
       "│ MULTIPOLY ┆ BU0363120 ┆ Houthaven ┆ WK036312 ┆ … ┆ 2022-02-1 ┆ 16        ┆ Building  ┆ 1         │\n",
       "│ GON (((4. ┆ 0         ┆ s West    ┆          ┆   ┆ 9         ┆           ┆           ┆           │\n",
       "│ 889769123 ┆           ┆           ┆          ┆   ┆           ┆           ┆           ┆           │\n",
       "│ 64762…    ┆           ┆           ┆          ┆   ┆           ┆           ┆           ┆           │\n",
       "│ MULTIPOLY ┆ BU0363120 ┆ Houthaven ┆ WK036312 ┆ … ┆ 2022-02-2 ┆ 11        ┆ Fence,    ┆ 1         │\n",
       "│ GON (((4. ┆ 0         ┆ s West    ┆          ┆   ┆ 0         ┆           ┆ Road      ┆           │\n",
       "│ 889769123 ┆           ┆           ┆          ┆   ┆           ┆           ┆ signs,    ┆           │\n",
       "│ 64762…    ┆           ┆           ┆          ┆   ┆           ┆           ┆ Scaffoldi ┆           │\n",
       "│           ┆           ┆           ┆          ┆   ┆           ┆           ┆ ng        ┆           │\n",
       "│ MULTIPOLY ┆ BU0363120 ┆ Houthaven ┆ WK036312 ┆ … ┆ 2020-12-2 ┆ 12        ┆ Building  ┆ 1         │\n",
       "│ GON (((4. ┆ 0         ┆ s West    ┆          ┆   ┆ 7         ┆           ┆           ┆           │\n",
       "│ 889769123 ┆           ┆           ┆          ┆   ┆           ┆           ┆           ┆           │\n",
       "│ 64762…    ┆           ┆           ┆          ┆   ┆           ┆           ┆           ┆           │\n",
       "│ MULTIPOLY ┆ BU0363120 ┆ Houthaven ┆ WK036312 ┆ … ┆ 2018-12-1 ┆ 17        ┆ Building  ┆ 1         │\n",
       "│ GON (((4. ┆ 0         ┆ s West    ┆          ┆   ┆ 5         ┆           ┆           ┆           │\n",
       "│ 889769123 ┆           ┆           ┆          ┆   ┆           ┆           ┆           ┆           │\n",
       "│ 64762…    ┆           ┆           ┆          ┆   ┆           ┆           ┆           ┆           │\n",
       "│ MULTIPOLY ┆ BU0363120 ┆ Houthaven ┆ WK036312 ┆ … ┆ 2020-02-0 ┆ 12        ┆ Unknown   ┆ 1         │\n",
       "│ GON (((4. ┆ 0         ┆ s West    ┆          ┆   ┆ 9         ┆           ┆           ┆           │\n",
       "│ 889769123 ┆           ┆           ┆          ┆   ┆           ┆           ┆           ┆           │\n",
       "│ 64762…    ┆           ┆           ┆          ┆   ┆           ┆           ┆           ┆           │\n",
       "└───────────┴───────────┴───────────┴──────────┴───┴───────────┴───────────┴───────────┴───────────┘"
      ]
     },
     "execution_count": 3,
     "metadata": {},
     "output_type": "execute_result"
    }
   ],
   "source": [
    "buurten_combined = pl.read_parquet(\"../dsp-dagster/data/buurten_combined.parquet\")\n",
    "buurten_combined = buurten_combined.with_columns(pl.col(\"Incidents_Date\").cast(pl.Date))\n",
    "buurten_combined"
   ]
  },
  {
   "cell_type": "code",
   "execution_count": 4,
   "metadata": {},
   "outputs": [
    {
     "data": {
      "text/html": [
       "<div><style>\n",
       ".dataframe > thead > tr,\n",
       ".dataframe > tbody > tr {\n",
       "  text-align: right;\n",
       "  white-space: pre-wrap;\n",
       "}\n",
       "</style>\n",
       "<small>shape: (158_172, 25)</small><table border=\"1\" class=\"dataframe\"><thead><tr><th>STN</th><th>YYYYMMDD</th><th>HH</th><th>DD</th><th>FH</th><th>FF</th><th>FX</th><th>T</th><th>T10N</th><th>TD</th><th>SQ</th><th>Q</th><th>DR</th><th>RH</th><th>P</th><th>VV</th><th>N</th><th>U</th><th>WW</th><th>IX</th><th>M</th><th>R</th><th>S</th><th>O</th><th>Y</th></tr><tr><td>i64</td><td>date</td><td>i8</td><td>i64</td><td>i64</td><td>i64</td><td>i64</td><td>i64</td><td>str</td><td>i64</td><td>i64</td><td>i64</td><td>i64</td><td>i64</td><td>i64</td><td>i64</td><td>i64</td><td>i64</td><td>str</td><td>i64</td><td>i64</td><td>i64</td><td>i64</td><td>i64</td><td>i64</td></tr></thead><tbody><tr><td>240</td><td>2024-01-22</td><td>18</td><td>240</td><td>100</td><td>100</td><td>160</td><td>85</td><td>&quot;   76&quot;</td><td>48</td><td>0</td><td>0</td><td>0</td><td>0</td><td>10099</td><td>65</td><td>0</td><td>77</td><td>&quot;     &quot;</td><td>7</td><td>0</td><td>0</td><td>0</td><td>0</td><td>0</td></tr><tr><td>240</td><td>2024-01-22</td><td>17</td><td>240</td><td>100</td><td>100</td><td>160</td><td>87</td><td>&quot;     &quot;</td><td>44</td><td>0</td><td>0</td><td>0</td><td>0</td><td>10090</td><td>66</td><td>1</td><td>74</td><td>&quot;     &quot;</td><td>5</td><td>0</td><td>0</td><td>0</td><td>0</td><td>0</td></tr><tr><td>240</td><td>2024-01-22</td><td>16</td><td>240</td><td>110</td><td>110</td><td>160</td><td>90</td><td>&quot;     &quot;</td><td>48</td><td>3</td><td>13</td><td>0</td><td>0</td><td>10085</td><td>65</td><td>6</td><td>75</td><td>&quot;     &quot;</td><td>5</td><td>0</td><td>0</td><td>0</td><td>0</td><td>0</td></tr><tr><td>240</td><td>2024-01-22</td><td>15</td><td>240</td><td>120</td><td>120</td><td>190</td><td>94</td><td>&quot;     &quot;</td><td>50</td><td>10</td><td>43</td><td>0</td><td>0</td><td>10073</td><td>64</td><td>2</td><td>74</td><td>&quot;     &quot;</td><td>5</td><td>0</td><td>0</td><td>0</td><td>0</td><td>0</td></tr><tr><td>240</td><td>2024-01-22</td><td>14</td><td>240</td><td>130</td><td>130</td><td>190</td><td>98</td><td>&quot;     &quot;</td><td>52</td><td>10</td><td>79</td><td>0</td><td>0</td><td>10069</td><td>66</td><td>5</td><td>73</td><td>&quot;     &quot;</td><td>5</td><td>0</td><td>0</td><td>0</td><td>0</td><td>0</td></tr><tr><td>240</td><td>2024-01-22</td><td>13</td><td>240</td><td>120</td><td>120</td><td>200</td><td>100</td><td>&quot;     &quot;</td><td>57</td><td>10</td><td>97</td><td>0</td><td>0</td><td>10065</td><td>64</td><td>1</td><td>74</td><td>&quot;     &quot;</td><td>5</td><td>0</td><td>0</td><td>0</td><td>0</td><td>0</td></tr><tr><td>240</td><td>2024-01-22</td><td>12</td><td>250</td><td>120</td><td>120</td><td>180</td><td>104</td><td>&quot;   89&quot;</td><td>63</td><td>10</td><td>101</td><td>0</td><td>0</td><td>10060</td><td>65</td><td>0</td><td>76</td><td>&quot;    2&quot;</td><td>7</td><td>0</td><td>0</td><td>0</td><td>0</td><td>0</td></tr><tr><td>240</td><td>2024-01-22</td><td>11</td><td>250</td><td>120</td><td>130</td><td>190</td><td>101</td><td>&quot;     &quot;</td><td>71</td><td>10</td><td>82</td><td>0</td><td>0</td><td>10050</td><td>63</td><td>1</td><td>81</td><td>&quot;     &quot;</td><td>7</td><td>0</td><td>0</td><td>0</td><td>0</td><td>0</td></tr><tr><td>240</td><td>2024-01-22</td><td>10</td><td>240</td><td>100</td><td>100</td><td>160</td><td>96</td><td>&quot;     &quot;</td><td>73</td><td>0</td><td>18</td><td>0</td><td>-1</td><td>10042</td><td>60</td><td>7</td><td>85</td><td>&quot;   23&quot;</td><td>7</td><td>0</td><td>1</td><td>0</td><td>0</td><td>0</td></tr><tr><td>240</td><td>2024-01-22</td><td>9</td><td>240</td><td>120</td><td>120</td><td>190</td><td>105</td><td>&quot;     &quot;</td><td>84</td><td>0</td><td>3</td><td>0</td><td>-1</td><td>10032</td><td>58</td><td>8</td><td>86</td><td>&quot;   22&quot;</td><td>7</td><td>0</td><td>1</td><td>0</td><td>0</td><td>0</td></tr><tr><td>240</td><td>2024-01-22</td><td>8</td><td>240</td><td>140</td><td>150</td><td>220</td><td>111</td><td>&quot;     &quot;</td><td>95</td><td>0</td><td>0</td><td>3</td><td>1</td><td>10020</td><td>56</td><td>8</td><td>90</td><td>&quot;   52&quot;</td><td>7</td><td>0</td><td>1</td><td>0</td><td>0</td><td>0</td></tr><tr><td>240</td><td>2024-01-22</td><td>7</td><td>230</td><td>160</td><td>150</td><td>240</td><td>116</td><td>&quot;     &quot;</td><td>90</td><td>0</td><td>0</td><td>0</td><td>0</td><td>10011</td><td>62</td><td>8</td><td>84</td><td>&quot;     &quot;</td><td>5</td><td>0</td><td>0</td><td>0</td><td>0</td><td>0</td></tr><tr><td>&hellip;</td><td>&hellip;</td><td>&hellip;</td><td>&hellip;</td><td>&hellip;</td><td>&hellip;</td><td>&hellip;</td><td>&hellip;</td><td>&hellip;</td><td>&hellip;</td><td>&hellip;</td><td>&hellip;</td><td>&hellip;</td><td>&hellip;</td><td>&hellip;</td><td>&hellip;</td><td>&hellip;</td><td>&hellip;</td><td>&hellip;</td><td>&hellip;</td><td>&hellip;</td><td>&hellip;</td><td>&hellip;</td><td>&hellip;</td><td>&hellip;</td></tr><tr><td>240</td><td>2005-01-01</td><td>12</td><td>200</td><td>60</td><td>60</td><td>80</td><td>71</td><td>&quot;   26&quot;</td><td>51</td><td>0</td><td>31</td><td>0</td><td>0</td><td>10204</td><td>62</td><td>8</td><td>87</td><td>&quot;    2&quot;</td><td>7</td><td>0</td><td>0</td><td>0</td><td>0</td><td>0</td></tr><tr><td>240</td><td>2005-01-01</td><td>11</td><td>210</td><td>50</td><td>50</td><td>70</td><td>68</td><td>&quot;     &quot;</td><td>47</td><td>0</td><td>18</td><td>0</td><td>0</td><td>10216</td><td>64</td><td>8</td><td>86</td><td>&quot;     &quot;</td><td>5</td><td>0</td><td>0</td><td>0</td><td>0</td><td>0</td></tr><tr><td>240</td><td>2005-01-01</td><td>10</td><td>200</td><td>50</td><td>40</td><td>60</td><td>61</td><td>&quot;     &quot;</td><td>55</td><td>0</td><td>12</td><td>0</td><td>0</td><td>10223</td><td>57</td><td>8</td><td>96</td><td>&quot;   10&quot;</td><td>7</td><td>0</td><td>0</td><td>0</td><td>0</td><td>0</td></tr><tr><td>240</td><td>2005-01-01</td><td>9</td><td>200</td><td>50</td><td>50</td><td>70</td><td>55</td><td>&quot;     &quot;</td><td>51</td><td>0</td><td>5</td><td>0</td><td>0</td><td>10229</td><td>41</td><td>8</td><td>97</td><td>&quot;   10&quot;</td><td>7</td><td>0</td><td>0</td><td>0</td><td>0</td><td>0</td></tr><tr><td>240</td><td>2005-01-01</td><td>8</td><td>200</td><td>50</td><td>50</td><td>70</td><td>49</td><td>&quot;     &quot;</td><td>46</td><td>0</td><td>0</td><td>0</td><td>0</td><td>10231</td><td>35</td><td>8</td><td>98</td><td>&quot;   10&quot;</td><td>7</td><td>0</td><td>0</td><td>0</td><td>0</td><td>0</td></tr><tr><td>240</td><td>2005-01-01</td><td>7</td><td>200</td><td>40</td><td>50</td><td>60</td><td>40</td><td>&quot;     &quot;</td><td>38</td><td>0</td><td>0</td><td>0</td><td>0</td><td>10230</td><td>14</td><td>3</td><td>99</td><td>&quot;   20&quot;</td><td>7</td><td>1</td><td>0</td><td>0</td><td>0</td><td>0</td></tr><tr><td>240</td><td>2005-01-01</td><td>6</td><td>200</td><td>40</td><td>40</td><td>50</td><td>32</td><td>&quot;   21&quot;</td><td>29</td><td>0</td><td>0</td><td>0</td><td>0</td><td>10235</td><td>25</td><td>0</td><td>98</td><td>&quot;   10&quot;</td><td>7</td><td>0</td><td>0</td><td>0</td><td>0</td><td>0</td></tr><tr><td>240</td><td>2005-01-01</td><td>5</td><td>230</td><td>40</td><td>40</td><td>50</td><td>38</td><td>&quot;     &quot;</td><td>34</td><td>0</td><td>0</td><td>0</td><td>0</td><td>10237</td><td>14</td><td>3</td><td>97</td><td>&quot;   10&quot;</td><td>7</td><td>0</td><td>0</td><td>0</td><td>0</td><td>0</td></tr><tr><td>240</td><td>2005-01-01</td><td>4</td><td>220</td><td>40</td><td>40</td><td>50</td><td>38</td><td>&quot;     &quot;</td><td>32</td><td>0</td><td>0</td><td>0</td><td>0</td><td>10239</td><td>12</td><td>0</td><td>96</td><td>&quot;   10&quot;</td><td>7</td><td>0</td><td>0</td><td>0</td><td>0</td><td>0</td></tr><tr><td>240</td><td>2005-01-01</td><td>3</td><td>230</td><td>40</td><td>30</td><td>50</td><td>43</td><td>&quot;     &quot;</td><td>34</td><td>0</td><td>0</td><td>0</td><td>0</td><td>10241</td><td>40</td><td>1</td><td>94</td><td>&quot;   10&quot;</td><td>7</td><td>0</td><td>0</td><td>0</td><td>0</td><td>0</td></tr><tr><td>240</td><td>2005-01-01</td><td>2</td><td>230</td><td>30</td><td>30</td><td>60</td><td>65</td><td>&quot;     &quot;</td><td>52</td><td>0</td><td>0</td><td>0</td><td>0</td><td>10244</td><td>58</td><td>8</td><td>91</td><td>&quot;   10&quot;</td><td>7</td><td>0</td><td>0</td><td>0</td><td>0</td><td>0</td></tr><tr><td>240</td><td>2005-01-01</td><td>1</td><td>260</td><td>40</td><td>30</td><td>60</td><td>68</td><td>&quot;     &quot;</td><td>57</td><td>0</td><td>0</td><td>0</td><td>0</td><td>10246</td><td>57</td><td>8</td><td>93</td><td>&quot;   10&quot;</td><td>7</td><td>0</td><td>0</td><td>0</td><td>0</td><td>0</td></tr></tbody></table></div>"
      ],
      "text/plain": [
       "shape: (158_172, 25)\n",
       "┌─────┬────────────┬─────┬─────┬───┬─────┬─────┬─────┬─────┐\n",
       "│ STN ┆ YYYYMMDD   ┆ HH  ┆ DD  ┆ … ┆ R   ┆ S   ┆ O   ┆ Y   │\n",
       "│ --- ┆ ---        ┆ --- ┆ --- ┆   ┆ --- ┆ --- ┆ --- ┆ --- │\n",
       "│ i64 ┆ date       ┆ i8  ┆ i64 ┆   ┆ i64 ┆ i64 ┆ i64 ┆ i64 │\n",
       "╞═════╪════════════╪═════╪═════╪═══╪═════╪═════╪═════╪═════╡\n",
       "│ 240 ┆ 2024-01-22 ┆ 18  ┆ 240 ┆ … ┆ 0   ┆ 0   ┆ 0   ┆ 0   │\n",
       "│ 240 ┆ 2024-01-22 ┆ 17  ┆ 240 ┆ … ┆ 0   ┆ 0   ┆ 0   ┆ 0   │\n",
       "│ 240 ┆ 2024-01-22 ┆ 16  ┆ 240 ┆ … ┆ 0   ┆ 0   ┆ 0   ┆ 0   │\n",
       "│ 240 ┆ 2024-01-22 ┆ 15  ┆ 240 ┆ … ┆ 0   ┆ 0   ┆ 0   ┆ 0   │\n",
       "│ 240 ┆ 2024-01-22 ┆ 14  ┆ 240 ┆ … ┆ 0   ┆ 0   ┆ 0   ┆ 0   │\n",
       "│ …   ┆ …          ┆ …   ┆ …   ┆ … ┆ …   ┆ …   ┆ …   ┆ …   │\n",
       "│ 240 ┆ 2005-01-01 ┆ 5   ┆ 230 ┆ … ┆ 0   ┆ 0   ┆ 0   ┆ 0   │\n",
       "│ 240 ┆ 2005-01-01 ┆ 4   ┆ 220 ┆ … ┆ 0   ┆ 0   ┆ 0   ┆ 0   │\n",
       "│ 240 ┆ 2005-01-01 ┆ 3   ┆ 230 ┆ … ┆ 0   ┆ 0   ┆ 0   ┆ 0   │\n",
       "│ 240 ┆ 2005-01-01 ┆ 2   ┆ 230 ┆ … ┆ 0   ┆ 0   ┆ 0   ┆ 0   │\n",
       "│ 240 ┆ 2005-01-01 ┆ 1   ┆ 260 ┆ … ┆ 0   ┆ 0   ┆ 0   ┆ 0   │\n",
       "└─────┴────────────┴─────┴─────┴───┴─────┴─────┴─────┴─────┘"
      ]
     },
     "execution_count": 4,
     "metadata": {},
     "output_type": "execute_result"
    }
   ],
   "source": [
    "knmi_weather_data = pl.read_parquet(\"../dsp-dagster/data/knmi_weather_data.parquet\")\n",
    "knmi_weather_data"
   ]
  },
  {
   "cell_type": "code",
   "execution_count": 5,
   "metadata": {},
   "outputs": [],
   "source": [
    "knmi_weather_data_2023 = knmi_weather_data.filter(\n",
    "    pl.col(\"YYYYMMDD\") >= pl.datetime(2023, 1, 1)\n",
    ")"
   ]
  },
  {
   "cell_type": "code",
   "execution_count": 6,
   "metadata": {},
   "outputs": [],
   "source": [
    "buurten_combined_2023 = buurten_combined.filter(\n",
    "    pl.col(\"Incidents_Date\") >= pl.datetime(2023, 1, 1)\n",
    ")"
   ]
  },
  {
   "cell_type": "code",
   "execution_count": 7,
   "metadata": {},
   "outputs": [
    {
     "data": {
      "text/html": [
       "<div><style>\n",
       ".dataframe > thead > tr,\n",
       ".dataframe > tbody > tr {\n",
       "  text-align: right;\n",
       "  white-space: pre-wrap;\n",
       "}\n",
       "</style>\n",
       "<small>shape: (620, 1)</small><table border=\"1\" class=\"dataframe\"><thead><tr><th>buurtcode</th></tr><tr><td>str</td></tr></thead><tbody><tr><td>&quot;BU03633404&quot;</td></tr><tr><td>&quot;BU03637003&quot;</td></tr><tr><td>&quot;BU03630002&quot;</td></tr><tr><td>&quot;BU03635801&quot;</td></tr><tr><td>&quot;BU03633706&quot;</td></tr><tr><td>&quot;BU03636401&quot;</td></tr><tr><td>&quot;BU04798140&quot;</td></tr><tr><td>&quot;BU03634400&quot;</td></tr><tr><td>&quot;BU03639201&quot;</td></tr><tr><td>&quot;BU03635804&quot;</td></tr><tr><td>&quot;BU04798150&quot;</td></tr><tr><td>&quot;BU03638805&quot;</td></tr><tr><td>&hellip;</td></tr><tr><td>&quot;BU03631700&quot;</td></tr><tr><td>&quot;BU03635203&quot;</td></tr><tr><td>&quot;BU03638001&quot;</td></tr><tr><td>&quot;BU03635900&quot;</td></tr><tr><td>&quot;BU04791410&quot;</td></tr><tr><td>&quot;BU04791120&quot;</td></tr><tr><td>&quot;BU03621001&quot;</td></tr><tr><td>&quot;BU03630505&quot;</td></tr><tr><td>&quot;BU03637501&quot;</td></tr><tr><td>&quot;BU03635001&quot;</td></tr><tr><td>&quot;BU03620304&quot;</td></tr><tr><td>&quot;BU03630803&quot;</td></tr></tbody></table></div>"
      ],
      "text/plain": [
       "shape: (620, 1)\n",
       "┌────────────┐\n",
       "│ buurtcode  │\n",
       "│ ---        │\n",
       "│ str        │\n",
       "╞════════════╡\n",
       "│ BU03633404 │\n",
       "│ BU03637003 │\n",
       "│ BU03630002 │\n",
       "│ BU03635801 │\n",
       "│ BU03633706 │\n",
       "│ …          │\n",
       "│ BU03630505 │\n",
       "│ BU03637501 │\n",
       "│ BU03635001 │\n",
       "│ BU03620304 │\n",
       "│ BU03630803 │\n",
       "└────────────┘"
      ]
     },
     "execution_count": 7,
     "metadata": {},
     "output_type": "execute_result"
    }
   ],
   "source": [
    "distinct_buurten = buurten_combined.select(\"buurtcode\").unique()\n",
    "distinct_buurten"
   ]
  },
  {
   "cell_type": "code",
   "execution_count": 8,
   "metadata": {},
   "outputs": [
    {
     "data": {
      "text/html": [
       "<div><style>\n",
       ".dataframe > thead > tr,\n",
       ".dataframe > tbody > tr {\n",
       "  text-align: right;\n",
       "  white-space: pre-wrap;\n",
       "}\n",
       "</style>\n",
       "<small>shape: (4_318_920, 26)</small><table border=\"1\" class=\"dataframe\"><thead><tr><th>STN</th><th>YYYYMMDD</th><th>HH</th><th>DD</th><th>FH</th><th>FF</th><th>FX</th><th>T</th><th>T10N</th><th>TD</th><th>SQ</th><th>Q</th><th>DR</th><th>RH</th><th>P</th><th>VV</th><th>N</th><th>U</th><th>WW</th><th>IX</th><th>M</th><th>R</th><th>S</th><th>O</th><th>Y</th><th>buurtcode</th></tr><tr><td>i64</td><td>date</td><td>i8</td><td>i64</td><td>i64</td><td>i64</td><td>i64</td><td>i64</td><td>str</td><td>i64</td><td>i64</td><td>i64</td><td>i64</td><td>i64</td><td>i64</td><td>i64</td><td>i64</td><td>i64</td><td>str</td><td>i64</td><td>i64</td><td>i64</td><td>i64</td><td>i64</td><td>i64</td><td>str</td></tr></thead><tbody><tr><td>240</td><td>2024-01-22</td><td>18</td><td>240</td><td>100</td><td>100</td><td>160</td><td>85</td><td>&quot;   76&quot;</td><td>48</td><td>0</td><td>0</td><td>0</td><td>0</td><td>10099</td><td>65</td><td>0</td><td>77</td><td>&quot;     &quot;</td><td>7</td><td>0</td><td>0</td><td>0</td><td>0</td><td>0</td><td>&quot;BU03633404&quot;</td></tr><tr><td>240</td><td>2024-01-22</td><td>18</td><td>240</td><td>100</td><td>100</td><td>160</td><td>85</td><td>&quot;   76&quot;</td><td>48</td><td>0</td><td>0</td><td>0</td><td>0</td><td>10099</td><td>65</td><td>0</td><td>77</td><td>&quot;     &quot;</td><td>7</td><td>0</td><td>0</td><td>0</td><td>0</td><td>0</td><td>&quot;BU03637003&quot;</td></tr><tr><td>240</td><td>2024-01-22</td><td>18</td><td>240</td><td>100</td><td>100</td><td>160</td><td>85</td><td>&quot;   76&quot;</td><td>48</td><td>0</td><td>0</td><td>0</td><td>0</td><td>10099</td><td>65</td><td>0</td><td>77</td><td>&quot;     &quot;</td><td>7</td><td>0</td><td>0</td><td>0</td><td>0</td><td>0</td><td>&quot;BU03630002&quot;</td></tr><tr><td>240</td><td>2024-01-22</td><td>18</td><td>240</td><td>100</td><td>100</td><td>160</td><td>85</td><td>&quot;   76&quot;</td><td>48</td><td>0</td><td>0</td><td>0</td><td>0</td><td>10099</td><td>65</td><td>0</td><td>77</td><td>&quot;     &quot;</td><td>7</td><td>0</td><td>0</td><td>0</td><td>0</td><td>0</td><td>&quot;BU03635801&quot;</td></tr><tr><td>240</td><td>2024-01-22</td><td>18</td><td>240</td><td>100</td><td>100</td><td>160</td><td>85</td><td>&quot;   76&quot;</td><td>48</td><td>0</td><td>0</td><td>0</td><td>0</td><td>10099</td><td>65</td><td>0</td><td>77</td><td>&quot;     &quot;</td><td>7</td><td>0</td><td>0</td><td>0</td><td>0</td><td>0</td><td>&quot;BU03633706&quot;</td></tr><tr><td>240</td><td>2024-01-22</td><td>18</td><td>240</td><td>100</td><td>100</td><td>160</td><td>85</td><td>&quot;   76&quot;</td><td>48</td><td>0</td><td>0</td><td>0</td><td>0</td><td>10099</td><td>65</td><td>0</td><td>77</td><td>&quot;     &quot;</td><td>7</td><td>0</td><td>0</td><td>0</td><td>0</td><td>0</td><td>&quot;BU03636401&quot;</td></tr><tr><td>240</td><td>2024-01-22</td><td>18</td><td>240</td><td>100</td><td>100</td><td>160</td><td>85</td><td>&quot;   76&quot;</td><td>48</td><td>0</td><td>0</td><td>0</td><td>0</td><td>10099</td><td>65</td><td>0</td><td>77</td><td>&quot;     &quot;</td><td>7</td><td>0</td><td>0</td><td>0</td><td>0</td><td>0</td><td>&quot;BU04798140&quot;</td></tr><tr><td>240</td><td>2024-01-22</td><td>18</td><td>240</td><td>100</td><td>100</td><td>160</td><td>85</td><td>&quot;   76&quot;</td><td>48</td><td>0</td><td>0</td><td>0</td><td>0</td><td>10099</td><td>65</td><td>0</td><td>77</td><td>&quot;     &quot;</td><td>7</td><td>0</td><td>0</td><td>0</td><td>0</td><td>0</td><td>&quot;BU03634400&quot;</td></tr><tr><td>240</td><td>2024-01-22</td><td>18</td><td>240</td><td>100</td><td>100</td><td>160</td><td>85</td><td>&quot;   76&quot;</td><td>48</td><td>0</td><td>0</td><td>0</td><td>0</td><td>10099</td><td>65</td><td>0</td><td>77</td><td>&quot;     &quot;</td><td>7</td><td>0</td><td>0</td><td>0</td><td>0</td><td>0</td><td>&quot;BU03639201&quot;</td></tr><tr><td>240</td><td>2024-01-22</td><td>18</td><td>240</td><td>100</td><td>100</td><td>160</td><td>85</td><td>&quot;   76&quot;</td><td>48</td><td>0</td><td>0</td><td>0</td><td>0</td><td>10099</td><td>65</td><td>0</td><td>77</td><td>&quot;     &quot;</td><td>7</td><td>0</td><td>0</td><td>0</td><td>0</td><td>0</td><td>&quot;BU03635804&quot;</td></tr><tr><td>240</td><td>2024-01-22</td><td>18</td><td>240</td><td>100</td><td>100</td><td>160</td><td>85</td><td>&quot;   76&quot;</td><td>48</td><td>0</td><td>0</td><td>0</td><td>0</td><td>10099</td><td>65</td><td>0</td><td>77</td><td>&quot;     &quot;</td><td>7</td><td>0</td><td>0</td><td>0</td><td>0</td><td>0</td><td>&quot;BU04798150&quot;</td></tr><tr><td>240</td><td>2024-01-22</td><td>18</td><td>240</td><td>100</td><td>100</td><td>160</td><td>85</td><td>&quot;   76&quot;</td><td>48</td><td>0</td><td>0</td><td>0</td><td>0</td><td>10099</td><td>65</td><td>0</td><td>77</td><td>&quot;     &quot;</td><td>7</td><td>0</td><td>0</td><td>0</td><td>0</td><td>0</td><td>&quot;BU03638805&quot;</td></tr><tr><td>&hellip;</td><td>&hellip;</td><td>&hellip;</td><td>&hellip;</td><td>&hellip;</td><td>&hellip;</td><td>&hellip;</td><td>&hellip;</td><td>&hellip;</td><td>&hellip;</td><td>&hellip;</td><td>&hellip;</td><td>&hellip;</td><td>&hellip;</td><td>&hellip;</td><td>&hellip;</td><td>&hellip;</td><td>&hellip;</td><td>&hellip;</td><td>&hellip;</td><td>&hellip;</td><td>&hellip;</td><td>&hellip;</td><td>&hellip;</td><td>&hellip;</td><td>&hellip;</td></tr><tr><td>240</td><td>2023-01-01</td><td>1</td><td>220</td><td>110</td><td>110</td><td>150</td><td>138</td><td>&quot;     &quot;</td><td>92</td><td>0</td><td>0</td><td>0</td><td>-1</td><td>10057</td><td>69</td><td>8</td><td>73</td><td>&quot;   81&quot;</td><td>7</td><td>0</td><td>1</td><td>0</td><td>0</td><td>0</td><td>&quot;BU03631700&quot;</td></tr><tr><td>240</td><td>2023-01-01</td><td>1</td><td>220</td><td>110</td><td>110</td><td>150</td><td>138</td><td>&quot;     &quot;</td><td>92</td><td>0</td><td>0</td><td>0</td><td>-1</td><td>10057</td><td>69</td><td>8</td><td>73</td><td>&quot;   81&quot;</td><td>7</td><td>0</td><td>1</td><td>0</td><td>0</td><td>0</td><td>&quot;BU03635203&quot;</td></tr><tr><td>240</td><td>2023-01-01</td><td>1</td><td>220</td><td>110</td><td>110</td><td>150</td><td>138</td><td>&quot;     &quot;</td><td>92</td><td>0</td><td>0</td><td>0</td><td>-1</td><td>10057</td><td>69</td><td>8</td><td>73</td><td>&quot;   81&quot;</td><td>7</td><td>0</td><td>1</td><td>0</td><td>0</td><td>0</td><td>&quot;BU03638001&quot;</td></tr><tr><td>240</td><td>2023-01-01</td><td>1</td><td>220</td><td>110</td><td>110</td><td>150</td><td>138</td><td>&quot;     &quot;</td><td>92</td><td>0</td><td>0</td><td>0</td><td>-1</td><td>10057</td><td>69</td><td>8</td><td>73</td><td>&quot;   81&quot;</td><td>7</td><td>0</td><td>1</td><td>0</td><td>0</td><td>0</td><td>&quot;BU03635900&quot;</td></tr><tr><td>240</td><td>2023-01-01</td><td>1</td><td>220</td><td>110</td><td>110</td><td>150</td><td>138</td><td>&quot;     &quot;</td><td>92</td><td>0</td><td>0</td><td>0</td><td>-1</td><td>10057</td><td>69</td><td>8</td><td>73</td><td>&quot;   81&quot;</td><td>7</td><td>0</td><td>1</td><td>0</td><td>0</td><td>0</td><td>&quot;BU04791410&quot;</td></tr><tr><td>240</td><td>2023-01-01</td><td>1</td><td>220</td><td>110</td><td>110</td><td>150</td><td>138</td><td>&quot;     &quot;</td><td>92</td><td>0</td><td>0</td><td>0</td><td>-1</td><td>10057</td><td>69</td><td>8</td><td>73</td><td>&quot;   81&quot;</td><td>7</td><td>0</td><td>1</td><td>0</td><td>0</td><td>0</td><td>&quot;BU04791120&quot;</td></tr><tr><td>240</td><td>2023-01-01</td><td>1</td><td>220</td><td>110</td><td>110</td><td>150</td><td>138</td><td>&quot;     &quot;</td><td>92</td><td>0</td><td>0</td><td>0</td><td>-1</td><td>10057</td><td>69</td><td>8</td><td>73</td><td>&quot;   81&quot;</td><td>7</td><td>0</td><td>1</td><td>0</td><td>0</td><td>0</td><td>&quot;BU03621001&quot;</td></tr><tr><td>240</td><td>2023-01-01</td><td>1</td><td>220</td><td>110</td><td>110</td><td>150</td><td>138</td><td>&quot;     &quot;</td><td>92</td><td>0</td><td>0</td><td>0</td><td>-1</td><td>10057</td><td>69</td><td>8</td><td>73</td><td>&quot;   81&quot;</td><td>7</td><td>0</td><td>1</td><td>0</td><td>0</td><td>0</td><td>&quot;BU03630505&quot;</td></tr><tr><td>240</td><td>2023-01-01</td><td>1</td><td>220</td><td>110</td><td>110</td><td>150</td><td>138</td><td>&quot;     &quot;</td><td>92</td><td>0</td><td>0</td><td>0</td><td>-1</td><td>10057</td><td>69</td><td>8</td><td>73</td><td>&quot;   81&quot;</td><td>7</td><td>0</td><td>1</td><td>0</td><td>0</td><td>0</td><td>&quot;BU03637501&quot;</td></tr><tr><td>240</td><td>2023-01-01</td><td>1</td><td>220</td><td>110</td><td>110</td><td>150</td><td>138</td><td>&quot;     &quot;</td><td>92</td><td>0</td><td>0</td><td>0</td><td>-1</td><td>10057</td><td>69</td><td>8</td><td>73</td><td>&quot;   81&quot;</td><td>7</td><td>0</td><td>1</td><td>0</td><td>0</td><td>0</td><td>&quot;BU03635001&quot;</td></tr><tr><td>240</td><td>2023-01-01</td><td>1</td><td>220</td><td>110</td><td>110</td><td>150</td><td>138</td><td>&quot;     &quot;</td><td>92</td><td>0</td><td>0</td><td>0</td><td>-1</td><td>10057</td><td>69</td><td>8</td><td>73</td><td>&quot;   81&quot;</td><td>7</td><td>0</td><td>1</td><td>0</td><td>0</td><td>0</td><td>&quot;BU03620304&quot;</td></tr><tr><td>240</td><td>2023-01-01</td><td>1</td><td>220</td><td>110</td><td>110</td><td>150</td><td>138</td><td>&quot;     &quot;</td><td>92</td><td>0</td><td>0</td><td>0</td><td>-1</td><td>10057</td><td>69</td><td>8</td><td>73</td><td>&quot;   81&quot;</td><td>7</td><td>0</td><td>1</td><td>0</td><td>0</td><td>0</td><td>&quot;BU03630803&quot;</td></tr></tbody></table></div>"
      ],
      "text/plain": [
       "shape: (4_318_920, 26)\n",
       "┌─────┬────────────┬─────┬─────┬───┬─────┬─────┬─────┬────────────┐\n",
       "│ STN ┆ YYYYMMDD   ┆ HH  ┆ DD  ┆ … ┆ S   ┆ O   ┆ Y   ┆ buurtcode  │\n",
       "│ --- ┆ ---        ┆ --- ┆ --- ┆   ┆ --- ┆ --- ┆ --- ┆ ---        │\n",
       "│ i64 ┆ date       ┆ i8  ┆ i64 ┆   ┆ i64 ┆ i64 ┆ i64 ┆ str        │\n",
       "╞═════╪════════════╪═════╪═════╪═══╪═════╪═════╪═════╪════════════╡\n",
       "│ 240 ┆ 2024-01-22 ┆ 18  ┆ 240 ┆ … ┆ 0   ┆ 0   ┆ 0   ┆ BU03633404 │\n",
       "│ 240 ┆ 2024-01-22 ┆ 18  ┆ 240 ┆ … ┆ 0   ┆ 0   ┆ 0   ┆ BU03637003 │\n",
       "│ 240 ┆ 2024-01-22 ┆ 18  ┆ 240 ┆ … ┆ 0   ┆ 0   ┆ 0   ┆ BU03630002 │\n",
       "│ 240 ┆ 2024-01-22 ┆ 18  ┆ 240 ┆ … ┆ 0   ┆ 0   ┆ 0   ┆ BU03635801 │\n",
       "│ 240 ┆ 2024-01-22 ┆ 18  ┆ 240 ┆ … ┆ 0   ┆ 0   ┆ 0   ┆ BU03633706 │\n",
       "│ …   ┆ …          ┆ …   ┆ …   ┆ … ┆ …   ┆ …   ┆ …   ┆ …          │\n",
       "│ 240 ┆ 2023-01-01 ┆ 1   ┆ 220 ┆ … ┆ 0   ┆ 0   ┆ 0   ┆ BU03630505 │\n",
       "│ 240 ┆ 2023-01-01 ┆ 1   ┆ 220 ┆ … ┆ 0   ┆ 0   ┆ 0   ┆ BU03637501 │\n",
       "│ 240 ┆ 2023-01-01 ┆ 1   ┆ 220 ┆ … ┆ 0   ┆ 0   ┆ 0   ┆ BU03635001 │\n",
       "│ 240 ┆ 2023-01-01 ┆ 1   ┆ 220 ┆ … ┆ 0   ┆ 0   ┆ 0   ┆ BU03620304 │\n",
       "│ 240 ┆ 2023-01-01 ┆ 1   ┆ 220 ┆ … ┆ 0   ┆ 0   ┆ 0   ┆ BU03630803 │\n",
       "└─────┴────────────┴─────┴─────┴───┴─────┴─────┴─────┴────────────┘"
      ]
     },
     "execution_count": 8,
     "metadata": {},
     "output_type": "execute_result"
    }
   ],
   "source": [
    "knmi_weather_data_2023_buurten = knmi_weather_data_2023.join(\n",
    "    distinct_buurten,\n",
    "    how=\"cross\",\n",
    ")\n",
    "knmi_weather_data_2023_buurten"
   ]
  },
  {
   "cell_type": "code",
   "execution_count": 10,
   "metadata": {},
   "outputs": [
    {
     "data": {
      "text/html": [
       "<div><style>\n",
       ".dataframe > thead > tr,\n",
       ".dataframe > tbody > tr {\n",
       "  text-align: right;\n",
       "  white-space: pre-wrap;\n",
       "}\n",
       "</style>\n",
       "<small>shape: (4_318_954, 29)</small><table border=\"1\" class=\"dataframe\"><thead><tr><th>STN</th><th>YYYYMMDD</th><th>HH</th><th>DD</th><th>FH</th><th>FF</th><th>FX</th><th>T</th><th>T10N</th><th>TD</th><th>SQ</th><th>Q</th><th>DR</th><th>RH</th><th>P</th><th>VV</th><th>N</th><th>U</th><th>WW</th><th>IX</th><th>M</th><th>R</th><th>S</th><th>O</th><th>Y</th><th>buurtcode</th><th>Trees_Total</th><th>Incidents_Damage_Type</th><th>Incidents_Total</th></tr><tr><td>i64</td><td>date</td><td>i8</td><td>i64</td><td>i64</td><td>i64</td><td>i64</td><td>i64</td><td>str</td><td>i64</td><td>i64</td><td>i64</td><td>i64</td><td>i64</td><td>i64</td><td>i64</td><td>i64</td><td>i64</td><td>str</td><td>i64</td><td>i64</td><td>i64</td><td>i64</td><td>i64</td><td>i64</td><td>str</td><td>u32</td><td>str</td><td>u32</td></tr></thead><tbody><tr><td>240</td><td>2024-01-22</td><td>18</td><td>240</td><td>100</td><td>100</td><td>160</td><td>85</td><td>&quot;   76&quot;</td><td>48</td><td>0</td><td>0</td><td>0</td><td>0</td><td>10099</td><td>65</td><td>0</td><td>77</td><td>&quot;     &quot;</td><td>7</td><td>0</td><td>0</td><td>0</td><td>0</td><td>0</td><td>&quot;BU03633404&quot;</td><td>null</td><td>null</td><td>null</td></tr><tr><td>240</td><td>2024-01-22</td><td>18</td><td>240</td><td>100</td><td>100</td><td>160</td><td>85</td><td>&quot;   76&quot;</td><td>48</td><td>0</td><td>0</td><td>0</td><td>0</td><td>10099</td><td>65</td><td>0</td><td>77</td><td>&quot;     &quot;</td><td>7</td><td>0</td><td>0</td><td>0</td><td>0</td><td>0</td><td>&quot;BU03637003&quot;</td><td>null</td><td>null</td><td>null</td></tr><tr><td>240</td><td>2024-01-22</td><td>18</td><td>240</td><td>100</td><td>100</td><td>160</td><td>85</td><td>&quot;   76&quot;</td><td>48</td><td>0</td><td>0</td><td>0</td><td>0</td><td>10099</td><td>65</td><td>0</td><td>77</td><td>&quot;     &quot;</td><td>7</td><td>0</td><td>0</td><td>0</td><td>0</td><td>0</td><td>&quot;BU03630002&quot;</td><td>null</td><td>null</td><td>null</td></tr><tr><td>240</td><td>2024-01-22</td><td>18</td><td>240</td><td>100</td><td>100</td><td>160</td><td>85</td><td>&quot;   76&quot;</td><td>48</td><td>0</td><td>0</td><td>0</td><td>0</td><td>10099</td><td>65</td><td>0</td><td>77</td><td>&quot;     &quot;</td><td>7</td><td>0</td><td>0</td><td>0</td><td>0</td><td>0</td><td>&quot;BU03635801&quot;</td><td>null</td><td>null</td><td>null</td></tr><tr><td>240</td><td>2024-01-22</td><td>18</td><td>240</td><td>100</td><td>100</td><td>160</td><td>85</td><td>&quot;   76&quot;</td><td>48</td><td>0</td><td>0</td><td>0</td><td>0</td><td>10099</td><td>65</td><td>0</td><td>77</td><td>&quot;     &quot;</td><td>7</td><td>0</td><td>0</td><td>0</td><td>0</td><td>0</td><td>&quot;BU03633706&quot;</td><td>null</td><td>null</td><td>null</td></tr><tr><td>240</td><td>2024-01-22</td><td>18</td><td>240</td><td>100</td><td>100</td><td>160</td><td>85</td><td>&quot;   76&quot;</td><td>48</td><td>0</td><td>0</td><td>0</td><td>0</td><td>10099</td><td>65</td><td>0</td><td>77</td><td>&quot;     &quot;</td><td>7</td><td>0</td><td>0</td><td>0</td><td>0</td><td>0</td><td>&quot;BU03636401&quot;</td><td>null</td><td>null</td><td>null</td></tr><tr><td>240</td><td>2024-01-22</td><td>18</td><td>240</td><td>100</td><td>100</td><td>160</td><td>85</td><td>&quot;   76&quot;</td><td>48</td><td>0</td><td>0</td><td>0</td><td>0</td><td>10099</td><td>65</td><td>0</td><td>77</td><td>&quot;     &quot;</td><td>7</td><td>0</td><td>0</td><td>0</td><td>0</td><td>0</td><td>&quot;BU04798140&quot;</td><td>null</td><td>null</td><td>null</td></tr><tr><td>240</td><td>2024-01-22</td><td>18</td><td>240</td><td>100</td><td>100</td><td>160</td><td>85</td><td>&quot;   76&quot;</td><td>48</td><td>0</td><td>0</td><td>0</td><td>0</td><td>10099</td><td>65</td><td>0</td><td>77</td><td>&quot;     &quot;</td><td>7</td><td>0</td><td>0</td><td>0</td><td>0</td><td>0</td><td>&quot;BU03634400&quot;</td><td>null</td><td>null</td><td>null</td></tr><tr><td>240</td><td>2024-01-22</td><td>18</td><td>240</td><td>100</td><td>100</td><td>160</td><td>85</td><td>&quot;   76&quot;</td><td>48</td><td>0</td><td>0</td><td>0</td><td>0</td><td>10099</td><td>65</td><td>0</td><td>77</td><td>&quot;     &quot;</td><td>7</td><td>0</td><td>0</td><td>0</td><td>0</td><td>0</td><td>&quot;BU03639201&quot;</td><td>null</td><td>null</td><td>null</td></tr><tr><td>240</td><td>2024-01-22</td><td>18</td><td>240</td><td>100</td><td>100</td><td>160</td><td>85</td><td>&quot;   76&quot;</td><td>48</td><td>0</td><td>0</td><td>0</td><td>0</td><td>10099</td><td>65</td><td>0</td><td>77</td><td>&quot;     &quot;</td><td>7</td><td>0</td><td>0</td><td>0</td><td>0</td><td>0</td><td>&quot;BU03635804&quot;</td><td>null</td><td>null</td><td>null</td></tr><tr><td>240</td><td>2024-01-22</td><td>18</td><td>240</td><td>100</td><td>100</td><td>160</td><td>85</td><td>&quot;   76&quot;</td><td>48</td><td>0</td><td>0</td><td>0</td><td>0</td><td>10099</td><td>65</td><td>0</td><td>77</td><td>&quot;     &quot;</td><td>7</td><td>0</td><td>0</td><td>0</td><td>0</td><td>0</td><td>&quot;BU04798150&quot;</td><td>null</td><td>null</td><td>null</td></tr><tr><td>240</td><td>2024-01-22</td><td>18</td><td>240</td><td>100</td><td>100</td><td>160</td><td>85</td><td>&quot;   76&quot;</td><td>48</td><td>0</td><td>0</td><td>0</td><td>0</td><td>10099</td><td>65</td><td>0</td><td>77</td><td>&quot;     &quot;</td><td>7</td><td>0</td><td>0</td><td>0</td><td>0</td><td>0</td><td>&quot;BU03638805&quot;</td><td>null</td><td>null</td><td>null</td></tr><tr><td>&hellip;</td><td>&hellip;</td><td>&hellip;</td><td>&hellip;</td><td>&hellip;</td><td>&hellip;</td><td>&hellip;</td><td>&hellip;</td><td>&hellip;</td><td>&hellip;</td><td>&hellip;</td><td>&hellip;</td><td>&hellip;</td><td>&hellip;</td><td>&hellip;</td><td>&hellip;</td><td>&hellip;</td><td>&hellip;</td><td>&hellip;</td><td>&hellip;</td><td>&hellip;</td><td>&hellip;</td><td>&hellip;</td><td>&hellip;</td><td>&hellip;</td><td>&hellip;</td><td>&hellip;</td><td>&hellip;</td><td>&hellip;</td></tr><tr><td>240</td><td>2023-01-01</td><td>1</td><td>220</td><td>110</td><td>110</td><td>150</td><td>138</td><td>&quot;     &quot;</td><td>92</td><td>0</td><td>0</td><td>0</td><td>-1</td><td>10057</td><td>69</td><td>8</td><td>73</td><td>&quot;   81&quot;</td><td>7</td><td>0</td><td>1</td><td>0</td><td>0</td><td>0</td><td>&quot;BU03631700&quot;</td><td>null</td><td>null</td><td>null</td></tr><tr><td>240</td><td>2023-01-01</td><td>1</td><td>220</td><td>110</td><td>110</td><td>150</td><td>138</td><td>&quot;     &quot;</td><td>92</td><td>0</td><td>0</td><td>0</td><td>-1</td><td>10057</td><td>69</td><td>8</td><td>73</td><td>&quot;   81&quot;</td><td>7</td><td>0</td><td>1</td><td>0</td><td>0</td><td>0</td><td>&quot;BU03635203&quot;</td><td>null</td><td>null</td><td>null</td></tr><tr><td>240</td><td>2023-01-01</td><td>1</td><td>220</td><td>110</td><td>110</td><td>150</td><td>138</td><td>&quot;     &quot;</td><td>92</td><td>0</td><td>0</td><td>0</td><td>-1</td><td>10057</td><td>69</td><td>8</td><td>73</td><td>&quot;   81&quot;</td><td>7</td><td>0</td><td>1</td><td>0</td><td>0</td><td>0</td><td>&quot;BU03638001&quot;</td><td>null</td><td>null</td><td>null</td></tr><tr><td>240</td><td>2023-01-01</td><td>1</td><td>220</td><td>110</td><td>110</td><td>150</td><td>138</td><td>&quot;     &quot;</td><td>92</td><td>0</td><td>0</td><td>0</td><td>-1</td><td>10057</td><td>69</td><td>8</td><td>73</td><td>&quot;   81&quot;</td><td>7</td><td>0</td><td>1</td><td>0</td><td>0</td><td>0</td><td>&quot;BU03635900&quot;</td><td>null</td><td>null</td><td>null</td></tr><tr><td>240</td><td>2023-01-01</td><td>1</td><td>220</td><td>110</td><td>110</td><td>150</td><td>138</td><td>&quot;     &quot;</td><td>92</td><td>0</td><td>0</td><td>0</td><td>-1</td><td>10057</td><td>69</td><td>8</td><td>73</td><td>&quot;   81&quot;</td><td>7</td><td>0</td><td>1</td><td>0</td><td>0</td><td>0</td><td>&quot;BU04791410&quot;</td><td>null</td><td>null</td><td>null</td></tr><tr><td>240</td><td>2023-01-01</td><td>1</td><td>220</td><td>110</td><td>110</td><td>150</td><td>138</td><td>&quot;     &quot;</td><td>92</td><td>0</td><td>0</td><td>0</td><td>-1</td><td>10057</td><td>69</td><td>8</td><td>73</td><td>&quot;   81&quot;</td><td>7</td><td>0</td><td>1</td><td>0</td><td>0</td><td>0</td><td>&quot;BU04791120&quot;</td><td>null</td><td>null</td><td>null</td></tr><tr><td>240</td><td>2023-01-01</td><td>1</td><td>220</td><td>110</td><td>110</td><td>150</td><td>138</td><td>&quot;     &quot;</td><td>92</td><td>0</td><td>0</td><td>0</td><td>-1</td><td>10057</td><td>69</td><td>8</td><td>73</td><td>&quot;   81&quot;</td><td>7</td><td>0</td><td>1</td><td>0</td><td>0</td><td>0</td><td>&quot;BU03621001&quot;</td><td>null</td><td>null</td><td>null</td></tr><tr><td>240</td><td>2023-01-01</td><td>1</td><td>220</td><td>110</td><td>110</td><td>150</td><td>138</td><td>&quot;     &quot;</td><td>92</td><td>0</td><td>0</td><td>0</td><td>-1</td><td>10057</td><td>69</td><td>8</td><td>73</td><td>&quot;   81&quot;</td><td>7</td><td>0</td><td>1</td><td>0</td><td>0</td><td>0</td><td>&quot;BU03630505&quot;</td><td>null</td><td>null</td><td>null</td></tr><tr><td>240</td><td>2023-01-01</td><td>1</td><td>220</td><td>110</td><td>110</td><td>150</td><td>138</td><td>&quot;     &quot;</td><td>92</td><td>0</td><td>0</td><td>0</td><td>-1</td><td>10057</td><td>69</td><td>8</td><td>73</td><td>&quot;   81&quot;</td><td>7</td><td>0</td><td>1</td><td>0</td><td>0</td><td>0</td><td>&quot;BU03637501&quot;</td><td>null</td><td>null</td><td>null</td></tr><tr><td>240</td><td>2023-01-01</td><td>1</td><td>220</td><td>110</td><td>110</td><td>150</td><td>138</td><td>&quot;     &quot;</td><td>92</td><td>0</td><td>0</td><td>0</td><td>-1</td><td>10057</td><td>69</td><td>8</td><td>73</td><td>&quot;   81&quot;</td><td>7</td><td>0</td><td>1</td><td>0</td><td>0</td><td>0</td><td>&quot;BU03635001&quot;</td><td>null</td><td>null</td><td>null</td></tr><tr><td>240</td><td>2023-01-01</td><td>1</td><td>220</td><td>110</td><td>110</td><td>150</td><td>138</td><td>&quot;     &quot;</td><td>92</td><td>0</td><td>0</td><td>0</td><td>-1</td><td>10057</td><td>69</td><td>8</td><td>73</td><td>&quot;   81&quot;</td><td>7</td><td>0</td><td>1</td><td>0</td><td>0</td><td>0</td><td>&quot;BU03620304&quot;</td><td>null</td><td>null</td><td>null</td></tr><tr><td>240</td><td>2023-01-01</td><td>1</td><td>220</td><td>110</td><td>110</td><td>150</td><td>138</td><td>&quot;     &quot;</td><td>92</td><td>0</td><td>0</td><td>0</td><td>-1</td><td>10057</td><td>69</td><td>8</td><td>73</td><td>&quot;   81&quot;</td><td>7</td><td>0</td><td>1</td><td>0</td><td>0</td><td>0</td><td>&quot;BU03630803&quot;</td><td>null</td><td>null</td><td>null</td></tr></tbody></table></div>"
      ],
      "text/plain": [
       "shape: (4_318_954, 29)\n",
       "┌─────┬────────────┬─────┬─────┬───┬────────────┬─────────────┬──────────────────┬─────────────────┐\n",
       "│ STN ┆ YYYYMMDD   ┆ HH  ┆ DD  ┆ … ┆ buurtcode  ┆ Trees_Total ┆ Incidents_Damage ┆ Incidents_Total │\n",
       "│ --- ┆ ---        ┆ --- ┆ --- ┆   ┆ ---        ┆ ---         ┆ _Type            ┆ ---             │\n",
       "│ i64 ┆ date       ┆ i8  ┆ i64 ┆   ┆ str        ┆ u32         ┆ ---              ┆ u32             │\n",
       "│     ┆            ┆     ┆     ┆   ┆            ┆             ┆ str              ┆                 │\n",
       "╞═════╪════════════╪═════╪═════╪═══╪════════════╪═════════════╪══════════════════╪═════════════════╡\n",
       "│ 240 ┆ 2024-01-22 ┆ 18  ┆ 240 ┆ … ┆ BU03633404 ┆ null        ┆ null             ┆ null            │\n",
       "│ 240 ┆ 2024-01-22 ┆ 18  ┆ 240 ┆ … ┆ BU03637003 ┆ null        ┆ null             ┆ null            │\n",
       "│ 240 ┆ 2024-01-22 ┆ 18  ┆ 240 ┆ … ┆ BU03630002 ┆ null        ┆ null             ┆ null            │\n",
       "│ 240 ┆ 2024-01-22 ┆ 18  ┆ 240 ┆ … ┆ BU03635801 ┆ null        ┆ null             ┆ null            │\n",
       "│ 240 ┆ 2024-01-22 ┆ 18  ┆ 240 ┆ … ┆ BU03633706 ┆ null        ┆ null             ┆ null            │\n",
       "│ …   ┆ …          ┆ …   ┆ …   ┆ … ┆ …          ┆ …           ┆ …                ┆ …               │\n",
       "│ 240 ┆ 2023-01-01 ┆ 1   ┆ 220 ┆ … ┆ BU03630505 ┆ null        ┆ null             ┆ null            │\n",
       "│ 240 ┆ 2023-01-01 ┆ 1   ┆ 220 ┆ … ┆ BU03637501 ┆ null        ┆ null             ┆ null            │\n",
       "│ 240 ┆ 2023-01-01 ┆ 1   ┆ 220 ┆ … ┆ BU03635001 ┆ null        ┆ null             ┆ null            │\n",
       "│ 240 ┆ 2023-01-01 ┆ 1   ┆ 220 ┆ … ┆ BU03620304 ┆ null        ┆ null             ┆ null            │\n",
       "│ 240 ┆ 2023-01-01 ┆ 1   ┆ 220 ┆ … ┆ BU03630803 ┆ null        ┆ null             ┆ null            │\n",
       "└─────┴────────────┴─────┴─────┴───┴────────────┴─────────────┴──────────────────┴─────────────────┘"
      ]
     },
     "execution_count": 10,
     "metadata": {},
     "output_type": "execute_result"
    }
   ],
   "source": [
    "model_data = knmi_weather_data_2023_buurten.join(\n",
    "    buurten_combined[\n",
    "        [\n",
    "            \"Incidents_Date\",\n",
    "            \"Incidents_Incident_Starttime_Hour\",\n",
    "            \"buurtcode\",\n",
    "            \"Trees_Total\",\n",
    "            \"Incidents_Damage_Type\",\n",
    "            \"Incidents_Total\",\n",
    "            # \"buurtnaam\",\n",
    "            # \"geometry\",\n",
    "        ]\n",
    "    ],\n",
    "    left_on=(\"YYYYMMDD\", \"HH\", \"buurtcode\"),\n",
    "    right_on=(\"Incidents_Date\", \"Incidents_Incident_Starttime_Hour\", \"buurtcode\"),\n",
    "    how=\"left\",\n",
    ")\n",
    "model_data"
   ]
  },
  {
   "cell_type": "code",
   "execution_count": null,
   "metadata": {},
   "outputs": [],
   "source": [
    "model_data_buurt = model_data.join(\n",
    "    buurten_combined[[\"buurtcode\", \"buurtnaam\", \"geometry\"]],\n",
    "    on=(\"buurtcode\"),\n",
    "    how=\"left\",\n",
    ")\n",
    "model_data_buurt"
   ]
  },
  {
   "cell_type": "code",
   "execution_count": null,
   "metadata": {},
   "outputs": [],
   "source": [
    "model_data.fill_null(0)"
   ]
  }
 ],
 "metadata": {
  "kernelspec": {
   "display_name": "poetry",
   "language": "python",
   "name": "python3"
  },
  "language_info": {
   "codemirror_mode": {
    "name": "ipython",
    "version": 3
   },
   "file_extension": ".py",
   "mimetype": "text/x-python",
   "name": "python",
   "nbconvert_exporter": "python",
   "pygments_lexer": "ipython3",
   "version": "3.10.13"
  }
 },
 "nbformat": 4,
 "nbformat_minor": 2
}
