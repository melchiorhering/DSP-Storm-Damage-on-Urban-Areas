{
 "cells": [
  {
   "cell_type": "markdown",
   "metadata": {},
   "source": [
    "# Testing\n",
    "\n",
    "In this notebook you can explore and test the resulting database tables from our Dagster ETL process.\n",
    "Here you can analyze\n"
   ]
  },
  {
   "cell_type": "code",
   "execution_count": 9,
   "metadata": {
    "tags": []
   },
   "outputs": [],
   "source": [
    "import duckdb\n",
    "import polars as pl\n",
    "from IPython import display"
   ]
  },
  {
   "cell_type": "markdown",
   "metadata": {},
   "source": [
    "### Create Database Connection\n"
   ]
  },
  {
   "cell_type": "code",
   "execution_count": 10,
   "metadata": {},
   "outputs": [
    {
     "name": "stdout",
     "output_type": "stream",
     "text": [
      "The sql extension is already loaded. To reload it, use:\n",
      "  %reload_ext sql\n"
     ]
    },
    {
     "data": {
      "text/html": [
       "<div>\n",
       "<style scoped>\n",
       "    .dataframe tbody tr th:only-of-type {\n",
       "        vertical-align: middle;\n",
       "    }\n",
       "\n",
       "    .dataframe tbody tr th {\n",
       "        vertical-align: top;\n",
       "    }\n",
       "\n",
       "    .dataframe thead th {\n",
       "        text-align: right;\n",
       "    }\n",
       "</style>\n",
       "<table border=\"1\" class=\"dataframe\">\n",
       "  <thead>\n",
       "    <tr style=\"text-align: right;\">\n",
       "      <th></th>\n",
       "      <th>database</th>\n",
       "      <th>schema</th>\n",
       "      <th>name</th>\n",
       "      <th>column_names</th>\n",
       "      <th>column_types</th>\n",
       "      <th>temporary</th>\n",
       "    </tr>\n",
       "  </thead>\n",
       "  <tbody>\n",
       "    <tr>\n",
       "      <th>0</th>\n",
       "      <td>data_systems_project</td>\n",
       "      <td>joined</td>\n",
       "      <td>incident_deployments_vehicles</td>\n",
       "      <td>[Incident_ID, Date, Incident_Starttime, Incide...</td>\n",
       "      <td>[BIGINT, DATE, TIME, TIME, TIME, BIGINT, VARCH...</td>\n",
       "      <td>False</td>\n",
       "    </tr>\n",
       "    <tr>\n",
       "      <th>1</th>\n",
       "      <td>data_systems_project</td>\n",
       "      <td>joined</td>\n",
       "      <td>incident_deployments_vehicles_weather</td>\n",
       "      <td>[Station_code, Date, Hour, Dd, Fh, Ff, Fx, T, ...</td>\n",
       "      <td>[BIGINT, DATE, TINYINT, BIGINT, BIGINT, BIGINT...</td>\n",
       "      <td>False</td>\n",
       "    </tr>\n",
       "    <tr>\n",
       "      <th>2</th>\n",
       "      <td>data_systems_project</td>\n",
       "      <td>joined</td>\n",
       "      <td>incident_deployments_vehicles_wijken</td>\n",
       "      <td>[Incident_ID, Date, Incident_Starttime, Incide...</td>\n",
       "      <td>[BIGINT, TIMESTAMP_MS, TIME, TIME, TIME, BIGIN...</td>\n",
       "      <td>False</td>\n",
       "    </tr>\n",
       "    <tr>\n",
       "      <th>3</th>\n",
       "      <td>data_systems_project</td>\n",
       "      <td>public</td>\n",
       "      <td>bag_panden</td>\n",
       "      <td>[geometry, identificatie, rdf_seealso, bouwjaa...</td>\n",
       "      <td>[VARCHAR, VARCHAR, VARCHAR, BIGINT, VARCHAR, V...</td>\n",
       "      <td>False</td>\n",
       "    </tr>\n",
       "    <tr>\n",
       "      <th>4</th>\n",
       "      <td>data_systems_project</td>\n",
       "      <td>public</td>\n",
       "      <td>cbs_buurten</td>\n",
       "      <td>[geometry, buurtcode, buurtnaam, wijkcode, gem...</td>\n",
       "      <td>[VARCHAR, VARCHAR, VARCHAR, VARCHAR, VARCHAR, ...</td>\n",
       "      <td>False</td>\n",
       "    </tr>\n",
       "    <tr>\n",
       "      <th>5</th>\n",
       "      <td>data_systems_project</td>\n",
       "      <td>public</td>\n",
       "      <td>cbs_wijken</td>\n",
       "      <td>[geometry, wijkcode, wijknaam, gemeentecode, g...</td>\n",
       "      <td>[VARCHAR, VARCHAR, VARCHAR, VARCHAR, VARCHAR, ...</td>\n",
       "      <td>False</td>\n",
       "    </tr>\n",
       "    <tr>\n",
       "      <th>6</th>\n",
       "      <td>data_systems_project</td>\n",
       "      <td>public</td>\n",
       "      <td>fire_stations_and_vehicles</td>\n",
       "      <td>[Fire_Station, Vehicle, Vehicle_Type]</td>\n",
       "      <td>[VARCHAR, VARCHAR, VARCHAR]</td>\n",
       "      <td>False</td>\n",
       "    </tr>\n",
       "    <tr>\n",
       "      <th>7</th>\n",
       "      <td>data_systems_project</td>\n",
       "      <td>public</td>\n",
       "      <td>knmi_weather_data</td>\n",
       "      <td>[station_code, date, hour, DD, FH, FF, FX, T, ...</td>\n",
       "      <td>[BIGINT, VARCHAR, BIGINT, BIGINT, BIGINT, BIGI...</td>\n",
       "      <td>False</td>\n",
       "    </tr>\n",
       "    <tr>\n",
       "      <th>8</th>\n",
       "      <td>data_systems_project</td>\n",
       "      <td>public</td>\n",
       "      <td>service_areas</td>\n",
       "      <td>[H_Verzorgingsgebied_ID, Verzorgingsgebied, LA...</td>\n",
       "      <td>[BIGINT, VARCHAR, DOUBLE, DOUBLE, VARCHAR]</td>\n",
       "      <td>False</td>\n",
       "    </tr>\n",
       "    <tr>\n",
       "      <th>9</th>\n",
       "      <td>data_systems_project</td>\n",
       "      <td>public</td>\n",
       "      <td>storm_deployments</td>\n",
       "      <td>[Deployment_ID, Incident_ID, Vehicle_Type, Veh...</td>\n",
       "      <td>[BIGINT, BIGINT, VARCHAR, VARCHAR, VARCHAR, VA...</td>\n",
       "      <td>False</td>\n",
       "    </tr>\n",
       "    <tr>\n",
       "      <th>10</th>\n",
       "      <td>data_systems_project</td>\n",
       "      <td>public</td>\n",
       "      <td>storm_incidents</td>\n",
       "      <td>[Incident_ID, Date, Incident_Starttime, Incide...</td>\n",
       "      <td>[BIGINT, DATE, TIME, TIME, TIME, BIGINT, VARCH...</td>\n",
       "      <td>False</td>\n",
       "    </tr>\n",
       "    <tr>\n",
       "      <th>11</th>\n",
       "      <td>data_systems_project</td>\n",
       "      <td>public</td>\n",
       "      <td>tree_data</td>\n",
       "      <td>[_links, id, gbdBuurtId, geometrie, typeBeheer...</td>\n",
       "      <td>[STRUCT(\"schema\" VARCHAR, self STRUCT(href VAR...</td>\n",
       "      <td>False</td>\n",
       "    </tr>\n",
       "  </tbody>\n",
       "</table>\n",
       "</div>"
      ],
      "text/plain": [
       "                database  schema                                   name  \\\n",
       "0   data_systems_project  joined          incident_deployments_vehicles   \n",
       "1   data_systems_project  joined  incident_deployments_vehicles_weather   \n",
       "2   data_systems_project  joined   incident_deployments_vehicles_wijken   \n",
       "3   data_systems_project  public                             bag_panden   \n",
       "4   data_systems_project  public                            cbs_buurten   \n",
       "5   data_systems_project  public                             cbs_wijken   \n",
       "6   data_systems_project  public             fire_stations_and_vehicles   \n",
       "7   data_systems_project  public                      knmi_weather_data   \n",
       "8   data_systems_project  public                          service_areas   \n",
       "9   data_systems_project  public                      storm_deployments   \n",
       "10  data_systems_project  public                        storm_incidents   \n",
       "11  data_systems_project  public                              tree_data   \n",
       "\n",
       "                                         column_names  \\\n",
       "0   [Incident_ID, Date, Incident_Starttime, Incide...   \n",
       "1   [Station_code, Date, Hour, Dd, Fh, Ff, Fx, T, ...   \n",
       "2   [Incident_ID, Date, Incident_Starttime, Incide...   \n",
       "3   [geometry, identificatie, rdf_seealso, bouwjaa...   \n",
       "4   [geometry, buurtcode, buurtnaam, wijkcode, gem...   \n",
       "5   [geometry, wijkcode, wijknaam, gemeentecode, g...   \n",
       "6               [Fire_Station, Vehicle, Vehicle_Type]   \n",
       "7   [station_code, date, hour, DD, FH, FF, FX, T, ...   \n",
       "8   [H_Verzorgingsgebied_ID, Verzorgingsgebied, LA...   \n",
       "9   [Deployment_ID, Incident_ID, Vehicle_Type, Veh...   \n",
       "10  [Incident_ID, Date, Incident_Starttime, Incide...   \n",
       "11  [_links, id, gbdBuurtId, geometrie, typeBeheer...   \n",
       "\n",
       "                                         column_types  temporary  \n",
       "0   [BIGINT, DATE, TIME, TIME, TIME, BIGINT, VARCH...      False  \n",
       "1   [BIGINT, DATE, TINYINT, BIGINT, BIGINT, BIGINT...      False  \n",
       "2   [BIGINT, TIMESTAMP_MS, TIME, TIME, TIME, BIGIN...      False  \n",
       "3   [VARCHAR, VARCHAR, VARCHAR, BIGINT, VARCHAR, V...      False  \n",
       "4   [VARCHAR, VARCHAR, VARCHAR, VARCHAR, VARCHAR, ...      False  \n",
       "5   [VARCHAR, VARCHAR, VARCHAR, VARCHAR, VARCHAR, ...      False  \n",
       "6                         [VARCHAR, VARCHAR, VARCHAR]      False  \n",
       "7   [BIGINT, VARCHAR, BIGINT, BIGINT, BIGINT, BIGI...      False  \n",
       "8          [BIGINT, VARCHAR, DOUBLE, DOUBLE, VARCHAR]      False  \n",
       "9   [BIGINT, BIGINT, VARCHAR, VARCHAR, VARCHAR, VA...      False  \n",
       "10  [BIGINT, DATE, TIME, TIME, TIME, BIGINT, VARCH...      False  \n",
       "11  [STRUCT(\"schema\" VARCHAR, self STRUCT(href VAR...      False  "
      ]
     },
     "execution_count": 10,
     "metadata": {},
     "output_type": "execute_result"
    }
   ],
   "source": [
    "# Use SQL magic\n",
    "%config SqlMagic.autopandas = True\n",
    "%config SqlMagic.feedback = True\n",
    "%config SqlMagic.displaycon = False\n",
    "\n",
    "%load_ext sql\n",
    "conn = duckdb.connect(database=\"../dsp-dagster/data_systems_project.duckdb\")\n",
    "%sql conn --alias duckdb\n",
    "%sql SHOW ALL TABLES; # shows all available tables"
   ]
  },
  {
   "cell_type": "markdown",
   "metadata": {},
   "source": [
    "##### Drop Tables\n"
   ]
  },
  {
   "cell_type": "code",
   "execution_count": 11,
   "metadata": {},
   "outputs": [],
   "source": [
    "# %sql DROP TABLE public.cbs_buurten;\n",
    "# %sql DROP TABLE public.cbs_wijken;"
   ]
  },
  {
   "cell_type": "markdown",
   "metadata": {},
   "source": [
    "##### Retrieve Tables as Polars DataFrame\n"
   ]
  },
  {
   "cell_type": "code",
   "execution_count": 12,
   "metadata": {},
   "outputs": [],
   "source": [
    "cbs_wijken = conn.execute(\n",
    "    \"\"\"\n",
    "    SELECT * FROM public.cbs_wijken \"\"\"\n",
    ").pl()\n",
    "\n",
    "service_areas = conn.execute(\n",
    "    \"\"\"\n",
    "    SELECT * FROM public.service_areas \"\"\"\n",
    ").pl()\n",
    "\n",
    "tree_data = conn.execute(\n",
    "    \"\"\"\n",
    "    SELECT * FROM public.tree_data\n",
    "    \"\"\"\n",
    ").pl()\n",
    "\n",
    "\n",
    "incident_deployments_vehicles = conn.execute(\n",
    "    \"\"\"\n",
    "    SELECT * FROM joined.incident_deployments_vehicles\"\"\"\n",
    ").pl()\n",
    "\n",
    "\n",
    "cleaned_knmi_weather_data = conn.execute(\n",
    "    \"\"\"\n",
    "    SELECT * FROM cleaned.cleaned_knmi_weather_data\n",
    "    \"\"\"\n",
    ").pl()\n",
    "\n",
    "\n",
    "incident_deployments_vehicles_wijken = conn.execute(\n",
    "    \"\"\"\n",
    "    SELECT * FROM joined.incident_deployments_vehicles_wijken\n",
    "    \"\"\"\n",
    ").pl()\n",
    "\n",
    "incident_deployments_vehicles_weather = conn.execute(\n",
    "    \"\"\"\n",
    "    SELECT * FROM joined.incident_deployments_vehicles_weather\n",
    "    \"\"\"\n",
    ").pl()\n",
    "\n",
    "\n",
    "# Close the database connection\n",
    "conn.close()"
   ]
  },
  {
   "cell_type": "code",
   "execution_count": 32,
   "metadata": {},
   "outputs": [
    {
     "name": "stdout",
     "output_type": "stream",
     "text": [
      "0    {'type': 'Point', 'coordinates': [122115.11, 4...\n",
      "1    {'type': 'Point', 'coordinates': [121980.46, 4...\n",
      "2    {'type': 'Point', 'coordinates': [118737.81, 4...\n",
      "3    {'type': 'Point', 'coordinates': [122053.62, 4...\n",
      "4    {'type': 'Point', 'coordinates': [120154.43, 4...\n",
      "Name: geometrie, dtype: object\n"
     ]
    }
   ],
   "source": [
    "df = tree_data.to_pandas().drop(columns=[\"_links\"])\n",
    "print(df.head()[\"geometrie\"])\n",
    "# df[\"Coordinates\"] = gpd.GeoSeries.from_wkt(df[\"geometrie\"])\n",
    "\n",
    "# df = gpd.GeoDataFrame.from_features(tree_data.to_pandas())"
   ]
  },
  {
   "cell_type": "code",
   "execution_count": 6,
   "metadata": {},
   "outputs": [],
   "source": [
    "# cbs_wijken.filter(\n",
    "#     [\n",
    "#         pl.col(\"gemeentenaam\") == \"Amsterdam\",\n",
    "#     ]\n",
    "# ).head()"
   ]
  },
  {
   "cell_type": "code",
   "execution_count": 7,
   "metadata": {},
   "outputs": [],
   "source": [
    "# incident_deployments_vehicles_wijken.head()"
   ]
  },
  {
   "cell_type": "code",
   "execution_count": 8,
   "metadata": {},
   "outputs": [
    {
     "data": {
      "text/html": [
       "<div><style>\n",
       ".dataframe > thead > tr,\n",
       ".dataframe > tbody > tr {\n",
       "  text-align: right;\n",
       "  white-space: pre-wrap;\n",
       "}\n",
       "</style>\n",
       "<small>shape: (5, 47)</small><table border=\"1\" class=\"dataframe\"><thead><tr><th>Station_code</th><th>Date</th><th>Hour</th><th>Dd</th><th>Fh</th><th>Ff</th><th>Fx</th><th>T</th><th>T10n</th><th>Td</th><th>Sq</th><th>Q</th><th>Dr</th><th>Rh</th><th>P</th><th>Vv</th><th>N</th><th>U</th><th>Ww</th><th>Ix</th><th>M</th><th>R</th><th>S</th><th>O</th><th>Y</th><th>Incident_ID</th><th>Incident_Starttime</th><th>Incident_Endtime</th><th>Incident_Duration</th><th>Incident_Priority</th><th>Service_Area</th><th>Municipality</th><th>Damage_Type</th><th>LON</th><th>LAT</th><th>Incident_Endtime_Hour</th><th>Incident_Duration_Hour</th><th>Incident_Starttime_Minute</th><th>Incident_Endtime_Minute</th><th>Incident_Duration_Minute</th><th>Deployment_ID</th><th>Vehicle_Type</th><th>Vehicle_Role</th><th>Fire_Station</th><th>Fire_Station_Service_Status</th><th>Driving_Time_To_Incident</th><th>Vehicle</th></tr><tr><td>i64</td><td>date</td><td>i8</td><td>i64</td><td>i64</td><td>i64</td><td>i64</td><td>i64</td><td>i64</td><td>i64</td><td>i64</td><td>i64</td><td>i64</td><td>i64</td><td>i64</td><td>i64</td><td>i64</td><td>i64</td><td>i64</td><td>i64</td><td>i64</td><td>i64</td><td>i64</td><td>i64</td><td>i64</td><td>i64</td><td>time</td><td>time</td><td>time</td><td>i64</td><td>str</td><td>str</td><td>str</td><td>f64</td><td>f64</td><td>i8</td><td>i8</td><td>i8</td><td>i8</td><td>i8</td><td>i64</td><td>str</td><td>str</td><td>str</td><td>str</td><td>str</td><td>str</td></tr></thead><tbody><tr><td>240</td><td>2005-01-01</td><td>1</td><td>260</td><td>40</td><td>30</td><td>60</td><td>68</td><td>null</td><td>57</td><td>0</td><td>0</td><td>0</td><td>0</td><td>10246</td><td>57</td><td>8</td><td>93</td><td>10</td><td>7</td><td>0</td><td>0</td><td>0</td><td>0</td><td>0</td><td>null</td><td>null</td><td>null</td><td>null</td><td>null</td><td>null</td><td>null</td><td>null</td><td>null</td><td>null</td><td>null</td><td>null</td><td>null</td><td>null</td><td>null</td><td>null</td><td>null</td><td>null</td><td>null</td><td>null</td><td>null</td><td>null</td></tr><tr><td>240</td><td>2005-01-01</td><td>2</td><td>230</td><td>30</td><td>30</td><td>60</td><td>65</td><td>null</td><td>52</td><td>0</td><td>0</td><td>0</td><td>0</td><td>10244</td><td>58</td><td>8</td><td>91</td><td>10</td><td>7</td><td>0</td><td>0</td><td>0</td><td>0</td><td>0</td><td>null</td><td>null</td><td>null</td><td>null</td><td>null</td><td>null</td><td>null</td><td>null</td><td>null</td><td>null</td><td>null</td><td>null</td><td>null</td><td>null</td><td>null</td><td>null</td><td>null</td><td>null</td><td>null</td><td>null</td><td>null</td><td>null</td></tr><tr><td>240</td><td>2005-01-01</td><td>3</td><td>230</td><td>40</td><td>30</td><td>50</td><td>43</td><td>null</td><td>34</td><td>0</td><td>0</td><td>0</td><td>0</td><td>10241</td><td>40</td><td>1</td><td>94</td><td>10</td><td>7</td><td>0</td><td>0</td><td>0</td><td>0</td><td>0</td><td>null</td><td>null</td><td>null</td><td>null</td><td>null</td><td>null</td><td>null</td><td>null</td><td>null</td><td>null</td><td>null</td><td>null</td><td>null</td><td>null</td><td>null</td><td>null</td><td>null</td><td>null</td><td>null</td><td>null</td><td>null</td><td>null</td></tr><tr><td>240</td><td>2005-01-01</td><td>4</td><td>220</td><td>40</td><td>40</td><td>50</td><td>38</td><td>null</td><td>32</td><td>0</td><td>0</td><td>0</td><td>0</td><td>10239</td><td>12</td><td>0</td><td>96</td><td>10</td><td>7</td><td>0</td><td>0</td><td>0</td><td>0</td><td>0</td><td>null</td><td>null</td><td>null</td><td>null</td><td>null</td><td>null</td><td>null</td><td>null</td><td>null</td><td>null</td><td>null</td><td>null</td><td>null</td><td>null</td><td>null</td><td>null</td><td>null</td><td>null</td><td>null</td><td>null</td><td>null</td><td>null</td></tr><tr><td>240</td><td>2005-01-01</td><td>5</td><td>230</td><td>40</td><td>40</td><td>50</td><td>38</td><td>null</td><td>34</td><td>0</td><td>0</td><td>0</td><td>0</td><td>10237</td><td>14</td><td>3</td><td>97</td><td>10</td><td>7</td><td>0</td><td>0</td><td>0</td><td>0</td><td>0</td><td>null</td><td>null</td><td>null</td><td>null</td><td>null</td><td>null</td><td>null</td><td>null</td><td>null</td><td>null</td><td>null</td><td>null</td><td>null</td><td>null</td><td>null</td><td>null</td><td>null</td><td>null</td><td>null</td><td>null</td><td>null</td><td>null</td></tr></tbody></table></div>"
      ],
      "text/plain": [
       "shape: (5, 47)\n",
       "┌──────────────┬────────────┬──────┬─────┬───┬──────────────┬──────────────┬─────────────┬─────────┐\n",
       "│ Station_code ┆ Date       ┆ Hour ┆ Dd  ┆ … ┆ Fire_Station ┆ Fire_Station ┆ Driving_Tim ┆ Vehicle │\n",
       "│ ---          ┆ ---        ┆ ---  ┆ --- ┆   ┆ ---          ┆ _Service_Sta ┆ e_To_Incide ┆ ---     │\n",
       "│ i64          ┆ date       ┆ i8   ┆ i64 ┆   ┆ str          ┆ tus          ┆ nt          ┆ str     │\n",
       "│              ┆            ┆      ┆     ┆   ┆              ┆ ---          ┆ ---         ┆         │\n",
       "│              ┆            ┆      ┆     ┆   ┆              ┆ str          ┆ str         ┆         │\n",
       "╞══════════════╪════════════╪══════╪═════╪═══╪══════════════╪══════════════╪═════════════╪═════════╡\n",
       "│ 240          ┆ 2005-01-01 ┆ 1    ┆ 260 ┆ … ┆ null         ┆ null         ┆ null        ┆ null    │\n",
       "│ 240          ┆ 2005-01-01 ┆ 2    ┆ 230 ┆ … ┆ null         ┆ null         ┆ null        ┆ null    │\n",
       "│ 240          ┆ 2005-01-01 ┆ 3    ┆ 230 ┆ … ┆ null         ┆ null         ┆ null        ┆ null    │\n",
       "│ 240          ┆ 2005-01-01 ┆ 4    ┆ 220 ┆ … ┆ null         ┆ null         ┆ null        ┆ null    │\n",
       "│ 240          ┆ 2005-01-01 ┆ 5    ┆ 230 ┆ … ┆ null         ┆ null         ┆ null        ┆ null    │\n",
       "└──────────────┴────────────┴──────┴─────┴───┴──────────────┴──────────────┴─────────────┴─────────┘"
      ]
     },
     "execution_count": 8,
     "metadata": {},
     "output_type": "execute_result"
    }
   ],
   "source": [
    "incident_deployments_vehicles_weather.head()"
   ]
  },
  {
   "cell_type": "code",
   "execution_count": 4,
   "metadata": {},
   "outputs": [
    {
     "ename": "TypeError",
     "evalue": "'module' object is not callable",
     "output_type": "error",
     "traceback": [
      "\u001b[0;31m---------------------------------------------------------------------------\u001b[0m",
      "\u001b[0;31mTypeError\u001b[0m                                 Traceback (most recent call last)",
      "Cell \u001b[0;32mIn[4], line 5\u001b[0m\n\u001b[1;32m      1\u001b[0m \u001b[38;5;66;03m# Select all rows where Incidents happened (by filtering on Incident_ID != null)\u001b[39;00m\n\u001b[1;32m      2\u001b[0m selected_df_2005 \u001b[38;5;241m=\u001b[39m incident_deployments_vehicles_weather\u001b[38;5;241m.\u001b[39mfilter(\n\u001b[1;32m      3\u001b[0m     pl\u001b[38;5;241m.\u001b[39mcol(\u001b[38;5;124m\"\u001b[39m\u001b[38;5;124mIncident_ID\u001b[39m\u001b[38;5;124m\"\u001b[39m)\u001b[38;5;241m.\u001b[39mis_not_null(), pl\u001b[38;5;241m.\u001b[39mcol(\u001b[38;5;124m\"\u001b[39m\u001b[38;5;124mDate\u001b[39m\u001b[38;5;124m\"\u001b[39m)\u001b[38;5;241m.\u001b[39mdt\u001b[38;5;241m.\u001b[39myear() \u001b[38;5;241m==\u001b[39m \u001b[38;5;241m2005\u001b[39m\n\u001b[1;32m      4\u001b[0m )\n\u001b[0;32m----> 5\u001b[0m \u001b[43mdisplay\u001b[49m\u001b[43m(\u001b[49m\u001b[43mselected_df_2005\u001b[49m\u001b[38;5;241;43m.\u001b[39;49m\u001b[43mhead\u001b[49m\u001b[43m(\u001b[49m\u001b[43m)\u001b[49m\u001b[43m)\u001b[49m\n\u001b[1;32m      6\u001b[0m \u001b[38;5;28mprint\u001b[39m(selected_df_2005\u001b[38;5;241m.\u001b[39mcolumns)\n",
      "\u001b[0;31mTypeError\u001b[0m: 'module' object is not callable"
     ]
    }
   ],
   "source": [
    "# Select all rows where Incidents happened (by filtering on Incident_ID != null)\n",
    "selected_df_2005 = incident_deployments_vehicles_weather.filter(\n",
    "    pl.col(\"Incident_ID\").is_not_null(), pl.col(\"Date\").dt.year() == 2005\n",
    ")\n",
    "display(selected_df_2005.head())\n",
    "print(selected_df_2005.columns)"
   ]
  },
  {
   "cell_type": "code",
   "execution_count": 1,
   "metadata": {},
   "outputs": [
    {
     "ename": "NameError",
     "evalue": "name 'incident_deployments_vehicles_weather' is not defined",
     "output_type": "error",
     "traceback": [
      "\u001b[0;31m---------------------------------------------------------------------------\u001b[0m",
      "\u001b[0;31mNameError\u001b[0m                                 Traceback (most recent call last)",
      "Cell \u001b[0;32mIn[1], line 1\u001b[0m\n\u001b[0;32m----> 1\u001b[0m \u001b[43mincident_deployments_vehicles_weather\u001b[49m\u001b[38;5;241m.\u001b[39mhead()\n",
      "\u001b[0;31mNameError\u001b[0m: name 'incident_deployments_vehicles_weather' is not defined"
     ]
    }
   ],
   "source": [
    "incident_deployments_vehicles_weather.head()"
   ]
  },
  {
   "cell_type": "code",
   "execution_count": null,
   "metadata": {},
   "outputs": [],
   "source": []
  }
 ],
 "metadata": {
  "kernelspec": {
   "display_name": "poetry",
   "language": "python",
   "name": "python3"
  },
  "language_info": {
   "codemirror_mode": {
    "name": "ipython",
    "version": 3
   },
   "file_extension": ".py",
   "mimetype": "text/x-python",
   "name": "python",
   "nbconvert_exporter": "python",
   "pygments_lexer": "ipython3",
   "version": "3.10.13"
  }
 },
 "nbformat": 4,
 "nbformat_minor": 2
}
